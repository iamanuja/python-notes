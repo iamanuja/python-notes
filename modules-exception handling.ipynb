{
 "cells": [
  {
   "cell_type": "code",
   "execution_count": 1,
   "id": "51fd0779",
   "metadata": {},
   "outputs": [
    {
     "name": "stdout",
     "output_type": "stream",
     "text": [
      "hello anuja\n",
      "hello anuja\n"
     ]
    }
   ],
   "source": [
    "def message():\n",
    "    global msg\n",
    "    msg=\"hello anuja\"\n",
    "    print(msg)\n",
    "message()\n",
    "print(msg)"
   ]
  },
  {
   "cell_type": "code",
   "execution_count": null,
   "id": "66244427",
   "metadata": {},
   "outputs": [],
   "source": [
    "def outer():\n",
    "    w=\"hello\""
   ]
  },
  {
   "cell_type": "code",
   "execution_count": 25,
   "id": "56d42acf",
   "metadata": {
    "collapsed": true
   },
   "outputs": [
    {
     "name": "stdout",
     "output_type": "stream",
     "text": [
      "\n",
      "Please wait a moment while I gather a list of all available modules...\n",
      "\n"
     ]
    },
    {
     "name": "stderr",
     "output_type": "stream",
     "text": [
      "WARNING: AstropyDeprecationWarning: The private astropy._erfa module has been made into its own package, pyerfa, which is a dependency of astropy and can be imported directly using \"import erfa\" [astropy._erfa]\n",
      "Matplotlib is building the font cache; this may take a moment.\n",
      "C:\\ProgramData\\anaconda3\\lib\\site-packages\\caffe2\\__init__.py:5: UserWarning: Caffe2 support is not fully enabled in this PyTorch build. Please enable Caffe2 by building PyTorch from source with `BUILD_CAFFE2=1` flag.\n",
      "  warnings.warn(\"Caffe2 support is not fully enabled in this PyTorch build. \"\n",
      "C:\\ProgramData\\anaconda3\\lib\\site-packages\\caffe2\\proto\\__init__.py:17: UserWarning: Caffe2 support is not enabled in this PyTorch build. Please enable Caffe2 by building PyTorch from source with `BUILD_CAFFE2=1` flag.\n",
      "  warnings.warn('Caffe2 support is not enabled in this PyTorch build. '\n",
      "C:\\ProgramData\\anaconda3\\lib\\site-packages\\caffe2\\proto\\__init__.py:17: UserWarning: Caffe2 support is not enabled in this PyTorch build. Please enable Caffe2 by building PyTorch from source with `BUILD_CAFFE2=1` flag.\n",
      "  warnings.warn('Caffe2 support is not enabled in this PyTorch build. '\n",
      "C:\\ProgramData\\anaconda3\\lib\\site-packages\\caffe2\\python\\__init__.py:9: UserWarning: Caffe2 support is not enabled in this PyTorch build. Please enable Caffe2 by building PyTorch from source with `BUILD_CAFFE2=1` flag.\n",
      "  warnings.warn('Caffe2 support is not enabled in this PyTorch build. '\n",
      "\n",
      "KeyboardInterrupt\n",
      "\n"
     ]
    }
   ],
   "source": [
    " help('modules') "
   ]
  },
  {
   "cell_type": "code",
   "execution_count": 1,
   "id": "56c78562",
   "metadata": {},
   "outputs": [],
   "source": [
    "import string"
   ]
  },
  {
   "cell_type": "code",
   "execution_count": 3,
   "id": "71fca970",
   "metadata": {},
   "outputs": [
    {
     "ename": "AttributeError",
     "evalue": "module 'string' has no attribute 'capwordd'",
     "output_type": "error",
     "traceback": [
      "\u001b[1;31m---------------------------------------------------------------------------\u001b[0m",
      "\u001b[1;31mAttributeError\u001b[0m                            Traceback (most recent call last)",
      "Cell \u001b[1;32mIn[3], line 2\u001b[0m\n\u001b[0;32m      1\u001b[0m a\u001b[38;5;241m=\u001b[39m\u001b[38;5;124m\"\u001b[39m\u001b[38;5;124manuja\u001b[39m\u001b[38;5;124m\"\u001b[39m\n\u001b[1;32m----> 2\u001b[0m \u001b[43mstring\u001b[49m\u001b[38;5;241;43m.\u001b[39;49m\u001b[43mcapwordd\u001b[49m(a)\n",
      "\u001b[1;31mAttributeError\u001b[0m: module 'string' has no attribute 'capwordd'"
     ]
    }
   ],
   "source": [
    "a=\"anuja\"\n",
    "string.capwordd(a)"
   ]
  },
  {
   "cell_type": "code",
   "execution_count": null,
   "id": "bbf6fa7a",
   "metadata": {},
   "outputs": [],
   "source": []
  },
  {
   "cell_type": "code",
   "execution_count": null,
   "id": "b64f90b5",
   "metadata": {},
   "outputs": [],
   "source": []
  },
  {
   "cell_type": "code",
   "execution_count": null,
   "id": "4f5af01a",
   "metadata": {},
   "outputs": [],
   "source": []
  },
  {
   "cell_type": "code",
   "execution_count": 3,
   "id": "54a6bd39",
   "metadata": {},
   "outputs": [
    {
     "name": "stdout",
     "output_type": "stream",
     "text": [
      "['_STRUCT_TM_ITEMS', '__doc__', '__loader__', '__name__', '__package__', '__spec__', 'altzone', 'asctime', 'ctime', 'daylight', 'get_clock_info', 'gmtime', 'localtime', 'mktime', 'monotonic', 'monotonic_ns', 'perf_counter', 'perf_counter_ns', 'process_time', 'process_time_ns', 'sleep', 'strftime', 'strptime', 'struct_time', 'thread_time', 'thread_time_ns', 'time', 'time_ns', 'timezone', 'tzname']\n"
     ]
    }
   ],
   "source": [
    "import time\n",
    "print(dir(time))"
   ]
  },
  {
   "cell_type": "code",
   "execution_count": 5,
   "id": "7fe9f417",
   "metadata": {},
   "outputs": [
    {
     "name": "stdout",
     "output_type": "stream",
     "text": [
      "['__doc__', '__loader__', '__name__', '__package__', '__spec__', 'acos', 'acosh', 'asin', 'asinh', 'atan', 'atan2', 'atanh', 'ceil', 'comb', 'copysign', 'cos', 'cosh', 'degrees', 'dist', 'e', 'erf', 'erfc', 'exp', 'expm1', 'fabs', 'factorial', 'floor', 'fmod', 'frexp', 'fsum', 'gamma', 'gcd', 'hypot', 'inf', 'isclose', 'isfinite', 'isinf', 'isnan', 'isqrt', 'lcm', 'ldexp', 'lgamma', 'log', 'log10', 'log1p', 'log2', 'modf', 'nan', 'nextafter', 'perm', 'pi', 'pow', 'prod', 'radians', 'remainder', 'sin', 'sinh', 'sqrt', 'tan', 'tanh', 'tau', 'trunc', 'ulp']\n"
     ]
    }
   ],
   "source": [
    "import math\n",
    "print(dir(math))"
   ]
  },
  {
   "cell_type": "code",
   "execution_count": 1,
   "id": "a8e73f2e",
   "metadata": {},
   "outputs": [],
   "source": [
    "from ask import *"
   ]
  },
  {
   "cell_type": "code",
   "execution_count": 2,
   "id": "2162ff00",
   "metadata": {},
   "outputs": [
    {
     "name": "stdout",
     "output_type": "stream",
     "text": [
      "36\n"
     ]
    }
   ],
   "source": [
    "print(person1[\"age\"])"
   ]
  },
  {
   "cell_type": "code",
   "execution_count": 3,
   "id": "720d2d81",
   "metadata": {},
   "outputs": [
    {
     "data": {
      "text/plain": [
       "'hello how are u?'"
      ]
     },
     "execution_count": 3,
     "metadata": {},
     "output_type": "execute_result"
    }
   ],
   "source": [
    "list1"
   ]
  },
  {
   "cell_type": "code",
   "execution_count": 6,
   "id": "afa58dac",
   "metadata": {},
   "outputs": [
    {
     "data": {
      "text/plain": [
       "9"
      ]
     },
     "execution_count": 6,
     "metadata": {},
     "output_type": "execute_result"
    }
   ],
   "source": [
    "add(5,4)"
   ]
  },
  {
   "cell_type": "markdown",
   "id": "54076def",
   "metadata": {},
   "source": [
    "## ways of importing modules"
   ]
  },
  {
   "cell_type": "markdown",
   "id": "44c5b24f",
   "metadata": {},
   "source": [
    "##### 1st way - But we can't access just pi or sqrt (without that math. prefix):"
   ]
  },
  {
   "cell_type": "code",
   "execution_count": 1,
   "id": "bff19b3e",
   "metadata": {},
   "outputs": [],
   "source": [
    "import math"
   ]
  },
  {
   "cell_type": "code",
   "execution_count": 2,
   "id": "a0ba1ed2",
   "metadata": {},
   "outputs": [
    {
     "data": {
      "text/plain": [
       "5.0"
      ]
     },
     "execution_count": 2,
     "metadata": {},
     "output_type": "execute_result"
    }
   ],
   "source": [
    "math.sqrt(25) #sqrt function"
   ]
  },
  {
   "cell_type": "code",
   "execution_count": 4,
   "id": "951815de",
   "metadata": {},
   "outputs": [
    {
     "data": {
      "text/plain": [
       "3.141592653589793"
      ]
     },
     "execution_count": 4,
     "metadata": {},
     "output_type": "execute_result"
    }
   ],
   "source": [
    "math.pi  # pi is the variable"
   ]
  },
  {
   "cell_type": "markdown",
   "id": "6e3e566c",
   "metadata": {},
   "source": [
    "### Importing a module under a different name\n",
    "You can also use the **as** syntax when importing a whole module."
   ]
  },
  {
   "cell_type": "code",
   "execution_count": 15,
   "id": "6f337ff4",
   "metadata": {},
   "outputs": [],
   "source": [
    "import math as m"
   ]
  },
  {
   "cell_type": "code",
   "execution_count": 16,
   "id": "20730a1c",
   "metadata": {},
   "outputs": [
    {
     "data": {
      "text/plain": [
       "3.141592653589793"
      ]
     },
     "execution_count": 16,
     "metadata": {},
     "output_type": "execute_result"
    }
   ],
   "source": [
    " m.pi"
   ]
  },
  {
   "cell_type": "markdown",
   "id": "647b197e",
   "metadata": {},
   "source": [
    "### Importing specific things from a module ....... from is clause\n",
    "If you wanted to just type **pi** instead of **math.pi**, you could use the from syntax for importing:"
   ]
  },
  {
   "cell_type": "code",
   "execution_count": 1,
   "id": "bedd4a98",
   "metadata": {},
   "outputs": [],
   "source": [
    "from math import pi, sqrt"
   ]
  },
  {
   "cell_type": "code",
   "execution_count": 2,
   "id": "eb9f45b7",
   "metadata": {},
   "outputs": [
    {
     "name": "stdout",
     "output_type": "stream",
     "text": [
      "3.141592653589793 5.0\n"
     ]
    }
   ],
   "source": [
    "print(pi,sqrt(25))"
   ]
  },
  {
   "cell_type": "code",
   "execution_count": 3,
   "id": "0d7d5348",
   "metadata": {},
   "outputs": [
    {
     "data": {
      "text/plain": [
       "3.141592653589793"
      ]
     },
     "execution_count": 3,
     "metadata": {},
     "output_type": "execute_result"
    }
   ],
   "source": [
    "pi"
   ]
  },
  {
   "cell_type": "code",
   "execution_count": 17,
   "id": "5ed7d6d2",
   "metadata": {},
   "outputs": [],
   "source": [
    "from math import *"
   ]
  },
  {
   "cell_type": "markdown",
   "id": "ae2ade70",
   "metadata": {},
   "source": [
    "### Avoiding name collision when importing - The sqrt function we end up with came from the cmath module:"
   ]
  },
  {
   "cell_type": "code",
   "execution_count": 12,
   "id": "0dac9933",
   "metadata": {},
   "outputs": [],
   "source": [
    "from math import sqrt\n",
    "from cmath import sqrt"
   ]
  },
  {
   "cell_type": "code",
   "execution_count": 13,
   "id": "654369a2",
   "metadata": {},
   "outputs": [
    {
     "data": {
      "text/plain": [
       "(5+0j)"
      ]
     },
     "execution_count": 13,
     "metadata": {},
     "output_type": "execute_result"
    }
   ],
   "source": [
    "sqrt(25)"
   ]
  },
  {
   "cell_type": "code",
   "execution_count": 14,
   "id": "ba3d41cc",
   "metadata": {},
   "outputs": [
    {
     "data": {
      "text/plain": [
       "(5+0j)"
      ]
     },
     "execution_count": 14,
     "metadata": {},
     "output_type": "execute_result"
    }
   ],
   "source": [
    "# use alias to avoid that\n",
    "from math import sqrt\n",
    "from cmath import sqrt as csqrt\n",
    "csqrt(25)"
   ]
  },
  {
   "cell_type": "code",
   "execution_count": 15,
   "id": "68694da4",
   "metadata": {},
   "outputs": [
    {
     "data": {
      "text/plain": [
       "'C:\\\\Users\\\\Anuja\\\\Documents\\\\GitHub\\\\python-notes'"
      ]
     },
     "execution_count": 15,
     "metadata": {},
     "output_type": "execute_result"
    }
   ],
   "source": [
    "import os \n",
    "os.getcwd()"
   ]
  },
  {
   "cell_type": "code",
   "execution_count": 40,
   "id": "627e8c91",
   "metadata": {},
   "outputs": [],
   "source": [
    "a=open(\"python_f1.txt\",\"w\")"
   ]
  },
  {
   "cell_type": "code",
   "execution_count": 41,
   "id": "bc0ff903",
   "metadata": {},
   "outputs": [],
   "source": [
    "a.write(\"Python is high level language. It is interpreter language.It is open source\")\n",
    "a.close()"
   ]
  },
  {
   "cell_type": "code",
   "execution_count": 42,
   "id": "61a71725",
   "metadata": {},
   "outputs": [
    {
     "name": "stdout",
     "output_type": "stream",
     "text": [
      "Python is high level language. It is interpreter language.It is open source\n"
     ]
    }
   ],
   "source": [
    "a=open(\"python_f1.txt\",\"r\")\n",
    "print(a.read())"
   ]
  },
  {
   "cell_type": "code",
   "execution_count": 6,
   "id": "b3276300",
   "metadata": {},
   "outputs": [
    {
     "name": "stdout",
     "output_type": "stream",
     "text": [
      "['Python is high level language. It is interpreter language.It is open source\\n', '\\n', 'This method will read the entire content of the file at a time.\\n', '\\n', 'This method reads all the file content and stores it in the list.\\n', '\\n', 'This method reads up to the end of the line with readline () and returns a list.\\n', '\\n', 'This method will read the entire content of the file at a time.\\n', '\\n', 'This method reads all the file content and stores it in the list.\\n', '\\n', 'This method reads up to the end of the line with readline () and returns a list.\\n', '\\n', 'This method will read the entire content of the file at a time.\\n', '\\n', 'This method reads all the file content and stores it in the list.\\n', '\\n', 'This method reads up to the end of the line with readline () and returns a list.\\n', '\\n', 'This method will read the entire content of the file at a time.\\n', '\\n', 'This method reads all the file content and stores it in the list.\\n', '\\n', 'This method reads up to the end of the line with readline () and returns a list.']\n"
     ]
    }
   ],
   "source": [
    "a=open(\"python_f1.txt\",\"r\")\n",
    "print(a.readlines())"
   ]
  },
  {
   "cell_type": "code",
   "execution_count": null,
   "id": "23c74d4b",
   "metadata": {},
   "outputs": [],
   "source": [
    "readlines()\n",
    "This method will read the entire content of the file at a time.\n",
    "\n",
    "This method reads all the file content and stores it in the list.\n",
    "\n",
    "This method reads up to the end of the line with readline () and returns a list."
   ]
  },
  {
   "cell_type": "code",
   "execution_count": 43,
   "id": "694dbc32",
   "metadata": {},
   "outputs": [
    {
     "data": {
      "text/plain": [
       "['.git',\n",
       " '.gitattributes',\n",
       " '.ipynb_checkpoints',\n",
       " 'Function in pyton  (1).ipynb',\n",
       " 'function.ipynb',\n",
       " 'mystuff.ipynb',\n",
       " 'Python_Basic1 (1).ipynb',\n",
       " 'python_f1',\n",
       " 'python_f1.txt']"
      ]
     },
     "execution_count": 43,
     "metadata": {},
     "output_type": "execute_result"
    }
   ],
   "source": [
    "os.listdir()"
   ]
  },
  {
   "cell_type": "code",
   "execution_count": 50,
   "id": "3f019763",
   "metadata": {},
   "outputs": [],
   "source": [
    "b=open(\"C:\\\\Users\\\\Anuja\\\\Documents\\\\GitHub\\\\python_f2.txt\",\"w\")"
   ]
  },
  {
   "cell_type": "code",
   "execution_count": 51,
   "id": "70ae2329",
   "metadata": {},
   "outputs": [],
   "source": [
    "b.write(\"ML in now in demand. Data is very important. Data is sensitive\")\n",
    "b.close()"
   ]
  },
  {
   "cell_type": "code",
   "execution_count": 53,
   "id": "2ac5f319",
   "metadata": {},
   "outputs": [
    {
     "name": "stdout",
     "output_type": "stream",
     "text": [
      "ML in now in demand. Data is very important. Data is sensitive\n"
     ]
    }
   ],
   "source": [
    "b=open(\"C:\\\\Users\\\\Anuja\\\\Documents\\\\GitHub\\\\python_f2.txt\",\"r\")\n",
    "print(b.read())"
   ]
  },
  {
   "cell_type": "code",
   "execution_count": 57,
   "id": "8126e9bb",
   "metadata": {},
   "outputs": [],
   "source": [
    "b=open(\"C:\\\\Users\\\\Anuja\\\\Documents\\\\GitHub\\\\python_f2.txt\",\"a\")\n",
    "b.write(\"ML in now in demand. Data is very important. Data is sensitive helllllllllllllllllllllll\")\n",
    "b.close()"
   ]
  },
  {
   "cell_type": "code",
   "execution_count": 58,
   "id": "7f6b0afd",
   "metadata": {},
   "outputs": [
    {
     "name": "stdout",
     "output_type": "stream",
     "text": [
      "ML in now in demand. Data is very important. Data is sensitiveML in now in demand. Data is very important. Data is sensitiveML in now in demand. Data is very important. Data is sensitive helllllllllllllllllllllll\n"
     ]
    }
   ],
   "source": [
    "b=open(\"C:\\\\Users\\\\Anuja\\\\Documents\\\\GitHub\\\\python_f2.txt\",\"r\")\n",
    "print(b.read())"
   ]
  },
  {
   "cell_type": "code",
   "execution_count": 63,
   "id": "af4bb375",
   "metadata": {},
   "outputs": [],
   "source": [
    "b=open(\"C:\\\\Users\\\\Anuja\\\\Documents\\\\GitHub\\\\python_f2.txt\",\"w\")\n",
    "b.write(\"anuja\")\n",
    "b.close()"
   ]
  },
  {
   "cell_type": "code",
   "execution_count": 65,
   "id": "a677c0b8",
   "metadata": {},
   "outputs": [
    {
     "name": "stdout",
     "output_type": "stream",
     "text": [
      "anuja\n"
     ]
    }
   ],
   "source": [
    "b=open(\"C:\\\\Users\\\\Anuja\\\\Documents\\\\GitHub\\\\python_f2.txt\",\"r\")\n",
    "print(b.read())"
   ]
  },
  {
   "cell_type": "code",
   "execution_count": 1,
   "id": "0ac954cd",
   "metadata": {
    "scrolled": true
   },
   "outputs": [
    {
     "ename": "FileNotFoundError",
     "evalue": "[Errno 2] No such file or directory: 'C:\\\\Users\\\\Anuja\\\\Documents\\\\GitHub\\\\anuja5.txt'",
     "output_type": "error",
     "traceback": [
      "\u001b[1;31m---------------------------------------------------------------------------\u001b[0m",
      "\u001b[1;31mFileNotFoundError\u001b[0m                         Traceback (most recent call last)",
      "Cell \u001b[1;32mIn[1], line 1\u001b[0m\n\u001b[1;32m----> 1\u001b[0m \u001b[38;5;28;01mwith\u001b[39;00m \u001b[38;5;28;43mopen\u001b[39;49m\u001b[43m(\u001b[49m\u001b[38;5;124;43m\"\u001b[39;49m\u001b[38;5;124;43mC:\u001b[39;49m\u001b[38;5;130;43;01m\\\\\u001b[39;49;00m\u001b[38;5;124;43mUsers\u001b[39;49m\u001b[38;5;130;43;01m\\\\\u001b[39;49;00m\u001b[38;5;124;43mAnuja\u001b[39;49m\u001b[38;5;130;43;01m\\\\\u001b[39;49;00m\u001b[38;5;124;43mDocuments\u001b[39;49m\u001b[38;5;130;43;01m\\\\\u001b[39;49;00m\u001b[38;5;124;43mGitHub\u001b[39;49m\u001b[38;5;130;43;01m\\\\\u001b[39;49;00m\u001b[38;5;124;43manuja5.txt\u001b[39;49m\u001b[38;5;124;43m\"\u001b[39;49m\u001b[43m \u001b[49m\u001b[43m,\u001b[49m\u001b[43m \u001b[49m\u001b[38;5;124;43m\"\u001b[39;49m\u001b[38;5;124;43mr\u001b[39;49m\u001b[38;5;124;43m\"\u001b[39;49m\u001b[43m)\u001b[49m \u001b[38;5;28;01mas\u001b[39;00m file1:\n\u001b[0;32m      2\u001b[0m     data\u001b[38;5;241m=\u001b[39mfile1\u001b[38;5;241m.\u001b[39mread()\n\u001b[0;32m      3\u001b[0m \u001b[38;5;28mprint\u001b[39m(data)\n",
      "File \u001b[1;32mC:\\ProgramData\\anaconda3\\lib\\site-packages\\IPython\\core\\interactiveshell.py:282\u001b[0m, in \u001b[0;36m_modified_open\u001b[1;34m(file, *args, **kwargs)\u001b[0m\n\u001b[0;32m    275\u001b[0m \u001b[38;5;28;01mif\u001b[39;00m file \u001b[38;5;129;01min\u001b[39;00m {\u001b[38;5;241m0\u001b[39m, \u001b[38;5;241m1\u001b[39m, \u001b[38;5;241m2\u001b[39m}:\n\u001b[0;32m    276\u001b[0m     \u001b[38;5;28;01mraise\u001b[39;00m \u001b[38;5;167;01mValueError\u001b[39;00m(\n\u001b[0;32m    277\u001b[0m         \u001b[38;5;124mf\u001b[39m\u001b[38;5;124m\"\u001b[39m\u001b[38;5;124mIPython won\u001b[39m\u001b[38;5;124m'\u001b[39m\u001b[38;5;124mt let you open fd=\u001b[39m\u001b[38;5;132;01m{\u001b[39;00mfile\u001b[38;5;132;01m}\u001b[39;00m\u001b[38;5;124m by default \u001b[39m\u001b[38;5;124m\"\u001b[39m\n\u001b[0;32m    278\u001b[0m         \u001b[38;5;124m\"\u001b[39m\u001b[38;5;124mas it is likely to crash IPython. If you know what you are doing, \u001b[39m\u001b[38;5;124m\"\u001b[39m\n\u001b[0;32m    279\u001b[0m         \u001b[38;5;124m\"\u001b[39m\u001b[38;5;124myou can use builtins\u001b[39m\u001b[38;5;124m'\u001b[39m\u001b[38;5;124m open.\u001b[39m\u001b[38;5;124m\"\u001b[39m\n\u001b[0;32m    280\u001b[0m     )\n\u001b[1;32m--> 282\u001b[0m \u001b[38;5;28;01mreturn\u001b[39;00m io_open(file, \u001b[38;5;241m*\u001b[39margs, \u001b[38;5;241m*\u001b[39m\u001b[38;5;241m*\u001b[39mkwargs)\n",
      "\u001b[1;31mFileNotFoundError\u001b[0m: [Errno 2] No such file or directory: 'C:\\\\Users\\\\Anuja\\\\Documents\\\\GitHub\\\\anuja5.txt'"
     ]
    }
   ],
   "source": [
    "with open(\"C:\\\\Users\\\\Anuja\\\\Documents\\\\GitHub\\\\anuja5.txt\" , \"r\") as file1:\n",
    "    data=file1.read()\n",
    "print(data)"
   ]
  },
  {
   "cell_type": "markdown",
   "id": "e6b28d06",
   "metadata": {},
   "source": [
    "readline()\n",
    "This method will read one line in a file.\n",
    "\n",
    "A new line character is left at the string end and is ignored for the last line provided the file does not finish in a new line.\n",
    "\n",
    "This method reads up to the end of the line with readline() and returns a list."
   ]
  },
  {
   "cell_type": "markdown",
   "id": "665881ce",
   "metadata": {},
   "source": [
    "readlines()\n",
    "This method will read the entire content of the file at a time.\n",
    "\n",
    "This method reads all the file content and stores it in the list.\n",
    "\n",
    "This method reads up to the end of the line with readline () and returns a list."
   ]
  },
  {
   "cell_type": "markdown",
   "id": "c8f85131",
   "metadata": {},
   "source": [
    "## exception handling"
   ]
  },
  {
   "cell_type": "markdown",
   "id": "7b75e2c2",
   "metadata": {},
   "source": [
    "## zeroDivisionError\n",
    "IndentationError\n",
    "IndexError\n",
    "typeError\n",
    "syntaxError\n",
    "IOError\n",
    "valueError\n",
    "importError\n",
    "AttributeError"
   ]
  },
  {
   "cell_type": "code",
   "execution_count": null,
   "id": "fa3e2ea4",
   "metadata": {},
   "outputs": [],
   "source": [
    "#try=test code error\n",
    "#except=handle the error\n",
    "#else=allows you to execute code if there is no error\n",
    "#finally=allows you to execute code no matter what"
   ]
  },
  {
   "cell_type": "code",
   "execution_count": 2,
   "id": "7887e04b",
   "metadata": {},
   "outputs": [
    {
     "name": "stdout",
     "output_type": "stream",
     "text": [
      "exception occured\n"
     ]
    }
   ],
   "source": [
    "try :\n",
    "    print(x1)\n",
    "except:\n",
    "    print(\"exception occured\")"
   ]
  },
  {
   "cell_type": "code",
   "execution_count": 4,
   "id": "2f9cf334",
   "metadata": {},
   "outputs": [
    {
     "name": "stdout",
     "output_type": "stream",
     "text": [
      "user defined type error\n"
     ]
    }
   ],
   "source": [
    "x=20\n",
    "y=\"test\"\n",
    "try:\n",
    "    x+y\n",
    "except TypeError:\n",
    "    print(\"user defined type error\")\n",
    "    "
   ]
  },
  {
   "cell_type": "markdown",
   "id": "b4e6f52e",
   "metadata": {},
   "source": [
    "#### using raise statement you can create or raise that error"
   ]
  },
  {
   "cell_type": "code",
   "execution_count": 1,
   "id": "2c3ff7fa",
   "metadata": {
    "scrolled": true
   },
   "outputs": [
    {
     "ename": "TypeError",
     "evalue": "Only integers are allowed",
     "output_type": "error",
     "traceback": [
      "\u001b[1;31m---------------------------------------------------------------------------\u001b[0m",
      "\u001b[1;31mTypeError\u001b[0m                                 Traceback (most recent call last)",
      "Cell \u001b[1;32mIn[1], line 4\u001b[0m\n\u001b[0;32m      1\u001b[0m x \u001b[38;5;241m=\u001b[39m \u001b[38;5;124m\"\u001b[39m\u001b[38;5;124mhello\u001b[39m\u001b[38;5;124m\"\u001b[39m\n\u001b[0;32m      3\u001b[0m \u001b[38;5;28;01mif\u001b[39;00m \u001b[38;5;129;01mnot\u001b[39;00m \u001b[38;5;28mtype\u001b[39m(x) \u001b[38;5;129;01mis\u001b[39;00m \u001b[38;5;28mint\u001b[39m:\n\u001b[1;32m----> 4\u001b[0m     \u001b[38;5;28;01mraise\u001b[39;00m \u001b[38;5;167;01mTypeError\u001b[39;00m(\u001b[38;5;124m\"\u001b[39m\u001b[38;5;124mOnly integers are allowed\u001b[39m\u001b[38;5;124m\"\u001b[39m)\n",
      "\u001b[1;31mTypeError\u001b[0m: Only integers are allowed"
     ]
    }
   ],
   "source": [
    "x = \"hello\"\n",
    "\n",
    "if not type(x) is int:\n",
    "    raise TypeError(\"Only integers are allowed\")"
   ]
  },
  {
   "cell_type": "code",
   "execution_count": 2,
   "id": "ddebc956",
   "metadata": {},
   "outputs": [
    {
     "ename": "NameError",
     "evalue": "name 'MyError' is not defined",
     "output_type": "error",
     "traceback": [
      "\u001b[1;31m---------------------------------------------------------------------------\u001b[0m",
      "\u001b[1;31mNameError\u001b[0m                                 Traceback (most recent call last)",
      "Cell \u001b[1;32mIn[2], line 4\u001b[0m\n\u001b[0;32m      1\u001b[0m x \u001b[38;5;241m=\u001b[39m \u001b[38;5;124m\"\u001b[39m\u001b[38;5;124mhello\u001b[39m\u001b[38;5;124m\"\u001b[39m\n\u001b[0;32m      3\u001b[0m \u001b[38;5;28;01mif\u001b[39;00m \u001b[38;5;129;01mnot\u001b[39;00m \u001b[38;5;28mtype\u001b[39m(x) \u001b[38;5;129;01mis\u001b[39;00m \u001b[38;5;28mint\u001b[39m:\n\u001b[1;32m----> 4\u001b[0m     \u001b[38;5;28;01mraise\u001b[39;00m \u001b[43mMyError\u001b[49m(\u001b[38;5;124m\"\u001b[39m\u001b[38;5;124mOnly integers are allowed\u001b[39m\u001b[38;5;124m\"\u001b[39m)\n",
      "\u001b[1;31mNameError\u001b[0m: name 'MyError' is not defined"
     ]
    }
   ],
   "source": [
    "x = \"hello\"\n",
    "\n",
    "if not type(x) is int:\n",
    "    raise MyError(\"Only integers are allowed\")"
   ]
  },
  {
   "cell_type": "code",
   "execution_count": null,
   "id": "39aa53a5",
   "metadata": {},
   "outputs": [],
   "source": []
  }
 ],
 "metadata": {
  "kernelspec": {
   "display_name": "Python 3 (ipykernel)",
   "language": "python",
   "name": "python3"
  },
  "language_info": {
   "codemirror_mode": {
    "name": "ipython",
    "version": 3
   },
   "file_extension": ".py",
   "mimetype": "text/x-python",
   "name": "python",
   "nbconvert_exporter": "python",
   "pygments_lexer": "ipython3",
   "version": "3.10.9"
  }
 },
 "nbformat": 4,
 "nbformat_minor": 5
}
