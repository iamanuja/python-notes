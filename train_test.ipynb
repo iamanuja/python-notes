{
 "cells": [
  {
   "cell_type": "code",
   "execution_count": 1,
   "id": "7ca2d362",
   "metadata": {},
   "outputs": [],
   "source": [
    "import numpy as np\n",
    "import pandas as pd\n",
    "import warnings\n",
    "warnings.filterwarnings('ignore')\n",
    "import matplotlib.pyplot as plt\n",
    "import seaborn as sns"
   ]
  },
  {
   "cell_type": "code",
   "execution_count": 2,
   "id": "e6e35fb8",
   "metadata": {},
   "outputs": [],
   "source": [
    "train=pd.read_csv(r'C:\\Users\\Anuja\\Downloads\\train_Hr.csv')\n",
    "test=pd.read_csv(r'C:\\Users\\Anuja\\Music\\New folder\\test_Hr.csv')"
   ]
  },
  {
   "cell_type": "markdown",
   "id": "f97dd356",
   "metadata": {},
   "source": [
    "## processing of train data set"
   ]
  },
  {
   "cell_type": "code",
   "execution_count": 3,
   "id": "806b2686",
   "metadata": {},
   "outputs": [
    {
     "data": {
      "text/plain": [
       "(54808, 14)"
      ]
     },
     "execution_count": 3,
     "metadata": {},
     "output_type": "execute_result"
    }
   ],
   "source": [
    "train.shape"
   ]
  },
  {
   "cell_type": "markdown",
   "id": "ad0c85e3",
   "metadata": {},
   "source": [
    "## missing values"
   ]
  },
  {
   "cell_type": "code",
   "execution_count": 4,
   "id": "5d6deaf6",
   "metadata": {},
   "outputs": [
    {
     "data": {
      "text/plain": [
       "employee_id                0\n",
       "department                 0\n",
       "region                     0\n",
       "education               2409\n",
       "gender                     0\n",
       "recruitment_channel        0\n",
       "no_of_trainings            0\n",
       "age                        0\n",
       "previous_year_rating    4124\n",
       "length_of_service          0\n",
       "KPIs_met >80%              0\n",
       "awards_won?                0\n",
       "avg_training_score         0\n",
       "is_promoted                0\n",
       "dtype: int64"
      ]
     },
     "execution_count": 4,
     "metadata": {},
     "output_type": "execute_result"
    }
   ],
   "source": [
    "train.isnull().sum()"
   ]
  },
  {
   "cell_type": "code",
   "execution_count": 5,
   "id": "10eaa015",
   "metadata": {},
   "outputs": [
    {
     "data": {
      "text/plain": [
       "Bachelor's          36669\n",
       "Master's & above    14925\n",
       "Below Secondary       805\n",
       "Name: education, dtype: int64"
      ]
     },
     "execution_count": 5,
     "metadata": {},
     "output_type": "execute_result"
    }
   ],
   "source": [
    "train[\"education\"].value_counts()"
   ]
  },
  {
   "cell_type": "code",
   "execution_count": 6,
   "id": "175e1f59",
   "metadata": {},
   "outputs": [],
   "source": [
    "train[\"education\"].fillna(\"Below Secondary\",inplace=True)"
   ]
  },
  {
   "cell_type": "code",
   "execution_count": 7,
   "id": "d4346343",
   "metadata": {},
   "outputs": [
    {
     "data": {
      "text/plain": [
       "0"
      ]
     },
     "execution_count": 7,
     "metadata": {},
     "output_type": "execute_result"
    }
   ],
   "source": [
    "train[\"education\"].isnull().sum()"
   ]
  },
  {
   "cell_type": "code",
   "execution_count": 8,
   "id": "685adc14",
   "metadata": {},
   "outputs": [
    {
     "data": {
      "text/plain": [
       "3.0    18618\n",
       "5.0    11741\n",
       "4.0     9877\n",
       "1.0     6223\n",
       "2.0     4225\n",
       "Name: previous_year_rating, dtype: int64"
      ]
     },
     "execution_count": 8,
     "metadata": {},
     "output_type": "execute_result"
    }
   ],
   "source": [
    "train[\"previous_year_rating\"].value_counts()"
   ]
  },
  {
   "cell_type": "code",
   "execution_count": 9,
   "id": "eb3f407b",
   "metadata": {},
   "outputs": [],
   "source": [
    "train[\"previous_year_rating\"].fillna(2.0,inplace=True)"
   ]
  },
  {
   "cell_type": "code",
   "execution_count": 10,
   "id": "6fcb1105",
   "metadata": {},
   "outputs": [
    {
     "data": {
      "text/plain": [
       "0"
      ]
     },
     "execution_count": 10,
     "metadata": {},
     "output_type": "execute_result"
    }
   ],
   "source": [
    "train[\"previous_year_rating\"].isnull().sum()"
   ]
  },
  {
   "cell_type": "code",
   "execution_count": 11,
   "id": "0651ae96",
   "metadata": {},
   "outputs": [
    {
     "data": {
      "text/plain": [
       "employee_id             0\n",
       "department              0\n",
       "region                  0\n",
       "education               0\n",
       "gender                  0\n",
       "recruitment_channel     0\n",
       "no_of_trainings         0\n",
       "age                     0\n",
       "previous_year_rating    0\n",
       "length_of_service       0\n",
       "KPIs_met >80%           0\n",
       "awards_won?             0\n",
       "avg_training_score      0\n",
       "is_promoted             0\n",
       "dtype: int64"
      ]
     },
     "execution_count": 11,
     "metadata": {},
     "output_type": "execute_result"
    }
   ],
   "source": [
    "train.isnull().sum()"
   ]
  },
  {
   "cell_type": "code",
   "execution_count": 12,
   "id": "5611c1ea",
   "metadata": {},
   "outputs": [
    {
     "data": {
      "text/html": [
       "<div>\n",
       "<style scoped>\n",
       "    .dataframe tbody tr th:only-of-type {\n",
       "        vertical-align: middle;\n",
       "    }\n",
       "\n",
       "    .dataframe tbody tr th {\n",
       "        vertical-align: top;\n",
       "    }\n",
       "\n",
       "    .dataframe thead th {\n",
       "        text-align: right;\n",
       "    }\n",
       "</style>\n",
       "<table border=\"1\" class=\"dataframe\">\n",
       "  <thead>\n",
       "    <tr style=\"text-align: right;\">\n",
       "      <th></th>\n",
       "      <th>employee_id</th>\n",
       "      <th>department</th>\n",
       "      <th>region</th>\n",
       "      <th>education</th>\n",
       "      <th>gender</th>\n",
       "      <th>recruitment_channel</th>\n",
       "      <th>no_of_trainings</th>\n",
       "      <th>age</th>\n",
       "      <th>previous_year_rating</th>\n",
       "      <th>length_of_service</th>\n",
       "      <th>KPIs_met &gt;80%</th>\n",
       "      <th>awards_won?</th>\n",
       "      <th>avg_training_score</th>\n",
       "      <th>is_promoted</th>\n",
       "    </tr>\n",
       "  </thead>\n",
       "  <tbody>\n",
       "    <tr>\n",
       "      <th>0</th>\n",
       "      <td>65438</td>\n",
       "      <td>Sales &amp; Marketing</td>\n",
       "      <td>region_7</td>\n",
       "      <td>Master's &amp; above</td>\n",
       "      <td>f</td>\n",
       "      <td>sourcing</td>\n",
       "      <td>1</td>\n",
       "      <td>35</td>\n",
       "      <td>5.0</td>\n",
       "      <td>8</td>\n",
       "      <td>1</td>\n",
       "      <td>0</td>\n",
       "      <td>49</td>\n",
       "      <td>0</td>\n",
       "    </tr>\n",
       "    <tr>\n",
       "      <th>1</th>\n",
       "      <td>65141</td>\n",
       "      <td>Operations</td>\n",
       "      <td>region_22</td>\n",
       "      <td>Bachelor's</td>\n",
       "      <td>m</td>\n",
       "      <td>other</td>\n",
       "      <td>1</td>\n",
       "      <td>30</td>\n",
       "      <td>5.0</td>\n",
       "      <td>4</td>\n",
       "      <td>0</td>\n",
       "      <td>0</td>\n",
       "      <td>60</td>\n",
       "      <td>0</td>\n",
       "    </tr>\n",
       "  </tbody>\n",
       "</table>\n",
       "</div>"
      ],
      "text/plain": [
       "   employee_id         department     region         education gender  \\\n",
       "0        65438  Sales & Marketing   region_7  Master's & above      f   \n",
       "1        65141         Operations  region_22        Bachelor's      m   \n",
       "\n",
       "  recruitment_channel  no_of_trainings  age  previous_year_rating  \\\n",
       "0            sourcing                1   35                   5.0   \n",
       "1               other                1   30                   5.0   \n",
       "\n",
       "   length_of_service  KPIs_met >80%  awards_won?  avg_training_score  \\\n",
       "0                  8              1            0                  49   \n",
       "1                  4              0            0                  60   \n",
       "\n",
       "   is_promoted  \n",
       "0            0  \n",
       "1            0  "
      ]
     },
     "execution_count": 12,
     "metadata": {},
     "output_type": "execute_result"
    }
   ],
   "source": [
    "train.head(2)"
   ]
  },
  {
   "cell_type": "code",
   "execution_count": 13,
   "id": "5fe1325f",
   "metadata": {},
   "outputs": [
    {
     "data": {
      "text/plain": [
       "(54808, 14)"
      ]
     },
     "execution_count": 13,
     "metadata": {},
     "output_type": "execute_result"
    }
   ],
   "source": [
    "train.shape"
   ]
  },
  {
   "cell_type": "code",
   "execution_count": 14,
   "id": "a4d36542",
   "metadata": {},
   "outputs": [],
   "source": [
    "train.drop(['employee_id'],axis=1,inplace=True)"
   ]
  },
  {
   "cell_type": "markdown",
   "id": "a6874d29",
   "metadata": {},
   "source": [
    "## Duplicates"
   ]
  },
  {
   "cell_type": "code",
   "execution_count": 15,
   "id": "76473222",
   "metadata": {},
   "outputs": [],
   "source": [
    "train.drop_duplicates(inplace=True)"
   ]
  },
  {
   "cell_type": "code",
   "execution_count": 16,
   "id": "071ab47d",
   "metadata": {},
   "outputs": [
    {
     "data": {
      "text/plain": [
       "(54688, 13)"
      ]
     },
     "execution_count": 16,
     "metadata": {},
     "output_type": "execute_result"
    }
   ],
   "source": [
    "train.shape"
   ]
  },
  {
   "cell_type": "markdown",
   "id": "0dab7265",
   "metadata": {},
   "source": [
    "## casting "
   ]
  },
  {
   "cell_type": "code",
   "execution_count": 17,
   "id": "e375746b",
   "metadata": {},
   "outputs": [
    {
     "data": {
      "text/plain": [
       "department               object\n",
       "region                   object\n",
       "education                object\n",
       "gender                   object\n",
       "recruitment_channel      object\n",
       "no_of_trainings           int64\n",
       "age                       int64\n",
       "previous_year_rating    float64\n",
       "length_of_service         int64\n",
       "KPIs_met >80%             int64\n",
       "awards_won?               int64\n",
       "avg_training_score        int64\n",
       "is_promoted               int64\n",
       "dtype: object"
      ]
     },
     "execution_count": 17,
     "metadata": {},
     "output_type": "execute_result"
    }
   ],
   "source": [
    "train.dtypes"
   ]
  },
  {
   "cell_type": "code",
   "execution_count": 18,
   "id": "25010b4c",
   "metadata": {},
   "outputs": [
    {
     "data": {
      "text/plain": [
       "Bachelor's          36569\n",
       "Master's & above    14920\n",
       "Below Secondary      3199\n",
       "Name: education, dtype: int64"
      ]
     },
     "execution_count": 18,
     "metadata": {},
     "output_type": "execute_result"
    }
   ],
   "source": [
    "train[\"education\"].value_counts()"
   ]
  },
  {
   "cell_type": "code",
   "execution_count": 19,
   "id": "b50b06af",
   "metadata": {},
   "outputs": [
    {
     "data": {
      "text/plain": [
       "Sales & Marketing    16789\n",
       "Operations           11318\n",
       "Procurement           7131\n",
       "Technology            7130\n",
       "Analytics             5341\n",
       "Finance               2535\n",
       "HR                    2413\n",
       "Legal                 1032\n",
       "R&D                    999\n",
       "Name: department, dtype: int64"
      ]
     },
     "execution_count": 19,
     "metadata": {},
     "output_type": "execute_result"
    }
   ],
   "source": [
    "train[\"department\"].value_counts()"
   ]
  },
  {
   "cell_type": "code",
   "execution_count": 20,
   "id": "d009002d",
   "metadata": {},
   "outputs": [
    {
     "data": {
      "text/plain": [
       "region_2     12311\n",
       "region_22     6398\n",
       "region_7      4838\n",
       "region_15     2799\n",
       "region_13     2643\n",
       "region_26     2255\n",
       "region_31     1930\n",
       "region_4      1703\n",
       "region_27     1654\n",
       "region_16     1465\n",
       "region_28     1318\n",
       "region_11     1314\n",
       "region_23     1174\n",
       "region_29      992\n",
       "region_32      943\n",
       "region_19      873\n",
       "region_20      846\n",
       "region_14      827\n",
       "region_25      817\n",
       "region_17      796\n",
       "region_5       765\n",
       "region_6       689\n",
       "region_30      655\n",
       "region_8       654\n",
       "region_10      648\n",
       "region_1       610\n",
       "region_24      507\n",
       "region_12      498\n",
       "region_9       418\n",
       "region_21      411\n",
       "region_3       346\n",
       "region_34      291\n",
       "region_33      269\n",
       "region_18       31\n",
       "Name: region, dtype: int64"
      ]
     },
     "execution_count": 20,
     "metadata": {},
     "output_type": "execute_result"
    }
   ],
   "source": [
    "train[\"region\"].value_counts()"
   ]
  },
  {
   "cell_type": "code",
   "execution_count": 21,
   "id": "956bb593",
   "metadata": {
    "scrolled": true
   },
   "outputs": [
    {
     "data": {
      "text/plain": [
       "other       30378\n",
       "sourcing    23169\n",
       "referred     1141\n",
       "Name: recruitment_channel, dtype: int64"
      ]
     },
     "execution_count": 21,
     "metadata": {},
     "output_type": "execute_result"
    }
   ],
   "source": [
    "train[\"recruitment_channel\"].value_counts()"
   ]
  },
  {
   "cell_type": "code",
   "execution_count": 22,
   "id": "e621a3dd",
   "metadata": {},
   "outputs": [],
   "source": [
    "train[\"education\"].replace({\"Bachelor's\":1,\"Master's & above\":2,\"Below Secondary\":3},inplace=True)"
   ]
  },
  {
   "cell_type": "code",
   "execution_count": 23,
   "id": "506ec01e",
   "metadata": {},
   "outputs": [],
   "source": [
    "train[\"department\"].replace({\"Sales & Marketing\":1,\"Operations\":2,\"Technology\":3,\"Procurement\":4,\"Analytics\":5,\"Finance\":6,\"HR\":7,\"Legal\":8,\"R&D\":9},inplace=True)"
   ]
  },
  {
   "cell_type": "code",
   "execution_count": 24,
   "id": "be03dbb8",
   "metadata": {},
   "outputs": [],
   "source": [
    "train[\"region\"]=train[\"region\"].str.removeprefix(\"region_\")"
   ]
  },
  {
   "cell_type": "code",
   "execution_count": 25,
   "id": "c490cb52",
   "metadata": {},
   "outputs": [],
   "source": [
    "train[\"region\"]=train[\"region\"].astype(\"int64\")"
   ]
  },
  {
   "cell_type": "code",
   "execution_count": 26,
   "id": "7dca3ca9",
   "metadata": {},
   "outputs": [],
   "source": [
    "train[\"recruitment_channel\"].replace({\"other\":1,\"sourcing\":2,\"referred\":3},inplace=True)"
   ]
  },
  {
   "cell_type": "code",
   "execution_count": 27,
   "id": "e02699ca",
   "metadata": {},
   "outputs": [],
   "source": [
    "train[\"gender\"].replace({\"f\":1,\"m\":2},inplace=True)"
   ]
  },
  {
   "cell_type": "code",
   "execution_count": 28,
   "id": "8b6c9986",
   "metadata": {},
   "outputs": [
    {
     "data": {
      "text/plain": [
       "department                int64\n",
       "region                    int64\n",
       "education                 int64\n",
       "gender                    int64\n",
       "recruitment_channel       int64\n",
       "no_of_trainings           int64\n",
       "age                       int64\n",
       "previous_year_rating    float64\n",
       "length_of_service         int64\n",
       "KPIs_met >80%             int64\n",
       "awards_won?               int64\n",
       "avg_training_score        int64\n",
       "is_promoted               int64\n",
       "dtype: object"
      ]
     },
     "execution_count": 28,
     "metadata": {},
     "output_type": "execute_result"
    }
   ],
   "source": [
    "train.dtypes"
   ]
  },
  {
   "cell_type": "markdown",
   "id": "cfdd09e8",
   "metadata": {},
   "source": [
    "## data type conversion"
   ]
  },
  {
   "cell_type": "code",
   "execution_count": 29,
   "id": "fa92ee2f",
   "metadata": {},
   "outputs": [],
   "source": [
    "train[\"previous_year_rating\"]=train[\"previous_year_rating\"].astype(\"int64\",copy=False)"
   ]
  },
  {
   "cell_type": "code",
   "execution_count": 30,
   "id": "09337c2a",
   "metadata": {},
   "outputs": [
    {
     "data": {
      "text/plain": [
       "department              int64\n",
       "region                  int64\n",
       "education               int64\n",
       "gender                  int64\n",
       "recruitment_channel     int64\n",
       "no_of_trainings         int64\n",
       "age                     int64\n",
       "previous_year_rating    int64\n",
       "length_of_service       int64\n",
       "KPIs_met >80%           int64\n",
       "awards_won?             int64\n",
       "avg_training_score      int64\n",
       "is_promoted             int64\n",
       "dtype: object"
      ]
     },
     "execution_count": 30,
     "metadata": {},
     "output_type": "execute_result"
    }
   ],
   "source": [
    "train.dtypes"
   ]
  },
  {
   "cell_type": "markdown",
   "id": "d6e084f2",
   "metadata": {},
   "source": [
    "## processing of test data set"
   ]
  },
  {
   "cell_type": "markdown",
   "id": "cc6b5cac",
   "metadata": {},
   "source": [
    "## missing value"
   ]
  },
  {
   "cell_type": "code",
   "execution_count": 31,
   "id": "bf39910d",
   "metadata": {},
   "outputs": [
    {
     "data": {
      "text/plain": [
       "(23490, 13)"
      ]
     },
     "execution_count": 31,
     "metadata": {},
     "output_type": "execute_result"
    }
   ],
   "source": [
    "test.shape"
   ]
  },
  {
   "cell_type": "code",
   "execution_count": 32,
   "id": "52e6a28d",
   "metadata": {
    "scrolled": true
   },
   "outputs": [
    {
     "data": {
      "text/plain": [
       "employee_id                0\n",
       "department                 0\n",
       "region                     0\n",
       "education               1034\n",
       "gender                     0\n",
       "recruitment_channel        0\n",
       "no_of_trainings            0\n",
       "age                        0\n",
       "previous_year_rating    1812\n",
       "length_of_service          0\n",
       "KPIs_met >80%              0\n",
       "awards_won?                0\n",
       "avg_training_score         0\n",
       "dtype: int64"
      ]
     },
     "execution_count": 32,
     "metadata": {},
     "output_type": "execute_result"
    }
   ],
   "source": [
    "test.isnull().sum()"
   ]
  },
  {
   "cell_type": "code",
   "execution_count": 33,
   "id": "3ba07350",
   "metadata": {},
   "outputs": [
    {
     "data": {
      "text/plain": [
       "Bachelor's          15578\n",
       "Master's & above     6504\n",
       "Below Secondary       374\n",
       "Name: education, dtype: int64"
      ]
     },
     "execution_count": 33,
     "metadata": {},
     "output_type": "execute_result"
    }
   ],
   "source": [
    "test[\"education\"].value_counts()"
   ]
  },
  {
   "cell_type": "code",
   "execution_count": 34,
   "id": "e1cb0b8b",
   "metadata": {},
   "outputs": [],
   "source": [
    "test[\"education\"].fillna(\"Below Secondary\" , inplace=True)"
   ]
  },
  {
   "cell_type": "code",
   "execution_count": 35,
   "id": "25f80900",
   "metadata": {},
   "outputs": [
    {
     "data": {
      "text/plain": [
       "3.0    7921\n",
       "5.0    5097\n",
       "4.0    4249\n",
       "1.0    2680\n",
       "2.0    1731\n",
       "Name: previous_year_rating, dtype: int64"
      ]
     },
     "execution_count": 35,
     "metadata": {},
     "output_type": "execute_result"
    }
   ],
   "source": [
    "test[\"previous_year_rating\"].value_counts()"
   ]
  },
  {
   "cell_type": "code",
   "execution_count": 36,
   "id": "2949add3",
   "metadata": {},
   "outputs": [],
   "source": [
    "test[\"previous_year_rating\"].fillna(2.0 , inplace=True)"
   ]
  },
  {
   "cell_type": "code",
   "execution_count": 37,
   "id": "c8e1d775",
   "metadata": {},
   "outputs": [
    {
     "data": {
      "text/plain": [
       "employee_id             0\n",
       "department              0\n",
       "region                  0\n",
       "education               0\n",
       "gender                  0\n",
       "recruitment_channel     0\n",
       "no_of_trainings         0\n",
       "age                     0\n",
       "previous_year_rating    0\n",
       "length_of_service       0\n",
       "KPIs_met >80%           0\n",
       "awards_won?             0\n",
       "avg_training_score      0\n",
       "dtype: int64"
      ]
     },
     "execution_count": 37,
     "metadata": {},
     "output_type": "execute_result"
    }
   ],
   "source": [
    "test.isnull().sum()"
   ]
  },
  {
   "cell_type": "code",
   "execution_count": 38,
   "id": "85e43398",
   "metadata": {},
   "outputs": [],
   "source": [
    "test.drop_duplicates(inplace=True)"
   ]
  },
  {
   "cell_type": "code",
   "execution_count": 39,
   "id": "02eed0bc",
   "metadata": {},
   "outputs": [],
   "source": [
    "test.drop(['employee_id'],axis=1,inplace=True)"
   ]
  },
  {
   "cell_type": "code",
   "execution_count": 40,
   "id": "cc9e9978",
   "metadata": {},
   "outputs": [
    {
     "data": {
      "text/plain": [
       "(23490, 12)"
      ]
     },
     "execution_count": 40,
     "metadata": {},
     "output_type": "execute_result"
    }
   ],
   "source": [
    "test.shape"
   ]
  },
  {
   "cell_type": "code",
   "execution_count": 41,
   "id": "3293aeb7",
   "metadata": {},
   "outputs": [
    {
     "data": {
      "text/plain": [
       "department               object\n",
       "region                   object\n",
       "education                object\n",
       "gender                   object\n",
       "recruitment_channel      object\n",
       "no_of_trainings           int64\n",
       "age                       int64\n",
       "previous_year_rating    float64\n",
       "length_of_service         int64\n",
       "KPIs_met >80%             int64\n",
       "awards_won?               int64\n",
       "avg_training_score        int64\n",
       "dtype: object"
      ]
     },
     "execution_count": 41,
     "metadata": {},
     "output_type": "execute_result"
    }
   ],
   "source": [
    "test.dtypes"
   ]
  },
  {
   "cell_type": "code",
   "execution_count": 42,
   "id": "f066c80f",
   "metadata": {},
   "outputs": [
    {
     "data": {
      "text/plain": [
       "array(['Technology', 'HR', 'Sales & Marketing', 'Procurement', 'Finance',\n",
       "       'Analytics', 'Operations', 'Legal', 'R&D'], dtype=object)"
      ]
     },
     "execution_count": 42,
     "metadata": {},
     "output_type": "execute_result"
    }
   ],
   "source": [
    "test[\"department\"].unique()"
   ]
  },
  {
   "cell_type": "code",
   "execution_count": 43,
   "id": "dc08f9f8",
   "metadata": {},
   "outputs": [
    {
     "data": {
      "text/plain": [
       "array(['region_26', 'region_4', 'region_13', 'region_2', 'region_29',\n",
       "       'region_7', 'region_22', 'region_16', 'region_17', 'region_24',\n",
       "       'region_11', 'region_27', 'region_9', 'region_20', 'region_34',\n",
       "       'region_23', 'region_8', 'region_14', 'region_31', 'region_19',\n",
       "       'region_5', 'region_28', 'region_15', 'region_3', 'region_25',\n",
       "       'region_12', 'region_21', 'region_30', 'region_10', 'region_33',\n",
       "       'region_32', 'region_6', 'region_1', 'region_18'], dtype=object)"
      ]
     },
     "execution_count": 43,
     "metadata": {},
     "output_type": "execute_result"
    }
   ],
   "source": [
    "test[\"region\"].unique()"
   ]
  },
  {
   "cell_type": "code",
   "execution_count": 44,
   "id": "2358d903",
   "metadata": {},
   "outputs": [
    {
     "data": {
      "text/plain": [
       "array([\"Bachelor's\", \"Master's & above\", 'Below Secondary'], dtype=object)"
      ]
     },
     "execution_count": 44,
     "metadata": {},
     "output_type": "execute_result"
    }
   ],
   "source": [
    "test[\"education\"].unique()"
   ]
  },
  {
   "cell_type": "code",
   "execution_count": 45,
   "id": "06edf1a2",
   "metadata": {},
   "outputs": [
    {
     "data": {
      "text/plain": [
       "array(['sourcing', 'other', 'referred'], dtype=object)"
      ]
     },
     "execution_count": 45,
     "metadata": {},
     "output_type": "execute_result"
    }
   ],
   "source": [
    "test[\"recruitment_channel\"].unique()"
   ]
  },
  {
   "cell_type": "code",
   "execution_count": 46,
   "id": "5f8c1bc2",
   "metadata": {},
   "outputs": [],
   "source": [
    "test[\"department\"].replace({'Technology':1, 'HR':2, 'Sales & Marketing':3, 'Procurement':4, 'Finance':5,\n",
    "       'Analytics':6, 'Operations':7, 'Legal':8, 'R&D':9},inplace=True)"
   ]
  },
  {
   "cell_type": "code",
   "execution_count": 47,
   "id": "892e8e0d",
   "metadata": {},
   "outputs": [],
   "source": [
    "test[\"education\"].replace({\"Bachelor's\":1, \"Master's & above\":2, 'Below Secondary':3},inplace=True)"
   ]
  },
  {
   "cell_type": "code",
   "execution_count": 48,
   "id": "944d96bd",
   "metadata": {},
   "outputs": [],
   "source": [
    "test[\"recruitment_channel\"].replace({'sourcing':1, 'other':2, 'referred':3},inplace=True)"
   ]
  },
  {
   "cell_type": "code",
   "execution_count": 49,
   "id": "e8575796",
   "metadata": {},
   "outputs": [],
   "source": [
    "test[\"region\"]=test[\"region\"].str.removeprefix(\"region_\")"
   ]
  },
  {
   "cell_type": "code",
   "execution_count": 50,
   "id": "5ecfa155",
   "metadata": {},
   "outputs": [],
   "source": [
    "test[\"region\"]=test[\"region\"].astype(\"int64\")"
   ]
  },
  {
   "cell_type": "code",
   "execution_count": 51,
   "id": "d1eec151",
   "metadata": {},
   "outputs": [],
   "source": [
    "test[\"gender\"].replace({\"f\":1,\"m\":2},inplace=True)"
   ]
  },
  {
   "cell_type": "code",
   "execution_count": 52,
   "id": "8ad88e5b",
   "metadata": {},
   "outputs": [],
   "source": [
    "test[\"previous_year_rating\"]=train[\"previous_year_rating\"].astype(\"int64\" , copy=False) "
   ]
  },
  {
   "cell_type": "code",
   "execution_count": 53,
   "id": "50fbd3fe",
   "metadata": {},
   "outputs": [
    {
     "data": {
      "text/plain": [
       "department                int64\n",
       "region                    int64\n",
       "education                 int64\n",
       "gender                    int64\n",
       "recruitment_channel       int64\n",
       "no_of_trainings           int64\n",
       "age                       int64\n",
       "previous_year_rating    float64\n",
       "length_of_service         int64\n",
       "KPIs_met >80%             int64\n",
       "awards_won?               int64\n",
       "avg_training_score        int64\n",
       "dtype: object"
      ]
     },
     "execution_count": 53,
     "metadata": {},
     "output_type": "execute_result"
    }
   ],
   "source": [
    "test.dtypes"
   ]
  },
  {
   "cell_type": "code",
   "execution_count": 54,
   "id": "4e2acb3a",
   "metadata": {},
   "outputs": [
    {
     "data": {
      "text/plain": [
       "department              0.964154\n",
       "region                  0.208506\n",
       "education               1.261161\n",
       "gender                 -0.884275\n",
       "recruitment_channel     0.537372\n",
       "no_of_trainings         3.444288\n",
       "age                     1.007044\n",
       "previous_year_rating   -0.138304\n",
       "length_of_service       1.738682\n",
       "KPIs_met >80%           0.618966\n",
       "awards_won?             6.331460\n",
       "avg_training_score      0.450680\n",
       "is_promoted             2.969307\n",
       "dtype: float64"
      ]
     },
     "execution_count": 54,
     "metadata": {},
     "output_type": "execute_result"
    }
   ],
   "source": [
    "train.skew()"
   ]
  },
  {
   "cell_type": "code",
   "execution_count": 55,
   "id": "56fa614e",
   "metadata": {},
   "outputs": [],
   "source": [
    "#skew columns =>no_of_trainings ,is_promoted "
   ]
  },
  {
   "cell_type": "code",
   "execution_count": 56,
   "id": "158b350f",
   "metadata": {},
   "outputs": [
    {
     "data": {
      "text/plain": [
       "array([[<Axes: title={'center': 'department'}>,\n",
       "        <Axes: title={'center': 'region'}>,\n",
       "        <Axes: title={'center': 'education'}>,\n",
       "        <Axes: title={'center': 'gender'}>],\n",
       "       [<Axes: title={'center': 'recruitment_channel'}>,\n",
       "        <Axes: title={'center': 'no_of_trainings'}>,\n",
       "        <Axes: title={'center': 'age'}>,\n",
       "        <Axes: title={'center': 'previous_year_rating'}>],\n",
       "       [<Axes: title={'center': 'length_of_service'}>,\n",
       "        <Axes: title={'center': 'KPIs_met >80%'}>,\n",
       "        <Axes: title={'center': 'awards_won?'}>,\n",
       "        <Axes: title={'center': 'avg_training_score'}>],\n",
       "       [<Axes: title={'center': 'is_promoted'}>, <Axes: >, <Axes: >,\n",
       "        <Axes: >]], dtype=object)"
      ]
     },
     "execution_count": 56,
     "metadata": {},
     "output_type": "execute_result"
    },
    {
     "data": {
      "image/png": "[encoded data removed]",
      "text/plain": [
       "<Figure size 1000x1000 with 16 Axes>"
      ]
     },
     "metadata": {},
     "output_type": "display_data"
    }
   ],
   "source": [
    "train.hist(figsize=(10,10))"
   ]
  },
  {
   "cell_type": "code",
   "execution_count": null,
   "id": "af3b0a04",
   "metadata": {},
   "outputs": [],
   "source": [
    "train.age.value_counts()"
   ]
  },
  {
   "cell_type": "code",
   "execution_count": 57,
   "id": "fe57419a",
   "metadata": {},
   "outputs": [
    {
     "data": {
      "text/plain": [
       "10.0"
      ]
     },
     "execution_count": 57,
     "metadata": {},
     "output_type": "execute_result"
    }
   ],
   "source": [
    "IQR1=train[\"age\"].quantile(0.75)-train[\"age\"].quantile(0.25)\n",
    "IQR1"
   ]
  },
  {
   "cell_type": "code",
   "execution_count": 58,
   "id": "9d2f5d61",
   "metadata": {},
   "outputs": [
    {
     "name": "stdout",
     "output_type": "stream",
     "text": [
      "69.0 -1.0\n"
     ]
    }
   ],
   "source": [
    "ub1=train.age.quantile(0.75)+3*IQR1\n",
    "lb1=train.age.quantile(0.25)-3*IQR1\n",
    "print(ub1,lb1)"
   ]
  },
  {
   "cell_type": "code",
   "execution_count": 59,
   "id": "d5a6cb4e",
   "metadata": {},
   "outputs": [],
   "source": [
    "train.loc[train[\"age\"]>69,\"age\"]=69"
   ]
  },
  {
   "cell_type": "code",
   "execution_count": 60,
   "id": "3798817f",
   "metadata": {},
   "outputs": [
    {
     "data": {
      "text/plain": [
       "<Axes: xlabel='age', ylabel='Density'>"
      ]
     },
     "execution_count": 60,
     "metadata": {},
     "output_type": "execute_result"
    },
    {
     "data": {
      "image/png": "[encoded data removed]",
      "text/plain": [
       "<Figure size 640x480 with 1 Axes>"
      ]
     },
     "metadata": {},
     "output_type": "display_data"
    }
   ],
   "source": [
    "sns.distplot(train.age) "
   ]
  },
  {
   "cell_type": "code",
   "execution_count": 61,
   "id": "410b0c16",
   "metadata": {},
   "outputs": [
    {
     "data": {
      "text/plain": [
       "department              0.964154\n",
       "region                  0.208506\n",
       "education               1.261161\n",
       "gender                 -0.884275\n",
       "recruitment_channel     0.537372\n",
       "no_of_trainings         3.444288\n",
       "age                     1.007044\n",
       "previous_year_rating   -0.138304\n",
       "length_of_service       1.738682\n",
       "KPIs_met >80%           0.618966\n",
       "awards_won?             6.331460\n",
       "avg_training_score      0.450680\n",
       "is_promoted             2.969307\n",
       "dtype: float64"
      ]
     },
     "execution_count": 61,
     "metadata": {},
     "output_type": "execute_result"
    }
   ],
   "source": [
    "train.skew()"
   ]
  },
  {
   "cell_type": "code",
   "execution_count": 62,
   "id": "74ff8953",
   "metadata": {},
   "outputs": [
    {
     "data": {
      "text/plain": [
       "<Axes: >"
      ]
     },
     "execution_count": 62,
     "metadata": {},
     "output_type": "execute_result"
    },
    {
     "data": {
      "image/png": "[encoded data removed]",
      "text/plain": [
       "<Figure size 640x480 with 1 Axes>"
      ]
     },
     "metadata": {},
     "output_type": "display_data"
    }
   ],
   "source": [
    "train.boxplot()"
   ]
  },
  {
   "cell_type": "code",
   "execution_count": null,
   "id": "26000b46",
   "metadata": {},
   "outputs": [],
   "source": [
    "train.age.value_counts()"
   ]
  }
 ],
 "metadata": {
  "kernelspec": {
   "display_name": "Python 3 (ipykernel)",
   "language": "python",
   "name": "python3"
  },
  "language_info": {
   "codemirror_mode": {
    "name": "ipython",
    "version": 3
   },
   "file_extension": ".py",
   "mimetype": "text/x-python",
   "name": "python",
   "nbconvert_exporter": "python",
   "pygments_lexer": "ipython3",
   "version": "3.10.9"
  }
 },
 "nbformat": 4,
 "nbformat_minor": 5
}
