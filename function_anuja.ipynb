{
  "nbformat": 4,
  "nbformat_minor": 0,
  "metadata": {
    "colab": {
      "provenance": []
    },
    "kernelspec": {
      "name": "python3",
      "display_name": "Python 3"
    },
    "language_info": {
      "name": "python"
    }
  },
  "cells": [
    {
      "cell_type": "code",
      "execution_count": null,
      "metadata": {
        "id": "6ojwSYUtIbPP"
      },
      "outputs": [],
      "source": [
        "def add(x,y):\n",
        "  z=x+y\n",
        "  print(z)"
      ]
    },
    {
      "cell_type": "code",
      "source": [
        "add(2,3)"
      ],
      "metadata": {
        "colab": {
          "base_uri": "https://localhost:8080/"
        },
        "id": "7RrkUjY_IhyW",
        "outputId": "fa30024f-2026-4f6b-b83c-ac8b93088dc2"
      },
      "execution_count": null,
      "outputs": [
        {
          "output_type": "stream",
          "name": "stdout",
          "text": [
            "5\n"
          ]
        }
      ]
    },
    {
      "cell_type": "code",
      "source": [
        "type(add(2,3))"
      ],
      "metadata": {
        "colab": {
          "base_uri": "https://localhost:8080/"
        },
        "id": "y6M9Vsy-IjoT",
        "outputId": "b1b91e2f-4b11-41d2-a6e5-b09b64eef50d"
      },
      "execution_count": null,
      "outputs": [
        {
          "output_type": "stream",
          "name": "stdout",
          "text": [
            "5\n"
          ]
        },
        {
          "output_type": "execute_result",
          "data": {
            "text/plain": [
              "NoneType"
            ]
          },
          "metadata": {},
          "execution_count": 13
        }
      ]
    },
    {
      "cell_type": "code",
      "source": [
        "def subtract(x,y):\n",
        "  z=x-y\n",
        "  return z"
      ],
      "metadata": {
        "id": "OKRxE_S9IlvD"
      },
      "execution_count": null,
      "outputs": []
    },
    {
      "cell_type": "code",
      "source": [
        "type(subtract(2,3))"
      ],
      "metadata": {
        "colab": {
          "base_uri": "https://localhost:8080/"
        },
        "id": "oo_LaBy0InmY",
        "outputId": "b350d6c5-f581-44a7-9bad-f2695266f664"
      },
      "execution_count": null,
      "outputs": [
        {
          "output_type": "execute_result",
          "data": {
            "text/plain": [
              "int"
            ]
          },
          "metadata": {},
          "execution_count": 15
        }
      ]
    },
    {
      "cell_type": "code",
      "source": [
        "add(2,3) + 5 #'NoneType' and 'int'"
      ],
      "metadata": {
        "colab": {
          "base_uri": "https://localhost:8080/",
          "height": 183
        },
        "id": "1cSGqu7vIp3b",
        "outputId": "610518df-307a-430e-dba3-3950fc8c52d1"
      },
      "execution_count": null,
      "outputs": [
        {
          "output_type": "stream",
          "name": "stdout",
          "text": [
            "5\n"
          ]
        },
        {
          "output_type": "error",
          "ename": "TypeError",
          "evalue": "ignored",
          "traceback": [
            "\u001b[0;31m---------------------------------------------------------------------------\u001b[0m",
            "\u001b[0;31mTypeError\u001b[0m                                 Traceback (most recent call last)",
            "\u001b[0;32m<ipython-input-16-44fef69d94e2>\u001b[0m in \u001b[0;36m<cell line: 1>\u001b[0;34m()\u001b[0m\n\u001b[0;32m----> 1\u001b[0;31m \u001b[0madd\u001b[0m\u001b[0;34m(\u001b[0m\u001b[0;36m2\u001b[0m\u001b[0;34m,\u001b[0m\u001b[0;36m3\u001b[0m\u001b[0;34m)\u001b[0m \u001b[0;34m+\u001b[0m \u001b[0;36m5\u001b[0m\u001b[0;34m\u001b[0m\u001b[0;34m\u001b[0m\u001b[0m\n\u001b[0m",
            "\u001b[0;31mTypeError\u001b[0m: unsupported operand type(s) for +: 'NoneType' and 'int'"
          ]
        }
      ]
    },
    {
      "cell_type": "code",
      "source": [
        "subtract(2,3) + 5"
      ],
      "metadata": {
        "colab": {
          "base_uri": "https://localhost:8080/"
        },
        "id": "QHnZ6HiUKFLX",
        "outputId": "56e13b1b-fb8a-4a2c-abe2-b5aa0b9c5c60"
      },
      "execution_count": null,
      "outputs": [
        {
          "output_type": "execute_result",
          "data": {
            "text/plain": [
              "4"
            ]
          },
          "metadata": {},
          "execution_count": 17
        }
      ]
    },
    {
      "cell_type": "code",
      "execution_count": null,
      "metadata": {
        "id": "aLt-uJwZLz7k"
      },
      "outputs": [],
      "source": [
        "def test3(n, m ):\n",
        "    return n*10 , m*40 ,m+n"
      ]
    },
    {
      "cell_type": "code",
      "execution_count": null,
      "metadata": {
        "id": "Vc3SvbdgCsbB",
        "outputId": "a2021faa-48cc-4668-c8a6-b187ab899ef8",
        "colab": {
          "base_uri": "https://localhost:8080/"
        }
      },
      "outputs": [
        {
          "output_type": "execute_result",
          "data": {
            "text/plain": [
              "(20, 280, 9)"
            ]
          },
          "metadata": {},
          "execution_count": 19
        }
      ],
      "source": [
        "test3(2,7) # by default return gives multiple value o/p in tuple  "
      ]
    },
    {
      "cell_type": "code",
      "source": [
        "c,x,v = test3(2,7)"
      ],
      "metadata": {
        "id": "P4DRaROzMECK"
      },
      "execution_count": null,
      "outputs": []
    },
    {
      "cell_type": "code",
      "source": [
        "x"
      ],
      "metadata": {
        "colab": {
          "base_uri": "https://localhost:8080/"
        },
        "id": "5uoFZom3MIiS",
        "outputId": "4d5ba8a9-8ff5-451c-88a4-708b8208f95b"
      },
      "execution_count": null,
      "outputs": [
        {
          "output_type": "execute_result",
          "data": {
            "text/plain": [
              "280"
            ]
          },
          "metadata": {},
          "execution_count": 22
        }
      ]
    },
    {
      "cell_type": "code",
      "source": [
        "c,_, x = test3(2,7) # underscore is placeholder for 3rd operation's o/p as i dont want result of 3rd operation... ( _ ) this gives any random no instead of o/p ...\n",
        "# without ( _ ) unpacking is not possible thats why we used it "
      ],
      "metadata": {
        "id": "nzHpA9SPMMZo"
      },
      "execution_count": null,
      "outputs": []
    },
    {
      "cell_type": "code",
      "source": [
        "x , _"
      ],
      "metadata": {
        "colab": {
          "base_uri": "https://localhost:8080/"
        },
        "id": "3UYFLtekNxT2",
        "outputId": "bde96439-612e-40fc-e074-a3f8981cf02c"
      },
      "execution_count": null,
      "outputs": [
        {
          "output_type": "execute_result",
          "data": {
            "text/plain": [
              "(9, 280)"
            ]
          },
          "metadata": {},
          "execution_count": 28
        }
      ]
    },
    {
      "cell_type": "code",
      "source": [
        "def subtract(x,y,z):\n",
        "  return x+y # usually first operation\n",
        "  return y-z \n",
        "subtract(1,2,3)"
      ],
      "metadata": {
        "colab": {
          "base_uri": "https://localhost:8080/"
        },
        "id": "bAhpmoauN3qq",
        "outputId": "f33fbae2-3940-480c-e7ed-6c77bae014cc"
      },
      "execution_count": null,
      "outputs": [
        {
          "output_type": "execute_result",
          "data": {
            "text/plain": [
              "3"
            ]
          },
          "metadata": {},
          "execution_count": 32
        }
      ]
    },
    {
      "cell_type": "code",
      "source": [
        "def subtract(x,y,z):\n",
        "  return x-y \n",
        "  return y-z # override x-y as both same operations so last operation excutes\n",
        "subtract(1,2,3)"
      ],
      "metadata": {
        "colab": {
          "base_uri": "https://localhost:8080/"
        },
        "id": "8gLadGQ7PEHg",
        "outputId": "429dd17d-c965-4df5-c253-54df253b3e86"
      },
      "execution_count": null,
      "outputs": [
        {
          "output_type": "execute_result",
          "data": {
            "text/plain": [
              "-1"
            ]
          },
          "metadata": {},
          "execution_count": 36
        }
      ]
    },
    {
      "cell_type": "code",
      "source": [
        "def subtract(x,y,z):\n",
        "  return x+y #  usually first operation\n",
        "  return y*z \n",
        "subtract(1,2,3)"
      ],
      "metadata": {
        "colab": {
          "base_uri": "https://localhost:8080/"
        },
        "id": "fbnFdnMJPx5C",
        "outputId": "6e887171-f71c-4335-ee3e-f01852bd2930"
      },
      "execution_count": null,
      "outputs": [
        {
          "output_type": "execute_result",
          "data": {
            "text/plain": [
              "3"
            ]
          },
          "metadata": {},
          "execution_count": 34
        }
      ]
    },
    {
      "cell_type": "code",
      "source": [
        "def fun(whatever):\n",
        "  return whatever * 2\n",
        "fun([1,2,3,4])"
      ],
      "metadata": {
        "colab": {
          "base_uri": "https://localhost:8080/"
        },
        "id": "mKOAXo9NP3Xe",
        "outputId": "dfa61fc2-bdf4-4140-ee12-526b569654c7"
      },
      "execution_count": null,
      "outputs": [
        {
          "output_type": "execute_result",
          "data": {
            "text/plain": [
              "[1, 2, 3, 4, 1, 2, 3, 4]"
            ]
          },
          "metadata": {},
          "execution_count": 39
        }
      ]
    },
    {
      "cell_type": "code",
      "source": [
        "fun(15)"
      ],
      "metadata": {
        "colab": {
          "base_uri": "https://localhost:8080/"
        },
        "id": "TiMZQ3dEREwB",
        "outputId": "6f597bf6-1ccf-407f-acd6-8066c10396e1"
      },
      "execution_count": null,
      "outputs": [
        {
          "output_type": "execute_result",
          "data": {
            "text/plain": [
              "30"
            ]
          },
          "metadata": {},
          "execution_count": 40
        }
      ]
    },
    {
      "cell_type": "code",
      "source": [
        "def add(x, y=10 ): # by default giving value of y\n",
        "  return x+y\n",
        "add(20) # we can pass only 1 value cause 1 value is by default given"
      ],
      "metadata": {
        "colab": {
          "base_uri": "https://localhost:8080/"
        },
        "id": "LmGHnqOARMhe",
        "outputId": "bebbf762-81ea-4c72-a609-93c27047ecf6"
      },
      "execution_count": null,
      "outputs": [
        {
          "output_type": "execute_result",
          "data": {
            "text/plain": [
              "30"
            ]
          },
          "metadata": {},
          "execution_count": 42
        }
      ]
    },
    {
      "cell_type": "code",
      "source": [
        "add(20,30) # overriding the default value"
      ],
      "metadata": {
        "colab": {
          "base_uri": "https://localhost:8080/"
        },
        "id": "Me6LCIwHSgce",
        "outputId": "cce2ffdd-fab3-4e1a-d9c7-13b5a6d1069a"
      },
      "execution_count": null,
      "outputs": [
        {
          "output_type": "execute_result",
          "data": {
            "text/plain": [
              "50"
            ]
          },
          "metadata": {},
          "execution_count": 44
        }
      ]
    },
    {
      "cell_type": "code",
      "source": [
        "def add(x=10, y=10 ): \n",
        "  return x+y\n",
        "add() # calling without argument ........u can override this at runtime"
      ],
      "metadata": {
        "colab": {
          "base_uri": "https://localhost:8080/"
        },
        "id": "LydZcpPDS2zk",
        "outputId": "2e43821a-e14b-44a3-b6b4-8f7505ca29a8"
      },
      "execution_count": null,
      "outputs": [
        {
          "output_type": "execute_result",
          "data": {
            "text/plain": [
              "20"
            ]
          },
          "metadata": {},
          "execution_count": 45
        }
      ]
    },
    {
      "cell_type": "code",
      "source": [
        "def add(x=10, y=10 ): \n",
        "  return x+y\n",
        "add(y=30) # order matters"
      ],
      "metadata": {
        "colab": {
          "base_uri": "https://localhost:8080/"
        },
        "id": "p5hI4bj0ThSi",
        "outputId": "54a94ec8-6bdd-4646-9df0-f47fce5628d4"
      },
      "execution_count": null,
      "outputs": [
        {
          "output_type": "execute_result",
          "data": {
            "text/plain": [
              "40"
            ]
          },
          "metadata": {},
          "execution_count": 46
        }
      ]
    },
    {
      "cell_type": "code",
      "source": [
        "def name(*args): # *args takes multiple arguments or input \n",
        "  return args\n",
        "name(\"anuja\",12,(5,2,3,))"
      ],
      "metadata": {
        "colab": {
          "base_uri": "https://localhost:8080/"
        },
        "id": "NkJgS9V3X5yB",
        "outputId": "ac3ab433-04e7-44b2-fcd1-ab0d1ed9384f"
      },
      "execution_count": null,
      "outputs": [
        {
          "output_type": "execute_result",
          "data": {
            "text/plain": [
              "('anuja', 12, (5, 2, 3))"
            ]
          },
          "metadata": {},
          "execution_count": 49
        }
      ]
    },
    {
      "cell_type": "code",
      "source": [
        "def name(*args): # *args hold data in tthe form of iterable\n",
        "  lst=[]\n",
        "  for i in args:\n",
        "    lst.append(i)\n",
        "  return lst\n",
        "  \n",
        "name([1,2,3,4],[5,6,7,8],[9,10,11],[12,13,14,15])"
      ],
      "metadata": {
        "colab": {
          "base_uri": "https://localhost:8080/"
        },
        "id": "qgplQ4HUZKBL",
        "outputId": "8f356362-b627-46d8-94a5-07487a71c697"
      },
      "execution_count": null,
      "outputs": [
        {
          "output_type": "execute_result",
          "data": {
            "text/plain": [
              "[[1, 2, 3, 4], [5, 6, 7, 8], [9, 10, 11], [12, 13, 14, 15]]"
            ]
          },
          "metadata": {},
          "execution_count": 52
        }
      ]
    },
    {
      "cell_type": "code",
      "source": [
        "def name(*args): # *args hold data in the form of iterable\n",
        "  lst=[]\n",
        "  for i in args:\n",
        "    lst.extend(i)\n",
        "  return lst\n",
        "  \n",
        "name([1,2,3,4],[5,6,7,8],[9,10,11],[12,13,14,15])"
      ],
      "metadata": {
        "colab": {
          "base_uri": "https://localhost:8080/"
        },
        "id": "OFBr0I0LG9IB",
        "outputId": "c80eb210-8d2a-46c5-a04f-4b2998616589"
      },
      "execution_count": null,
      "outputs": [
        {
          "output_type": "execute_result",
          "data": {
            "text/plain": [
              "[1, 2, 3, 4, 5, 6, 7, 8, 9, 10, 11, 12, 13, 14, 15]"
            ]
          },
          "metadata": {},
          "execution_count": 4
        }
      ]
    },
    {
      "cell_type": "code",
      "source": [
        "def mul(*args):\n",
        "  return [i for i in args]"
      ],
      "metadata": {
        "id": "HwxwPCIacqfL"
      },
      "execution_count": null,
      "outputs": []
    },
    {
      "cell_type": "code",
      "source": [
        "mul([1,2,3,4],[5,6,7,8])"
      ],
      "metadata": {
        "colab": {
          "base_uri": "https://localhost:8080/"
        },
        "id": "pFA-2GvRbmeD",
        "outputId": "852cf30a-9f43-4774-a7bf-96911364be1b"
      },
      "execution_count": null,
      "outputs": [
        {
          "output_type": "execute_result",
          "data": {
            "text/plain": [
              "[[1, 2, 3, 4], [5, 6, 7, 8]]"
            ]
          },
          "metadata": {},
          "execution_count": 54
        }
      ]
    },
    {
      "cell_type": "code",
      "source": [
        "def mul(**kwargs): #pass unlimited data but only in format of key-value pair, keyward argument -parameter\n",
        "  return kwargs\n",
        "\n",
        "mul(a=\"anuja\",c=[1,2] ,z=\"dream\")"
      ],
      "metadata": {
        "id": "WXVMvj3Ec7lf",
        "colab": {
          "base_uri": "https://localhost:8080/"
        },
        "outputId": "63fd9553-1ad9-477d-dd17-513a9aef1f7f"
      },
      "execution_count": null,
      "outputs": [
        {
          "output_type": "execute_result",
          "data": {
            "text/plain": [
              "{'a': 'anuja', 'c': [1, 2], 'z': 'dream'}"
            ]
          },
          "metadata": {},
          "execution_count": 11
        }
      ]
    },
    {
      "cell_type": "code",
      "source": [
        "def func1(*args):\n",
        "  dt = {}\n",
        "  for i in args:\n",
        "    if type(i) in dt:\n",
        "      dt[type(i)].append(i)\n",
        "    else:\n",
        "      dt[type(i)] = [i] \n",
        "  return dt\n",
        "    \n",
        "func1(1,2,3,[5,6,7],'hi','io', 6+7j , 6+4j , {\"a\":\"bc\",\"c\":\"dccc\"} )\n"
      ],
      "metadata": {
        "colab": {
          "base_uri": "https://localhost:8080/"
        },
        "id": "pH3Z8WIdLLmQ",
        "outputId": "bd21ac11-a863-4388-ef6f-30df2ac882e8"
      },
      "execution_count": null,
      "outputs": [
        {
          "output_type": "execute_result",
          "data": {
            "text/plain": [
              "{int: [1, 2, 3],\n",
              " list: [[5, 6, 7]],\n",
              " str: ['hi', 'io'],\n",
              " complex: [(6+7j), (6+4j)],\n",
              " dict: [{'a': 'bc', 'c': 'dccc'}]}"
            ]
          },
          "metadata": {},
          "execution_count": 17
        }
      ]
    },
    {
      "cell_type": "code",
      "source": [
        " {'g': 2, 'o': 3, 'l': 1, 'e': 1, '.': 1, 'c': 1, 'm': 1}"
      ],
      "metadata": {
        "id": "pRyUuYPV7AfA"
      },
      "execution_count": null,
      "outputs": []
    },
    {
      "cell_type": "code",
      "source": [],
      "metadata": {
        "id": "GAqJ4_ADQzBh"
      },
      "execution_count": null,
      "outputs": []
    },
    {
      "cell_type": "code",
      "source": [],
      "metadata": {
        "id": "2xobb3Ik7d-S"
      },
      "execution_count": null,
      "outputs": []
    },
    {
      "cell_type": "code",
      "source": [],
      "metadata": {
        "id": "P4n8d3H89KRc"
      },
      "execution_count": null,
      "outputs": []
    }
  ]
}