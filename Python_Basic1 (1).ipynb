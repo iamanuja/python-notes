{
 "cells": [
  {
   "cell_type": "code",
   "execution_count": 1,
   "id": "adc2aa9f",
   "metadata": {},
   "outputs": [],
   "source": [
    "import keyword"
   ]
  },
  {
   "cell_type": "code",
   "execution_count": 2,
   "id": "4e80b939",
   "metadata": {},
   "outputs": [],
   "source": [
    "x,y=20,6"
   ]
  },
  {
   "cell_type": "code",
   "execution_count": 3,
   "id": "08ed6593",
   "metadata": {},
   "outputs": [
    {
     "name": "stdout",
     "output_type": "stream",
     "text": [
      "20\n"
     ]
    }
   ],
   "source": [
    "print(x)"
   ]
  },
  {
   "cell_type": "code",
   "execution_count": 4,
   "id": "2c45a333",
   "metadata": {},
   "outputs": [
    {
     "data": {
      "text/plain": [
       "20"
      ]
     },
     "execution_count": 4,
     "metadata": {},
     "output_type": "execute_result"
    }
   ],
   "source": [
    "x"
   ]
  },
  {
   "cell_type": "code",
   "execution_count": 5,
   "id": "31569983",
   "metadata": {},
   "outputs": [
    {
     "data": {
      "text/plain": [
       "6"
      ]
     },
     "execution_count": 5,
     "metadata": {},
     "output_type": "execute_result"
    }
   ],
   "source": [
    "y"
   ]
  },
  {
   "cell_type": "code",
   "execution_count": 6,
   "id": "a435c3f5",
   "metadata": {},
   "outputs": [],
   "source": [
    "x=y=90"
   ]
  },
  {
   "cell_type": "code",
   "execution_count": 7,
   "id": "613359f9",
   "metadata": {},
   "outputs": [
    {
     "name": "stdout",
     "output_type": "stream",
     "text": [
      "['Anuja', 'Nisha', 'Sonu', 'Aaradhya']\n"
     ]
    }
   ],
   "source": [
    "#unpack collection\n",
    "girls=[\"Anuja\",\"Nisha\",\"Sonu\",\"Aaradhya\"]\n",
    "print(girls)"
   ]
  },
  {
   "cell_type": "code",
   "execution_count": 8,
   "id": "3272cdfe",
   "metadata": {},
   "outputs": [
    {
     "name": "stdout",
     "output_type": "stream",
     "text": [
      "Anuja\n",
      "Nisha\n",
      "Sonu\n",
      "Aaradhya\n",
      "Anuja Nisha Sonu Aaradhya\n"
     ]
    }
   ],
   "source": [
    "a,b,c,d=girls\n",
    "print(a)\n",
    "print(b)\n",
    "print(c)\n",
    "print(d)\n",
    "print(a,b,c,d)"
   ]
  },
  {
   "cell_type": "code",
   "execution_count": 9,
   "id": "617b5fb3",
   "metadata": {},
   "outputs": [
    {
     "data": {
      "text/plain": [
       "'Anuja'"
      ]
     },
     "execution_count": 9,
     "metadata": {},
     "output_type": "execute_result"
    }
   ],
   "source": [
    "girls=[\"Anuja\",\"Nisha\",\"Sonu\",\"Aaradhya\"]\n",
    "girls\n",
    "a,b,c,d=girls\n",
    "#print(a)\n",
    "#print(b)\n",
    "#print(c)\n",
    "#print(d)\n",
    "a\n",
    "#b"
   ]
  },
  {
   "cell_type": "code",
   "execution_count": 10,
   "id": "0c8fcbf1",
   "metadata": {},
   "outputs": [
    {
     "data": {
      "text/plain": [
       "20"
      ]
     },
     "execution_count": 10,
     "metadata": {},
     "output_type": "execute_result"
    }
   ],
   "source": [
    "a=20\n",
    "a"
   ]
  },
  {
   "cell_type": "code",
   "execution_count": 11,
   "id": "2ef4a05c",
   "metadata": {},
   "outputs": [
    {
     "data": {
      "text/plain": [
       "30"
      ]
     },
     "execution_count": 11,
     "metadata": {},
     "output_type": "execute_result"
    }
   ],
   "source": [
    "a=30\n",
    "a"
   ]
  },
  {
   "cell_type": "code",
   "execution_count": 12,
   "id": "e1115ae7",
   "metadata": {},
   "outputs": [
    {
     "name": "stdout",
     "output_type": "stream",
     "text": [
      "Python is awesome\n"
     ]
    }
   ],
   "source": [
    "x=\"Python is awesome\"\n",
    "print(x)"
   ]
  },
  {
   "cell_type": "code",
   "execution_count": 13,
   "id": "74c4c1c3",
   "metadata": {},
   "outputs": [
    {
     "name": "stdout",
     "output_type": "stream",
     "text": [
      "Python is awesome\n"
     ]
    }
   ],
   "source": [
    "x=\"Python\"\n",
    "y=\"is\"\n",
    "z=\"awesome\"\n",
    "print(x,y,z)\n"
   ]
  },
  {
   "cell_type": "code",
   "execution_count": 14,
   "id": "0300f2f2",
   "metadata": {},
   "outputs": [
    {
     "name": "stdout",
     "output_type": "stream",
     "text": [
      "Pythonisawesome\n"
     ]
    }
   ],
   "source": [
    "print(x + y + z)"
   ]
  },
  {
   "cell_type": "code",
   "execution_count": 15,
   "id": "32b4318e",
   "metadata": {},
   "outputs": [
    {
     "name": "stdout",
     "output_type": "stream",
     "text": [
      "13\n"
     ]
    }
   ],
   "source": [
    "x=3\n",
    "y=10\n",
    "print(x+y)"
   ]
  },
  {
   "cell_type": "code",
   "execution_count": 16,
   "id": "406b274c",
   "metadata": {},
   "outputs": [
    {
     "data": {
      "text/plain": [
       "'india'"
      ]
     },
     "execution_count": 16,
     "metadata": {},
     "output_type": "execute_result"
    }
   ],
   "source": [
    "x=\"india\"\n",
    "x"
   ]
  },
  {
   "cell_type": "code",
   "execution_count": 17,
   "id": "317839ee",
   "metadata": {},
   "outputs": [
    {
     "data": {
      "text/plain": [
       "'2090'"
      ]
     },
     "execution_count": 17,
     "metadata": {},
     "output_type": "execute_result"
    }
   ],
   "source": [
    "x=\"20\"\n",
    "y=\"90\"\n",
    "x+y #joining/concatination"
   ]
  },
  {
   "cell_type": "code",
   "execution_count": 18,
   "id": "deca47b6",
   "metadata": {},
   "outputs": [
    {
     "name": "stdout",
     "output_type": "stream",
     "text": [
      "4 Omkar\n"
     ]
    }
   ],
   "source": [
    "x1=4\n",
    "x2=\"Omkar\"\n",
    "print(x1,x2)"
   ]
  },
  {
   "cell_type": "markdown",
   "id": "ae847416",
   "metadata": {},
   "source": [
    "# Data Types"
   ]
  },
  {
   "cell_type": "code",
   "execution_count": 19,
   "id": "b9cd32a2",
   "metadata": {},
   "outputs": [
    {
     "name": "stdout",
     "output_type": "stream",
     "text": [
      "india\n"
     ]
    }
   ],
   "source": [
    "x=\"india\"\n",
    "print(x)"
   ]
  },
  {
   "cell_type": "code",
   "execution_count": 20,
   "id": "6869b61a",
   "metadata": {},
   "outputs": [
    {
     "name": "stdout",
     "output_type": "stream",
     "text": [
      "<class 'str'>\n"
     ]
    }
   ],
   "source": [
    "print(type(x))"
   ]
  },
  {
   "cell_type": "code",
   "execution_count": 21,
   "id": "2a34426d",
   "metadata": {},
   "outputs": [
    {
     "name": "stdout",
     "output_type": "stream",
     "text": [
      "<class 'float'>\n"
     ]
    }
   ],
   "source": [
    "x1=90.08\n",
    "print(type(x1))"
   ]
  },
  {
   "cell_type": "code",
   "execution_count": 22,
   "id": "4fa2408c",
   "metadata": {},
   "outputs": [
    {
     "name": "stdout",
     "output_type": "stream",
     "text": [
      "<class 'complex'>\n"
     ]
    }
   ],
   "source": [
    "x2=1j\n",
    "print(type(x2))"
   ]
  },
  {
   "cell_type": "code",
   "execution_count": 23,
   "id": "0630a3a7",
   "metadata": {},
   "outputs": [
    {
     "data": {
      "text/plain": [
       "bool"
      ]
     },
     "execution_count": 23,
     "metadata": {},
     "output_type": "execute_result"
    }
   ],
   "source": [
    "x3=True\n",
    "type(x3)"
   ]
  },
  {
   "cell_type": "code",
   "execution_count": 24,
   "id": "545d2e57",
   "metadata": {},
   "outputs": [
    {
     "data": {
      "text/plain": [
       "NoneType"
      ]
     },
     "execution_count": 24,
     "metadata": {},
     "output_type": "execute_result"
    }
   ],
   "source": [
    "x4=None\n",
    "type(x4)"
   ]
  },
  {
   "cell_type": "code",
   "execution_count": 25,
   "id": "c6d62025",
   "metadata": {},
   "outputs": [
    {
     "data": {
      "text/plain": [
       "30"
      ]
     },
     "execution_count": 25,
     "metadata": {},
     "output_type": "execute_result"
    }
   ],
   "source": [
    "#casting a variable tyoe\n",
    "b=int(30.90)\n",
    "b"
   ]
  },
  {
   "cell_type": "code",
   "execution_count": 26,
   "id": "5f600f80",
   "metadata": {},
   "outputs": [
    {
     "data": {
      "text/plain": [
       "int"
      ]
     },
     "execution_count": 26,
     "metadata": {},
     "output_type": "execute_result"
    }
   ],
   "source": [
    "type(b)"
   ]
  },
  {
   "cell_type": "code",
   "execution_count": 27,
   "id": "f2d1d9a9",
   "metadata": {},
   "outputs": [
    {
     "data": {
      "text/plain": [
       "'30'"
      ]
     },
     "execution_count": 27,
     "metadata": {},
     "output_type": "execute_result"
    }
   ],
   "source": [
    "b1=str(b)\n",
    "b1"
   ]
  },
  {
   "cell_type": "code",
   "execution_count": 28,
   "id": "21d1f9c2",
   "metadata": {},
   "outputs": [
    {
     "data": {
      "text/plain": [
       "str"
      ]
     },
     "execution_count": 28,
     "metadata": {},
     "output_type": "execute_result"
    }
   ],
   "source": [
    "type(b1)"
   ]
  },
  {
   "cell_type": "code",
   "execution_count": 29,
   "id": "569e2d60",
   "metadata": {},
   "outputs": [
    {
     "data": {
      "text/plain": [
       "30.0"
      ]
     },
     "execution_count": 29,
     "metadata": {},
     "output_type": "execute_result"
    }
   ],
   "source": [
    "b2=float(b1)\n",
    "b2"
   ]
  },
  {
   "cell_type": "code",
   "execution_count": 30,
   "id": "62bcdfd0",
   "metadata": {},
   "outputs": [
    {
     "data": {
      "text/plain": [
       "float"
      ]
     },
     "execution_count": 30,
     "metadata": {},
     "output_type": "execute_result"
    }
   ],
   "source": [
    "type(b2)"
   ]
  },
  {
   "cell_type": "code",
   "execution_count": 31,
   "id": "de6a1abc",
   "metadata": {},
   "outputs": [
    {
     "data": {
      "text/plain": [
       "(30+0j)"
      ]
     },
     "execution_count": 31,
     "metadata": {},
     "output_type": "execute_result"
    }
   ],
   "source": [
    "b3=complex(b2)\n",
    "b3"
   ]
  },
  {
   "cell_type": "code",
   "execution_count": 32,
   "id": "19549a57",
   "metadata": {},
   "outputs": [
    {
     "data": {
      "text/plain": [
       "complex"
      ]
     },
     "execution_count": 32,
     "metadata": {},
     "output_type": "execute_result"
    }
   ],
   "source": [
    "type(b3)"
   ]
  },
  {
   "cell_type": "code",
   "execution_count": 33,
   "id": "42d29fec",
   "metadata": {},
   "outputs": [
    {
     "data": {
      "text/plain": [
       "True"
      ]
     },
     "execution_count": 33,
     "metadata": {},
     "output_type": "execute_result"
    }
   ],
   "source": [
    "b4=bool(b3)\n",
    "b4"
   ]
  },
  {
   "cell_type": "code",
   "execution_count": 34,
   "id": "72a1c79c",
   "metadata": {},
   "outputs": [
    {
     "data": {
      "text/plain": [
       "bool"
      ]
     },
     "execution_count": 34,
     "metadata": {},
     "output_type": "execute_result"
    }
   ],
   "source": [
    "type(b4)"
   ]
  },
  {
   "cell_type": "code",
   "execution_count": 35,
   "id": "857aef94",
   "metadata": {},
   "outputs": [],
   "source": [
    "import sys"
   ]
  },
  {
   "cell_type": "code",
   "execution_count": 36,
   "id": "0d9b1bc4",
   "metadata": {},
   "outputs": [
    {
     "data": {
      "text/plain": [
       "3099"
      ]
     },
     "execution_count": 36,
     "metadata": {},
     "output_type": "execute_result"
    }
   ],
   "source": [
    "c=3099\n",
    "c"
   ]
  },
  {
   "cell_type": "code",
   "execution_count": 37,
   "id": "5cd19709",
   "metadata": {},
   "outputs": [
    {
     "data": {
      "text/plain": [
       "28"
      ]
     },
     "execution_count": 37,
     "metadata": {},
     "output_type": "execute_result"
    }
   ],
   "source": [
    "sys.getsizeof(c)"
   ]
  },
  {
   "cell_type": "code",
   "execution_count": 38,
   "id": "0c841e45",
   "metadata": {},
   "outputs": [
    {
     "name": "stdout",
     "output_type": "stream",
     "text": [
      "hello world!\n"
     ]
    }
   ],
   "source": [
    "a=\"hello world!\"\n",
    "print(a)"
   ]
  },
  {
   "cell_type": "code",
   "execution_count": 39,
   "id": "fc0daba9",
   "metadata": {},
   "outputs": [
    {
     "data": {
      "text/plain": [
       "'h'"
      ]
     },
     "execution_count": 39,
     "metadata": {},
     "output_type": "execute_result"
    }
   ],
   "source": [
    "a[0]#indexing start with '0' always"
   ]
  },
  {
   "cell_type": "code",
   "execution_count": 40,
   "id": "f49103b5",
   "metadata": {},
   "outputs": [
    {
     "data": {
      "text/plain": [
       "'hell'"
      ]
     },
     "execution_count": 40,
     "metadata": {},
     "output_type": "execute_result"
    }
   ],
   "source": [
    "a[0:4]"
   ]
  },
  {
   "cell_type": "code",
   "execution_count": 41,
   "id": "a53bff90",
   "metadata": {},
   "outputs": [
    {
     "name": "stdout",
     "output_type": "stream",
     "text": [
      "12\n"
     ]
    }
   ],
   "source": [
    "print(len(a))"
   ]
  },
  {
   "cell_type": "code",
   "execution_count": 42,
   "id": "1f8f7036",
   "metadata": {},
   "outputs": [
    {
     "data": {
      "text/plain": [
       "'edubridgeindia'"
      ]
     },
     "execution_count": 42,
     "metadata": {},
     "output_type": "execute_result"
    }
   ],
   "source": [
    "a1=\"edubridgeindia\"\n",
    "a1"
   ]
  },
  {
   "cell_type": "code",
   "execution_count": 43,
   "id": "094ac279",
   "metadata": {},
   "outputs": [
    {
     "data": {
      "text/plain": [
       "'dge'"
      ]
     },
     "execution_count": 43,
     "metadata": {},
     "output_type": "execute_result"
    }
   ],
   "source": [
    "a1[6:9]"
   ]
  },
  {
   "cell_type": "code",
   "execution_count": 44,
   "id": "7cd288ab",
   "metadata": {},
   "outputs": [
    {
     "data": {
      "text/plain": [
       "'dia'"
      ]
     },
     "execution_count": 44,
     "metadata": {},
     "output_type": "execute_result"
    }
   ],
   "source": [
    "a1[11:14]"
   ]
  },
  {
   "cell_type": "code",
   "execution_count": 45,
   "id": "1b36c5f3",
   "metadata": {},
   "outputs": [
    {
     "data": {
      "text/plain": [
       "'consectetur adipiscing elit'"
      ]
     },
     "execution_count": 45,
     "metadata": {},
     "output_type": "execute_result"
    }
   ],
   "source": [
    "a2=\"consectetur adipiscing elit\"\n",
    "a2"
   ]
  },
  {
   "cell_type": "code",
   "execution_count": 46,
   "id": "7900dd9d",
   "metadata": {},
   "outputs": [
    {
     "data": {
      "text/plain": [
       "'sect'"
      ]
     },
     "execution_count": 46,
     "metadata": {},
     "output_type": "execute_result"
    }
   ],
   "source": [
    "a2[3:7]"
   ]
  },
  {
   "cell_type": "code",
   "execution_count": 47,
   "id": "c779c3aa",
   "metadata": {},
   "outputs": [
    {
     "data": {
      "text/plain": [
       "'etur'"
      ]
     },
     "execution_count": 47,
     "metadata": {},
     "output_type": "execute_result"
    }
   ],
   "source": [
    "a2[7:11]"
   ]
  },
  {
   "cell_type": "code",
   "execution_count": 48,
   "id": "68f1fb43",
   "metadata": {},
   "outputs": [
    {
     "data": {
      "text/plain": [
       "'lit'"
      ]
     },
     "execution_count": 48,
     "metadata": {},
     "output_type": "execute_result"
    }
   ],
   "source": [
    "a2[24:27]"
   ]
  },
  {
   "cell_type": "code",
   "execution_count": 49,
   "id": "71935b8f",
   "metadata": {},
   "outputs": [
    {
     "data": {
      "text/plain": [
       "'pisci'"
      ]
     },
     "execution_count": 49,
     "metadata": {},
     "output_type": "execute_result"
    }
   ],
   "source": [
    "a2[15:20]"
   ]
  },
  {
   "cell_type": "code",
   "execution_count": 50,
   "id": "0642ebfa",
   "metadata": {},
   "outputs": [
    {
     "data": {
      "text/plain": [
       "'r adipiscing elit'"
      ]
     },
     "execution_count": 50,
     "metadata": {},
     "output_type": "execute_result"
    }
   ],
   "source": [
    "a2[10:27]"
   ]
  },
  {
   "cell_type": "code",
   "execution_count": 51,
   "id": "04fe369e",
   "metadata": {},
   "outputs": [
    {
     "data": {
      "text/plain": [
       "'consectetur'"
      ]
     },
     "execution_count": 51,
     "metadata": {},
     "output_type": "execute_result"
    }
   ],
   "source": [
    "a2[0:11]"
   ]
  },
  {
   "cell_type": "code",
   "execution_count": 52,
   "id": "16d807b7",
   "metadata": {},
   "outputs": [
    {
     "data": {
      "text/plain": [
       "'hello'"
      ]
     },
     "execution_count": 52,
     "metadata": {},
     "output_type": "execute_result"
    }
   ],
   "source": [
    "#-v indexing \n",
    "a2=\"hello\"\n",
    "a2"
   ]
  },
  {
   "cell_type": "code",
   "execution_count": 53,
   "id": "3035376b",
   "metadata": {},
   "outputs": [
    {
     "data": {
      "text/plain": [
       "''"
      ]
     },
     "execution_count": 53,
     "metadata": {},
     "output_type": "execute_result"
    }
   ],
   "source": [
    "a2[-1:-3]"
   ]
  },
  {
   "cell_type": "code",
   "execution_count": 54,
   "id": "d75637aa",
   "metadata": {},
   "outputs": [
    {
     "data": {
      "text/plain": [
       "'llo'"
      ]
     },
     "execution_count": 54,
     "metadata": {},
     "output_type": "execute_result"
    }
   ],
   "source": [
    "a2[2:5]"
   ]
  },
  {
   "cell_type": "code",
   "execution_count": 55,
   "id": "2ef9d3d1",
   "metadata": {},
   "outputs": [
    {
     "data": {
      "text/plain": [
       "'llo'"
      ]
     },
     "execution_count": 55,
     "metadata": {},
     "output_type": "execute_result"
    }
   ],
   "source": [
    "a2[-3:]"
   ]
  },
  {
   "cell_type": "code",
   "execution_count": 56,
   "id": "7022106e",
   "metadata": {},
   "outputs": [
    {
     "data": {
      "text/plain": [
       "'hel'"
      ]
     },
     "execution_count": 56,
     "metadata": {},
     "output_type": "execute_result"
    }
   ],
   "source": [
    "a2[-5:-2]"
   ]
  },
  {
   "cell_type": "code",
   "execution_count": 57,
   "id": "01aaacd3",
   "metadata": {},
   "outputs": [
    {
     "data": {
      "text/plain": [
       "'hel'"
      ]
     },
     "execution_count": 57,
     "metadata": {},
     "output_type": "execute_result"
    }
   ],
   "source": [
    "a2[:-2]"
   ]
  },
  {
   "cell_type": "code",
   "execution_count": 58,
   "id": "631e5590",
   "metadata": {},
   "outputs": [
    {
     "data": {
      "text/plain": [
       "'India is my country'"
      ]
     },
     "execution_count": 58,
     "metadata": {},
     "output_type": "execute_result"
    }
   ],
   "source": [
    "a1=\"India is my country\"\n",
    "a1"
   ]
  },
  {
   "cell_type": "code",
   "execution_count": 59,
   "id": "f1a45e41",
   "metadata": {},
   "outputs": [
    {
     "data": {
      "text/plain": [
       "'my'"
      ]
     },
     "execution_count": 59,
     "metadata": {},
     "output_type": "execute_result"
    }
   ],
   "source": [
    "a1[-10:-8]"
   ]
  },
  {
   "cell_type": "code",
   "execution_count": 60,
   "id": "03a7ac3f",
   "metadata": {},
   "outputs": [
    {
     "data": {
      "text/plain": [
       "'unt'"
      ]
     },
     "execution_count": 60,
     "metadata": {},
     "output_type": "execute_result"
    }
   ],
   "source": [
    "a1[-5:-2]"
   ]
  },
  {
   "cell_type": "code",
   "execution_count": 61,
   "id": "feebc55c",
   "metadata": {},
   "outputs": [
    {
     "data": {
      "text/plain": [
       "'a is'"
      ]
     },
     "execution_count": 61,
     "metadata": {},
     "output_type": "execute_result"
    }
   ],
   "source": [
    "a1[-15:-11]"
   ]
  },
  {
   "cell_type": "code",
   "execution_count": 62,
   "id": "522bf5a5",
   "metadata": {},
   "outputs": [
    {
     "data": {
      "text/plain": [
       "'ndi'"
      ]
     },
     "execution_count": 62,
     "metadata": {},
     "output_type": "execute_result"
    }
   ],
   "source": [
    "a1[-18:-15]"
   ]
  },
  {
   "cell_type": "code",
   "execution_count": 63,
   "id": "9ad922a6",
   "metadata": {},
   "outputs": [
    {
     "data": {
      "text/plain": [
       "'y co'"
      ]
     },
     "execution_count": 63,
     "metadata": {},
     "output_type": "execute_result"
    }
   ],
   "source": [
    "a1[-9:-5]"
   ]
  },
  {
   "cell_type": "code",
   "execution_count": 64,
   "id": "6eee0d16",
   "metadata": {},
   "outputs": [],
   "source": [
    "b1=\"\"\"India is my country,\n",
    "    I am living in maharashtra.\n",
    "    My name is Nisha\"\"\""
   ]
  },
  {
   "cell_type": "code",
   "execution_count": 65,
   "id": "2fe24e07",
   "metadata": {},
   "outputs": [
    {
     "data": {
      "text/plain": [
       "'India is my country,\\n    I am living in maharashtra.\\n    My name is Nisha'"
      ]
     },
     "execution_count": 65,
     "metadata": {},
     "output_type": "execute_result"
    }
   ],
   "source": [
    "b1"
   ]
  },
  {
   "cell_type": "code",
   "execution_count": 66,
   "id": "82b2facd",
   "metadata": {},
   "outputs": [
    {
     "name": "stdout",
     "output_type": "stream",
     "text": [
      "20\t20\b"
     ]
    }
   ],
   "source": [
    "a=20\n",
    "b=30\n",
    "c=a+b\n",
    "print(a,end=\"\\t\")#tab/ 4 white space\n",
    "print(a,end=\"\\b\")#backspace"
   ]
  },
  {
   "cell_type": "code",
   "execution_count": 15,
   "id": "43d1e38c",
   "metadata": {},
   "outputs": [
    {
     "name": "stdout",
     "output_type": "stream",
     "text": [
      "Namaste# India\n",
      "Namaste, India\n",
      "Namaste\n",
      "India\n"
     ]
    }
   ],
   "source": [
    "print(\"Namaste\", \"India\", sep=\"# \")# sep = specify string i.e printed between 2 strings\n",
    "print(\"Namaste\", end=\", \") # end = specify string i.e printed at the end of the line..(end =\"\\n\" in loops)\n",
    "print(\"India\")\n",
    "print(\"Namaste\", \"India\", sep=\"\\n\")"
   ]
  },
  {
   "cell_type": "code",
   "execution_count": null,
   "id": "878c4003",
   "metadata": {},
   "outputs": [],
   "source": []
  },
  {
   "cell_type": "code",
   "execution_count": 67,
   "id": "032155a1",
   "metadata": {},
   "outputs": [
    {
     "name": "stdout",
     "output_type": "stream",
     "text": [
      "20-30!"
     ]
    }
   ],
   "source": [
    "print(a,b,sep='-',end=\"!\")"
   ]
  },
  {
   "cell_type": "code",
   "execution_count": 68,
   "id": "35dbd2c3",
   "metadata": {},
   "outputs": [
    {
     "name": "stdout",
     "output_type": "stream",
     "text": [
      "12\n"
     ]
    },
    {
     "data": {
      "text/plain": [
       "'12'"
      ]
     },
     "execution_count": 68,
     "metadata": {},
     "output_type": "execute_result"
    }
   ],
   "source": [
    "input()"
   ]
  },
  {
   "cell_type": "code",
   "execution_count": 69,
   "id": "4b7687ec",
   "metadata": {},
   "outputs": [
    {
     "name": "stdout",
     "output_type": "stream",
     "text": [
      "Enter your name: anuja\n"
     ]
    },
    {
     "data": {
      "text/plain": [
       "'anuja'"
      ]
     },
     "execution_count": 69,
     "metadata": {},
     "output_type": "execute_result"
    }
   ],
   "source": [
    "input(\"Enter your name: \")"
   ]
  },
  {
   "cell_type": "code",
   "execution_count": 70,
   "id": "45ad2919",
   "metadata": {},
   "outputs": [
    {
     "name": "stdout",
     "output_type": "stream",
     "text": [
      "enter first no: 12\n",
      "second no: 12\n"
     ]
    },
    {
     "data": {
      "text/plain": [
       "'12'"
      ]
     },
     "execution_count": 70,
     "metadata": {},
     "output_type": "execute_result"
    }
   ],
   "source": [
    "input(\"enter first no: \")\n",
    "input(\"second no: \")"
   ]
  },
  {
   "cell_type": "markdown",
   "id": "02cd5407",
   "metadata": {},
   "source": [
    "# Modification of string\n",
    "\n",
    "\n"
   ]
  },
  {
   "cell_type": "code",
   "execution_count": 71,
   "id": "befcc5f8",
   "metadata": {},
   "outputs": [
    {
     "data": {
      "text/plain": [
       "'india'"
      ]
     },
     "execution_count": 71,
     "metadata": {},
     "output_type": "execute_result"
    }
   ],
   "source": [
    "z=\"india\"\n",
    "z"
   ]
  },
  {
   "cell_type": "code",
   "execution_count": 72,
   "id": "b5c6bf27",
   "metadata": {},
   "outputs": [],
   "source": [
    "z1=z.upper()"
   ]
  },
  {
   "cell_type": "code",
   "execution_count": 73,
   "id": "08a56852",
   "metadata": {},
   "outputs": [
    {
     "data": {
      "text/plain": [
       "'INDIA'"
      ]
     },
     "execution_count": 73,
     "metadata": {},
     "output_type": "execute_result"
    }
   ],
   "source": [
    "z1=z.upper() \n",
    "z1"
   ]
  },
  {
   "cell_type": "code",
   "execution_count": 74,
   "id": "e485d8ae",
   "metadata": {},
   "outputs": [
    {
     "data": {
      "text/plain": [
       "'india'"
      ]
     },
     "execution_count": 74,
     "metadata": {},
     "output_type": "execute_result"
    }
   ],
   "source": [
    "z2=z1.lower()\n",
    "z2"
   ]
  },
  {
   "cell_type": "code",
   "execution_count": 75,
   "id": "ad51587c",
   "metadata": {},
   "outputs": [
    {
     "data": {
      "text/plain": [
       "'  hello, World!  '"
      ]
     },
     "execution_count": 75,
     "metadata": {},
     "output_type": "execute_result"
    }
   ],
   "source": [
    "z3=\"  hello, World!  \"  \n",
    "z3"
   ]
  },
  {
   "cell_type": "code",
   "execution_count": 76,
   "id": "b09f0f04",
   "metadata": {},
   "outputs": [
    {
     "data": {
      "text/plain": [
       "'hello, World!'"
      ]
     },
     "execution_count": 76,
     "metadata": {},
     "output_type": "execute_result"
    }
   ],
   "source": [
    "z4=z3.strip()#remove unwanted space from start and end\n",
    "z4"
   ]
  },
  {
   "cell_type": "code",
   "execution_count": 77,
   "id": "62183a0d",
   "metadata": {},
   "outputs": [
    {
     "data": {
      "text/plain": [
       "'hello, World!'"
      ]
     },
     "execution_count": 77,
     "metadata": {},
     "output_type": "execute_result"
    }
   ],
   "source": [
    "z4"
   ]
  },
  {
   "cell_type": "code",
   "execution_count": 78,
   "id": "4293e1bd",
   "metadata": {},
   "outputs": [
    {
     "data": {
      "text/plain": [
       "'Mello, World!'"
      ]
     },
     "execution_count": 78,
     "metadata": {},
     "output_type": "execute_result"
    }
   ],
   "source": [
    "z5=z4.replace(\"h\",\"M\")\n",
    "z5"
   ]
  },
  {
   "cell_type": "code",
   "execution_count": 79,
   "id": "9bf26dd9",
   "metadata": {},
   "outputs": [
    {
     "data": {
      "text/plain": [
       "'hello, Nisha!'"
      ]
     },
     "execution_count": 79,
     "metadata": {},
     "output_type": "execute_result"
    }
   ],
   "source": [
    "z5=z4.replace(\"World\",\"Nisha\")\n",
    "z5"
   ]
  },
  {
   "cell_type": "markdown",
   "id": "f63af03d",
   "metadata": {},
   "source": [
    "# split function"
   ]
  },
  {
   "cell_type": "code",
   "execution_count": 80,
   "id": "f701968c",
   "metadata": {},
   "outputs": [
    {
     "name": "stdout",
     "output_type": "stream",
     "text": [
      "['hello', ' World!']\n"
     ]
    }
   ],
   "source": [
    "print(z4.split(\",\"))"
   ]
  },
  {
   "cell_type": "code",
   "execution_count": 6,
   "id": "1d356e9e",
   "metadata": {},
   "outputs": [
    {
     "data": {
      "text/plain": [
       "['anuja', 'kanawade']"
      ]
     },
     "execution_count": 6,
     "metadata": {},
     "output_type": "execute_result"
    }
   ],
   "source": [
    "\"anuja kanawade\".split()# by default space"
   ]
  },
  {
   "cell_type": "code",
   "execution_count": 8,
   "id": "77d1e74f",
   "metadata": {},
   "outputs": [
    {
     "data": {
      "text/plain": [
       "['', 'nuj', ' k', 'n', 'w', 'de']"
      ]
     },
     "execution_count": 8,
     "metadata": {},
     "output_type": "execute_result"
    }
   ],
   "source": [
    "\"anuja kanawade\".split(\"a\")# find a "
   ]
  },
  {
   "cell_type": "code",
   "execution_count": 9,
   "id": "a7c9fcf3",
   "metadata": {},
   "outputs": [
    {
     "data": {
      "text/plain": [
       "['anuja kanawade']"
      ]
     },
     "execution_count": 9,
     "metadata": {},
     "output_type": "execute_result"
    }
   ],
   "source": [
    "\"anuja kanawade\".split(\"#\",1)# find a "
   ]
  },
  {
   "cell_type": "markdown",
   "id": "eb485216",
   "metadata": {},
   "source": [
    "# Concatenation of string\n"
   ]
  },
  {
   "cell_type": "code",
   "execution_count": 81,
   "id": "47d6f09e",
   "metadata": {},
   "outputs": [
    {
     "data": {
      "text/plain": [
       "'Helloeveryone'"
      ]
     },
     "execution_count": 81,
     "metadata": {},
     "output_type": "execute_result"
    }
   ],
   "source": [
    "a1=\"Hello\"\n",
    "b1=\"everyone\"\n",
    "c1=a1+b1\n",
    "c1"
   ]
  },
  {
   "cell_type": "code",
   "execution_count": 82,
   "id": "568f1213",
   "metadata": {},
   "outputs": [
    {
     "data": {
      "text/plain": [
       "'Hello everyone'"
      ]
     },
     "execution_count": 82,
     "metadata": {},
     "output_type": "execute_result"
    }
   ],
   "source": [
    "c2=a1+\" \"+b1\n",
    "c2"
   ]
  },
  {
   "cell_type": "code",
   "execution_count": 83,
   "id": "624eb3e3",
   "metadata": {},
   "outputs": [
    {
     "data": {
      "text/plain": [
       "'indiaindia'"
      ]
     },
     "execution_count": 83,
     "metadata": {},
     "output_type": "execute_result"
    }
   ],
   "source": [
    "a=\"india\"\n",
    "a*2"
   ]
  },
  {
   "cell_type": "code",
   "execution_count": 84,
   "id": "1605b380",
   "metadata": {},
   "outputs": [
    {
     "data": {
      "text/plain": [
       "80"
      ]
     },
     "execution_count": 84,
     "metadata": {},
     "output_type": "execute_result"
    }
   ],
   "source": [
    "a1=20\n",
    "a1*4"
   ]
  },
  {
   "cell_type": "code",
   "execution_count": 85,
   "id": "48798266",
   "metadata": {},
   "outputs": [
    {
     "data": {
      "text/plain": [
       "'wor'"
      ]
     },
     "execution_count": 85,
     "metadata": {},
     "output_type": "execute_result"
    }
   ],
   "source": [
    "b=\"helloworld\"\n",
    "b[-5:-2]"
   ]
  },
  {
   "cell_type": "code",
   "execution_count": 86,
   "id": "0eed15fe",
   "metadata": {},
   "outputs": [
    {
     "data": {
      "text/plain": [
       "'nuja k'"
      ]
     },
     "execution_count": 86,
     "metadata": {},
     "output_type": "execute_result"
    }
   ],
   "source": [
    "a=\"anuja kanawade\"\n",
    "a[-13:-7]\n"
   ]
  },
  {
   "cell_type": "code",
   "execution_count": 87,
   "id": "a4a37fdb",
   "metadata": {},
   "outputs": [],
   "source": [
    "a=\"density based spatial cluster\""
   ]
  },
  {
   "cell_type": "code",
   "execution_count": 88,
   "id": "fb42a771",
   "metadata": {},
   "outputs": [
    {
     "data": {
      "text/plain": [
       "'sity'"
      ]
     },
     "execution_count": 88,
     "metadata": {},
     "output_type": "execute_result"
    }
   ],
   "source": [
    "a[3:7]"
   ]
  },
  {
   "cell_type": "code",
   "execution_count": 89,
   "id": "8a95e363",
   "metadata": {},
   "outputs": [
    {
     "data": {
      "text/plain": [
       "'sity'"
      ]
     },
     "execution_count": 89,
     "metadata": {},
     "output_type": "execute_result"
    }
   ],
   "source": [
    "a[-26:-22]"
   ]
  },
  {
   "cell_type": "code",
   "execution_count": 90,
   "id": "ba29583b",
   "metadata": {},
   "outputs": [
    {
     "data": {
      "text/plain": [
       "'tial'"
      ]
     },
     "execution_count": 90,
     "metadata": {},
     "output_type": "execute_result"
    }
   ],
   "source": [
    "a[17:21]"
   ]
  },
  {
   "cell_type": "code",
   "execution_count": 91,
   "id": "6cfc8a1e",
   "metadata": {},
   "outputs": [
    {
     "data": {
      "text/plain": [
       "'tial'"
      ]
     },
     "execution_count": 91,
     "metadata": {},
     "output_type": "execute_result"
    }
   ],
   "source": [
    "a[-12:-8]"
   ]
  },
  {
   "cell_type": "code",
   "execution_count": 92,
   "id": "5c61699a",
   "metadata": {},
   "outputs": [
    {
     "data": {
      "text/plain": [
       "'clus'"
      ]
     },
     "execution_count": 92,
     "metadata": {},
     "output_type": "execute_result"
    }
   ],
   "source": [
    "a[22:26]"
   ]
  },
  {
   "cell_type": "code",
   "execution_count": 93,
   "id": "b4923183",
   "metadata": {},
   "outputs": [
    {
     "data": {
      "text/plain": [
       "'clus'"
      ]
     },
     "execution_count": 93,
     "metadata": {},
     "output_type": "execute_result"
    }
   ],
   "source": [
    "a[-7:-3]"
   ]
  },
  {
   "cell_type": "code",
   "execution_count": 94,
   "id": "7959afd5",
   "metadata": {},
   "outputs": [
    {
     "data": {
      "text/plain": [
       "'sed'"
      ]
     },
     "execution_count": 94,
     "metadata": {},
     "output_type": "execute_result"
    }
   ],
   "source": [
    "a[10:13]"
   ]
  },
  {
   "cell_type": "code",
   "execution_count": 95,
   "id": "882af7bf",
   "metadata": {},
   "outputs": [
    {
     "data": {
      "text/plain": [
       "'sed'"
      ]
     },
     "execution_count": 95,
     "metadata": {},
     "output_type": "execute_result"
    }
   ],
   "source": [
    "a[-19:-16]"
   ]
  },
  {
   "cell_type": "code",
   "execution_count": 96,
   "id": "1a278627",
   "metadata": {},
   "outputs": [
    {
     "data": {
      "text/plain": [
       "'spatial'"
      ]
     },
     "execution_count": 96,
     "metadata": {},
     "output_type": "execute_result"
    }
   ],
   "source": [
    "a[14:21]"
   ]
  },
  {
   "cell_type": "code",
   "execution_count": 97,
   "id": "fafa4ed1",
   "metadata": {},
   "outputs": [
    {
     "data": {
      "text/plain": [
       "'spatial'"
      ]
     },
     "execution_count": 97,
     "metadata": {},
     "output_type": "execute_result"
    }
   ],
   "source": [
    "a[-15:-8]"
   ]
  },
  {
   "cell_type": "code",
   "execution_count": 98,
   "id": "5a0c27f3",
   "metadata": {},
   "outputs": [
    {
     "name": "stdout",
     "output_type": "stream",
     "text": [
      "my name is nisha , i am 20\n"
     ]
    }
   ],
   "source": [
    "# formating string\n",
    "age=20\n",
    "name=\"nisha\"\n",
    "t=\"my name is {} , i am {}\"\n",
    "print(t.format(name,age))"
   ]
  },
  {
   "cell_type": "code",
   "execution_count": 99,
   "id": "130085f1",
   "metadata": {},
   "outputs": [
    {
     "name": "stdout",
     "output_type": "stream",
     "text": [
      "I want to pay 49.95 dollars for 3 pieces of item 567.\n"
     ]
    }
   ],
   "source": [
    "quantity = 3\n",
    "itemno = 567\n",
    "price = 49.95\n",
    "myorder = \"I want to pay {2} dollars for {0} pieces of item {1}.\"\n",
    "print(myorder.format(quantity, itemno, price))"
   ]
  },
  {
   "cell_type": "code",
   "execution_count": 100,
   "id": "4e17dd65",
   "metadata": {},
   "outputs": [
    {
     "name": "stdout",
     "output_type": "stream",
     "text": [
      "my name is \"anuja\". \n"
     ]
    }
   ],
   "source": [
    "print(\"my name is \\\"anuja\\\". \")"
   ]
  },
  {
   "cell_type": "code",
   "execution_count": 101,
   "id": "57c30983",
   "metadata": {},
   "outputs": [
    {
     "name": "stdout",
     "output_type": "stream",
     "text": [
      "hello\n",
      "nisha\n"
     ]
    }
   ],
   "source": [
    "print(\"hello\\nnisha\")"
   ]
  },
  {
   "cell_type": "code",
   "execution_count": 102,
   "id": "64ecc96a",
   "metadata": {},
   "outputs": [
    {
     "name": "stdout",
     "output_type": "stream",
     "text": [
      "the value is 10\n"
     ]
    }
   ],
   "source": [
    "a=10\n",
    "print(\"the value is {}\".format(a))"
   ]
  },
  {
   "cell_type": "code",
   "execution_count": 103,
   "id": "c0c364f1",
   "metadata": {},
   "outputs": [],
   "source": [
    "#specifiers ========= %f = float , %s = string  , %d = integer"
   ]
  },
  {
   "cell_type": "code",
   "execution_count": 104,
   "id": "e8dc0083",
   "metadata": {},
   "outputs": [
    {
     "name": "stdout",
     "output_type": "stream",
     "text": [
      "hello my name is nisha\n"
     ]
    }
   ],
   "source": [
    "name=\"nisha\"\n",
    "print(\"hello my name is %s\" %(name))"
   ]
  },
  {
   "cell_type": "code",
   "execution_count": 105,
   "id": "8a96dc33",
   "metadata": {},
   "outputs": [
    {
     "name": "stdout",
     "output_type": "stream",
     "text": [
      "the age is 10 name is john and height is 20.330000\n"
     ]
    }
   ],
   "source": [
    "a=10\n",
    "b=\"john\"\n",
    "c=20.33\n",
    "print(\"the age is %d name is %s and height is %f\" %(a,b,c))"
   ]
  },
  {
   "cell_type": "code",
   "execution_count": 106,
   "id": "9a7e77d4",
   "metadata": {},
   "outputs": [
    {
     "name": "stdout",
     "output_type": "stream",
     "text": [
      "the age is 10 name is john and height is 20.33\n"
     ]
    }
   ],
   "source": [
    "print(\"the age is {} name is {} and height is {}\".format(a,b,c))"
   ]
  },
  {
   "cell_type": "code",
   "execution_count": 107,
   "id": "9f90dec6",
   "metadata": {},
   "outputs": [
    {
     "name": "stdout",
     "output_type": "stream",
     "text": [
      "the age is 10 name is john and height is 20.33\n"
     ]
    }
   ],
   "source": [
    "print(\"the age is\",a,\"name is\",b,\"and height is\",c)"
   ]
  },
  {
   "cell_type": "code",
   "execution_count": 108,
   "id": "b3c2a176",
   "metadata": {},
   "outputs": [],
   "source": [
    "#booblean for null bool is false"
   ]
  },
  {
   "cell_type": "code",
   "execution_count": 109,
   "id": "4d5517b4",
   "metadata": {},
   "outputs": [
    {
     "name": "stdout",
     "output_type": "stream",
     "text": [
      "True True False\n"
     ]
    }
   ],
   "source": [
    "print(bool(12),bool(\"anuja\"),bool(\"\"))"
   ]
  },
  {
   "cell_type": "markdown",
   "id": "93038be1",
   "metadata": {},
   "source": [
    "# python operators\n"
   ]
  },
  {
   "cell_type": "markdown",
   "id": "36ba869e",
   "metadata": {},
   "source": [
    "1 arithmetic\n",
    "2 assignment\n",
    "3 comaprison\n",
    "4 logical\n",
    "5 Identity\n",
    "6 Membership"
   ]
  },
  {
   "cell_type": "markdown",
   "id": "83ae154f",
   "metadata": {},
   "source": [
    "### arithmetic operators"
   ]
  },
  {
   "cell_type": "markdown",
   "id": "a5137112",
   "metadata": {},
   "source": [
    "#### +  ,  - ,  *,  / , % , ** , //"
   ]
  },
  {
   "cell_type": "code",
   "execution_count": 110,
   "id": "eba77945",
   "metadata": {},
   "outputs": [
    {
     "data": {
      "text/plain": [
       "0"
      ]
     },
     "execution_count": 110,
     "metadata": {},
     "output_type": "execute_result"
    }
   ],
   "source": [
    "4%2 # remainder modulus division"
   ]
  },
  {
   "cell_type": "code",
   "execution_count": 111,
   "id": "fbde3158",
   "metadata": {},
   "outputs": [
    {
     "data": {
      "text/plain": [
       "2.0"
      ]
     },
     "execution_count": 111,
     "metadata": {},
     "output_type": "execute_result"
    }
   ],
   "source": [
    "4/2"
   ]
  },
  {
   "cell_type": "code",
   "execution_count": 112,
   "id": "a76deb2b",
   "metadata": {},
   "outputs": [
    {
     "data": {
      "text/plain": [
       "4"
      ]
     },
     "execution_count": 112,
     "metadata": {},
     "output_type": "execute_result"
    }
   ],
   "source": [
    "2**2 #exponential"
   ]
  },
  {
   "cell_type": "code",
   "execution_count": 113,
   "id": "5158079b",
   "metadata": {},
   "outputs": [
    {
     "data": {
      "text/plain": [
       "7"
      ]
     },
     "execution_count": 113,
     "metadata": {},
     "output_type": "execute_result"
    }
   ],
   "source": [
    "15//2  # floor division (division= 7.5 so floor =7 & ceiling = 8) "
   ]
  },
  {
   "cell_type": "markdown",
   "id": "fc5016d2",
   "metadata": {},
   "source": [
    "### assignment operators"
   ]
  },
  {
   "cell_type": "markdown",
   "id": "11268cd7",
   "metadata": {},
   "source": [
    "## =  , +=  , -=  , *= , /= , %= , //= , **="
   ]
  },
  {
   "cell_type": "code",
   "execution_count": 114,
   "id": "60f80182",
   "metadata": {},
   "outputs": [
    {
     "data": {
      "text/plain": [
       "8"
      ]
     },
     "execution_count": 114,
     "metadata": {},
     "output_type": "execute_result"
    }
   ],
   "source": [
    "x=5\n",
    "x+=3\n",
    "x"
   ]
  },
  {
   "cell_type": "code",
   "execution_count": 115,
   "id": "d2a13c7b",
   "metadata": {},
   "outputs": [
    {
     "data": {
      "text/plain": [
       "7"
      ]
     },
     "execution_count": 115,
     "metadata": {},
     "output_type": "execute_result"
    }
   ],
   "source": [
    "x -= 1\n",
    "x"
   ]
  },
  {
   "cell_type": "code",
   "execution_count": 116,
   "id": "ebcf1fd5",
   "metadata": {},
   "outputs": [
    {
     "data": {
      "text/plain": [
       "14"
      ]
     },
     "execution_count": 116,
     "metadata": {},
     "output_type": "execute_result"
    }
   ],
   "source": [
    "x *= 2\n",
    "x"
   ]
  },
  {
   "cell_type": "code",
   "execution_count": 117,
   "id": "86cda3ff",
   "metadata": {},
   "outputs": [
    {
     "data": {
      "text/plain": [
       "0"
      ]
     },
     "execution_count": 117,
     "metadata": {},
     "output_type": "execute_result"
    }
   ],
   "source": [
    "x %= 2\n",
    "x"
   ]
  },
  {
   "cell_type": "code",
   "execution_count": 118,
   "id": "649b165b",
   "metadata": {},
   "outputs": [
    {
     "data": {
      "text/plain": [
       "1"
      ]
     },
     "execution_count": 118,
     "metadata": {},
     "output_type": "execute_result"
    }
   ],
   "source": [
    "x=5\n",
    "x //= 3\n",
    "x"
   ]
  },
  {
   "cell_type": "code",
   "execution_count": 119,
   "id": "7f68ed03",
   "metadata": {},
   "outputs": [
    {
     "data": {
      "text/plain": [
       "1"
      ]
     },
     "execution_count": 119,
     "metadata": {},
     "output_type": "execute_result"
    }
   ],
   "source": [
    "x **= 3\n",
    "x"
   ]
  },
  {
   "cell_type": "markdown",
   "id": "7164df96",
   "metadata": {},
   "source": [
    "### comparison operators"
   ]
  },
  {
   "cell_type": "markdown",
   "id": "b55027dc",
   "metadata": {},
   "source": [
    "## ==, != , > , < , <= ,>="
   ]
  },
  {
   "cell_type": "code",
   "execution_count": 120,
   "id": "6c593f91",
   "metadata": {},
   "outputs": [
    {
     "data": {
      "text/plain": [
       "False"
      ]
     },
     "execution_count": 120,
     "metadata": {},
     "output_type": "execute_result"
    }
   ],
   "source": [
    "20==10"
   ]
  },
  {
   "cell_type": "code",
   "execution_count": 121,
   "id": "d3ff1427",
   "metadata": {},
   "outputs": [
    {
     "data": {
      "text/plain": [
       "True"
      ]
     },
     "execution_count": 121,
     "metadata": {},
     "output_type": "execute_result"
    }
   ],
   "source": [
    "2 != 20 #not equal to"
   ]
  },
  {
   "cell_type": "code",
   "execution_count": 122,
   "id": "006942aa",
   "metadata": {},
   "outputs": [
    {
     "data": {
      "text/plain": [
       "False"
      ]
     },
     "execution_count": 122,
     "metadata": {},
     "output_type": "execute_result"
    }
   ],
   "source": [
    "30<10\n"
   ]
  },
  {
   "cell_type": "code",
   "execution_count": 123,
   "id": "0203c91c",
   "metadata": {},
   "outputs": [
    {
     "data": {
      "text/plain": [
       "True"
      ]
     },
     "execution_count": 123,
     "metadata": {},
     "output_type": "execute_result"
    }
   ],
   "source": [
    "30>10"
   ]
  },
  {
   "cell_type": "code",
   "execution_count": 124,
   "id": "f81eae82",
   "metadata": {},
   "outputs": [
    {
     "data": {
      "text/plain": [
       "True"
      ]
     },
     "execution_count": 124,
     "metadata": {},
     "output_type": "execute_result"
    }
   ],
   "source": [
    "10<=30"
   ]
  },
  {
   "cell_type": "markdown",
   "id": "053d7a8d",
   "metadata": {},
   "source": [
    "## logical operators"
   ]
  },
  {
   "cell_type": "markdown",
   "id": "d05b9b3a",
   "metadata": {},
   "source": [
    "### AND , OR , NOT"
   ]
  },
  {
   "cell_type": "code",
   "execution_count": 125,
   "id": "46d82f05",
   "metadata": {},
   "outputs": [
    {
     "data": {
      "text/plain": [
       "False"
      ]
     },
     "execution_count": 125,
     "metadata": {},
     "output_type": "execute_result"
    }
   ],
   "source": [
    "x<5 and x>10"
   ]
  },
  {
   "cell_type": "code",
   "execution_count": 126,
   "id": "ae8c7132",
   "metadata": {},
   "outputs": [
    {
     "data": {
      "text/plain": [
       "False"
      ]
     },
     "execution_count": 126,
     "metadata": {},
     "output_type": "execute_result"
    }
   ],
   "source": [
    "x<2 and x>20"
   ]
  },
  {
   "cell_type": "code",
   "execution_count": 127,
   "id": "d1cc3040",
   "metadata": {},
   "outputs": [
    {
     "data": {
      "text/plain": [
       "False"
      ]
     },
     "execution_count": 127,
     "metadata": {},
     "output_type": "execute_result"
    }
   ],
   "source": [
    "x>2 and x>1"
   ]
  },
  {
   "cell_type": "code",
   "execution_count": 128,
   "id": "f1865268",
   "metadata": {},
   "outputs": [],
   "source": [
    "x=3\n",
    "y=2"
   ]
  },
  {
   "cell_type": "code",
   "execution_count": 129,
   "id": "4ff342e0",
   "metadata": {},
   "outputs": [
    {
     "data": {
      "text/plain": [
       "True"
      ]
     },
     "execution_count": 129,
     "metadata": {},
     "output_type": "execute_result"
    }
   ],
   "source": [
    "x==3 and y==2"
   ]
  },
  {
   "cell_type": "code",
   "execution_count": 130,
   "id": "2a7230c1",
   "metadata": {},
   "outputs": [],
   "source": [
    "# if any one condition is true then result is true"
   ]
  },
  {
   "cell_type": "code",
   "execution_count": 131,
   "id": "b223961a",
   "metadata": {},
   "outputs": [
    {
     "data": {
      "text/plain": [
       "True"
      ]
     },
     "execution_count": 131,
     "metadata": {},
     "output_type": "execute_result"
    }
   ],
   "source": [
    "x>1 or y >3 # T or F == T"
   ]
  },
  {
   "cell_type": "code",
   "execution_count": 132,
   "id": "094dcce8",
   "metadata": {},
   "outputs": [
    {
     "data": {
      "text/plain": [
       "False"
      ]
     },
     "execution_count": 132,
     "metadata": {},
     "output_type": "execute_result"
    }
   ],
   "source": [
    "x> 5 or y>5 #F or F === F"
   ]
  },
  {
   "cell_type": "code",
   "execution_count": 133,
   "id": "9c552439",
   "metadata": {},
   "outputs": [
    {
     "data": {
      "text/plain": [
       "True"
      ]
     },
     "execution_count": 133,
     "metadata": {},
     "output_type": "execute_result"
    }
   ],
   "source": [
    "not(x> 5 or y>5) ## not(False)"
   ]
  },
  {
   "cell_type": "markdown",
   "id": "461b11c8",
   "metadata": {},
   "source": [
    "### Identity operators ( works with memory location) \n",
    "comparison operators(compare elements)"
   ]
  },
  {
   "cell_type": "markdown",
   "id": "db029924",
   "metadata": {},
   "source": [
    "### is , is not"
   ]
  },
  {
   "cell_type": "code",
   "execution_count": 134,
   "id": "d69d2f79",
   "metadata": {},
   "outputs": [
    {
     "name": "stdout",
     "output_type": "stream",
     "text": [
      "True\n",
      "1881286346800 1881286346800\n"
     ]
    }
   ],
   "source": [
    "x=\"anuja\"\n",
    "y=\"anuja\"\n",
    "print(x is y)\n",
    "print(id(x),id(y))"
   ]
  },
  {
   "cell_type": "code",
   "execution_count": 135,
   "id": "16058c85",
   "metadata": {},
   "outputs": [
    {
     "name": "stdout",
     "output_type": "stream",
     "text": [
      "False\n",
      "1881269010624 1881269022592\n",
      "True\n",
      "1881269022592 1881269022592\n"
     ]
    }
   ],
   "source": [
    "a=[\"anuja\"]\n",
    "b=[\"anuja\"]\n",
    "print(a is b)\n",
    "print(id(a),id(b))\n",
    "\n",
    "a=b #making them same \n",
    "print(a is b)\n",
    "print(id(a),id(b))"
   ]
  },
  {
   "cell_type": "code",
   "execution_count": 136,
   "id": "c99fe28e",
   "metadata": {},
   "outputs": [
    {
     "name": "stdout",
     "output_type": "stream",
     "text": [
      "using \"comparison\" operator a==b : True\n",
      "using \"is\" operator a is b: False\n",
      "using \"is not\" operator a is not b: True\n"
     ]
    }
   ],
   "source": [
    "a=[\"apple\",\"banana\"]\n",
    "b=[\"apple\",\"banana\"]\n",
    "print(\"using \\\"comparison\\\" operator a==b :\",a==b)\n",
    "print(\"using \\\"is\\\" operator a is b:\",a is b)\n",
    "print(\"using \\\"is not\\\" operator a is not b:\" ,a is not b)"
   ]
  },
  {
   "cell_type": "code",
   "execution_count": 137,
   "id": "93a6664c",
   "metadata": {},
   "outputs": [
    {
     "name": "stdout",
     "output_type": "stream",
     "text": [
      "False\n"
     ]
    }
   ],
   "source": [
    "print(a!=b) # not equal operator ...but the elements re same"
   ]
  },
  {
   "cell_type": "code",
   "execution_count": 138,
   "id": "cccc97ca",
   "metadata": {},
   "outputs": [
    {
     "name": "stdout",
     "output_type": "stream",
     "text": [
      "False\n"
     ]
    }
   ],
   "source": [
    "a=20,30\n",
    "b=10,40\n",
    "print(a is b)"
   ]
  },
  {
   "cell_type": "markdown",
   "id": "08a2a7f8",
   "metadata": {},
   "source": [
    "### Membership operators = in , not in"
   ]
  },
  {
   "cell_type": "code",
   "execution_count": 139,
   "id": "919fd817",
   "metadata": {},
   "outputs": [
    {
     "name": "stdout",
     "output_type": "stream",
     "text": [
      "True\n",
      "False\n"
     ]
    }
   ],
   "source": [
    "x1=[\"red\",\"blue\",\"black\"]\n",
    "print(\"red\" in x1)\n",
    "print(\"red\" not in x1) ## red is member of x1"
   ]
  },
  {
   "cell_type": "code",
   "execution_count": 140,
   "id": "273fe3fb",
   "metadata": {},
   "outputs": [
    {
     "name": "stdout",
     "output_type": "stream",
     "text": [
      "No Python documentation found for 'binary value'.\n",
      "Use help() to get the interactive help utility.\n",
      "Use help(str) for help on the str class.\n",
      "\n"
     ]
    }
   ],
   "source": [
    "help(\"binary value\")"
   ]
  },
  {
   "cell_type": "markdown",
   "id": "4f6e1902",
   "metadata": {},
   "source": [
    "## Bitwise operator"
   ]
  },
  {
   "cell_type": "code",
   "execution_count": 141,
   "id": "85ac50df",
   "metadata": {},
   "outputs": [
    {
     "name": "stdout",
     "output_type": "stream",
     "text": [
      "-100\n"
     ]
    }
   ],
   "source": [
    "print(bin(-4).replace(\"0b\", \"\"))"
   ]
  },
  {
   "cell_type": "code",
   "execution_count": 142,
   "id": "5faebc74",
   "metadata": {},
   "outputs": [
    {
     "name": "stdout",
     "output_type": "stream",
     "text": [
      "0\n"
     ]
    }
   ],
   "source": [
    "print(8 & 2) # and operator"
   ]
  },
  {
   "cell_type": "code",
   "execution_count": 143,
   "id": "952909bc",
   "metadata": {},
   "outputs": [
    {
     "name": "stdout",
     "output_type": "stream",
     "text": [
      "-4\n"
     ]
    }
   ],
   "source": [
    "print(~3) # not operator"
   ]
  },
  {
   "cell_type": "code",
   "execution_count": null,
   "id": "52326148",
   "metadata": {},
   "outputs": [],
   "source": []
  },
  {
   "cell_type": "code",
   "execution_count": null,
   "id": "b4e3202b",
   "metadata": {},
   "outputs": [],
   "source": []
  },
  {
   "cell_type": "code",
   "execution_count": 144,
   "id": "cafcac8e",
   "metadata": {},
   "outputs": [
    {
     "name": "stdout",
     "output_type": "stream",
     "text": [
      "my name is anuja kanawade\n",
      "my name is kanawade anuja\n"
     ]
    }
   ],
   "source": [
    "first_name =\"anuja\"\n",
    "last_name = \"kanawade\"\n",
    "print(\"my name is {} {}\".format(first_name,last_name))\n",
    "print(\"my name is {1} {0}\".format(first_name,last_name))"
   ]
  },
  {
   "cell_type": "code",
   "execution_count": 145,
   "id": "f47fa7ab",
   "metadata": {},
   "outputs": [
    {
     "name": "stdout",
     "output_type": "stream",
     "text": [
      "my name is anuja kanawade\n"
     ]
    }
   ],
   "source": [
    "print(\"my name is %s %s\" %(first_name,last_name))"
   ]
  },
  {
   "cell_type": "code",
   "execution_count": 146,
   "id": "ad41317d",
   "metadata": {},
   "outputs": [
    {
     "ename": "ValueError",
     "evalue": "invalid literal for int() with base 10: 'anuja'",
     "output_type": "error",
     "traceback": [
      "\u001b[1;31m---------------------------------------------------------------------------\u001b[0m",
      "\u001b[1;31mValueError\u001b[0m                                Traceback (most recent call last)",
      "Cell \u001b[1;32mIn[146], line 2\u001b[0m\n\u001b[0;32m      1\u001b[0m a\u001b[38;5;241m=\u001b[39m\u001b[38;5;124m\"\u001b[39m\u001b[38;5;124manuja\u001b[39m\u001b[38;5;124m\"\u001b[39m\n\u001b[1;32m----> 2\u001b[0m b\u001b[38;5;241m=\u001b[39m\u001b[38;5;28;43mint\u001b[39;49m\u001b[43m(\u001b[49m\u001b[43ma\u001b[49m\u001b[43m)\u001b[49m\n\u001b[0;32m      3\u001b[0m \u001b[38;5;28mtype\u001b[39m(b)\n",
      "\u001b[1;31mValueError\u001b[0m: invalid literal for int() with base 10: 'anuja'"
     ]
    }
   ],
   "source": [
    "a=\"anuja\"\n",
    "b=int(a)\n",
    "type(b)"
   ]
  },
  {
   "cell_type": "code",
   "execution_count": 147,
   "id": "4a7e23fd",
   "metadata": {},
   "outputs": [
    {
     "data": {
      "text/plain": [
       "int"
      ]
     },
     "execution_count": 147,
     "metadata": {},
     "output_type": "execute_result"
    }
   ],
   "source": [
    "a=\"1234\"\n",
    "b=int(a)\n",
    "type(b)"
   ]
  },
  {
   "cell_type": "code",
   "execution_count": 148,
   "id": "d9bd3e18",
   "metadata": {},
   "outputs": [
    {
     "ename": "TypeError",
     "evalue": "int() argument must be a string, a bytes-like object or a real number, not 'complex'",
     "output_type": "error",
     "traceback": [
      "\u001b[1;31m---------------------------------------------------------------------------\u001b[0m",
      "\u001b[1;31mTypeError\u001b[0m                                 Traceback (most recent call last)",
      "Cell \u001b[1;32mIn[148], line 3\u001b[0m\n\u001b[0;32m      1\u001b[0m a\u001b[38;5;241m=\u001b[39m\u001b[38;5;241m5\u001b[39m\u001b[38;5;241m+\u001b[39m\u001b[38;5;241m3\u001b[39mj\n\u001b[0;32m      2\u001b[0m \u001b[38;5;28mtype\u001b[39m(a)\n\u001b[1;32m----> 3\u001b[0m b\u001b[38;5;241m=\u001b[39m\u001b[38;5;28;43mint\u001b[39;49m\u001b[43m(\u001b[49m\u001b[43ma\u001b[49m\u001b[43m)\u001b[49m\n\u001b[0;32m      4\u001b[0m \u001b[38;5;28mtype\u001b[39m(b)\n",
      "\u001b[1;31mTypeError\u001b[0m: int() argument must be a string, a bytes-like object or a real number, not 'complex'"
     ]
    }
   ],
   "source": [
    "a=5+3j\n",
    "type(a)\n",
    "b=int(a)\n",
    "type(b)"
   ]
  },
  {
   "cell_type": "markdown",
   "id": "5b7deb1d",
   "metadata": {},
   "source": [
    "# LIST "
   ]
  },
  {
   "cell_type": "raw",
   "id": "00cdf70d",
   "metadata": {},
   "source": [
    "[]\n",
    "built in data type \n",
    "contained mixed data items\n",
    "1-D\n",
    "ordered , mutable(changeable) , allows duplicates"
   ]
  },
  {
   "cell_type": "code",
   "execution_count": 149,
   "id": "f56acd4a",
   "metadata": {},
   "outputs": [],
   "source": [
    "l1=[\"anuja\",56,2.5,True] # mixed data items "
   ]
  },
  {
   "cell_type": "code",
   "execution_count": 150,
   "id": "7e4052b0",
   "metadata": {},
   "outputs": [
    {
     "data": {
      "text/plain": [
       "[56, 'anuja']"
      ]
     },
     "execution_count": 150,
     "metadata": {},
     "output_type": "execute_result"
    }
   ],
   "source": [
    "l1[1::-1]"
   ]
  },
  {
   "cell_type": "code",
   "execution_count": 151,
   "id": "13d2af83",
   "metadata": {},
   "outputs": [
    {
     "name": "stdout",
     "output_type": "stream",
     "text": [
      "['anuja', 0, 2.5, True]\n"
     ]
    }
   ],
   "source": [
    "l1[1]=0\n",
    "print(l1) # changeable"
   ]
  },
  {
   "cell_type": "code",
   "execution_count": 152,
   "id": "fc05db1f",
   "metadata": {},
   "outputs": [
    {
     "name": "stdout",
     "output_type": "stream",
     "text": [
      "['anuja', 0, 2.5, 2.5, True]\n"
     ]
    }
   ],
   "source": [
    "l1.insert(3,2.5) # only at particular index (index,element to add)\n",
    "print(l1)"
   ]
  },
  {
   "cell_type": "code",
   "execution_count": 153,
   "id": "8ec2a824",
   "metadata": {},
   "outputs": [
    {
     "data": {
      "text/plain": [
       "['anuja', 'a', 'b', 2.5, True]"
      ]
     },
     "execution_count": 153,
     "metadata": {},
     "output_type": "execute_result"
    }
   ],
   "source": [
    "l1[1:3]=[\"a\",\"b\"]\n",
    "l1"
   ]
  },
  {
   "cell_type": "code",
   "execution_count": 154,
   "id": "e339c52b",
   "metadata": {},
   "outputs": [],
   "source": [
    "list1=[\"pune\",\"mumbai\",100,333,22.34,90.89,True,\"Delhi\",\"Red\",45]"
   ]
  },
  {
   "cell_type": "code",
   "execution_count": 155,
   "id": "ec3edb97",
   "metadata": {},
   "outputs": [
    {
     "data": {
      "text/plain": [
       "['mumbai', 100, 333]"
      ]
     },
     "execution_count": 155,
     "metadata": {},
     "output_type": "execute_result"
    }
   ],
   "source": [
    "list1[1:4]"
   ]
  },
  {
   "cell_type": "code",
   "execution_count": 156,
   "id": "d548e0f3",
   "metadata": {},
   "outputs": [
    {
     "data": {
      "text/plain": [
       "[90.89, True, 'Delhi']"
      ]
     },
     "execution_count": 156,
     "metadata": {},
     "output_type": "execute_result"
    }
   ],
   "source": [
    "list1[5:8]"
   ]
  },
  {
   "cell_type": "code",
   "execution_count": 157,
   "id": "b8a5c391",
   "metadata": {},
   "outputs": [
    {
     "data": {
      "text/plain": [
       "['Red', 45]"
      ]
     },
     "execution_count": 157,
     "metadata": {},
     "output_type": "execute_result"
    }
   ],
   "source": [
    "list1[-2:]"
   ]
  },
  {
   "cell_type": "code",
   "execution_count": 158,
   "id": "84e53faa",
   "metadata": {},
   "outputs": [
    {
     "data": {
      "text/plain": [
       "['pune', 'mumbai', 100, 333]"
      ]
     },
     "execution_count": 158,
     "metadata": {},
     "output_type": "execute_result"
    }
   ],
   "source": [
    "list1[:4]"
   ]
  },
  {
   "cell_type": "code",
   "execution_count": 159,
   "id": "95dcf56a",
   "metadata": {},
   "outputs": [],
   "source": [
    "list1.insert(7,\"bangalore\")"
   ]
  },
  {
   "cell_type": "code",
   "execution_count": 160,
   "id": "92492335",
   "metadata": {
    "scrolled": true
   },
   "outputs": [
    {
     "data": {
      "text/plain": [
       "['pune',\n",
       " 'mumbai',\n",
       " 100,\n",
       " 333,\n",
       " 22.34,\n",
       " 90.89,\n",
       " True,\n",
       " 'bangalore',\n",
       " 'Delhi',\n",
       " 'Red',\n",
       " 45]"
      ]
     },
     "execution_count": 160,
     "metadata": {},
     "output_type": "execute_result"
    }
   ],
   "source": [
    "list1"
   ]
  },
  {
   "cell_type": "code",
   "execution_count": 161,
   "id": "a6686312",
   "metadata": {},
   "outputs": [
    {
     "data": {
      "text/plain": [
       "['pune',\n",
       " 'mumbai',\n",
       " 100,\n",
       " 333,\n",
       " 22.34,\n",
       " 90.89,\n",
       " True,\n",
       " 'bangalore',\n",
       " 'Delhi',\n",
       " 'black',\n",
       " 45]"
      ]
     },
     "execution_count": 161,
     "metadata": {},
     "output_type": "execute_result"
    }
   ],
   "source": [
    "list1[-2] =\"black\"\n",
    "list1"
   ]
  },
  {
   "cell_type": "code",
   "execution_count": 162,
   "id": "0a8d2146",
   "metadata": {},
   "outputs": [],
   "source": [
    "list1[1:4]=[\"india\",\"chennai\",\"noida\"]"
   ]
  },
  {
   "cell_type": "code",
   "execution_count": 163,
   "id": "88abcb38",
   "metadata": {},
   "outputs": [
    {
     "data": {
      "text/plain": [
       "['pune',\n",
       " 'india',\n",
       " 'chennai',\n",
       " 'noida',\n",
       " 22.34,\n",
       " 90.89,\n",
       " True,\n",
       " 'bangalore',\n",
       " 'Delhi',\n",
       " 'black',\n",
       " 45]"
      ]
     },
     "execution_count": 163,
     "metadata": {},
     "output_type": "execute_result"
    }
   ],
   "source": [
    "list1"
   ]
  },
  {
   "cell_type": "code",
   "execution_count": 164,
   "id": "66776a5b",
   "metadata": {},
   "outputs": [],
   "source": [
    "list1.append(1000)"
   ]
  },
  {
   "cell_type": "code",
   "execution_count": 165,
   "id": "de9e9928",
   "metadata": {},
   "outputs": [
    {
     "name": "stdout",
     "output_type": "stream",
     "text": [
      "['pune', 'india', 'chennai', 'noida', 22.34, 90.89, True, 'bangalore', 'Delhi', 'black', 45, 1000]\n"
     ]
    }
   ],
   "source": [
    "print(list1)"
   ]
  },
  {
   "cell_type": "code",
   "execution_count": 166,
   "id": "c4c7b802",
   "metadata": {},
   "outputs": [
    {
     "name": "stdout",
     "output_type": "stream",
     "text": [
      "[1, 2, 3, 4, 5, 6]\n"
     ]
    }
   ],
   "source": [
    "a1=[1,2,3]\n",
    "a2=[4,5,6]\n",
    "a1.extend(a2)\n",
    "print(a1)"
   ]
  },
  {
   "cell_type": "code",
   "execution_count": 167,
   "id": "62e15844",
   "metadata": {},
   "outputs": [],
   "source": [
    "a1.append(a2)"
   ]
  },
  {
   "cell_type": "code",
   "execution_count": 168,
   "id": "27ec28e4",
   "metadata": {},
   "outputs": [
    {
     "data": {
      "text/plain": [
       "[1, 2, 3, 4, 5, 6, [4, 5, 6]]"
      ]
     },
     "execution_count": 168,
     "metadata": {},
     "output_type": "execute_result"
    }
   ],
   "source": [
    "a1"
   ]
  },
  {
   "cell_type": "markdown",
   "id": "30db4f9b",
   "metadata": {},
   "source": [
    "# Adding elements to list - insert , append , extend \n",
    "\n",
    "insert - add element at particular location .\n",
    "        can add only single element.at particular loc.\n",
    "        u can also add whole list bt that will become nested list.\n",
    "        \n",
    "append - add element last position\n",
    "\n",
    "extend - add elements combine elements of 2 lists"
   ]
  },
  {
   "cell_type": "markdown",
   "id": "abf1e4c4",
   "metadata": {},
   "source": [
    "# remove(),pop(),del(),clear(),"
   ]
  },
  {
   "cell_type": "code",
   "execution_count": 169,
   "id": "42127e48",
   "metadata": {},
   "outputs": [
    {
     "name": "stdout",
     "output_type": "stream",
     "text": [
      "['pune', 'india', 'chennai', 'noida', 22.34, 90.89, True, 'bangalore', 'Delhi', 'black', 45, 1000]\n"
     ]
    }
   ],
   "source": [
    "print(list1)"
   ]
  },
  {
   "cell_type": "code",
   "execution_count": 170,
   "id": "326fe825",
   "metadata": {},
   "outputs": [],
   "source": [
    "list1.remove(\"pune\")"
   ]
  },
  {
   "cell_type": "code",
   "execution_count": 171,
   "id": "2b2df0e9",
   "metadata": {},
   "outputs": [
    {
     "name": "stdout",
     "output_type": "stream",
     "text": [
      "['india', 'chennai', 'noida', 22.34, 90.89, True, 'bangalore', 'Delhi', 'black', 45, 1000]\n"
     ]
    }
   ],
   "source": [
    "print(list1)"
   ]
  },
  {
   "cell_type": "code",
   "execution_count": 172,
   "id": "21cfdb69",
   "metadata": {},
   "outputs": [
    {
     "name": "stdout",
     "output_type": "stream",
     "text": [
      "['chennai', 'noida', 22.34, 90.89, True, 'bangalore', 'Delhi', 'black', 45, 1000]\n"
     ]
    }
   ],
   "source": [
    "list1.pop(0)\n",
    "print(list1)"
   ]
  },
  {
   "cell_type": "code",
   "execution_count": 173,
   "id": "c3cbdc0b",
   "metadata": {},
   "outputs": [
    {
     "data": {
      "text/plain": [
       "1000"
      ]
     },
     "execution_count": 173,
     "metadata": {},
     "output_type": "execute_result"
    }
   ],
   "source": [
    "list1.pop() # by default last element del"
   ]
  },
  {
   "cell_type": "code",
   "execution_count": 174,
   "id": "807b95e7",
   "metadata": {},
   "outputs": [
    {
     "name": "stdout",
     "output_type": "stream",
     "text": [
      "['chennai', 'noida', 22.34, 90.89, True, 'bangalore', 'Delhi', 'black', 45]\n"
     ]
    }
   ],
   "source": [
    "print(list1)"
   ]
  },
  {
   "cell_type": "code",
   "execution_count": 175,
   "id": "2e8349c2",
   "metadata": {},
   "outputs": [
    {
     "name": "stdout",
     "output_type": "stream",
     "text": [
      "['noida', 22.34, 90.89, True, 'bangalore', 'Delhi', 'black', 45]\n"
     ]
    }
   ],
   "source": [
    "del list1[0]\n",
    "print(list1)"
   ]
  },
  {
   "cell_type": "code",
   "execution_count": 176,
   "id": "ab0a6514",
   "metadata": {},
   "outputs": [],
   "source": [
    "del list1 #delete list"
   ]
  },
  {
   "cell_type": "code",
   "execution_count": 177,
   "id": "c9d982cf",
   "metadata": {},
   "outputs": [
    {
     "ename": "NameError",
     "evalue": "name 'list1' is not defined",
     "output_type": "error",
     "traceback": [
      "\u001b[1;31m---------------------------------------------------------------------------\u001b[0m",
      "\u001b[1;31mNameError\u001b[0m                                 Traceback (most recent call last)",
      "Cell \u001b[1;32mIn[177], line 1\u001b[0m\n\u001b[1;32m----> 1\u001b[0m \u001b[38;5;28mprint\u001b[39m(\u001b[43mlist1\u001b[49m)\n",
      "\u001b[1;31mNameError\u001b[0m: name 'list1' is not defined"
     ]
    }
   ],
   "source": [
    "print(list1)"
   ]
  },
  {
   "cell_type": "code",
   "execution_count": 178,
   "id": "20092e2d",
   "metadata": {},
   "outputs": [],
   "source": [
    "l1=['chennai', 'noida', 22.34, 90.89, True, 'bangalore', 'Delhi', 'black', 45, 1000]"
   ]
  },
  {
   "cell_type": "code",
   "execution_count": 179,
   "id": "0444632b",
   "metadata": {},
   "outputs": [
    {
     "name": "stdout",
     "output_type": "stream",
     "text": [
      "[]\n"
     ]
    }
   ],
   "source": [
    "l1.clear() # only delete elements not list\n",
    "print(l1)"
   ]
  },
  {
   "cell_type": "code",
   "execution_count": 193,
   "id": "d7bfa147",
   "metadata": {},
   "outputs": [],
   "source": [
    "a1=[\"anuja\",\"i\", \"am\",\"happy\"]"
   ]
  },
  {
   "cell_type": "code",
   "execution_count": 194,
   "id": "5f5874ac",
   "metadata": {},
   "outputs": [
    {
     "name": "stdout",
     "output_type": "stream",
     "text": [
      "['anuja', 'am', 'happy']\n"
     ]
    }
   ],
   "source": [
    "print([x for x in a1 if \"a\" in x])"
   ]
  },
  {
   "cell_type": "code",
   "execution_count": 196,
   "id": "9eff834a",
   "metadata": {},
   "outputs": [
    {
     "name": "stdout",
     "output_type": "stream",
     "text": [
      "['am', 'anuja', 'happy', 'i']\n"
     ]
    }
   ],
   "source": [
    "a1.sort() # to use sort ur list must have same data type\n",
    "print(a1) # default ascending "
   ]
  },
  {
   "cell_type": "code",
   "execution_count": 197,
   "id": "68bf0463",
   "metadata": {},
   "outputs": [
    {
     "name": "stdout",
     "output_type": "stream",
     "text": [
      "['i', 'happy', 'anuja', 'am']\n"
     ]
    }
   ],
   "source": [
    "a1.sort(reverse=True)\n",
    "print(a1)"
   ]
  },
  {
   "cell_type": "code",
   "execution_count": 198,
   "id": "efa1ffc6",
   "metadata": {},
   "outputs": [
    {
     "data": {
      "text/plain": [
       "['am', 'anuja', 'happy', 'i']"
      ]
     },
     "execution_count": 198,
     "metadata": {},
     "output_type": "execute_result"
    }
   ],
   "source": [
    "a1.reverse()\n",
    "a1"
   ]
  },
  {
   "cell_type": "code",
   "execution_count": 199,
   "id": "f3177a23",
   "metadata": {},
   "outputs": [
    {
     "data": {
      "text/plain": [
       "['i', 'happy', 'anuja', 'am']"
      ]
     },
     "execution_count": 199,
     "metadata": {},
     "output_type": "execute_result"
    }
   ],
   "source": [
    "a1.reverse()\n",
    "a1"
   ]
  },
  {
   "cell_type": "raw",
   "id": "2e2af2e1",
   "metadata": {},
   "source": [
    "copy = original data is not changed"
   ]
  },
  {
   "cell_type": "code",
   "execution_count": 202,
   "id": "a2f15ddd",
   "metadata": {},
   "outputs": [],
   "source": [
    "a2=a1.copy()"
   ]
  },
  {
   "cell_type": "code",
   "execution_count": 205,
   "id": "cb8da622",
   "metadata": {},
   "outputs": [],
   "source": [
    "a2[0] = 12"
   ]
  },
  {
   "cell_type": "code",
   "execution_count": 207,
   "id": "f090365e",
   "metadata": {},
   "outputs": [
    {
     "name": "stdout",
     "output_type": "stream",
     "text": [
      "['i', 'happy', 'anuja', 'am']\n",
      "[12, 'happy', 'anuja', 'am']\n"
     ]
    }
   ],
   "source": [
    "print(a1)\n",
    "print(a2)"
   ]
  },
  {
   "cell_type": "code",
   "execution_count": 208,
   "id": "20988610",
   "metadata": {},
   "outputs": [
    {
     "name": "stdout",
     "output_type": "stream",
     "text": [
      "['i', 'happy', 'anuja', 'am', 12, 'happy', 'anuja', 'am']\n"
     ]
    }
   ],
   "source": [
    "a3 = a1+a2\n",
    "print(a3)"
   ]
  },
  {
   "cell_type": "code",
   "execution_count": 13,
   "id": "f1d1918e",
   "metadata": {},
   "outputs": [
    {
     "name": "stdout",
     "output_type": "stream",
     "text": [
      "['mumbai-pune', 'india', 'chennai', 'noida', 22.34, 90.89, True, 'bangalore', 'Delhi', 'black', 45, 1000]\n",
      "['pune', 'india', 'chennai', 'noida', 22.34, 90.89, True, 'bangalore', 'Delhi', 'black', 45, 1000]\n"
     ]
    }
   ],
   "source": [
    "a3[0] = \"mumbai-pune\"\n",
    "print(a3)\n",
    "print(a1)"
   ]
  },
  {
   "cell_type": "markdown",
   "id": "23edca80",
   "metadata": {},
   "source": [
    "## take one list do remove,clear,del ,append, extend\n",
    "concatenation operation"
   ]
  },
  {
   "cell_type": "code",
   "execution_count": 1,
   "id": "22237875",
   "metadata": {},
   "outputs": [
    {
     "name": "stdout",
     "output_type": "stream",
     "text": [
      "['chennai', 'noida', 22.34, 90.89, True, 'Delhi', 'black', 45, 1000]\n"
     ]
    }
   ],
   "source": [
    "l1=['chennai', 'noida', 22.34, 90.89, True,'Delhi', 'black', 45, 1000]\n",
    "print(l1)"
   ]
  },
  {
   "cell_type": "code",
   "execution_count": 2,
   "id": "e6620235",
   "metadata": {},
   "outputs": [
    {
     "name": "stdout",
     "output_type": "stream",
     "text": [
      "['chennai', 'noida', 90.89, True, 'Delhi', 'black', 45, 1000]\n"
     ]
    }
   ],
   "source": [
    "l1.remove(22.34)\n",
    "print(l1)"
   ]
  },
  {
   "cell_type": "code",
   "execution_count": 5,
   "id": "fcf145e1",
   "metadata": {},
   "outputs": [
    {
     "name": "stdout",
     "output_type": "stream",
     "text": [
      "['noida', 90.89, True, 'Delhi', 'black', 45, 1000]\n"
     ]
    }
   ],
   "source": [
    "del l1[0]\n",
    "print(l1)"
   ]
  },
  {
   "cell_type": "code",
   "execution_count": 8,
   "id": "41a7a372",
   "metadata": {},
   "outputs": [],
   "source": [
    "l1.clear()"
   ]
  },
  {
   "cell_type": "code",
   "execution_count": 9,
   "id": "d5f055c6",
   "metadata": {},
   "outputs": [
    {
     "name": "stdout",
     "output_type": "stream",
     "text": [
      "[]\n"
     ]
    }
   ],
   "source": [
    "print(l1)"
   ]
  },
  {
   "cell_type": "code",
   "execution_count": 12,
   "id": "fbc16c73",
   "metadata": {},
   "outputs": [],
   "source": [
    "l1.append(\"anuja\")"
   ]
  },
  {
   "cell_type": "code",
   "execution_count": 13,
   "id": "5b072e4f",
   "metadata": {},
   "outputs": [
    {
     "name": "stdout",
     "output_type": "stream",
     "text": [
      "['anuja']\n"
     ]
    }
   ],
   "source": [
    "print(l1)"
   ]
  },
  {
   "cell_type": "code",
   "execution_count": 14,
   "id": "2fa6429d",
   "metadata": {},
   "outputs": [],
   "source": [
    "l2=[2,3,4]"
   ]
  },
  {
   "cell_type": "code",
   "execution_count": 15,
   "id": "e9e31bdd",
   "metadata": {},
   "outputs": [],
   "source": [
    "l1.extend(l2)"
   ]
  },
  {
   "cell_type": "code",
   "execution_count": 16,
   "id": "fd88b897",
   "metadata": {},
   "outputs": [
    {
     "name": "stdout",
     "output_type": "stream",
     "text": [
      "['anuja', 2, 3, 4]\n"
     ]
    }
   ],
   "source": [
    "print(l1)"
   ]
  },
  {
   "cell_type": "code",
   "execution_count": 18,
   "id": "f981044f",
   "metadata": {},
   "outputs": [],
   "source": [
    "l3=['anuja', 2, 3, 4]"
   ]
  },
  {
   "cell_type": "code",
   "execution_count": 19,
   "id": "7a65e2bf",
   "metadata": {},
   "outputs": [
    {
     "name": "stdout",
     "output_type": "stream",
     "text": [
      "['anuja', 2, 3, 4, 'anuja', 2, 3, 4]\n"
     ]
    }
   ],
   "source": [
    "print(l1+l3)"
   ]
  },
  {
   "cell_type": "markdown",
   "id": "68b79b66",
   "metadata": {},
   "source": [
    "## tuple"
   ]
  },
  {
   "cell_type": "code",
   "execution_count": 29,
   "id": "38a255dc",
   "metadata": {},
   "outputs": [],
   "source": [
    "#()\n",
    "#mixed data types\n",
    "#immutable /unchangeble\n",
    "#ordered preserve\n",
    "#can not remove element\n",
    "#1-d\n",
    "#allows duplicates"
   ]
  },
  {
   "cell_type": "markdown",
   "id": "a7662e37",
   "metadata": {},
   "source": [
    "(),ordered,duplicates allowed\n",
    "mix data types,\n",
    "immutable(cant add or remove elements , (clear,append,insert not works)\n",
    "only del method work with tuple\n"
   ]
  },
  {
   "cell_type": "code",
   "execution_count": 33,
   "id": "ac6cdd86",
   "metadata": {},
   "outputs": [],
   "source": [
    "#here u can do indexing like list\n",
    "t=tuple((1,\"anuja\",True)) \n",
    "# for passing elements directly in tuple there must be (( ))\n",
    "# in single () bracket just need to write single obj."
   ]
  },
  {
   "cell_type": "code",
   "execution_count": 37,
   "id": "3c205482",
   "metadata": {},
   "outputs": [
    {
     "ename": "TypeError",
     "evalue": "tuple expected at most 1 argument, got 3",
     "output_type": "error",
     "traceback": [
      "\u001b[1;31m---------------------------------------------------------------------------\u001b[0m",
      "\u001b[1;31mTypeError\u001b[0m                                 Traceback (most recent call last)",
      "Cell \u001b[1;32mIn[37], line 1\u001b[0m\n\u001b[1;32m----> 1\u001b[0m t\u001b[38;5;241m=\u001b[39m\u001b[38;5;28;43mtuple\u001b[39;49m\u001b[43m(\u001b[49m\u001b[38;5;241;43m1\u001b[39;49m\u001b[43m,\u001b[49m\u001b[38;5;124;43m\"\u001b[39;49m\u001b[38;5;124;43manuja\u001b[39;49m\u001b[38;5;124;43m\"\u001b[39;49m\u001b[43m,\u001b[49m\u001b[38;5;28;43;01mTrue\u001b[39;49;00m\u001b[43m)\u001b[49m\n",
      "\u001b[1;31mTypeError\u001b[0m: tuple expected at most 1 argument, got 3"
     ]
    }
   ],
   "source": [
    "t=tuple(1,\"anuja\",True)"
   ]
  },
  {
   "cell_type": "code",
   "execution_count": 38,
   "id": "a571d948",
   "metadata": {},
   "outputs": [],
   "source": [
    "t=(1,\"anuja\",True)"
   ]
  },
  {
   "cell_type": "code",
   "execution_count": 39,
   "id": "857e5cd8",
   "metadata": {},
   "outputs": [
    {
     "name": "stdout",
     "output_type": "stream",
     "text": [
      "(1, 'anuja', True)\n"
     ]
    }
   ],
   "source": [
    "mytuple=tuple(t)\n",
    "print(mytuple)"
   ]
  },
  {
   "cell_type": "code",
   "execution_count": 34,
   "id": "f87db302",
   "metadata": {},
   "outputs": [],
   "source": [
    "t1 = ('physics', 'chemistry', 1997, 2000)"
   ]
  },
  {
   "cell_type": "code",
   "execution_count": 25,
   "id": "d1ad320b",
   "metadata": {},
   "outputs": [
    {
     "name": "stdout",
     "output_type": "stream",
     "text": [
      "aaa\n",
      "vvv\n",
      "mmm\n"
     ]
    }
   ],
   "source": [
    "#unpacking of tuple this can be use with others data types\n",
    "t3=(\"aaa\",\"vvv\",\"mmm\")\n",
    "(ttt,sss,ppp)=t3\n",
    "\n",
    "# ttt , sss this are elements & \"aaa\" this are lables .\n",
    "#you can only access lables using elements \n",
    "\n",
    "print(ttt)\n",
    "print(sss)\n",
    "print(ppp)"
   ]
  },
  {
   "cell_type": "code",
   "execution_count": 27,
   "id": "6ee68049",
   "metadata": {},
   "outputs": [
    {
     "name": "stdout",
     "output_type": "stream",
     "text": [
      "('physics', 'chemistry', 1997, 2000, 'aaa', 'vvv', 'mmm')\n"
     ]
    }
   ],
   "source": [
    "t4=t1+t3\n",
    "print(t4)"
   ]
  },
  {
   "cell_type": "code",
   "execution_count": 28,
   "id": "47c9c1d4",
   "metadata": {},
   "outputs": [
    {
     "name": "stdout",
     "output_type": "stream",
     "text": [
      "('physics', 'chemistry', 1997, 2000, 'physics', 'chemistry', 1997, 2000)\n"
     ]
    }
   ],
   "source": [
    "t5 = t1*2\n",
    "print(t5)"
   ]
  },
  {
   "cell_type": "code",
   "execution_count": 14,
   "id": "982f4f65",
   "metadata": {},
   "outputs": [
    {
     "name": "stdout",
     "output_type": "stream",
     "text": [
      "1---2---[3, 4, 5, 6, 7, 8]---9\n"
     ]
    }
   ],
   "source": [
    "a, b, *c, d = [1, 2, 3, 4, 5, 6, 7, 8, 9]\n",
    "print(a , b ,c, d , sep=\"---\")\n"
   ]
  },
  {
   "cell_type": "markdown",
   "id": "5bfd8bd8",
   "metadata": {},
   "source": [
    "## set"
   ]
  },
  {
   "cell_type": "markdown",
   "id": "9aa276ad",
   "metadata": {},
   "source": [
    "### add , update , remove, discard, pop,clear,del,union,intersection,symmetric_difference"
   ]
  },
  {
   "cell_type": "code",
   "execution_count": null,
   "id": "d43cd214",
   "metadata": {},
   "outputs": [],
   "source": [
    "#{}\n",
    "#unordered\n",
    "#immutable,unchangeable\n",
    "#no-duplicates\n",
    "#mix-data types\n",
    "#unindexed(can't do indexing)"
   ]
  },
  {
   "cell_type": "code",
   "execution_count": 64,
   "id": "90b264dc",
   "metadata": {},
   "outputs": [
    {
     "name": "stdout",
     "output_type": "stream",
     "text": [
      "{True, 5, 'aaa', 9, 'bbb'}\n"
     ]
    }
   ],
   "source": [
    "s1={\"aaa\",\"bbb\",True,5,9}\n",
    "print(s1) # unoredered"
   ]
  },
  {
   "cell_type": "code",
   "execution_count": 65,
   "id": "4e69cf9c",
   "metadata": {},
   "outputs": [
    {
     "name": "stdout",
     "output_type": "stream",
     "text": [
      "{'anu', 'bat', 1999}\n"
     ]
    }
   ],
   "source": [
    "s2=set((\"anu\",\"bat\",1999)) # set constructor\n",
    "print(s2)"
   ]
  },
  {
   "cell_type": "code",
   "execution_count": 66,
   "id": "f7ce66e1",
   "metadata": {},
   "outputs": [
    {
     "name": "stdout",
     "output_type": "stream",
     "text": [
      "<class 'set'>\n"
     ]
    }
   ],
   "source": [
    "print(type(s2))"
   ]
  },
  {
   "cell_type": "code",
   "execution_count": 67,
   "id": "ac303653",
   "metadata": {},
   "outputs": [
    {
     "data": {
      "text/plain": [
       "{5, 9, True, 'aaa', 'apple', 'bbb'}"
      ]
     },
     "execution_count": 67,
     "metadata": {},
     "output_type": "execute_result"
    }
   ],
   "source": [
    "s1.add(\"apple\")\n",
    "s1"
   ]
  },
  {
   "cell_type": "code",
   "execution_count": 68,
   "id": "2b34f77c",
   "metadata": {},
   "outputs": [
    {
     "data": {
      "text/plain": [
       "{1999, 5, 9, True, 'aaa', 'anu', 'apple', 'bat', 'bbb'}"
      ]
     },
     "execution_count": 68,
     "metadata": {},
     "output_type": "execute_result"
    }
   ],
   "source": [
    "s1.update(s2)\n",
    "s1 # s2's elements will be added to s1\n",
    "#duplicate elements not added"
   ]
  },
  {
   "cell_type": "code",
   "execution_count": 69,
   "id": "6df3e843",
   "metadata": {},
   "outputs": [
    {
     "name": "stdout",
     "output_type": "stream",
     "text": [
      "{True, 'bat', 5, 'aaa', 9, 'bbb', 'anu', 'apple'}\n"
     ]
    }
   ],
   "source": [
    "s1.remove(1999)\n",
    "print(s1)\n",
    "# if item not in memory after removing then remove throws error\n",
    "# again apply remove on same element throws error"
   ]
  },
  {
   "cell_type": "code",
   "execution_count": 71,
   "id": "b7619079",
   "metadata": {},
   "outputs": [
    {
     "ename": "KeyError",
     "evalue": "1999",
     "output_type": "error",
     "traceback": [
      "\u001b[1;31m---------------------------------------------------------------------------\u001b[0m",
      "\u001b[1;31mKeyError\u001b[0m                                  Traceback (most recent call last)",
      "Cell \u001b[1;32mIn[71], line 1\u001b[0m\n\u001b[1;32m----> 1\u001b[0m \u001b[43ms1\u001b[49m\u001b[38;5;241;43m.\u001b[39;49m\u001b[43mremove\u001b[49m\u001b[43m(\u001b[49m\u001b[38;5;241;43m1999\u001b[39;49m\u001b[43m)\u001b[49m\n",
      "\u001b[1;31mKeyError\u001b[0m: 1999"
     ]
    }
   ],
   "source": [
    "s1.remove(1999)"
   ]
  },
  {
   "cell_type": "code",
   "execution_count": 70,
   "id": "32fdd1f5",
   "metadata": {},
   "outputs": [
    {
     "name": "stdout",
     "output_type": "stream",
     "text": [
      "{'bat', 5, 'aaa', 9, 'bbb', 'anu', 'apple'}\n"
     ]
    }
   ],
   "source": [
    "s1.discard(True)\n",
    "print(s1)\n",
    "# not throws error"
   ]
  },
  {
   "cell_type": "code",
   "execution_count": 72,
   "id": "de6cea5e",
   "metadata": {},
   "outputs": [],
   "source": [
    "s1.discard(1999) # not throwed error & run successfully as still 1999 is del"
   ]
  },
  {
   "cell_type": "code",
   "execution_count": 57,
   "id": "0d4c2cd9",
   "metadata": {},
   "outputs": [
    {
     "data": {
      "text/plain": [
       "'bat'"
      ]
     },
     "execution_count": 57,
     "metadata": {},
     "output_type": "execute_result"
    }
   ],
   "source": [
    "s1.pop() # removes random element... so here it removes \"bat\""
   ]
  },
  {
   "cell_type": "code",
   "execution_count": 58,
   "id": "6887e6d4",
   "metadata": {},
   "outputs": [],
   "source": [
    "s1.clear() # del elements bt structure remains as it is"
   ]
  },
  {
   "cell_type": "code",
   "execution_count": 59,
   "id": "ce8bcd80",
   "metadata": {},
   "outputs": [
    {
     "data": {
      "text/plain": [
       "set()"
      ]
     },
     "execution_count": 59,
     "metadata": {},
     "output_type": "execute_result"
    }
   ],
   "source": [
    "s1"
   ]
  },
  {
   "cell_type": "code",
   "execution_count": 60,
   "id": "25c96012",
   "metadata": {},
   "outputs": [],
   "source": [
    "del s1 # delete the structure of set "
   ]
  },
  {
   "cell_type": "code",
   "execution_count": 61,
   "id": "64b96bef",
   "metadata": {},
   "outputs": [
    {
     "ename": "NameError",
     "evalue": "name 's1' is not defined",
     "output_type": "error",
     "traceback": [
      "\u001b[1;31m---------------------------------------------------------------------------\u001b[0m",
      "\u001b[1;31mNameError\u001b[0m                                 Traceback (most recent call last)",
      "Cell \u001b[1;32mIn[61], line 1\u001b[0m\n\u001b[1;32m----> 1\u001b[0m \u001b[43ms1\u001b[49m\n",
      "\u001b[1;31mNameError\u001b[0m: name 's1' is not defined"
     ]
    }
   ],
   "source": [
    "s1"
   ]
  },
  {
   "cell_type": "code",
   "execution_count": 73,
   "id": "86d2129e",
   "metadata": {},
   "outputs": [],
   "source": [
    "s1={1,2,3,4}\n",
    "s2={\"a\",\"b\",5,9}"
   ]
  },
  {
   "cell_type": "code",
   "execution_count": 74,
   "id": "5d809ec7",
   "metadata": {},
   "outputs": [
    {
     "data": {
      "text/plain": [
       "{1, 2, 3, 4, 5, 9, 'a', 'b'}"
      ]
     },
     "execution_count": 74,
     "metadata": {},
     "output_type": "execute_result"
    }
   ],
   "source": [
    "s1.union(s2)"
   ]
  },
  {
   "cell_type": "code",
   "execution_count": 75,
   "id": "4a39bb74",
   "metadata": {},
   "outputs": [
    {
     "data": {
      "text/plain": [
       "set()"
      ]
     },
     "execution_count": 75,
     "metadata": {},
     "output_type": "execute_result"
    }
   ],
   "source": [
    "z=s1.intersection(s2)\n",
    "z"
   ]
  },
  {
   "cell_type": "code",
   "execution_count": 76,
   "id": "686c9e8c",
   "metadata": {},
   "outputs": [
    {
     "data": {
      "text/plain": [
       "{1, 2, 3, 4, 5, 9, 'a', 'b'}"
      ]
     },
     "execution_count": 76,
     "metadata": {},
     "output_type": "execute_result"
    }
   ],
   "source": [
    "z1=s1.symmetric_difference(s2)\n",
    "z1"
   ]
  },
  {
   "cell_type": "markdown",
   "id": "e60c7cab",
   "metadata": {},
   "source": [
    "##### Sets can be combined using mathematical operations.\n",
    "\n",
    "The union operator **|** combines two sets to form a new one containing items in either. \n",
    "\n",
    "The intersection operator **&** gets items only in both. \n",
    "\n",
    "The difference operator **-** gets items in the first set but not in the second. \n",
    "\n",
    "The symmetric difference operator **^** gets items in either set, but not both. "
   ]
  },
  {
   "cell_type": "code",
   "execution_count": 15,
   "id": "dd7c0dc4",
   "metadata": {},
   "outputs": [
    {
     "name": "stdout",
     "output_type": "stream",
     "text": [
      "{1, 2, 3, 4, 5, 6, 7, 8, 9}\n",
      "{4, 5, 6}\n",
      "{1, 2, 3}\n",
      "{8, 9, 7}\n",
      "{1, 2, 3, 7, 8, 9}\n"
     ]
    }
   ],
   "source": [
    "first = {1, 2, 3, 4, 5, 6}\n",
    "second = {4, 5, 6, 7, 8, 9}\n",
    "\n",
    "print(first | second)\n",
    "print(first & second)\n",
    "print(first - second)\n",
    "print(second - first)\n",
    "print(first ^ second)"
   ]
  },
  {
   "cell_type": "markdown",
   "id": "89d49467",
   "metadata": {},
   "source": [
    "# tuple`task"
   ]
  },
  {
   "cell_type": "code",
   "execution_count": 1,
   "id": "a17fef79",
   "metadata": {},
   "outputs": [
    {
     "data": {
      "text/plain": [
       "tuple"
      ]
     },
     "execution_count": 1,
     "metadata": {},
     "output_type": "execute_result"
    }
   ],
   "source": [
    "a1=(\"anuja\",\"anuja\",1,2,1)#mixed data types ,allows duplicates\n",
    "type(a1)"
   ]
  },
  {
   "cell_type": "code",
   "execution_count": 3,
   "id": "ae0b5b12",
   "metadata": {},
   "outputs": [
    {
     "name": "stdout",
     "output_type": "stream",
     "text": [
      "('anuja', 'anuja', 1, 2, 1)\n"
     ]
    }
   ],
   "source": [
    "print(a1) #ordered preserve"
   ]
  },
  {
   "cell_type": "code",
   "execution_count": 2,
   "id": "cebf8b5e",
   "metadata": {
    "scrolled": true
   },
   "outputs": [
    {
     "ename": "TypeError",
     "evalue": "'tuple' object does not support item assignment",
     "output_type": "error",
     "traceback": [
      "\u001b[1;31m---------------------------------------------------------------------------\u001b[0m",
      "\u001b[1;31mTypeError\u001b[0m                                 Traceback (most recent call last)",
      "Cell \u001b[1;32mIn[2], line 1\u001b[0m\n\u001b[1;32m----> 1\u001b[0m a1[\u001b[38;5;241m0\u001b[39m]\u001b[38;5;241m=\u001b[39m\u001b[38;5;124m\"\u001b[39m\u001b[38;5;124mdiksha\u001b[39m\u001b[38;5;124m\"\u001b[39m\n",
      "\u001b[1;31mTypeError\u001b[0m: 'tuple' object does not support item assignment"
     ]
    }
   ],
   "source": [
    "a1[0]=\"diksha\" #immutable /unchangeble"
   ]
  },
  {
   "cell_type": "code",
   "execution_count": 6,
   "id": "28a9f00f",
   "metadata": {},
   "outputs": [
    {
     "ename": "TypeError",
     "evalue": "'tuple' object doesn't support item deletion",
     "output_type": "error",
     "traceback": [
      "\u001b[1;31m---------------------------------------------------------------------------\u001b[0m",
      "\u001b[1;31mTypeError\u001b[0m                                 Traceback (most recent call last)",
      "Cell \u001b[1;32mIn[6], line 1\u001b[0m\n\u001b[1;32m----> 1\u001b[0m \u001b[38;5;28;01mdel\u001b[39;00m a1[\u001b[38;5;241m0\u001b[39m]\n",
      "\u001b[1;31mTypeError\u001b[0m: 'tuple' object doesn't support item deletion"
     ]
    }
   ],
   "source": [
    "del a1[0] #can not remove element"
   ]
  },
  {
   "cell_type": "markdown",
   "id": "d9c24a1e",
   "metadata": {},
   "source": [
    "## set task"
   ]
  },
  {
   "cell_type": "code",
   "execution_count": 11,
   "id": "087e505a",
   "metadata": {},
   "outputs": [
    {
     "data": {
      "text/plain": [
       "set"
      ]
     },
     "execution_count": 11,
     "metadata": {},
     "output_type": "execute_result"
    }
   ],
   "source": [
    "s1={\"anuja\",True,1,0,3} #mixed data types ....\n",
    "# here true and 1 has same meaning so it will igonre 1 as it comes after True \n",
    "type(s1)"
   ]
  },
  {
   "cell_type": "code",
   "execution_count": 12,
   "id": "29c6a67b",
   "metadata": {},
   "outputs": [
    {
     "name": "stdout",
     "output_type": "stream",
     "text": [
      "{0, True, 3, 'anuja'}\n"
     ]
    }
   ],
   "source": [
    "print(s1) #unordered"
   ]
  },
  {
   "cell_type": "code",
   "execution_count": 13,
   "id": "6b6efec5",
   "metadata": {},
   "outputs": [],
   "source": [
    "s1={\"anuja\",True,1,0,3,3} #no-duplicates"
   ]
  },
  {
   "cell_type": "code",
   "execution_count": 14,
   "id": "3ff7fe25",
   "metadata": {},
   "outputs": [
    {
     "name": "stdout",
     "output_type": "stream",
     "text": [
      "{0, True, 3, 'anuja'}\n"
     ]
    }
   ],
   "source": [
    "print(s1)"
   ]
  },
  {
   "cell_type": "code",
   "execution_count": 15,
   "id": "cc051c9a",
   "metadata": {},
   "outputs": [
    {
     "ename": "TypeError",
     "evalue": "'set' object is not subscriptable",
     "output_type": "error",
     "traceback": [
      "\u001b[1;31m---------------------------------------------------------------------------\u001b[0m",
      "\u001b[1;31mTypeError\u001b[0m                                 Traceback (most recent call last)",
      "Cell \u001b[1;32mIn[15], line 1\u001b[0m\n\u001b[1;32m----> 1\u001b[0m \u001b[43ms1\u001b[49m\u001b[43m[\u001b[49m\u001b[38;5;241;43m0\u001b[39;49m\u001b[43m]\u001b[49m\n",
      "\u001b[1;31mTypeError\u001b[0m: 'set' object is not subscriptable"
     ]
    }
   ],
   "source": [
    "s1[0] #can't do indexing"
   ]
  },
  {
   "cell_type": "code",
   "execution_count": 21,
   "id": "d33a3959",
   "metadata": {},
   "outputs": [
    {
     "data": {
      "text/plain": [
       "{3, False, True, 'anuja'}"
      ]
     },
     "execution_count": 21,
     "metadata": {},
     "output_type": "execute_result"
    }
   ],
   "source": [
    "s1={\"anuja\",True,1,False,0,3,3} # look the logic 1=true and 0=flase\n",
    "s1"
   ]
  },
  {
   "cell_type": "code",
   "execution_count": 17,
   "id": "c363cc1f",
   "metadata": {},
   "outputs": [
    {
     "data": {
      "text/plain": [
       "{3, False, True, 'anuja', 'mylife'}"
      ]
     },
     "execution_count": 17,
     "metadata": {},
     "output_type": "execute_result"
    }
   ],
   "source": [
    "s2={3, False, True, 'anuja',\"mylife\"}\n",
    "s2"
   ]
  },
  {
   "cell_type": "code",
   "execution_count": 20,
   "id": "10d72f40",
   "metadata": {},
   "outputs": [
    {
     "name": "stdout",
     "output_type": "stream",
     "text": [
      "No\n"
     ]
    }
   ],
   "source": [
    "if \"apple\" in s1:\n",
    "    print(\"yes\")\n",
    "else:\n",
    "    print(\"No\")"
   ]
  },
  {
   "cell_type": "markdown",
   "id": "51046561",
   "metadata": {},
   "source": [
    "## frozenset"
   ]
  },
  {
   "cell_type": "code",
   "execution_count": 23,
   "id": "6190eba8",
   "metadata": {},
   "outputs": [
    {
     "data": {
      "text/plain": [
       "frozenset"
      ]
     },
     "execution_count": 23,
     "metadata": {},
     "output_type": "execute_result"
    }
   ],
   "source": [
    "list1=[11,12,13,True,\"anuja\"]\n",
    "x1=frozenset(list1)\n",
    "x1\n",
    "type(x1)"
   ]
  },
  {
   "cell_type": "code",
   "execution_count": 24,
   "id": "05e4edd6",
   "metadata": {},
   "outputs": [
    {
     "ename": "TypeError",
     "evalue": "'frozenset' object does not support item assignment",
     "output_type": "error",
     "traceback": [
      "\u001b[1;31m---------------------------------------------------------------------------\u001b[0m",
      "\u001b[1;31mTypeError\u001b[0m                                 Traceback (most recent call last)",
      "Cell \u001b[1;32mIn[24], line 1\u001b[0m\n\u001b[1;32m----> 1\u001b[0m x1[\u001b[38;5;241m0\u001b[39m]\u001b[38;5;241m=\u001b[39m\u001b[38;5;124m\"\u001b[39m\u001b[38;5;124mitsme\u001b[39m\u001b[38;5;124m\"\u001b[39m\n",
      "\u001b[1;31mTypeError\u001b[0m: 'frozenset' object does not support item assignment"
     ]
    }
   ],
   "source": [
    "x1[0]=\"itsme\""
   ]
  },
  {
   "cell_type": "code",
   "execution_count": 25,
   "id": "cdc6363a",
   "metadata": {},
   "outputs": [
    {
     "ename": "AttributeError",
     "evalue": "'frozenset' object has no attribute 'add'",
     "output_type": "error",
     "traceback": [
      "\u001b[1;31m---------------------------------------------------------------------------\u001b[0m",
      "\u001b[1;31mAttributeError\u001b[0m                            Traceback (most recent call last)",
      "Cell \u001b[1;32mIn[25], line 1\u001b[0m\n\u001b[1;32m----> 1\u001b[0m \u001b[43mx1\u001b[49m\u001b[38;5;241;43m.\u001b[39;49m\u001b[43madd\u001b[49m(\u001b[38;5;124m\"\u001b[39m\u001b[38;5;124manuja\u001b[39m\u001b[38;5;124m\"\u001b[39m)\n",
      "\u001b[1;31mAttributeError\u001b[0m: 'frozenset' object has no attribute 'add'"
     ]
    }
   ],
   "source": [
    "x1.add(\"anuja\") # can't add elements in frozenset , immutable"
   ]
  },
  {
   "cell_type": "markdown",
   "id": "175d8771",
   "metadata": {},
   "source": [
    "## Dictionary"
   ]
  },
  {
   "cell_type": "code",
   "execution_count": null,
   "id": "94a16309",
   "metadata": {},
   "outputs": [],
   "source": [
    "#{}\n",
    "#key-value pair always\n",
    "#prserve given order\n",
    "#not allows duplicates\n",
    "#add data(mutable)\n",
    "#remove data\n",
    "#update the existing data\n",
    "#nested dict\n"
   ]
  },
  {
   "cell_type": "code",
   "execution_count": 1,
   "id": "1a5931ca",
   "metadata": {},
   "outputs": [],
   "source": [
    "a= {\"girls\" : [\"anuja\",\"nisha\",\"mine\"],\n",
    "\"rollno\" :[ 1,2,3,],\n",
    "\"weight\":[33,38,40],\n",
    "\"weight\":[23,20,22],\n",
    "    }"
   ]
  },
  {
   "cell_type": "code",
   "execution_count": 2,
   "id": "f6ce8366",
   "metadata": {},
   "outputs": [
    {
     "name": "stdout",
     "output_type": "stream",
     "text": [
      "[1, 2, 3]\n"
     ]
    }
   ],
   "source": [
    "print(a[\"rollno\"]) # preserves order"
   ]
  },
  {
   "cell_type": "code",
   "execution_count": 3,
   "id": "0dd4bae3",
   "metadata": {},
   "outputs": [
    {
     "name": "stdout",
     "output_type": "stream",
     "text": [
      "[23, 20, 22]\n"
     ]
    }
   ],
   "source": [
    "print(a[\"weight\"]) # duplicates not allowed"
   ]
  },
  {
   "cell_type": "code",
   "execution_count": 4,
   "id": "6d5f6cff",
   "metadata": {},
   "outputs": [
    {
     "name": "stdout",
     "output_type": "stream",
     "text": [
      "[23, 20, 22]\n"
     ]
    }
   ],
   "source": [
    "print(a.get(\"weight\"))"
   ]
  },
  {
   "cell_type": "code",
   "execution_count": 5,
   "id": "c1b4a8d0",
   "metadata": {},
   "outputs": [
    {
     "data": {
      "text/plain": [
       "3"
      ]
     },
     "execution_count": 5,
     "metadata": {},
     "output_type": "execute_result"
    }
   ],
   "source": [
    "len(a)"
   ]
  },
  {
   "cell_type": "code",
   "execution_count": 6,
   "id": "4e863934",
   "metadata": {},
   "outputs": [
    {
     "data": {
      "text/plain": [
       "dict_keys(['girls', 'rollno', 'weight'])"
      ]
     },
     "execution_count": 6,
     "metadata": {},
     "output_type": "execute_result"
    }
   ],
   "source": [
    "a.keys()"
   ]
  },
  {
   "cell_type": "markdown",
   "id": "987f99d3",
   "metadata": {},
   "source": [
    "###### dictionary.get(keyname, value)\n",
    "value\tOptional. A value to return if the specified key does not exist.\n",
    "Default value None"
   ]
  },
  {
   "cell_type": "code",
   "execution_count": 7,
   "id": "cad0259f",
   "metadata": {},
   "outputs": [
    {
     "data": {
      "text/plain": [
       "15000"
      ]
     },
     "execution_count": 7,
     "metadata": {},
     "output_type": "execute_result"
    }
   ],
   "source": [
    "a.get(\"price\", 15000) # keep in mind \"price is not in dic(a) bt still giving o/p\""
   ]
  },
  {
   "cell_type": "code",
   "execution_count": 8,
   "id": "e6fbe2f8",
   "metadata": {},
   "outputs": [
    {
     "data": {
      "text/plain": [
       "['anuja', 'nisha', 'mine']"
      ]
     },
     "execution_count": 8,
     "metadata": {},
     "output_type": "execute_result"
    }
   ],
   "source": [
    "a.get(\"girls\")"
   ]
  },
  {
   "cell_type": "code",
   "execution_count": 42,
   "id": "60ccb95e",
   "metadata": {},
   "outputs": [
    {
     "data": {
      "text/plain": [
       "dict_values([['anuja', 'nisha', 'mine'], [1, 2, 3], [23, 20, 22]])"
      ]
     },
     "execution_count": 42,
     "metadata": {},
     "output_type": "execute_result"
    }
   ],
   "source": [
    "a.values()"
   ]
  },
  {
   "cell_type": "code",
   "execution_count": 43,
   "id": "3b45b41c",
   "metadata": {},
   "outputs": [],
   "source": [
    "a[\"location\"]=[\"mumbai\",\"pune\",\"satara\",\"kolhapur\"] # adding new key and also added 4 values"
   ]
  },
  {
   "cell_type": "code",
   "execution_count": 44,
   "id": "94a42892",
   "metadata": {},
   "outputs": [
    {
     "name": "stdout",
     "output_type": "stream",
     "text": [
      "{'girls': ['anuja', 'nisha', 'mine'], 'rollno': [1, 2, 3], 'weight': [23, 20, 22], 'location': ['mumbai', 'pune', 'satara', 'kolhapur']}\n"
     ]
    }
   ],
   "source": [
    "print(a)"
   ]
  },
  {
   "cell_type": "code",
   "execution_count": 48,
   "id": "ed7f7e54",
   "metadata": {},
   "outputs": [
    {
     "data": {
      "text/plain": [
       "{'girls': ['anuja', 'me', 'mine'],\n",
       " 'rollno': [1, 2, 3],\n",
       " 'weight': [23, 20, 22],\n",
       " 'location': ['mumbai', 'pune', 'satara', 'kolhapur']}"
      ]
     },
     "execution_count": 48,
     "metadata": {},
     "output_type": "execute_result"
    }
   ],
   "source": [
    "a[\"girls\"]=[\"anuja\",\"me\",\"mine\"]\n",
    "a"
   ]
  },
  {
   "cell_type": "code",
   "execution_count": 52,
   "id": "8fb1cae1",
   "metadata": {},
   "outputs": [
    {
     "data": {
      "text/plain": [
       "{'girls': ['radhika'],\n",
       " 'rollno': [1, 2, 3],\n",
       " 'weight': [23, 20, 22],\n",
       " 'location': ['mumbai', 'pune', 'satara', 'kolhapur']}"
      ]
     },
     "execution_count": 52,
     "metadata": {},
     "output_type": "execute_result"
    }
   ],
   "source": [
    "a[\"girls\"]=[\"radhika\"]\n",
    "a"
   ]
  },
  {
   "cell_type": "code",
   "execution_count": 53,
   "id": "1f14d93e",
   "metadata": {},
   "outputs": [
    {
     "data": {
      "text/plain": [
       "dict_items([('girls', ['radhika']), ('rollno', [1, 2, 3]), ('weight', [23, 20, 22]), ('location', ['mumbai', 'pune', 'satara', 'kolhapur'])])"
      ]
     },
     "execution_count": 53,
     "metadata": {},
     "output_type": "execute_result"
    }
   ],
   "source": [
    "a.items()# op in form of tuple"
   ]
  },
  {
   "cell_type": "code",
   "execution_count": 55,
   "id": "2b549d22",
   "metadata": {},
   "outputs": [
    {
     "name": "stdout",
     "output_type": "stream",
     "text": [
      "yes\n"
     ]
    }
   ],
   "source": [
    "if \"girls\" in a:\n",
    "    print(\"yes\")"
   ]
  },
  {
   "cell_type": "code",
   "execution_count": 58,
   "id": "1f993c00",
   "metadata": {},
   "outputs": [
    {
     "data": {
      "text/plain": [
       "{'girls': ['radhika'],\n",
       " 'rollno': [1, 2, 3],\n",
       " 'weight': [23, 20, 22],\n",
       " 'location': ['mumbai', 'pune', 'satara', 'solapur']}"
      ]
     },
     "execution_count": 58,
     "metadata": {},
     "output_type": "execute_result"
    }
   ],
   "source": [
    "a.update({\"location\":['mumbai', 'pune', 'satara', 'solapur']})\n",
    "a"
   ]
  },
  {
   "cell_type": "code",
   "execution_count": 76,
   "id": "670c53d6",
   "metadata": {},
   "outputs": [
    {
     "ename": "TypeError",
     "evalue": "pop expected at least 1 argument, got 0",
     "output_type": "error",
     "traceback": [
      "\u001b[1;31m---------------------------------------------------------------------------\u001b[0m",
      "\u001b[1;31mTypeError\u001b[0m                                 Traceback (most recent call last)",
      "Cell \u001b[1;32mIn[76], line 1\u001b[0m\n\u001b[1;32m----> 1\u001b[0m \u001b[43ma\u001b[49m\u001b[38;5;241;43m.\u001b[39;49m\u001b[43mpop\u001b[49m\u001b[43m(\u001b[49m\u001b[43m)\u001b[49m\n",
      "\u001b[1;31mTypeError\u001b[0m: pop expected at least 1 argument, got 0"
     ]
    }
   ],
   "source": [
    "a.pop() # this only works in list"
   ]
  },
  {
   "cell_type": "code",
   "execution_count": 60,
   "id": "599c99f0",
   "metadata": {},
   "outputs": [
    {
     "data": {
      "text/plain": [
       "['mumbai', 'pune', 'satara', 'solapur']"
      ]
     },
     "execution_count": 60,
     "metadata": {},
     "output_type": "execute_result"
    }
   ],
   "source": [
    "a.pop(\"location\")"
   ]
  },
  {
   "cell_type": "code",
   "execution_count": 61,
   "id": "f53c953c",
   "metadata": {},
   "outputs": [
    {
     "data": {
      "text/plain": [
       "{'girls': ['radhika'], 'rollno': [1, 2, 3], 'weight': [23, 20, 22]}"
      ]
     },
     "execution_count": 61,
     "metadata": {},
     "output_type": "execute_result"
    }
   ],
   "source": [
    "a"
   ]
  },
  {
   "cell_type": "code",
   "execution_count": 62,
   "id": "a945a220",
   "metadata": {},
   "outputs": [
    {
     "data": {
      "text/plain": [
       "{'girls': ['radhika'], 'rollno': [1, 2, 3]}"
      ]
     },
     "execution_count": 62,
     "metadata": {},
     "output_type": "execute_result"
    }
   ],
   "source": [
    "a.popitem() # remove last key\n",
    "a"
   ]
  },
  {
   "cell_type": "markdown",
   "id": "f91103a4",
   "metadata": {},
   "source": [
    "#### also apply functions like clear() , del() "
   ]
  },
  {
   "cell_type": "code",
   "execution_count": 63,
   "id": "c2b05de4",
   "metadata": {},
   "outputs": [],
   "source": [
    "a= {\"girls\" : [\"anuja\",\"nisha\",\"mine\"],\n",
    "\"rollno\" :[ 1,2,3,],\n",
    "\"weight\":[33,38,40],\n",
    "    }"
   ]
  },
  {
   "cell_type": "code",
   "execution_count": 65,
   "id": "82f1dc69",
   "metadata": {},
   "outputs": [
    {
     "data": {
      "text/plain": [
       "{'girls': ['anuja', 'nisha', 'mine'],\n",
       " 'rollno': [1, 2, 3],\n",
       " 'weight': [33, 38, 40]}"
      ]
     },
     "execution_count": 65,
     "metadata": {},
     "output_type": "execute_result"
    }
   ],
   "source": [
    "new_a = a.copy()\n",
    "new_a"
   ]
  },
  {
   "cell_type": "code",
   "execution_count": 73,
   "id": "61014384",
   "metadata": {},
   "outputs": [],
   "source": [
    "a= {\n",
    "  \"d1\" : {\n",
    "\"girls\" : [\"anuja\",\"nisha\",\"mine\"],\n",
    "\"rollno\" :[ 1,2,3,],\n",
    "\"weight\":[3,8,4],\n",
    "    } ,\n",
    "\n",
    " \"d2\" : {\n",
    "\"girls\" : [\"anuja1\",\"nisha1\",\"mine1\"],\n",
    "\"rollno\" :[4,5,6],\n",
    "\"weight\":[33,88,44],\n",
    "    },\n",
    "\n",
    "\n",
    " \"d3\" : {\n",
    "\"girls\" : [\"anuja2\",\"nisha2\",\"mine2\"],\n",
    "\"rollno\" :[7,8,9],\n",
    "\"weight\":[333,888,444],\n",
    "    },\n",
    "}"
   ]
  },
  {
   "cell_type": "code",
   "execution_count": 74,
   "id": "82fdcf72",
   "metadata": {},
   "outputs": [
    {
     "data": {
      "text/plain": [
       "[4, 5, 6]"
      ]
     },
     "execution_count": 74,
     "metadata": {},
     "output_type": "execute_result"
    }
   ],
   "source": [
    "a[\"d2\"][\"rollno\"]"
   ]
  },
  {
   "cell_type": "code",
   "execution_count": 1,
   "id": "20c888e2",
   "metadata": {},
   "outputs": [],
   "source": [
    "s1={1,2,3,4,5}\n",
    "s2={6,7,8,9}"
   ]
  },
  {
   "cell_type": "code",
   "execution_count": 2,
   "id": "a36edfff",
   "metadata": {},
   "outputs": [],
   "source": [
    "s1.add(\"India\")"
   ]
  },
  {
   "cell_type": "code",
   "execution_count": 3,
   "id": "3de7e996",
   "metadata": {},
   "outputs": [],
   "source": [
    "# u can't modified elements of sets ..as indexing is not possible"
   ]
  },
  {
   "cell_type": "code",
   "execution_count": 5,
   "id": "5c82b0ae",
   "metadata": {},
   "outputs": [
    {
     "data": {
      "text/plain": [
       "{1, 2, 3, 4, 5, 6, 7, 8, 9, 'India'}"
      ]
     },
     "execution_count": 5,
     "metadata": {},
     "output_type": "execute_result"
    }
   ],
   "source": [
    "s2.update(s1)\n",
    "s2 # s1 added to s2"
   ]
  },
  {
   "cell_type": "code",
   "execution_count": 6,
   "id": "a5333833",
   "metadata": {},
   "outputs": [
    {
     "data": {
      "text/plain": [
       "{1, 2, 3, 4, 5, 'India'}"
      ]
     },
     "execution_count": 6,
     "metadata": {},
     "output_type": "execute_result"
    }
   ],
   "source": [
    "s1"
   ]
  },
  {
   "cell_type": "code",
   "execution_count": 7,
   "id": "73552d6c",
   "metadata": {},
   "outputs": [
    {
     "data": {
      "text/plain": [
       "{1, 2, 3, 4, 5, 6, 7, 8, 9}"
      ]
     },
     "execution_count": 7,
     "metadata": {},
     "output_type": "execute_result"
    }
   ],
   "source": [
    "s2.discard(\"India\")\n",
    "s2"
   ]
  },
  {
   "cell_type": "code",
   "execution_count": 8,
   "id": "08038415",
   "metadata": {},
   "outputs": [
    {
     "data": {
      "text/plain": [
       "{1, 2, 3, 4, 5, 6, 7, 8}"
      ]
     },
     "execution_count": 8,
     "metadata": {},
     "output_type": "execute_result"
    }
   ],
   "source": [
    "s2.remove(9)\n",
    "s2"
   ]
  },
  {
   "cell_type": "code",
   "execution_count": 9,
   "id": "ce844624",
   "metadata": {},
   "outputs": [
    {
     "data": {
      "text/plain": [
       "1"
      ]
     },
     "execution_count": 9,
     "metadata": {},
     "output_type": "execute_result"
    }
   ],
   "source": [
    "s2.pop()"
   ]
  },
  {
   "cell_type": "code",
   "execution_count": 10,
   "id": "a0c7c92b",
   "metadata": {},
   "outputs": [
    {
     "data": {
      "text/plain": [
       "2"
      ]
     },
     "execution_count": 10,
     "metadata": {},
     "output_type": "execute_result"
    }
   ],
   "source": [
    "s2.pop()"
   ]
  },
  {
   "cell_type": "code",
   "execution_count": 11,
   "id": "da9fb550",
   "metadata": {},
   "outputs": [
    {
     "data": {
      "text/plain": [
       "3"
      ]
     },
     "execution_count": 11,
     "metadata": {},
     "output_type": "execute_result"
    }
   ],
   "source": [
    "s2.pop()"
   ]
  },
  {
   "cell_type": "code",
   "execution_count": 12,
   "id": "07d1b00e",
   "metadata": {},
   "outputs": [
    {
     "data": {
      "text/plain": [
       "4"
      ]
     },
     "execution_count": 12,
     "metadata": {},
     "output_type": "execute_result"
    }
   ],
   "source": [
    "s2.pop()"
   ]
  },
  {
   "cell_type": "code",
   "execution_count": 13,
   "id": "10750ad6",
   "metadata": {},
   "outputs": [],
   "source": [
    "d={\n",
    "    \"name\":(\"anuja\",\"radhika\"),\n",
    "    \"age\":(23,24),\n",
    "    \"loc\":(\"panvel\",\"nashik\")\n",
    "}"
   ]
  },
  {
   "cell_type": "code",
   "execution_count": 16,
   "id": "dd0a07e5",
   "metadata": {},
   "outputs": [],
   "source": [
    "d.update({\"name\":[\"banglore\",\"radhika\"]})"
   ]
  },
  {
   "cell_type": "code",
   "execution_count": 17,
   "id": "3241284b",
   "metadata": {},
   "outputs": [
    {
     "data": {
      "text/plain": [
       "{'name': ['banglore', 'radhika'], 'age': (23, 24), 'loc': ('panvel', 'nashik')}"
      ]
     },
     "execution_count": 17,
     "metadata": {},
     "output_type": "execute_result"
    }
   ],
   "source": [
    "d"
   ]
  },
  {
   "cell_type": "code",
   "execution_count": 18,
   "id": "f6e10efe",
   "metadata": {},
   "outputs": [],
   "source": [
    "d[\"name\"]=[1,2,3] # using accessing elements"
   ]
  },
  {
   "cell_type": "code",
   "execution_count": 19,
   "id": "cb663590",
   "metadata": {},
   "outputs": [
    {
     "data": {
      "text/plain": [
       "{'name': [1, 2, 3], 'age': (23, 24), 'loc': ('panvel', 'nashik')}"
      ]
     },
     "execution_count": 19,
     "metadata": {},
     "output_type": "execute_result"
    }
   ],
   "source": [
    "d"
   ]
  },
  {
   "cell_type": "markdown",
   "id": "256ec925",
   "metadata": {},
   "source": [
    "## conditional statements"
   ]
  },
  {
   "cell_type": "code",
   "execution_count": 25,
   "id": "c0948a4a",
   "metadata": {},
   "outputs": [
    {
     "name": "stdout",
     "output_type": "stream",
     "text": [
      "different\n",
      "not equals\n",
      "a is greater\n",
      "b is smaller\n"
     ]
    }
   ],
   "source": [
    "a=100\n",
    "b=50\n",
    "\n",
    "if a==b:\n",
    "    print(\"same\")\n",
    "else:\n",
    "    print(\"different\")\n",
    "#######################################    \n",
    "if a!=b:\n",
    "    print(\"not equals\")\n",
    "else:\n",
    "    print(\"same\")\n",
    "    \n",
    "###################################################    \n",
    "if a > b:\n",
    "    print(\"a is greater\")\n",
    "else:\n",
    "    print(\"b is greater\")\n",
    "################################################\n",
    "if a < b:\n",
    "    print(\"a is smaller\")\n",
    "else:\n",
    "    print(\"b is smaller\")"
   ]
  },
  {
   "cell_type": "code",
   "execution_count": 26,
   "id": "0b104c3e",
   "metadata": {},
   "outputs": [
    {
     "name": "stdout",
     "output_type": "stream",
     "text": [
      "b is greater\n"
     ]
    }
   ],
   "source": [
    "a=5\n",
    "b=10\n",
    "if a > b:\n",
    "    print(\"a is greater\")\n",
    "elif a==b:\n",
    "    print(\"they are same\")\n",
    "else:\n",
    "    print(\"b is greater\")"
   ]
  },
  {
   "cell_type": "code",
   "execution_count": 29,
   "id": "11175151",
   "metadata": {},
   "outputs": [
    {
     "name": "stdout",
     "output_type": "stream",
     "text": [
      "negative\n"
     ]
    }
   ],
   "source": [
    "a = -5\n",
    "if a >= 0:\n",
    "    print(\"positive\")\n",
    "else:\n",
    "    print(\"negative\")\n"
   ]
  },
  {
   "cell_type": "code",
   "execution_count": 37,
   "id": "a4c1dd4b",
   "metadata": {},
   "outputs": [
    {
     "name": "stdout",
     "output_type": "stream",
     "text": [
      "enter no : -5\n",
      "negative number\n",
      "thank u\n"
     ]
    }
   ],
   "source": [
    "a=float(input(\"enter no : \")) #float also takes int\n",
    "if a >= 0:\n",
    "    print(\"positive number\")\n",
    "else:\n",
    "    print(\"negative number\")\n",
    "print(\"thank u\")"
   ]
  },
  {
   "cell_type": "markdown",
   "id": "440fb6bf",
   "metadata": {},
   "source": [
    "##### homework"
   ]
  },
  {
   "cell_type": "markdown",
   "id": "daba8a21",
   "metadata": {},
   "source": [
    "#### WAP ask user to enter minutes and convert that in to hours"
   ]
  },
  {
   "cell_type": "code",
   "execution_count": 10,
   "id": "8eb6854a",
   "metadata": {},
   "outputs": [
    {
     "name": "stdout",
     "output_type": "stream",
     "text": [
      "enter minutes : 40\n",
      "40.0 minutes means 0.67 hours \n"
     ]
    }
   ],
   "source": [
    "m = float(input(\"enter minutes : \"))\n",
    "h=m/60\n",
    "print(\"{} minutes means {} hours \".format(m,round(h,2)))"
   ]
  },
  {
   "cell_type": "markdown",
   "id": "64ca66ba",
   "metadata": {},
   "source": [
    "#### WAP ask two number to user and print largest number"
   ]
  },
  {
   "cell_type": "code",
   "execution_count": 12,
   "id": "83827afe",
   "metadata": {},
   "outputs": [
    {
     "name": "stdout",
     "output_type": "stream",
     "text": [
      "enter first Number : 80\n",
      "enter second Number : 40\n",
      "Largest Number is 80.0\n"
     ]
    }
   ],
   "source": [
    "a = float (input(\"enter first Number : \"))\n",
    "b = float (input(\"enter second Number : \"))\n",
    "if (a>b):\n",
    "    print(\"Largest Number is {}\".format(a))\n",
    "elif (a==b):\n",
    "    print(\"Both Numbers are same\")\n",
    "else :\n",
    "    print(\"Largest Number is {}\".format(b))"
   ]
  },
  {
   "cell_type": "markdown",
   "id": "6daca862",
   "metadata": {},
   "source": [
    "#### wap to find rate per hour"
   ]
  },
  {
   "cell_type": "code",
   "execution_count": null,
   "id": "ed88640f",
   "metadata": {},
   "outputs": [],
   "source": [
    "income = float(input(\"Enter your weekly income : \"))\n",
    "hours = float(input(\"enter total hours in week spend on work: \"))\n",
    "rate = rate/60\n",
    "print(\"your rate per hour is: \",rate)"
   ]
  },
  {
   "cell_type": "code",
   "execution_count": 9,
   "id": "27280bf5",
   "metadata": {},
   "outputs": [
    {
     "name": "stdout",
     "output_type": "stream",
     "text": [
      "values: 1 2 3 4\n"
     ]
    }
   ],
   "source": [
    "a,b,c,d = list(map(int, input(\"values: \").split())) # map(fun, iter)"
   ]
  },
  {
   "cell_type": "code",
   "execution_count": 10,
   "id": "c1efa5ae",
   "metadata": {},
   "outputs": [
    {
     "data": {
      "text/plain": [
       "3"
      ]
     },
     "execution_count": 10,
     "metadata": {},
     "output_type": "execute_result"
    }
   ],
   "source": [
    "a+b"
   ]
  },
  {
   "cell_type": "code",
   "execution_count": 12,
   "id": "0e8e3130",
   "metadata": {},
   "outputs": [
    {
     "name": "stdout",
     "output_type": "stream",
     "text": [
      "values: 1 2 3 4\n"
     ]
    }
   ],
   "source": [
    "a,b,c,d = map(int, input(\"values: \").split()) # map(fun, iter)"
   ]
  },
  {
   "cell_type": "code",
   "execution_count": 14,
   "id": "95b58971",
   "metadata": {},
   "outputs": [
    {
     "data": {
      "text/plain": [
       "int"
      ]
     },
     "execution_count": 14,
     "metadata": {},
     "output_type": "execute_result"
    }
   ],
   "source": [
    "type(c)"
   ]
  },
  {
   "cell_type": "code",
   "execution_count": 11,
   "id": "20c59258",
   "metadata": {},
   "outputs": [
    {
     "name": "stdout",
     "output_type": "stream",
     "text": [
      "enter KG 5\n",
      "5.0 KG means 5000.0 grams \n"
     ]
    }
   ],
   "source": [
    "kg=float(input(\"enter KG \"))\n",
    "gram = kg * 1000\n",
    "print(\"{} KG means {} grams \".format(kg,gram))"
   ]
  },
  {
   "cell_type": "code",
   "execution_count": 17,
   "id": "ea0d0f67",
   "metadata": {},
   "outputs": [
    {
     "name": "stdout",
     "output_type": "stream",
     "text": [
      "35 is between 21 and 40\n"
     ]
    }
   ],
   "source": [
    "a=35\n",
    "if a <= 20:\n",
    "    print(a ,\"is less than 20\")\n",
    "elif (a >= 21 and a<=40):\n",
    "    print(a,\"is between 21 and 40\")\n",
    "elif (a >= 41 and a<=50):\n",
    "    print(a, \"is between 41 and 50\" )\n",
    "else :\n",
    "    print(a, \"is greater than 50\")\n"
   ]
  },
  {
   "cell_type": "code",
   "execution_count": 18,
   "id": "55b9286d",
   "metadata": {},
   "outputs": [
    {
     "name": "stdout",
     "output_type": "stream",
     "text": [
      "both conditions are true\n"
     ]
    }
   ],
   "source": [
    "a=200\n",
    "b=90\n",
    "c=500\n",
    "\n",
    "if a>b and c>a:\n",
    "    print(\"both conditions are true\")"
   ]
  },
  {
   "cell_type": "code",
   "execution_count": 19,
   "id": "f2504a35",
   "metadata": {},
   "outputs": [
    {
     "name": "stdout",
     "output_type": "stream",
     "text": [
      "both conditions are true\n"
     ]
    }
   ],
   "source": [
    "a=200\n",
    "b=90\n",
    "c=500\n",
    "\n",
    "if a>b or a>c:\n",
    "    print(\"both conditions are true\")"
   ]
  },
  {
   "cell_type": "code",
   "execution_count": 20,
   "id": "4b203038",
   "metadata": {},
   "outputs": [
    {
     "name": "stdout",
     "output_type": "stream",
     "text": [
      "both conditions are true\n"
     ]
    }
   ],
   "source": [
    "a=200\n",
    "b=90\n",
    "\n",
    "\n",
    "if not a<b :\n",
    "    print(\"both conditions are true\")"
   ]
  },
  {
   "cell_type": "markdown",
   "id": "7d978960",
   "metadata": {},
   "source": [
    "##### WAP to check given number is odd or even"
   ]
  },
  {
   "cell_type": "code",
   "execution_count": 23,
   "id": "9a76198a",
   "metadata": {},
   "outputs": [
    {
     "name": "stdout",
     "output_type": "stream",
     "text": [
      "enter no: 5\n",
      "given no is odd\n"
     ]
    }
   ],
   "source": [
    "a=float(input(\"enter no: \"))\n",
    "if a%2 ==0:\n",
    "    print(\"given no is even\")\n",
    "else:\n",
    "    print(\"given no is odd\")"
   ]
  },
  {
   "cell_type": "markdown",
   "id": "56efe640",
   "metadata": {},
   "source": [
    "### WAP TO ACCEPT CHARACTER FRO M USER AND CHECK WHETHER IT IS UPPER OR LOWER CASE"
   ]
  },
  {
   "cell_type": "code",
   "execution_count": 25,
   "id": "196258c5",
   "metadata": {},
   "outputs": [
    {
     "name": "stdout",
     "output_type": "stream",
     "text": [
      "enter character : C\n",
      "Uppercase\n"
     ]
    }
   ],
   "source": [
    "a=input(\"enter character : \")\n",
    "if a.upper() == a:\n",
    "    print(\"Uppercase\")\n",
    "else:\n",
    "    print(\"lowercase\")"
   ]
  },
  {
   "cell_type": "code",
   "execution_count": 26,
   "id": "865aa1c8",
   "metadata": {},
   "outputs": [
    {
     "name": "stdout",
     "output_type": "stream",
     "text": [
      "Enter charactera\n",
      "a is lower letter\n"
     ]
    }
   ],
   "source": [
    "a=input(\"Enter character\")\n",
    "if a.isupper()==True:\n",
    "    print(\"{} is capital letter\".format(a))\n",
    "else:\n",
    "    print(\"{} is lower letter\".format(a))"
   ]
  },
  {
   "cell_type": "code",
   "execution_count": 33,
   "id": "b8796909",
   "metadata": {},
   "outputs": [
    {
     "name": "stdout",
     "output_type": "stream",
     "text": [
      "Enter input: &\n",
      "invalid input\n"
     ]
    }
   ],
   "source": [
    "ch=str(input(\"Enter input: \"))\n",
    "if \"A\"<=ch[0]<=\"Z\":\n",
    "    print(\"Upper case\")\n",
    "elif \"a\"<=ch[0]<=\"z\": \n",
    "     print(\"lower case\")\n",
    "else:\n",
    "    print(\"invalid input\")"
   ]
  },
  {
   "cell_type": "markdown",
   "id": "5b4f42e0",
   "metadata": {},
   "source": [
    "### Write a program to display the greatest among three numbers using nested if statement."
   ]
  },
  {
   "cell_type": "code",
   "execution_count": 10,
   "id": "a5b1b751",
   "metadata": {},
   "outputs": [
    {
     "name": "stdout",
     "output_type": "stream",
     "text": [
      "enter age:45\n",
      "adult\n"
     ]
    }
   ],
   "source": [
    "age=int(input(\"enter age:\"))\n",
    "#kids,teenager,adult,senior citizen\n",
    "if age > 0 and age < 13:\n",
    "    print(\"kid\")\n",
    "elif (age < 59) :\n",
    "    if (age >= 13) and (age<19) :\n",
    "        print(\"teenager\")\n",
    "    else:\n",
    "        print(\"adult\")\n",
    "else:\n",
    "    print(\"senior citizen\")"
   ]
  },
  {
   "cell_type": "code",
   "execution_count": 13,
   "id": "91dda8eb",
   "metadata": {},
   "outputs": [
    {
     "name": "stdout",
     "output_type": "stream",
     "text": [
      "enter no:-4\n",
      "Negative no\n"
     ]
    }
   ],
   "source": [
    "no =int(input(\"enter no:\"))\n",
    "if no>0:\n",
    "    if no%2==0:\n",
    "        print(\"number is positive and even\")\n",
    "    else:\n",
    "        print(\"Number is odd\")\n",
    "else:\n",
    "    print(\"Negative no\")"
   ]
  },
  {
   "cell_type": "code",
   "execution_count": 18,
   "id": "47286af2",
   "metadata": {},
   "outputs": [
    {
     "name": "stdout",
     "output_type": "stream",
     "text": [
      "len of a :  5\n",
      "0 1 2  \n",
      "second for : \n",
      "8 7 9 5 6  \n",
      "third for : \n",
      "8 7 9 5 6  \n",
      "forth for : \n",
      "a n u j a "
     ]
    }
   ],
   "source": [
    "a=[8,7,9,5,6]\n",
    "print(\"len of a : \",len(a))\n",
    "\n",
    "for i in range(len(a)):\n",
    "    if i==len(a)-2:\n",
    "        break\n",
    "    print(i,end=\" \" )\n",
    "        \n",
    "print(\" \",\"second for : \", sep=\"\\n\")\n",
    "\n",
    "for i in range(len(a)):\n",
    "    print(a[i],end=\" \")\n",
    "\n",
    "print(\" \",\"third for : \", sep=\"\\n\")       \n",
    "\n",
    "for i in a:\n",
    "    print(i ,end=\" \")\n",
    "    \n",
    "print(\" \",\"forth for : \", sep=\"\\n\")\n",
    "b=\"anuja\" # work on string\n",
    "for i in b:\n",
    "    print(i,end=\" \",)"
   ]
  },
  {
   "cell_type": "markdown",
   "id": "2147aa58",
   "metadata": {},
   "source": [
    "### wap for Password and Username Checking"
   ]
  },
  {
   "cell_type": "code",
   "execution_count": 2,
   "id": "54d0cd69",
   "metadata": {},
   "outputs": [
    {
     "name": "stdout",
     "output_type": "stream",
     "text": [
      "enter name and password:admin 1234\n",
      "weak password\n",
      "enter name and password:anuja anuja\n",
      "credentials are correct & login successful\n"
     ]
    }
   ],
   "source": [
    "def myfunc():\n",
    "    name,password=map(str,input(\"enter name and password:\").split())\n",
    "    if name==\"admin\" :\n",
    "        if password==\"1234\":\n",
    "            print(\"weak password\")\n",
    "        else:\n",
    "            print(\"wrong password\")\n",
    "    else:\n",
    "        if name==name and password==name:\n",
    "            print(\"credentials are correct & login successful\")\n",
    "        else:\n",
    "            print(\"credentials are not correct\")\n",
    "myfunc()\n",
    "myfunc() "
   ]
  },
  {
   "cell_type": "code",
   "execution_count": 7,
   "id": "1ddde677",
   "metadata": {},
   "outputs": [
    {
     "name": "stdout",
     "output_type": "stream",
     "text": [
      "enter your name : 123\n",
      "1\n",
      "2\n",
      "3\n"
     ]
    }
   ],
   "source": [
    "name=str(input(\"enter your name : \"))#input() bydefault takes any input as string\n",
    "for i in name:\n",
    "    print(i)"
   ]
  },
  {
   "cell_type": "code",
   "execution_count": 5,
   "id": "0a1b2851",
   "metadata": {},
   "outputs": [
    {
     "data": {
      "text/plain": [
       "str"
      ]
     },
     "execution_count": 5,
     "metadata": {},
     "output_type": "execute_result"
    }
   ],
   "source": [
    "num=input(\"enter no)\n",
    "num1=num/2"
   ]
  },
  {
   "cell_type": "code",
   "execution_count": 11,
   "id": "d4277a54",
   "metadata": {},
   "outputs": [
    {
     "name": "stdout",
     "output_type": "stream",
     "text": [
      "0\n",
      "2\n",
      "4\n",
      "6\n",
      "8\n",
      "10\n",
      "12\n",
      "14\n",
      "16\n",
      "18\n",
      "20\n",
      "22\n",
      "24\n",
      "26\n",
      "28\n",
      "30\n",
      "32\n",
      "34\n",
      "36\n",
      "38\n",
      "40\n",
      "42\n",
      "44\n",
      "46\n",
      "48\n",
      "50\n",
      "52\n",
      "54\n",
      "56\n",
      "58\n",
      "60\n",
      "62\n",
      "64\n",
      "66\n",
      "68\n",
      "70\n",
      "72\n",
      "74\n",
      "76\n",
      "78\n",
      "80\n",
      "82\n",
      "84\n",
      "86\n",
      "88\n",
      "90\n",
      "92\n",
      "94\n",
      "96\n",
      "98\n",
      "100\n"
     ]
    }
   ],
   "source": [
    "for  i in range(0,101):\n",
    "    if i%2==0:\n",
    "        print(i)"
   ]
  },
  {
   "cell_type": "code",
   "execution_count": 10,
   "id": "964f02cd",
   "metadata": {},
   "outputs": [
    {
     "name": "stdout",
     "output_type": "stream",
     "text": [
      "0\n",
      "2\n",
      "4\n",
      "6\n",
      "8\n",
      "10\n",
      "12\n",
      "14\n",
      "16\n",
      "18\n",
      "20\n",
      "22\n",
      "24\n",
      "26\n",
      "28\n",
      "30\n",
      "32\n",
      "34\n",
      "36\n",
      "38\n",
      "40\n",
      "42\n",
      "44\n",
      "46\n",
      "48\n",
      "50\n",
      "52\n",
      "54\n",
      "56\n",
      "58\n",
      "60\n",
      "62\n",
      "64\n",
      "66\n",
      "68\n",
      "70\n",
      "72\n",
      "74\n",
      "76\n",
      "78\n",
      "80\n",
      "82\n",
      "84\n",
      "86\n",
      "88\n",
      "90\n",
      "92\n",
      "94\n",
      "96\n",
      "98\n",
      "100\n"
     ]
    }
   ],
   "source": [
    "#WAP TO DISPLAY NUMBERS B/W 1 TO 100 WHICH ARE EVEN\n",
    "for  i in range(0,101,2):\n",
    "    print(i)"
   ]
  },
  {
   "cell_type": "code",
   "execution_count": 14,
   "id": "ab03c3ea",
   "metadata": {},
   "outputs": [
    {
     "name": "stdout",
     "output_type": "stream",
     "text": [
      "1\n",
      "2\n",
      "3\n",
      "4\n",
      "5\n",
      "6\n",
      "7\n",
      "8\n",
      "9\n",
      "10\n",
      "11\n",
      "12\n",
      "13\n",
      "14\n",
      "15\n",
      "16\n",
      "17\n",
      "18\n",
      "19\n",
      "20\n",
      "21\n",
      "22\n",
      "23\n",
      "24\n",
      "25\n",
      "26\n",
      "27\n",
      "28\n",
      "29\n",
      "30\n",
      "31\n",
      "32\n",
      "33\n",
      "34\n",
      "35\n",
      "36\n",
      "37\n",
      "38\n",
      "39\n",
      "40\n",
      "41\n",
      "42\n",
      "43\n",
      "44\n",
      "45\n",
      "46\n",
      "47\n",
      "48\n",
      "49\n"
     ]
    }
   ],
   "source": [
    "for i in range(1,50,5):#range(start index, stop index, step)\n",
    "    print(i)"
   ]
  },
  {
   "cell_type": "code",
   "execution_count": 21,
   "id": "56c05480",
   "metadata": {},
   "outputs": [
    {
     "name": "stdout",
     "output_type": "stream",
     "text": [
      "0\n",
      "1\n",
      "2\n",
      "3\n",
      "4\n",
      "5\n",
      "6\n"
     ]
    }
   ],
   "source": [
    "for i in range(15):#bydefault start from 0\n",
    "    #print(i)\n",
    "    if i==7:\n",
    "        break\n",
    "    print(i)"
   ]
  },
  {
   "cell_type": "code",
   "execution_count": 23,
   "id": "61c07d28",
   "metadata": {},
   "outputs": [
    {
     "name": "stdout",
     "output_type": "stream",
     "text": [
      "red banana\n",
      "red apple\n",
      "red mango\n",
      "red watermelon\n",
      "blue banana\n",
      "blue apple\n",
      "blue mango\n",
      "blue watermelon\n",
      "black banana\n",
      "black apple\n",
      "black mango\n",
      "black watermelon\n",
      "green banana\n",
      "green apple\n",
      "green mango\n",
      "green watermelon\n"
     ]
    }
   ],
   "source": [
    "#Nested for loop\n",
    "color=[\"red\",\"blue\",\"black\",\"green\"]\n",
    "fruits=[\"banana\",\"apple\",\"mango\",\"watermelon\"]\n",
    "for x in color:\n",
    "    for y in fruits:\n",
    "        print(x,y)"
   ]
  },
  {
   "cell_type": "code",
   "execution_count": 25,
   "id": "db144940",
   "metadata": {},
   "outputs": [
    {
     "data": {
      "text/plain": [
       "{'name': ['abc', 'xyz'], 'age': [10, 20], 'city': ['mumbai', 'delhi']}"
      ]
     },
     "execution_count": 25,
     "metadata": {},
     "output_type": "execute_result"
    }
   ],
   "source": [
    "d1={\"name\":[\"abc\",\"xyz\"],\"age\":[10,20],\"city\":[\"mumbai\",\"delhi\"]}\n",
    "d1"
   ]
  },
  {
   "cell_type": "code",
   "execution_count": 32,
   "id": "edaac8b7",
   "metadata": {},
   "outputs": [
    {
     "name": "stdout",
     "output_type": "stream",
     "text": [
      "name\n",
      "age\n",
      "city\n"
     ]
    }
   ],
   "source": [
    "for i in d1.keys():\n",
    "    print(i)"
   ]
  },
  {
   "cell_type": "code",
   "execution_count": 31,
   "id": "86b486ee",
   "metadata": {},
   "outputs": [
    {
     "name": "stdout",
     "output_type": "stream",
     "text": [
      "['abc', 'xyz']\n",
      "[10, 20]\n",
      "['mumbai', 'delhi']\n"
     ]
    }
   ],
   "source": [
    "for i in d1.values():\n",
    "    print(i)"
   ]
  },
  {
   "cell_type": "code",
   "execution_count": 33,
   "id": "da5b13f0",
   "metadata": {},
   "outputs": [
    {
     "name": "stdout",
     "output_type": "stream",
     "text": [
      "name ['abc', 'xyz']\n",
      "age [10, 20]\n",
      "city ['mumbai', 'delhi']\n"
     ]
    }
   ],
   "source": [
    "for i,m in d1.items():\n",
    "    print(i,m)"
   ]
  },
  {
   "cell_type": "code",
   "execution_count": 37,
   "id": "ab10623f",
   "metadata": {},
   "outputs": [
    {
     "name": "stdout",
     "output_type": "stream",
     "text": [
      "10 5\n",
      "10 10\n",
      "20 5\n",
      "20 10\n"
     ]
    }
   ],
   "source": [
    "l1=[10,20]\n",
    "l2=[5,10,20]\n",
    "#o/p:10 5,20 5,20 10\n",
    "for i in range(len(l1)):\n",
    "    for j in range(len(l2)):\n",
    "        if j==2:\n",
    "            break\n",
    "        print(l1[i],l2[j])\n",
    "        \n",
    "        "
   ]
  },
  {
   "cell_type": "code",
   "execution_count": 39,
   "id": "00484ff3",
   "metadata": {},
   "outputs": [
    {
     "name": "stdout",
     "output_type": "stream",
     "text": [
      "10 5\n",
      "20 5\n",
      "20 10\n"
     ]
    }
   ],
   "source": [
    "l1=[10,20]\n",
    "l2=[5,10,20]\n",
    "#o/p:10 5,20 5,20 10\n",
    "for i in l1:\n",
    "    for y in l2:\n",
    "        if i==y:\n",
    "            break\n",
    "        \n",
    "        print(i,y)"
   ]
  },
  {
   "cell_type": "code",
   "execution_count": 42,
   "id": "01c5735b",
   "metadata": {},
   "outputs": [],
   "source": [
    "for i in \"india\":#pass allows us to execute any loop or decision making statement without code body\n",
    "   # print(i)\n",
    "    pass"
   ]
  },
  {
   "cell_type": "code",
   "execution_count": 48,
   "id": "60f25bf0",
   "metadata": {},
   "outputs": [],
   "source": [
    "if  10<20:\n",
    "    pass\n",
    "    "
   ]
  },
  {
   "cell_type": "code",
   "execution_count": null,
   "id": "12d0bbfe",
   "metadata": {},
   "outputs": [],
   "source": []
  },
  {
   "cell_type": "code",
   "execution_count": null,
   "id": "ea384f83",
   "metadata": {},
   "outputs": [],
   "source": []
  },
  {
   "cell_type": "markdown",
   "id": "8a59a58f",
   "metadata": {},
   "source": [
    "### continue"
   ]
  },
  {
   "cell_type": "code",
   "execution_count": null,
   "id": "83a3ed1c",
   "metadata": {},
   "outputs": [],
   "source": []
  },
  {
   "cell_type": "code",
   "execution_count": 50,
   "id": "b2239bc5",
   "metadata": {},
   "outputs": [
    {
     "name": "stdout",
     "output_type": "stream",
     "text": [
      "0\n",
      "1\n",
      "2\n",
      "3\n",
      "4\n",
      "6\n",
      "7\n",
      "8\n",
      "9\n"
     ]
    }
   ],
   "source": [
    "#continue to skip certain iteration\n",
    "for i in range(10):\n",
    "    if i==5:\n",
    "        continue\n",
    "    print(i)"
   ]
  },
  {
   "cell_type": "code",
   "execution_count": 57,
   "id": "1297bff5",
   "metadata": {},
   "outputs": [
    {
     "name": "stdout",
     "output_type": "stream",
     "text": [
      "10\n",
      "20\n",
      "30\n",
      "40\n",
      "80\n"
     ]
    }
   ],
   "source": [
    "#WAP TO get o/p with number lower than 100\n",
    "l=[10,20,30,40,200,500,80,900] # if i>80 then next print not executed\n",
    "for i in l:\n",
    "    if i>100:\n",
    "        continue\n",
    "    print(i)"
   ]
  },
  {
   "cell_type": "code",
   "execution_count": 55,
   "id": "cf5f690f",
   "metadata": {
    "scrolled": true
   },
   "outputs": [
    {
     "name": "stdout",
     "output_type": "stream",
     "text": [
      "20\n",
      "30\n",
      "40\n",
      "200\n",
      "80\n"
     ]
    }
   ],
   "source": [
    "#WAP to skip 10,500 in  o/p\n",
    "l=[10,20,30,40,200,500,80,900]#o/p10,20,30,40,500,80\n",
    "for i in l:\n",
    "    if i==10 or i==500:\n",
    "        continue\n",
    "\n",
    "    print(i)"
   ]
  },
  {
   "cell_type": "markdown",
   "id": "599f8111",
   "metadata": {},
   "source": [
    "### while loop"
   ]
  },
  {
   "cell_type": "code",
   "execution_count": 1,
   "id": "0e7df41c",
   "metadata": {},
   "outputs": [
    {
     "name": "stdout",
     "output_type": "stream",
     "text": [
      "1\n",
      "2\n",
      "3\n",
      "4\n",
      "5\n",
      "6\n",
      "7\n",
      "8\n",
      "9\n"
     ]
    }
   ],
   "source": [
    "i=1  #while loop execute until condition is true\n",
    "while i<10:\n",
    "    print(i)\n",
    "    i+=1"
   ]
  },
  {
   "cell_type": "code",
   "execution_count": 3,
   "id": "bc911396",
   "metadata": {},
   "outputs": [
    {
     "name": "stdout",
     "output_type": "stream",
     "text": [
      "1\n",
      "2\n",
      "3\n",
      "4\n",
      "5\n",
      "6\n"
     ]
    }
   ],
   "source": [
    "i=1  \n",
    "while i<10:\n",
    "    #print(i)\n",
    "    if i==7:\n",
    "        break\n",
    "    print(i)\n",
    "    i+=1"
   ]
  },
  {
   "cell_type": "code",
   "execution_count": 7,
   "id": "fdec7ed4",
   "metadata": {},
   "outputs": [
    {
     "name": "stdout",
     "output_type": "stream",
     "text": [
      "1 2 3 4 5 6 7 8 9 11 12 13 14 15 16 17 18 19 20 "
     ]
    }
   ],
   "source": [
    "i=0\n",
    "while i<20:\n",
    "    i+=1\n",
    "    if i==10:\n",
    "        continue\n",
    "    print(i , end=\" \")"
   ]
  },
  {
   "cell_type": "code",
   "execution_count": 8,
   "id": "9e157137",
   "metadata": {},
   "outputs": [
    {
     "name": "stdout",
     "output_type": "stream",
     "text": [
      "1\n",
      "2\n",
      "3\n",
      "4\n",
      "rest of the values are greater then 5\n"
     ]
    }
   ],
   "source": [
    "i=1\n",
    "while i<5:\n",
    "    print(i)\n",
    "    i+=1\n",
    "else:\n",
    "    print(\"rest of the values are greater then 5\")"
   ]
  },
  {
   "cell_type": "markdown",
   "id": "3e0bedae",
   "metadata": {},
   "source": [
    "#### take one empty list and assign the number less than 5"
   ]
  },
  {
   "cell_type": "code",
   "execution_count": 21,
   "id": "b0aba193",
   "metadata": {},
   "outputs": [
    {
     "name": "stdout",
     "output_type": "stream",
     "text": [
      "enter elements you wants in list:1 2 3 5 7 5 2 3 4 \n",
      "[1, 2, 3, 2, 3, 4]\n"
     ]
    }
   ],
   "source": [
    "a = map(int,input(\"enter elements you wants in list:\").split())\n",
    "lst=[]\n",
    "for i in a:\n",
    "    if i<5:\n",
    "        lst.append(i)\n",
    "print(lst)\n",
    "\n"
   ]
  },
  {
   "cell_type": "markdown",
   "id": "40db2ab9",
   "metadata": {},
   "source": [
    "#### WAP to accept radius of a Circle from the user and calculate area and circumference¶"
   ]
  },
  {
   "cell_type": "raw",
   "id": "dd7d1e0f",
   "metadata": {},
   "source": [
    " circumference = 2.pi.r\n",
    " area =pi. r^2"
   ]
  },
  {
   "cell_type": "code",
   "execution_count": 20,
   "id": "7c315d4f",
   "metadata": {},
   "outputs": [
    {
     "name": "stdout",
     "output_type": "stream",
     "text": [
      "enter radius of circle : 8\n",
      "area of circle is : 200.96 circumference of circle is : 50.24\n"
     ]
    }
   ],
   "source": [
    "r = int(input(\"enter radius of circle : \"))\n",
    "area=3.14*(r**2)\n",
    "circumference=2*3.14*r\n",
    "print(\"area of circle is :\",area,\"circumference of circle is :\",circumference  )\n"
   ]
  },
  {
   "cell_type": "markdown",
   "id": "ef898ee8",
   "metadata": {},
   "source": [
    "#### Finding the sum of numbers in a list using while loop"
   ]
  },
  {
   "cell_type": "code",
   "execution_count": 1,
   "id": "1635f78d",
   "metadata": {},
   "outputs": [
    {
     "name": "stdout",
     "output_type": "stream",
     "text": [
      "115\n"
     ]
    }
   ],
   "source": [
    "a=[23,45,12,10,25]\n",
    "i=0\n",
    "sum=0\n",
    "while i <len(a):\n",
    "    sum=a[i]+sum\n",
    "    i+=1\n",
    "print(sum)"
   ]
  },
  {
   "cell_type": "markdown",
   "id": "1581ac17",
   "metadata": {},
   "source": [
    "#### Finding the average of 5 numbers using while loop"
   ]
  },
  {
   "cell_type": "code",
   "execution_count": 9,
   "id": "be3a35ba",
   "metadata": {},
   "outputs": [
    {
     "name": "stdout",
     "output_type": "stream",
     "text": [
      "enter no : 1\n",
      "enter no : 2\n",
      "enter no : 3\n",
      "enter no : 4\n",
      "enter no : 5\n",
      "sum is :  15 avg is : 3.0\n"
     ]
    }
   ],
   "source": [
    "num = 5\n",
    "i=0\n",
    "sum1=0\n",
    "while  num > 0:\n",
    "    a=int(input(\"enter no : \"))\n",
    "    i+=1\n",
    "    sum1+=a\n",
    "    num-=1\n",
    "avg=sum1/i\n",
    "print(\"sum is : \",sum1,\"avg is :\",avg)\n",
    "    \n",
    "    "
   ]
  },
  {
   "cell_type": "markdown",
   "id": "98b6ef97",
   "metadata": {},
   "source": [
    "## function"
   ]
  },
  {
   "cell_type": "code",
   "execution_count": 12,
   "id": "283ea4d9",
   "metadata": {},
   "outputs": [
    {
     "name": "stdout",
     "output_type": "stream",
     "text": [
      "anuja\n"
     ]
    }
   ],
   "source": [
    "def myfunction():\n",
    "    print(\"anuja\")\n",
    "myfunction()"
   ]
  },
  {
   "cell_type": "code",
   "execution_count": 14,
   "id": "c3032c4e",
   "metadata": {},
   "outputs": [
    {
     "name": "stdout",
     "output_type": "stream",
     "text": [
      "6\n"
     ]
    }
   ],
   "source": [
    "def add(a,b,c):\n",
    "    d=a+b+c\n",
    "    print(d)\n",
    "add(1,2,3)"
   ]
  },
  {
   "cell_type": "code",
   "execution_count": 15,
   "id": "88a784b2",
   "metadata": {},
   "outputs": [
    {
     "name": "stdout",
     "output_type": "stream",
     "text": [
      "120\n"
     ]
    }
   ],
   "source": [
    "def multiply(a,b,c):\n",
    "    d=a*b*c\n",
    "    print(d)\n",
    "multiply(5,6,4)"
   ]
  },
  {
   "cell_type": "markdown",
   "id": "9ba4b406",
   "metadata": {},
   "source": [
    "0 1 2 3\n",
    "0 2 4 6\n",
    "0 3 6 9\n",
    "0 4 8 12"
   ]
  },
  {
   "cell_type": "code",
   "execution_count": 5,
   "id": "df20b961",
   "metadata": {},
   "outputs": [
    {
     "name": "stdout",
     "output_type": "stream",
     "text": [
      "0 1 2 3 \n",
      "0 2 4 6 \n",
      "0 3 6 9 \n",
      "0 4 8 12 \n"
     ]
    }
   ],
   "source": [
    "i=1\n",
    "while i<5:\n",
    "    j=0\n",
    "    while j<4:\n",
    "        print(i*j,end=\" \")\n",
    "        j+=1\n",
    "    print()\n",
    "    i+=1\n",
    "    "
   ]
  },
  {
   "cell_type": "code",
   "execution_count": 1,
   "id": "49c90bf7",
   "metadata": {},
   "outputs": [
    {
     "name": "stdout",
     "output_type": "stream",
     "text": [
      "0 1 2 3 \n",
      "0 2 4 6 \n",
      "0 3 6 9 \n",
      "0 4 8 12 \n"
     ]
    }
   ],
   "source": [
    "for i in range(1,5):\n",
    "    for j in range(0,4):\n",
    "        print(i*j,end = \" \")\n",
    "    print()"
   ]
  },
  {
   "cell_type": "markdown",
   "id": "a6daa217",
   "metadata": {},
   "source": [
    "#### Printing the square of numbers using while loop"
   ]
  },
  {
   "cell_type": "code",
   "execution_count": 11,
   "id": "8fe7aba0",
   "metadata": {},
   "outputs": [
    {
     "name": "stdout",
     "output_type": "stream",
     "text": [
      "enter no : 2\n",
      "square of 2 : 4 \n",
      "enter no : 5\n",
      "square of 5 : 25 \n",
      "enter no : 3\n",
      "square of 3 : 9 \n",
      "enter no : 4\n",
      "square of 4 : 16 \n",
      "enter no : 8\n",
      "square of 8 : 64 \n"
     ]
    }
   ],
   "source": [
    "num = 5\n",
    "while  num > 0:\n",
    "    a=int(input(\"enter no : \"))\n",
    "    square = a*a\n",
    "    print(\"square of {} : {} \".format(a,square))\n",
    "    num-=1"
   ]
  },
  {
   "cell_type": "markdown",
   "id": "a36f6b4e",
   "metadata": {},
   "source": [
    "#### Write a program to accept a string from the user and display it vertically but don’t display the vowels in it."
   ]
  },
  {
   "cell_type": "code",
   "execution_count": 29,
   "id": "73a45a06",
   "metadata": {},
   "outputs": [
    {
     "name": "stdout",
     "output_type": "stream",
     "text": [
      "enter string : hello anuja \n",
      "h\n",
      "l\n",
      "l\n",
      " \n",
      "n\n",
      "j\n",
      " \n"
     ]
    }
   ],
   "source": [
    "a = input(\"enter string : \")\n",
    "b=\"aeiou\"\n",
    "for i in a:\n",
    "    if i in b:\n",
    "        continue\n",
    "    else:\n",
    "        print(i)"
   ]
  },
  {
   "cell_type": "markdown",
   "id": "de4f2ced",
   "metadata": {},
   "source": [
    "#### Write a Python program which accepts the user's first and last name and print them in reverse order with a space between them.¶"
   ]
  },
  {
   "cell_type": "code",
   "execution_count": 32,
   "id": "c2209f8d",
   "metadata": {},
   "outputs": [
    {
     "name": "stdout",
     "output_type": "stream",
     "text": [
      "enter first and last name : anuja kanawade\n",
      "edawanak ajuna\n"
     ]
    }
   ],
   "source": [
    "name = input(\"enter first and last name : \")\n",
    "print(name[: : -1])"
   ]
  },
  {
   "cell_type": "code",
   "execution_count": null,
   "id": "782f0f69",
   "metadata": {},
   "outputs": [],
   "source": []
  }
 ],
 "metadata": {
  "kernelspec": {
   "display_name": "Python 3 (ipykernel)",
   "language": "python",
   "name": "python3"
  },
  "language_info": {
   "codemirror_mode": {
    "name": "ipython",
    "version": 3
   },
   "file_extension": ".py",
   "mimetype": "text/x-python",
   "name": "python",
   "nbconvert_exporter": "python",
   "pygments_lexer": "ipython3",
   "version": "3.10.9"
  }
 },
 "nbformat": 4,
 "nbformat_minor": 5
}
