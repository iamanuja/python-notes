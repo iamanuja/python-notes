{
 "cells": [
  {
   "cell_type": "code",
   "execution_count": 1,
   "id": "822e825b",
   "metadata": {},
   "outputs": [],
   "source": [
    "a= {\"girls\" : [\"anuja\",\"nisha\",\"mine\"],\n",
    "\"rollno\" :[ 1,2,3,],\n",
    "\"weight\":[33,38,40],\n",
    "    }\n",
    "b=a   \n",
    "\n"
   ]
  },
  {
   "cell_type": "code",
   "execution_count": 5,
   "id": "45958d43",
   "metadata": {},
   "outputs": [
    {
     "name": "stdout",
     "output_type": "stream",
     "text": [
      "1,6,11,16,21,26,31,36,41,46,"
     ]
    }
   ],
   "source": [
    "for i in range(1,50,5):#range(start index, stop index, step)\n",
    "    print(i , end=\",\")"
   ]
  },
  {
   "cell_type": "code",
   "execution_count": 6,
   "id": "b4ac99b2",
   "metadata": {},
   "outputs": [
    {
     "name": "stdout",
     "output_type": "stream",
     "text": [
      "1,6,11,16,21,26,31,36,41,46"
     ]
    }
   ],
   "source": [
    "for i in range(1, 50, 5):\n",
    "    if i != 1:\n",
    "        print(\",\", end=\"\")\n",
    "    print(i, end=\"\")"
   ]
  },
  {
   "cell_type": "code",
   "execution_count": 7,
   "id": "50768d76",
   "metadata": {},
   "outputs": [
    {
     "name": "stdout",
     "output_type": "stream",
     "text": [
      "1,6,11,16,21,26,31,36,41,46,51\n"
     ]
    }
   ],
   "source": [
    "for i in range(1, 50, 5):\n",
    "    print(i, end=\",\")\n",
    "else:\n",
    "    print(i+5)\n"
   ]
  },
  {
   "cell_type": "code",
   "execution_count": 13,
   "id": "97dc75c0",
   "metadata": {},
   "outputs": [
    {
     "name": "stdout",
     "output_type": "stream",
     "text": [
      "a\n",
      "\n",
      "b\n"
     ]
    }
   ],
   "source": [
    "print(\"a\")\n",
    "print()\n",
    "print(\"b\")"
   ]
  },
  {
   "cell_type": "code",
   "execution_count": 14,
   "id": "600c546f",
   "metadata": {},
   "outputs": [
    {
     "name": "stdout",
     "output_type": "stream",
     "text": [
      "0 1 2 3 \n",
      "0 2 4 6 \n",
      "0 3 6 9 \n",
      "0 4 8 12 \n"
     ]
    }
   ],
   "source": [
    "i=1\n",
    "while i<5:\n",
    "    j=0\n",
    "    while j<4:\n",
    "        print(i*j,end=\" \")\n",
    "        j+=1\n",
    "    print()\n",
    "    i+=1\n",
    "    "
   ]
  },
  {
   "cell_type": "code",
   "execution_count": null,
   "id": "9c390a6c",
   "metadata": {},
   "outputs": [],
   "source": []
  },
  {
   "cell_type": "code",
   "execution_count": 1,
   "id": "5c977a0d",
   "metadata": {},
   "outputs": [],
   "source": [
    "import numpy as np\n",
    "import pandas as pd\n",
    "import matplotlib.pyplot as plt\n",
    "import seaborn as sns"
   ]
  },
  {
   "cell_type": "code",
   "execution_count": 2,
   "id": "f300f55b",
   "metadata": {},
   "outputs": [
    {
     "data": {
      "text/html": [
       "<div>\n",
       "<style scoped>\n",
       "    .dataframe tbody tr th:only-of-type {\n",
       "        vertical-align: middle;\n",
       "    }\n",
       "\n",
       "    .dataframe tbody tr th {\n",
       "        vertical-align: top;\n",
       "    }\n",
       "\n",
       "    .dataframe thead th {\n",
       "        text-align: right;\n",
       "    }\n",
       "</style>\n",
       "<table border=\"1\" class=\"dataframe\">\n",
       "  <thead>\n",
       "    <tr style=\"text-align: right;\">\n",
       "      <th></th>\n",
       "      <th>Customer ID</th>\n",
       "      <th>Credit_Amount</th>\n",
       "      <th>Gender</th>\n",
       "      <th>Academic_Qualification</th>\n",
       "      <th>Marital</th>\n",
       "      <th>Age_Years</th>\n",
       "      <th>Repayment_Status_Jan</th>\n",
       "      <th>Repayment_Status_Feb</th>\n",
       "      <th>Repayment_Status_March</th>\n",
       "      <th>Repayment_Status_April</th>\n",
       "      <th>...</th>\n",
       "      <th>April_Bill_Amount</th>\n",
       "      <th>May_Bill_Amount</th>\n",
       "      <th>June_Bill_Amount</th>\n",
       "      <th>Previous_Payment_Jan</th>\n",
       "      <th>Previous_Payment_Feb</th>\n",
       "      <th>Previous_Payment_March</th>\n",
       "      <th>Previous_Payment_April</th>\n",
       "      <th>Previous_Payment_May</th>\n",
       "      <th>Previous_Payment_June</th>\n",
       "      <th>Default_Payment</th>\n",
       "    </tr>\n",
       "  </thead>\n",
       "  <tbody>\n",
       "    <tr>\n",
       "      <th>0</th>\n",
       "      <td>1</td>\n",
       "      <td>20000.0</td>\n",
       "      <td>2</td>\n",
       "      <td>2</td>\n",
       "      <td>1</td>\n",
       "      <td>24</td>\n",
       "      <td>2</td>\n",
       "      <td>2</td>\n",
       "      <td>0</td>\n",
       "      <td>0</td>\n",
       "      <td>...</td>\n",
       "      <td>0.0</td>\n",
       "      <td>0.0</td>\n",
       "      <td>0.0</td>\n",
       "      <td>0.0</td>\n",
       "      <td>679.0</td>\n",
       "      <td>0.0</td>\n",
       "      <td>0.0</td>\n",
       "      <td>0.0</td>\n",
       "      <td>0.0</td>\n",
       "      <td>1</td>\n",
       "    </tr>\n",
       "    <tr>\n",
       "      <th>1</th>\n",
       "      <td>2</td>\n",
       "      <td>220000.0</td>\n",
       "      <td>2</td>\n",
       "      <td>2</td>\n",
       "      <td>2</td>\n",
       "      <td>26</td>\n",
       "      <td>0</td>\n",
       "      <td>2</td>\n",
       "      <td>0</td>\n",
       "      <td>0</td>\n",
       "      <td>...</td>\n",
       "      <td>3272.0</td>\n",
       "      <td>3455.0</td>\n",
       "      <td>3261.0</td>\n",
       "      <td>0.0</td>\n",
       "      <td>2000.0</td>\n",
       "      <td>1000.0</td>\n",
       "      <td>1000.0</td>\n",
       "      <td>0.0</td>\n",
       "      <td>2000.0</td>\n",
       "      <td>1</td>\n",
       "    </tr>\n",
       "    <tr>\n",
       "      <th>2</th>\n",
       "      <td>3</td>\n",
       "      <td>90000.0</td>\n",
       "      <td>2</td>\n",
       "      <td>2</td>\n",
       "      <td>2</td>\n",
       "      <td>34</td>\n",
       "      <td>0</td>\n",
       "      <td>0</td>\n",
       "      <td>0</td>\n",
       "      <td>0</td>\n",
       "      <td>...</td>\n",
       "      <td>24332.0</td>\n",
       "      <td>14848.0</td>\n",
       "      <td>15548.0</td>\n",
       "      <td>1619.0</td>\n",
       "      <td>2500.0</td>\n",
       "      <td>1000.0</td>\n",
       "      <td>1000.0</td>\n",
       "      <td>1000.0</td>\n",
       "      <td>5000.0</td>\n",
       "      <td>0</td>\n",
       "    </tr>\n",
       "    <tr>\n",
       "      <th>3</th>\n",
       "      <td>4</td>\n",
       "      <td>50000.0</td>\n",
       "      <td>2</td>\n",
       "      <td>2</td>\n",
       "      <td>1</td>\n",
       "      <td>37</td>\n",
       "      <td>0</td>\n",
       "      <td>0</td>\n",
       "      <td>0</td>\n",
       "      <td>0</td>\n",
       "      <td>...</td>\n",
       "      <td>29324.0</td>\n",
       "      <td>28858.0</td>\n",
       "      <td>28547.0</td>\n",
       "      <td>3000.0</td>\n",
       "      <td>2029.0</td>\n",
       "      <td>1200.0</td>\n",
       "      <td>1100.0</td>\n",
       "      <td>1069.0</td>\n",
       "      <td>1000.0</td>\n",
       "      <td>0</td>\n",
       "    </tr>\n",
       "    <tr>\n",
       "      <th>4</th>\n",
       "      <td>5</td>\n",
       "      <td>50000.0</td>\n",
       "      <td>1</td>\n",
       "      <td>2</td>\n",
       "      <td>1</td>\n",
       "      <td>57</td>\n",
       "      <td>0</td>\n",
       "      <td>0</td>\n",
       "      <td>0</td>\n",
       "      <td>0</td>\n",
       "      <td>...</td>\n",
       "      <td>20940.0</td>\n",
       "      <td>18146.0</td>\n",
       "      <td>18131.0</td>\n",
       "      <td>3000.0</td>\n",
       "      <td>36672.0</td>\n",
       "      <td>10000.0</td>\n",
       "      <td>9000.0</td>\n",
       "      <td>689.0</td>\n",
       "      <td>679.0</td>\n",
       "      <td>0</td>\n",
       "    </tr>\n",
       "  </tbody>\n",
       "</table>\n",
       "<p>5 rows × 25 columns</p>\n",
       "</div>"
      ],
      "text/plain": [
       "   Customer ID  Credit_Amount  Gender  Academic_Qualification  Marital  \\\n",
       "0            1        20000.0       2                       2        1   \n",
       "1            2       220000.0       2                       2        2   \n",
       "2            3        90000.0       2                       2        2   \n",
       "3            4        50000.0       2                       2        1   \n",
       "4            5        50000.0       1                       2        1   \n",
       "\n",
       "   Age_Years  Repayment_Status_Jan  Repayment_Status_Feb  \\\n",
       "0         24                     2                     2   \n",
       "1         26                     0                     2   \n",
       "2         34                     0                     0   \n",
       "3         37                     0                     0   \n",
       "4         57                     0                     0   \n",
       "\n",
       "   Repayment_Status_March  Repayment_Status_April  ...  April_Bill_Amount  \\\n",
       "0                       0                       0  ...                0.0   \n",
       "1                       0                       0  ...             3272.0   \n",
       "2                       0                       0  ...            24332.0   \n",
       "3                       0                       0  ...            29324.0   \n",
       "4                       0                       0  ...            20940.0   \n",
       "\n",
       "   May_Bill_Amount  June_Bill_Amount  Previous_Payment_Jan  \\\n",
       "0              0.0               0.0                   0.0   \n",
       "1           3455.0            3261.0                   0.0   \n",
       "2          14848.0           15548.0                1619.0   \n",
       "3          28858.0           28547.0                3000.0   \n",
       "4          18146.0           18131.0                3000.0   \n",
       "\n",
       "   Previous_Payment_Feb  Previous_Payment_March  Previous_Payment_April  \\\n",
       "0                 679.0                     0.0                     0.0   \n",
       "1                2000.0                  1000.0                  1000.0   \n",
       "2                2500.0                  1000.0                  1000.0   \n",
       "3                2029.0                  1200.0                  1100.0   \n",
       "4               36672.0                 10000.0                  9000.0   \n",
       "\n",
       "   Previous_Payment_May  Previous_Payment_June  Default_Payment  \n",
       "0                   0.0                    0.0                1  \n",
       "1                   0.0                 2000.0                1  \n",
       "2                1000.0                 5000.0                0  \n",
       "3                1069.0                 1000.0                0  \n",
       "4                 689.0                  679.0                0  \n",
       "\n",
       "[5 rows x 25 columns]"
      ]
     },
     "execution_count": 2,
     "metadata": {},
     "output_type": "execute_result"
    }
   ],
   "source": [
    "df=pd.read_csv(r\"C:\\Users\\Anuja\\Music\\New folder\\BankCreditCard.csv\")\n",
    "df.head()"
   ]
  },
  {
   "cell_type": "code",
   "execution_count": 3,
   "id": "1d657009",
   "metadata": {},
   "outputs": [
    {
     "data": {
      "text/plain": [
       "(30000, 25)"
      ]
     },
     "execution_count": 3,
     "metadata": {},
     "output_type": "execute_result"
    }
   ],
   "source": [
    "df.shape"
   ]
  },
  {
   "cell_type": "code",
   "execution_count": 4,
   "id": "e7f7f003",
   "metadata": {
    "scrolled": true
   },
   "outputs": [
    {
     "data": {
      "text/plain": [
       "Customer ID               0\n",
       "Credit_Amount             0\n",
       "Gender                    0\n",
       "Academic_Qualification    0\n",
       "Marital                   0\n",
       "Age_Years                 0\n",
       "Repayment_Status_Jan      0\n",
       "Repayment_Status_Feb      0\n",
       "Repayment_Status_March    0\n",
       "Repayment_Status_April    0\n",
       "Repayment_Status_May      0\n",
       "Repayment_Status_June     0\n",
       "Jan_Bill_Amount           0\n",
       "Feb_Bill_Amount           0\n",
       "March_Bill_Amount         0\n",
       "April_Bill_Amount         0\n",
       "May_Bill_Amount           0\n",
       "June_Bill_Amount          0\n",
       "Previous_Payment_Jan      0\n",
       "Previous_Payment_Feb      0\n",
       "Previous_Payment_March    0\n",
       "Previous_Payment_April    0\n",
       "Previous_Payment_May      0\n",
       "Previous_Payment_June     0\n",
       "Default_Payment           0\n",
       "dtype: int64"
      ]
     },
     "execution_count": 4,
     "metadata": {},
     "output_type": "execute_result"
    }
   ],
   "source": [
    "df.isnull().sum()"
   ]
  },
  {
   "cell_type": "code",
   "execution_count": 5,
   "id": "fdfc3f7c",
   "metadata": {},
   "outputs": [],
   "source": [
    "df.drop(\"Customer ID\",inplace=True,axis=1)"
   ]
  },
  {
   "cell_type": "code",
   "execution_count": 6,
   "id": "ddd1c058",
   "metadata": {},
   "outputs": [
    {
     "data": {
      "text/plain": [
       "Credit_Amount             float64\n",
       "Gender                      int64\n",
       "Academic_Qualification      int64\n",
       "Marital                     int64\n",
       "Age_Years                   int64\n",
       "Repayment_Status_Jan        int64\n",
       "Repayment_Status_Feb        int64\n",
       "Repayment_Status_March      int64\n",
       "Repayment_Status_April      int64\n",
       "Repayment_Status_May        int64\n",
       "Repayment_Status_June       int64\n",
       "Jan_Bill_Amount           float64\n",
       "Feb_Bill_Amount           float64\n",
       "March_Bill_Amount         float64\n",
       "April_Bill_Amount         float64\n",
       "May_Bill_Amount           float64\n",
       "June_Bill_Amount          float64\n",
       "Previous_Payment_Jan      float64\n",
       "Previous_Payment_Feb      float64\n",
       "Previous_Payment_March    float64\n",
       "Previous_Payment_April    float64\n",
       "Previous_Payment_May      float64\n",
       "Previous_Payment_June     float64\n",
       "Default_Payment             int64\n",
       "dtype: object"
      ]
     },
     "execution_count": 6,
     "metadata": {},
     "output_type": "execute_result"
    }
   ],
   "source": [
    "df.dtypes"
   ]
  },
  {
   "cell_type": "code",
   "execution_count": 7,
   "id": "f192f701",
   "metadata": {},
   "outputs": [
    {
     "data": {
      "text/plain": [
       "Credit_Amount              0.515894\n",
       "Gender                    -0.424183\n",
       "Academic_Qualification     1.017944\n",
       "Marital                   -0.018742\n",
       "Age_Years                  0.732246\n",
       "Repayment_Status_Jan       2.485379\n",
       "Repayment_Status_Feb       2.488460\n",
       "Repayment_Status_March     2.684191\n",
       "Repayment_Status_April     3.213051\n",
       "Repayment_Status_May       3.589727\n",
       "Repayment_Status_June      3.495517\n",
       "Jan_Bill_Amount            1.768960\n",
       "Feb_Bill_Amount            2.771193\n",
       "March_Bill_Amount          2.788757\n",
       "April_Bill_Amount          2.131962\n",
       "May_Bill_Amount            2.879272\n",
       "June_Bill_Amount           2.840817\n",
       "Previous_Payment_Jan      15.279685\n",
       "Previous_Payment_Feb      41.802935\n",
       "Previous_Payment_March    19.012134\n",
       "Previous_Payment_April    13.299057\n",
       "Previous_Payment_May      12.231259\n",
       "Previous_Payment_June     10.640727\n",
       "Default_Payment            1.343504\n",
       "dtype: float64"
      ]
     },
     "execution_count": 7,
     "metadata": {},
     "output_type": "execute_result"
    }
   ],
   "source": [
    "df.skew()"
   ]
  },
  {
   "cell_type": "code",
   "execution_count": 8,
   "id": "d8fef22c",
   "metadata": {},
   "outputs": [
    {
     "name": "stdout",
     "output_type": "stream",
     "text": [
      "14\n"
     ]
    }
   ],
   "source": [
    "list1=['Credit_Amount','Age_Years','Jan_Bill_Amount','Feb_Bill_Amount','March_Bill_Amount', 'April_Bill_Amount',\n",
    "           'May_Bill_Amount', 'June_Bill_Amount','Previous_Payment_Jan','Previous_Payment_Feb','Previous_Payment_March','Previous_Payment_April', 'Previous_Payment_May','Previous_Payment_June',]\n",
    "print(len(list1))"
   ]
  },
  {
   "cell_type": "code",
   "execution_count": 9,
   "id": "a7755f5e",
   "metadata": {},
   "outputs": [
    {
     "name": "stdout",
     "output_type": "stream",
     "text": [
      "Upper limit => 930000.0 Lower limit => -610000.0\n",
      "previous skewness: 0.5158938844100289\n",
      "New skewness of Credit_Amount => 0.4409157068063006\n",
      "Upper limit => 80.0 Lower limit => -11.0\n",
      "previous skewness: 0.7322458687830562\n",
      "New skewness of Age_Years => 0.7322458687830562\n",
      "Upper limit => 256694.0 Lower limit => -185713.0\n",
      "previous skewness: 1.7689599311889825\n",
      "New skewness of Jan_Bill_Amount => 1.5276391192968126\n",
      "Upper limit => 219131.0 Lower limit => -158193.5\n",
      "previous skewness: 2.771193123179417\n",
      "New skewness of Feb_Bill_Amount => 1.6325755389147192\n",
      "Upper limit => 232382.0 Lower limit => -169253.5\n",
      "previous skewness: 2.788757040151285\n",
      "New skewness of March_Bill_Amount => 1.6269873291449792\n",
      "Upper limit => 210019.5 Lower limit => -152839.5\n",
      "previous skewness: 2.131962363566112\n",
      "New skewness of April_Bill_Amount => 1.669498968157304\n",
      "Upper limit => 195473.0 Lower limit => -143519.5\n",
      "previous skewness: 2.879271841650919\n",
      "New skewness of May_Bill_Amount => 1.749920751074148\n",
      "Upper limit => 190853.0 Lower limit => -140941.75\n",
      "previous skewness: 2.8408170828663497\n",
      "New skewness of June_Bill_Amount => 1.7490880606454158\n",
      "Upper limit => 21000.0 Lower limit => -14000.0\n",
      "previous skewness: 15.279685497436736\n",
      "New skewness of Previous_Payment_Jan => 1.8786461437940154\n",
      "Upper limit => 17690.0 Lower limit => -11920.0\n",
      "previous skewness: 41.80293481772448\n",
      "New skewness of Previous_Payment_Feb => 1.7410804692909436\n",
      "Upper limit => 20350.0 Lower limit => -14300.0\n",
      "previous skewness: 19.01213412605712\n",
      "New skewness of Previous_Payment_March => 1.9490588749067597\n",
      "Upper limit => 15054.0 Lower limit => -10707.75\n",
      "previous skewness: 13.299057190036264\n",
      "New skewness of Previous_Payment_April => 1.744791370280702\n",
      "Upper limit => 19070.0 Lower limit => -13760.0\n",
      "previous skewness: 12.23125934985502\n",
      "New skewness of Previous_Payment_May => 2.049777099741153\n",
      "Upper limit => 15646.75 Lower limit => -11529.0\n",
      "previous skewness: 10.640727325044317\n",
      "New skewness of Previous_Payment_June => 1.8425945756784148\n"
     ]
    }
   ],
   "source": [
    "import pandas as pd\n",
    "import numpy as np\n",
    "\n",
    "def remove_skew(df):\n",
    "    list1 = ['Credit_Amount', 'Age_Years', 'Jan_Bill_Amount', 'Feb_Bill_Amount', 'March_Bill_Amount',\n",
    "             'April_Bill_Amount', 'May_Bill_Amount', 'June_Bill_Amount', 'Previous_Payment_Jan',\n",
    "             'Previous_Payment_Feb', 'Previous_Payment_March', 'Previous_Payment_April',\n",
    "             'Previous_Payment_May', 'Previous_Payment_June']\n",
    "    \n",
    "    modified_df = df.copy()  # Create a copy of the DataFrame to store modified values\n",
    "    \n",
    "    for column in list1:\n",
    "        IQR = df[column].quantile(0.75) - df[column].quantile(0.25)\n",
    "        ub = df[column].quantile(0.75) + 3 * IQR\n",
    "        lb = df[column].quantile(0.25) - 3 * IQR\n",
    "        \n",
    "        print(\"Upper limit =>\", ub, \"Lower limit =>\", lb)\n",
    "        \n",
    "        # Replace values above the upper limit with the upper limit\n",
    "        modified_df.loc[df[column] > ub, column] = ub\n",
    "        \n",
    "        # Replace values below the lower limit with the lower limit\n",
    "        modified_df.loc[df[column] < lb, column] = lb\n",
    "        \n",
    "        print(\"previous skewness:\", df[column].skew())\n",
    "        print(\"New skewness of\", column, \"=>\", modified_df[column].skew())\n",
    "    \n",
    "    return modified_df\n",
    "\n",
    "# Example usage:\n",
    "df = pd.DataFrame(df)  # Replace ... with your actual DataFrame\n",
    "modified_df = remove_skew(df)\n"
   ]
  },
  {
   "cell_type": "code",
   "execution_count": 10,
   "id": "eff04cf3",
   "metadata": {},
   "outputs": [
    {
     "data": {
      "text/plain": [
       "Credit_Amount             0.440916\n",
       "Gender                   -0.424183\n",
       "Academic_Qualification    1.017944\n",
       "Marital                  -0.018742\n",
       "Age_Years                 0.732246\n",
       "Repayment_Status_Jan      2.485379\n",
       "Repayment_Status_Feb      2.488460\n",
       "Repayment_Status_March    2.684191\n",
       "Repayment_Status_April    3.213051\n",
       "Repayment_Status_May      3.589727\n",
       "Repayment_Status_June     3.495517\n",
       "Jan_Bill_Amount           1.527639\n",
       "Feb_Bill_Amount           1.632576\n",
       "March_Bill_Amount         1.626987\n",
       "April_Bill_Amount         1.669499\n",
       "May_Bill_Amount           1.749921\n",
       "June_Bill_Amount          1.749088\n",
       "Previous_Payment_Jan      1.878646\n",
       "Previous_Payment_Feb      1.741080\n",
       "Previous_Payment_March    1.949059\n",
       "Previous_Payment_April    1.744791\n",
       "Previous_Payment_May      2.049777\n",
       "Previous_Payment_June     1.842595\n",
       "Default_Payment           1.343504\n",
       "dtype: float64"
      ]
     },
     "execution_count": 10,
     "metadata": {},
     "output_type": "execute_result"
    }
   ],
   "source": [
    "modified_df.skew()"
   ]
  },
  {
   "cell_type": "code",
   "execution_count": 11,
   "id": "d5d1dc83",
   "metadata": {},
   "outputs": [
    {
     "name": "stderr",
     "output_type": "stream",
     "text": [
      "C:\\ProgramData\\anaconda3\\lib\\site-packages\\pandas\\core\\arraylike.py:402: RuntimeWarning: invalid value encountered in sqrt\n",
      "  result = getattr(ufunc, method)(*inputs, **kwargs)\n"
     ]
    }
   ],
   "source": [
    "list1 = ['Jan_Bill_Amount', 'Feb_Bill_Amount', 'March_Bill_Amount',\n",
    "             'April_Bill_Amount', 'May_Bill_Amount', 'June_Bill_Amount', 'Previous_Payment_Jan',\n",
    "             'Previous_Payment_Feb', 'Previous_Payment_March', 'Previous_Payment_April',\n",
    "             'Previous_Payment_May', 'Previous_Payment_June']\n",
    "for i in range(len(list1)):\n",
    "    modified_df[list1[i]]=np.sqrt(modified_df[list1[i]])\n"
   ]
  },
  {
   "cell_type": "code",
   "execution_count": 12,
   "id": "995da37a",
   "metadata": {},
   "outputs": [
    {
     "name": "stdout",
     "output_type": "stream",
     "text": [
      "skewness of  Jan_Bill_Amount  =>  0.756606712745249\n",
      "skewness of  Feb_Bill_Amount  =>  0.5767015488267642\n",
      "skewness of  March_Bill_Amount  =>  0.7857073711024068\n",
      "skewness of  April_Bill_Amount  =>  0.7617962105334054\n",
      "skewness of  May_Bill_Amount  =>  0.6822546332479436\n",
      "skewness of  June_Bill_Amount  =>  0.6887715834967123\n",
      "skewness of  Previous_Payment_Jan  =>  0.47604222342898034\n",
      "skewness of  Previous_Payment_Feb  =>  0.5304870655100629\n",
      "skewness of  Previous_Payment_March  =>  0.633011896148521\n",
      "skewness of  Previous_Payment_April  =>  0.5427060196461958\n",
      "skewness of  Previous_Payment_May  =>  0.6748995748721819\n",
      "skewness of  Previous_Payment_June  =>  0.6538901821098818\n"
     ]
    }
   ],
   "source": [
    "for i in range(len(list1)):\n",
    "    print(\"skewness of \",list1[i],\" => \",modified_df[list1[i]].skew())\n"
   ]
  },
  {
   "cell_type": "code",
   "execution_count": null,
   "id": "dc74478d",
   "metadata": {},
   "outputs": [],
   "source": []
  },
  {
   "cell_type": "raw",
   "id": "9752ba91",
   "metadata": {},
   "source": [
    "def remove_skew():\n",
    "    list1=['Credit_Amount','Age_Years','Jan_Bill_Amount','Feb_Bill_Amount','March_Bill_Amount', 'April_Bill_Amount','May_Bill_Amount', 'June_Bill_Amount','Previous_Payment_Jan','Previous_Payment_Feb','Previous_Payment_March','Previous_Payment_April', 'Previous_Payment_May','Previous_Payment_June']\n",
    "    lIQR=[]\n",
    "    lub=[]\n",
    "    llb=[]\n",
    "    ps=[]\n",
    "    for i in range(len(list1)):\n",
    "        ps.append(df[list1[i]].skew())\n",
    "        IQR=df[list1[i]].quantile(0.75)-df[list1[i]].quantile(0.25)\n",
    "        lIQR.append(IQR)\n",
    "        ub=df[list1[i]].quantile(0.75)+3*IQR\n",
    "        lub.append(ub)\n",
    "        lb=df[list1[i]].quantile(0.25)-3*IQR\n",
    "        llb.append(lb)\n",
    "        print(\"Upper limit =>\",lub[i],\"Lower limit => \",llb[i])\n",
    "        \n",
    "        df[list1[i]] > lub[i] = lub[i]\n",
    "        df[list1[i]] < llb[i] = llb[i]\n",
    "        \n",
    "        \n",
    "        print(\"previous_skewness\",ps[i],\" New skewness of\",list1[i],\" => \",df[list1[i]].skew() )\n",
    "    #print(llb)\n",
    "remove_skew()"
   ]
  },
  {
   "cell_type": "code",
   "execution_count": null,
   "id": "0d7cfb8a",
   "metadata": {},
   "outputs": [],
   "source": []
  }
 ],
 "metadata": {
  "kernelspec": {
   "display_name": "Python 3 (ipykernel)",
   "language": "python",
   "name": "python3"
  },
  "language_info": {
   "codemirror_mode": {
    "name": "ipython",
    "version": 3
   },
   "file_extension": ".py",
   "mimetype": "text/x-python",
   "name": "python",
   "nbconvert_exporter": "python",
   "pygments_lexer": "ipython3",
   "version": "3.10.9"
  }
 },
 "nbformat": 4,
 "nbformat_minor": 5
}
