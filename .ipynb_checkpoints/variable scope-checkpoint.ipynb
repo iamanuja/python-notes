{
 "cells": [
  {
   "cell_type": "code",
   "execution_count": 9,
   "id": "fbb3aa4d",
   "metadata": {},
   "outputs": [
    {
     "ename": "UnboundLocalError",
     "evalue": "local variable 'num' referenced before assignment",
     "output_type": "error",
     "traceback": [
      "\u001b[1;31m---------------------------------------------------------------------------\u001b[0m",
      "\u001b[1;31mUnboundLocalError\u001b[0m                         Traceback (most recent call last)",
      "Cell \u001b[1;32mIn[9], line 8\u001b[0m\n\u001b[0;32m      6\u001b[0m     \u001b[38;5;28;01mreturn\u001b[39;00m incrementer\n\u001b[0;32m      7\u001b[0m c\u001b[38;5;241m=\u001b[39mcounter()\n\u001b[1;32m----> 8\u001b[0m \u001b[43mc\u001b[49m\u001b[43m(\u001b[49m\u001b[43m)\u001b[49m\n\u001b[0;32m      9\u001b[0m \u001b[38;5;124;03m\"\"\"\u001b[39;00m\n\u001b[0;32m     10\u001b[0m \u001b[38;5;124;03myou will receive an UnboundLocalError because the \u001b[39;00m\n\u001b[0;32m     11\u001b[0m \u001b[38;5;124;03mnum variable is referenced before\u001b[39;00m\n\u001b[0;32m     12\u001b[0m \u001b[38;5;124;03mit is assigned in the innermost function\"\"\"\u001b[39;00m\n",
      "Cell \u001b[1;32mIn[9], line 4\u001b[0m, in \u001b[0;36mcounter.<locals>.incrementer\u001b[1;34m()\u001b[0m\n\u001b[0;32m      3\u001b[0m \u001b[38;5;28;01mdef\u001b[39;00m \u001b[38;5;21mincrementer\u001b[39m():\n\u001b[1;32m----> 4\u001b[0m     num \u001b[38;5;241m+\u001b[39m\u001b[38;5;241m=\u001b[39m \u001b[38;5;241m1\u001b[39m\n\u001b[0;32m      5\u001b[0m     \u001b[38;5;28;01mreturn\u001b[39;00m num\n",
      "\u001b[1;31mUnboundLocalError\u001b[0m: local variable 'num' referenced before assignment"
     ]
    }
   ],
   "source": [
    "def counter():\n",
    "    num = 0\n",
    "    def incrementer():\n",
    "        num += 1\n",
    "        return num\n",
    "    return incrementer\n",
    "c=counter()\n",
    "c()\n",
    "\"\"\"\n",
    "you will receive an UnboundLocalError because the \n",
    "num variable is referenced before\n",
    "it is assigned in the innermost function\"\"\""
   ]
  },
  {
   "cell_type": "raw",
   "id": "b049b9f8",
   "metadata": {},
   "source": [
    "nonlocal will allow you to assign to variables in an outer scope, but not a global scope. So you can't use\n",
    "nonlocal in our counter function because then it would try to assign to a global scope. Give it a try and you will\n",
    "quickly get a SyntaxError. Instead you must use nonlocal in a nested function."
   ]
  },
  {
   "cell_type": "code",
   "execution_count": 12,
   "id": "7744abf1",
   "metadata": {},
   "outputs": [
    {
     "data": {
      "text/plain": [
       "1"
      ]
     },
     "execution_count": 12,
     "metadata": {},
     "output_type": "execute_result"
    }
   ],
   "source": [
    "def counter():\n",
    "    num = 0\n",
    "    def incrementer():\n",
    "        nonlocal num\n",
    "        num += 1\n",
    "        return num\n",
    "    return incrementer\n",
    "c = counter()\n",
    "c() # = 1\n"
   ]
  },
  {
   "cell_type": "code",
   "execution_count": 3,
   "id": "35efc037",
   "metadata": {},
   "outputs": [
    {
     "name": "stdout",
     "output_type": "stream",
     "text": [
      "Bye\n",
      "Bye\n"
     ]
    }
   ],
   "source": [
    "x = 'Hi'\n",
    "def change_global_x():\n",
    "    global x\n",
    "    x = 'Bye'\n",
    "    print(x)\n",
    "change_global_x() # prints Bye\n",
    "print(x) # prints Bye"
   ]
  },
  {
   "cell_type": "code",
   "execution_count": null,
   "id": "144e8f0a",
   "metadata": {},
   "outputs": [],
   "source": []
  }
 ],
 "metadata": {
  "kernelspec": {
   "display_name": "Python 3 (ipykernel)",
   "language": "python",
   "name": "python3"
  },
  "language_info": {
   "codemirror_mode": {
    "name": "ipython",
    "version": 3
   },
   "file_extension": ".py",
   "mimetype": "text/x-python",
   "name": "python",
   "nbconvert_exporter": "python",
   "pygments_lexer": "ipython3",
   "version": "3.10.9"
  }
 },
 "nbformat": 4,
 "nbformat_minor": 5
}
