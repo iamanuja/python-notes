{
 "cells": [
  {
   "cell_type": "code",
   "execution_count": 1,
   "id": "4311acc1",
   "metadata": {},
   "outputs": [],
   "source": [
    "import numpy as np \n",
    "import pandas as pd\n",
    "import warnings\n",
    "warnings.filterwarnings('ignore')"
   ]
  },
  {
   "cell_type": "code",
   "execution_count": 2,
   "id": "b6042eda",
   "metadata": {},
   "outputs": [],
   "source": [
    "df=pd.read_csv(r'C:\\Users\\Anuja\\Music\\New folder\\blood_pressure.csv')"
   ]
  },
  {
   "cell_type": "code",
   "execution_count": 3,
   "id": "53efe17f",
   "metadata": {},
   "outputs": [
    {
     "data": {
      "text/plain": [
       "(2000, 15)"
      ]
     },
     "execution_count": 3,
     "metadata": {},
     "output_type": "execute_result"
    }
   ],
   "source": [
    "df.shape"
   ]
  },
  {
   "cell_type": "code",
   "execution_count": 4,
   "id": "f2ba5ba6",
   "metadata": {},
   "outputs": [
    {
     "data": {
      "text/plain": [
       "Patient_Number                      0\n",
       "Blood_Pressure_Abnormality          0\n",
       "Level_of_Hemoglobin                 0\n",
       "Genetic_Pedigree_Coefficient       92\n",
       "Age                                 0\n",
       "BMI                                 0\n",
       "Sex                                 0\n",
       "Pregnancy                        1558\n",
       "Smoking                             0\n",
       "Physical_activity                   0\n",
       "salt_content_in_the_diet            0\n",
       "alcohol_consumption_per_day       242\n",
       "Level_of_Stress                     0\n",
       "Chronic_kidney_disease              0\n",
       "Adrenal_and_thyroid_disorders       0\n",
       "dtype: int64"
      ]
     },
     "execution_count": 4,
     "metadata": {},
     "output_type": "execute_result"
    }
   ],
   "source": [
    "df.isnull().sum()"
   ]
  },
  {
   "cell_type": "code",
   "execution_count": 5,
   "id": "e85b8c76",
   "metadata": {},
   "outputs": [
    {
     "data": {
      "text/plain": [
       "Patient_Number                     int64\n",
       "Blood_Pressure_Abnormality         int64\n",
       "Level_of_Hemoglobin              float64\n",
       "Genetic_Pedigree_Coefficient     float64\n",
       "Age                                int64\n",
       "BMI                                int64\n",
       "Sex                                int64\n",
       "Pregnancy                        float64\n",
       "Smoking                            int64\n",
       "Physical_activity                  int64\n",
       "salt_content_in_the_diet           int64\n",
       "alcohol_consumption_per_day      float64\n",
       "Level_of_Stress                    int64\n",
       "Chronic_kidney_disease             int64\n",
       "Adrenal_and_thyroid_disorders      int64\n",
       "dtype: object"
      ]
     },
     "execution_count": 5,
     "metadata": {},
     "output_type": "execute_result"
    }
   ],
   "source": [
    "df.dtypes"
   ]
  },
  {
   "cell_type": "code",
   "execution_count": 6,
   "id": "452db9d5",
   "metadata": {},
   "outputs": [],
   "source": [
    "df.Genetic_Pedigree_Coefficient=df.Genetic_Pedigree_Coefficient.fillna(df[\"Genetic_Pedigree_Coefficient\"].median())"
   ]
  },
  {
   "cell_type": "code",
   "execution_count": 7,
   "id": "300be950",
   "metadata": {},
   "outputs": [
    {
     "data": {
      "text/plain": [
       "2000"
      ]
     },
     "execution_count": 7,
     "metadata": {},
     "output_type": "execute_result"
    }
   ],
   "source": [
    "df.Genetic_Pedigree_Coefficient.count()"
   ]
  },
  {
   "cell_type": "code",
   "execution_count": 8,
   "id": "39a99335",
   "metadata": {},
   "outputs": [],
   "source": [
    "df.alcohol_consumption_per_day=df.alcohol_consumption_per_day.fillna(df['alcohol_consumption_per_day'].median())"
   ]
  },
  {
   "cell_type": "code",
   "execution_count": 9,
   "id": "00516830",
   "metadata": {},
   "outputs": [
    {
     "data": {
      "text/plain": [
       "2000"
      ]
     },
     "execution_count": 9,
     "metadata": {},
     "output_type": "execute_result"
    }
   ],
   "source": [
    "df.alcohol_consumption_per_day.count()"
   ]
  },
  {
   "cell_type": "code",
   "execution_count": 10,
   "id": "7369d5d3",
   "metadata": {},
   "outputs": [
    {
     "data": {
      "text/plain": [
       "Patient_Number                      0\n",
       "Blood_Pressure_Abnormality          0\n",
       "Level_of_Hemoglobin                 0\n",
       "Genetic_Pedigree_Coefficient        0\n",
       "Age                                 0\n",
       "BMI                                 0\n",
       "Sex                                 0\n",
       "Pregnancy                        1558\n",
       "Smoking                             0\n",
       "Physical_activity                   0\n",
       "salt_content_in_the_diet            0\n",
       "alcohol_consumption_per_day         0\n",
       "Level_of_Stress                     0\n",
       "Chronic_kidney_disease              0\n",
       "Adrenal_and_thyroid_disorders       0\n",
       "dtype: int64"
      ]
     },
     "execution_count": 10,
     "metadata": {},
     "output_type": "execute_result"
    }
   ],
   "source": [
    "df.isnull().sum()"
   ]
  },
  {
   "cell_type": "code",
   "execution_count": 11,
   "id": "4a5f3883",
   "metadata": {},
   "outputs": [
    {
     "data": {
      "text/plain": [
       "0.0    243\n",
       "1.0    199\n",
       "Name: Pregnancy, dtype: int64"
      ]
     },
     "execution_count": 11,
     "metadata": {},
     "output_type": "execute_result"
    }
   ],
   "source": [
    "df['Pregnancy'].value_counts()"
   ]
  },
  {
   "cell_type": "markdown",
   "id": "82011fbe",
   "metadata": {},
   "source": [
    "# 50% missing data then drop column\n",
    "# drop unique id"
   ]
  },
  {
   "cell_type": "code",
   "execution_count": 12,
   "id": "14c2585f",
   "metadata": {},
   "outputs": [
    {
     "data": {
      "text/html": [
       "<div>\n",
       "<style scoped>\n",
       "    .dataframe tbody tr th:only-of-type {\n",
       "        vertical-align: middle;\n",
       "    }\n",
       "\n",
       "    .dataframe tbody tr th {\n",
       "        vertical-align: top;\n",
       "    }\n",
       "\n",
       "    .dataframe thead th {\n",
       "        text-align: right;\n",
       "    }\n",
       "</style>\n",
       "<table border=\"1\" class=\"dataframe\">\n",
       "  <thead>\n",
       "    <tr style=\"text-align: right;\">\n",
       "      <th></th>\n",
       "      <th>Patient_Number</th>\n",
       "      <th>Blood_Pressure_Abnormality</th>\n",
       "      <th>Level_of_Hemoglobin</th>\n",
       "      <th>Genetic_Pedigree_Coefficient</th>\n",
       "      <th>Age</th>\n",
       "      <th>BMI</th>\n",
       "      <th>Sex</th>\n",
       "      <th>Pregnancy</th>\n",
       "      <th>Smoking</th>\n",
       "      <th>Physical_activity</th>\n",
       "      <th>salt_content_in_the_diet</th>\n",
       "      <th>alcohol_consumption_per_day</th>\n",
       "      <th>Level_of_Stress</th>\n",
       "      <th>Chronic_kidney_disease</th>\n",
       "      <th>Adrenal_and_thyroid_disorders</th>\n",
       "    </tr>\n",
       "  </thead>\n",
       "  <tbody>\n",
       "    <tr>\n",
       "      <th>0</th>\n",
       "      <td>1</td>\n",
       "      <td>1</td>\n",
       "      <td>11.28</td>\n",
       "      <td>0.90</td>\n",
       "      <td>34</td>\n",
       "      <td>23</td>\n",
       "      <td>1</td>\n",
       "      <td>1.0</td>\n",
       "      <td>0</td>\n",
       "      <td>45961</td>\n",
       "      <td>48071</td>\n",
       "      <td>250.0</td>\n",
       "      <td>2</td>\n",
       "      <td>1</td>\n",
       "      <td>1</td>\n",
       "    </tr>\n",
       "    <tr>\n",
       "      <th>1</th>\n",
       "      <td>2</td>\n",
       "      <td>0</td>\n",
       "      <td>9.75</td>\n",
       "      <td>0.23</td>\n",
       "      <td>54</td>\n",
       "      <td>33</td>\n",
       "      <td>1</td>\n",
       "      <td>NaN</td>\n",
       "      <td>0</td>\n",
       "      <td>26106</td>\n",
       "      <td>25333</td>\n",
       "      <td>205.0</td>\n",
       "      <td>3</td>\n",
       "      <td>0</td>\n",
       "      <td>0</td>\n",
       "    </tr>\n",
       "    <tr>\n",
       "      <th>2</th>\n",
       "      <td>3</td>\n",
       "      <td>1</td>\n",
       "      <td>10.79</td>\n",
       "      <td>0.91</td>\n",
       "      <td>70</td>\n",
       "      <td>49</td>\n",
       "      <td>0</td>\n",
       "      <td>NaN</td>\n",
       "      <td>0</td>\n",
       "      <td>9995</td>\n",
       "      <td>29465</td>\n",
       "      <td>67.0</td>\n",
       "      <td>2</td>\n",
       "      <td>1</td>\n",
       "      <td>0</td>\n",
       "    </tr>\n",
       "    <tr>\n",
       "      <th>3</th>\n",
       "      <td>4</td>\n",
       "      <td>0</td>\n",
       "      <td>11.00</td>\n",
       "      <td>0.43</td>\n",
       "      <td>71</td>\n",
       "      <td>50</td>\n",
       "      <td>0</td>\n",
       "      <td>NaN</td>\n",
       "      <td>0</td>\n",
       "      <td>10635</td>\n",
       "      <td>7439</td>\n",
       "      <td>242.0</td>\n",
       "      <td>1</td>\n",
       "      <td>1</td>\n",
       "      <td>0</td>\n",
       "    </tr>\n",
       "    <tr>\n",
       "      <th>4</th>\n",
       "      <td>5</td>\n",
       "      <td>1</td>\n",
       "      <td>14.17</td>\n",
       "      <td>0.83</td>\n",
       "      <td>52</td>\n",
       "      <td>19</td>\n",
       "      <td>0</td>\n",
       "      <td>NaN</td>\n",
       "      <td>0</td>\n",
       "      <td>15619</td>\n",
       "      <td>49644</td>\n",
       "      <td>397.0</td>\n",
       "      <td>2</td>\n",
       "      <td>0</td>\n",
       "      <td>0</td>\n",
       "    </tr>\n",
       "    <tr>\n",
       "      <th>...</th>\n",
       "      <td>...</td>\n",
       "      <td>...</td>\n",
       "      <td>...</td>\n",
       "      <td>...</td>\n",
       "      <td>...</td>\n",
       "      <td>...</td>\n",
       "      <td>...</td>\n",
       "      <td>...</td>\n",
       "      <td>...</td>\n",
       "      <td>...</td>\n",
       "      <td>...</td>\n",
       "      <td>...</td>\n",
       "      <td>...</td>\n",
       "      <td>...</td>\n",
       "      <td>...</td>\n",
       "    </tr>\n",
       "    <tr>\n",
       "      <th>1995</th>\n",
       "      <td>1996</td>\n",
       "      <td>1</td>\n",
       "      <td>10.14</td>\n",
       "      <td>0.02</td>\n",
       "      <td>69</td>\n",
       "      <td>26</td>\n",
       "      <td>1</td>\n",
       "      <td>NaN</td>\n",
       "      <td>1</td>\n",
       "      <td>26118</td>\n",
       "      <td>47568</td>\n",
       "      <td>144.0</td>\n",
       "      <td>3</td>\n",
       "      <td>1</td>\n",
       "      <td>0</td>\n",
       "    </tr>\n",
       "    <tr>\n",
       "      <th>1996</th>\n",
       "      <td>1997</td>\n",
       "      <td>1</td>\n",
       "      <td>11.77</td>\n",
       "      <td>1.00</td>\n",
       "      <td>24</td>\n",
       "      <td>45</td>\n",
       "      <td>1</td>\n",
       "      <td>1.0</td>\n",
       "      <td>1</td>\n",
       "      <td>2572</td>\n",
       "      <td>8063</td>\n",
       "      <td>250.0</td>\n",
       "      <td>3</td>\n",
       "      <td>1</td>\n",
       "      <td>1</td>\n",
       "    </tr>\n",
       "    <tr>\n",
       "      <th>1997</th>\n",
       "      <td>1998</td>\n",
       "      <td>1</td>\n",
       "      <td>16.91</td>\n",
       "      <td>0.22</td>\n",
       "      <td>18</td>\n",
       "      <td>42</td>\n",
       "      <td>0</td>\n",
       "      <td>NaN</td>\n",
       "      <td>0</td>\n",
       "      <td>14933</td>\n",
       "      <td>24753</td>\n",
       "      <td>250.0</td>\n",
       "      <td>2</td>\n",
       "      <td>1</td>\n",
       "      <td>1</td>\n",
       "    </tr>\n",
       "    <tr>\n",
       "      <th>1998</th>\n",
       "      <td>1999</td>\n",
       "      <td>0</td>\n",
       "      <td>11.15</td>\n",
       "      <td>0.72</td>\n",
       "      <td>46</td>\n",
       "      <td>45</td>\n",
       "      <td>1</td>\n",
       "      <td>NaN</td>\n",
       "      <td>1</td>\n",
       "      <td>18157</td>\n",
       "      <td>15275</td>\n",
       "      <td>253.0</td>\n",
       "      <td>3</td>\n",
       "      <td>0</td>\n",
       "      <td>1</td>\n",
       "    </tr>\n",
       "    <tr>\n",
       "      <th>1999</th>\n",
       "      <td>2000</td>\n",
       "      <td>1</td>\n",
       "      <td>11.36</td>\n",
       "      <td>0.09</td>\n",
       "      <td>41</td>\n",
       "      <td>45</td>\n",
       "      <td>0</td>\n",
       "      <td>NaN</td>\n",
       "      <td>0</td>\n",
       "      <td>20729</td>\n",
       "      <td>30463</td>\n",
       "      <td>230.0</td>\n",
       "      <td>1</td>\n",
       "      <td>1</td>\n",
       "      <td>0</td>\n",
       "    </tr>\n",
       "  </tbody>\n",
       "</table>\n",
       "<p>2000 rows × 15 columns</p>\n",
       "</div>"
      ],
      "text/plain": [
       "      Patient_Number  Blood_Pressure_Abnormality  Level_of_Hemoglobin  \\\n",
       "0                  1                           1                11.28   \n",
       "1                  2                           0                 9.75   \n",
       "2                  3                           1                10.79   \n",
       "3                  4                           0                11.00   \n",
       "4                  5                           1                14.17   \n",
       "...              ...                         ...                  ...   \n",
       "1995            1996                           1                10.14   \n",
       "1996            1997                           1                11.77   \n",
       "1997            1998                           1                16.91   \n",
       "1998            1999                           0                11.15   \n",
       "1999            2000                           1                11.36   \n",
       "\n",
       "      Genetic_Pedigree_Coefficient  Age  BMI  Sex  Pregnancy  Smoking  \\\n",
       "0                             0.90   34   23    1        1.0        0   \n",
       "1                             0.23   54   33    1        NaN        0   \n",
       "2                             0.91   70   49    0        NaN        0   \n",
       "3                             0.43   71   50    0        NaN        0   \n",
       "4                             0.83   52   19    0        NaN        0   \n",
       "...                            ...  ...  ...  ...        ...      ...   \n",
       "1995                          0.02   69   26    1        NaN        1   \n",
       "1996                          1.00   24   45    1        1.0        1   \n",
       "1997                          0.22   18   42    0        NaN        0   \n",
       "1998                          0.72   46   45    1        NaN        1   \n",
       "1999                          0.09   41   45    0        NaN        0   \n",
       "\n",
       "      Physical_activity  salt_content_in_the_diet  \\\n",
       "0                 45961                     48071   \n",
       "1                 26106                     25333   \n",
       "2                  9995                     29465   \n",
       "3                 10635                      7439   \n",
       "4                 15619                     49644   \n",
       "...                 ...                       ...   \n",
       "1995              26118                     47568   \n",
       "1996               2572                      8063   \n",
       "1997              14933                     24753   \n",
       "1998              18157                     15275   \n",
       "1999              20729                     30463   \n",
       "\n",
       "      alcohol_consumption_per_day  Level_of_Stress  Chronic_kidney_disease  \\\n",
       "0                           250.0                2                       1   \n",
       "1                           205.0                3                       0   \n",
       "2                            67.0                2                       1   \n",
       "3                           242.0                1                       1   \n",
       "4                           397.0                2                       0   \n",
       "...                           ...              ...                     ...   \n",
       "1995                        144.0                3                       1   \n",
       "1996                        250.0                3                       1   \n",
       "1997                        250.0                2                       1   \n",
       "1998                        253.0                3                       0   \n",
       "1999                        230.0                1                       1   \n",
       "\n",
       "      Adrenal_and_thyroid_disorders  \n",
       "0                                 1  \n",
       "1                                 0  \n",
       "2                                 0  \n",
       "3                                 0  \n",
       "4                                 0  \n",
       "...                             ...  \n",
       "1995                              0  \n",
       "1996                              1  \n",
       "1997                              1  \n",
       "1998                              1  \n",
       "1999                              0  \n",
       "\n",
       "[2000 rows x 15 columns]"
      ]
     },
     "execution_count": 12,
     "metadata": {},
     "output_type": "execute_result"
    }
   ],
   "source": [
    "df"
   ]
  },
  {
   "cell_type": "markdown",
   "id": "c7716b70",
   "metadata": {},
   "source": [
    "### wap to sort array"
   ]
  },
  {
   "cell_type": "code",
   "execution_count": 13,
   "id": "3dde00f7",
   "metadata": {},
   "outputs": [
    {
     "data": {
      "text/plain": [
       "array([[1, 4],\n",
       "       [1, 3]])"
      ]
     },
     "execution_count": 13,
     "metadata": {},
     "output_type": "execute_result"
    }
   ],
   "source": [
    "a = np.array([[1,4],[3,1]])\n",
    "np.sort(a) "
   ]
  },
  {
   "cell_type": "markdown",
   "id": "4328ebe2",
   "metadata": {},
   "source": [
    "### WAP to accept 2 array from user and join them"
   ]
  },
  {
   "cell_type": "code",
   "execution_count": 14,
   "id": "88c1912f",
   "metadata": {},
   "outputs": [
    {
     "name": "stdout",
     "output_type": "stream",
     "text": [
      "enter first array :\n",
      "enter first second : \n",
      "['' '']\n"
     ]
    }
   ],
   "source": [
    "a=input(\"enter first array :\")\n",
    "x=np.array(a)\n",
    "b=input(\"enter first second : \")\n",
    "y=np.array(b)\n",
    "cat = np.stack((x,y), axis=0)        \n",
    "print(cat)"
   ]
  },
  {
   "cell_type": "code",
   "execution_count": null,
   "id": "c1ed3f8f",
   "metadata": {},
   "outputs": [],
   "source": []
  },
  {
   "cell_type": "code",
   "execution_count": 15,
   "id": "8e8bd3c6",
   "metadata": {},
   "outputs": [],
   "source": [
    "df=pd.read_csv(r'C:\\Users\\Anuja\\Music\\New folder\\blood_pressure.csv')"
   ]
  },
  {
   "cell_type": "code",
   "execution_count": 18,
   "id": "f70615e7",
   "metadata": {},
   "outputs": [],
   "source": [
    "df12=pd.read_csv(r'C:\\Users\\Anuja\\Downloads\\train_Hr.csv')"
   ]
  },
  {
   "cell_type": "code",
   "execution_count": 22,
   "id": "33d3d56d",
   "metadata": {},
   "outputs": [
    {
     "data": {
      "text/plain": [
       "employee_id                0\n",
       "department                 0\n",
       "region                     0\n",
       "education               2409\n",
       "gender                     0\n",
       "recruitment_channel        0\n",
       "no_of_trainings            0\n",
       "age                        0\n",
       "previous_year_rating    4124\n",
       "length_of_service          0\n",
       "KPIs_met >80%              0\n",
       "awards_won?                0\n",
       "avg_training_score         0\n",
       "is_promoted                0\n",
       "dtype: int64"
      ]
     },
     "execution_count": 22,
     "metadata": {},
     "output_type": "execute_result"
    }
   ],
   "source": [
    "df12.isnull().sum()"
   ]
  },
  {
   "cell_type": "code",
   "execution_count": 23,
   "id": "d7bfd078",
   "metadata": {},
   "outputs": [],
   "source": [
    "df12.drop('education', axis=1, inplace=True)"
   ]
  },
  {
   "cell_type": "code",
   "execution_count": 24,
   "id": "3595b8f2",
   "metadata": {},
   "outputs": [],
   "source": [
    "df12.drop('previous_year_rating', axis=1, inplace=True)"
   ]
  },
  {
   "cell_type": "code",
   "execution_count": 25,
   "id": "b5ba7cab",
   "metadata": {},
   "outputs": [
    {
     "data": {
      "text/plain": [
       "employee_id            0\n",
       "department             0\n",
       "region                 0\n",
       "gender                 0\n",
       "recruitment_channel    0\n",
       "no_of_trainings        0\n",
       "age                    0\n",
       "length_of_service      0\n",
       "KPIs_met >80%          0\n",
       "awards_won?            0\n",
       "avg_training_score     0\n",
       "is_promoted            0\n",
       "dtype: int64"
      ]
     },
     "execution_count": 25,
     "metadata": {},
     "output_type": "execute_result"
    }
   ],
   "source": [
    "df12.isnull().sum()"
   ]
  },
  {
   "cell_type": "code",
   "execution_count": null,
   "id": "f01e9afa",
   "metadata": {},
   "outputs": [],
   "source": []
  }
 ],
 "metadata": {
  "kernelspec": {
   "display_name": "Python 3 (ipykernel)",
   "language": "python",
   "name": "python3"
  },
  "language_info": {
   "codemirror_mode": {
    "name": "ipython",
    "version": 3
   },
   "file_extension": ".py",
   "mimetype": "text/x-python",
   "name": "python",
   "nbconvert_exporter": "python",
   "pygments_lexer": "ipython3",
   "version": "3.10.9"
  }
 },
 "nbformat": 4,
 "nbformat_minor": 5
}
