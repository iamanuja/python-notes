{
 "cells": [
  {
   "cell_type": "code",
   "execution_count": 1,
   "id": "2b5a3f15",
   "metadata": {},
   "outputs": [
    {
     "ename": "SyntaxError",
     "evalue": "unterminated string literal (detected at line 3) (3139062373.py, line 3)",
     "output_type": "error",
     "traceback": [
      "\u001b[1;36m  Cell \u001b[1;32mIn[1], line 3\u001b[1;36m\u001b[0m\n\u001b[1;33m    a mistake, and the problem or effect isn't really there.\u001b[0m\n\u001b[1;37m                                            ^\u001b[0m\n\u001b[1;31mSyntaxError\u001b[0m\u001b[1;31m:\u001b[0m unterminated string literal (detected at line 3)\n"
     ]
    }
   ],
   "source": [
    "False Positive(type 1) \n",
    "is when something suggests there's a problem or an effect, but it's \n",
    "a mistake, and the problem or effect isn't really there.\n",
    "\n",
    "=> imp mail marked as spam\n",
    "\n",
    "False Negative(type 2)\n",
    "is when something fails to detect a problem or\n",
    "an effect that actually exists.\n",
    "\n",
    "=> spam mail not marked as spam\n",
    "\n",
    "which is harmful -\n",
    "depends on situation\n",
    "\n"
   ]
  },
  {
   "cell_type": "code",
   "execution_count": null,
   "id": "bcc9e466",
   "metadata": {},
   "outputs": [],
   "source": [
    "Accuracy:\n",
    "Accuracy = (TP + TN) / (TP + TN + FP + FN)\n",
    "\n",
    "True Positive Rate (TPR), Sensitivity, Recall:\n",
    "TPR = TP / (TP + FN)\n",
    "\n",
    "False Positive Rate (FPR):\n",
    "FPR = FP / (FP + TN)\n",
    "\n",
    "Precision:\n",
    "Precision = TP / (TP + FP)\n",
    "\n",
    "F1-Score:\n",
    "F1-Score = 2 * (Precision * Recall) / (Precision + Recall)\n",
    "\n",
    "Specificity, True Negative Rate:\n",
    "Specificity = TN / (TN + FP)\n",
    "\n",
    "recall = tp / tp+fn \n",
    "(Number of true \n",
    " positive predictions divided by the actual positive instances)\n",
    "\n",
    "Precision: Number of true positive predictions divided by the \n",
    "total number of positive predictions)"
   ]
  },
  {
   "cell_type": "code",
   "execution_count": null,
   "id": "68e1352c",
   "metadata": {},
   "outputs": [],
   "source": [
    "TP=45\n",
    "TN=40\n",
    "FP=10\n",
    "FN=5"
   ]
  },
  {
   "cell_type": "code",
   "execution_count": null,
   "id": "b89ea5e2",
   "metadata": {},
   "outputs": [],
   "source": [
    "accuracy = (TP + TN) / (TP + TN + FP + FN)\n",
    "print(accuracy) #85%"
   ]
  },
  {
   "cell_type": "code",
   "execution_count": null,
   "id": "0c120baf",
   "metadata": {},
   "outputs": [],
   "source": [
    "TPR = TP / (TP + FN)\n",
    "print(TPR)"
   ]
  },
  {
   "cell_type": "code",
   "execution_count": null,
   "id": "a4d86333",
   "metadata": {},
   "outputs": [],
   "source": [
    "Recall = TP / (TP + FN)"
   ]
  },
  {
   "cell_type": "code",
   "execution_count": null,
   "id": "34013c10",
   "metadata": {},
   "outputs": [],
   "source": [
    "FPR = FP / (FP + TN)\n",
    "print(FPR)"
   ]
  },
  {
   "cell_type": "code",
   "execution_count": null,
   "id": "62b540ec",
   "metadata": {},
   "outputs": [],
   "source": [
    "Precision = TP / (TP + FP)\n",
    "print(Precision)"
   ]
  },
  {
   "cell_type": "code",
   "execution_count": null,
   "id": "1910460a",
   "metadata": {},
   "outputs": [],
   "source": [
    "F1_Score = 2 * (Precision * Recall) / (Precision + Recall)\n",
    "print(F1_Score)"
   ]
  },
  {
   "cell_type": "code",
   "execution_count": null,
   "id": "5ad8cb07",
   "metadata": {},
   "outputs": [],
   "source": [
    "Specificity = TN / (TN + FP)\n",
    "print(Specificity)"
   ]
  },
  {
   "cell_type": "code",
   "execution_count": null,
   "id": "e12ba971",
   "metadata": {},
   "outputs": [],
   "source": [
    "h0\n",
    "ha"
   ]
  },
  {
   "cell_type": "code",
   "execution_count": null,
   "id": "7cdbd13b",
   "metadata": {},
   "outputs": [],
   "source": []
  },
  {
   "cell_type": "code",
   "execution_count": null,
   "id": "707253e0",
   "metadata": {},
   "outputs": [],
   "source": [
    "TP=930\n",
    "TN=10\n",
    "FP=50\n",
    "FN=10"
   ]
  },
  {
   "cell_type": "code",
   "execution_count": null,
   "id": "44cee9a9",
   "metadata": {},
   "outputs": [],
   "source": [
    "accuracy = (TP + TN) / (TP + TN + FP + FN)\n",
    "print(accuracy) #85%"
   ]
  },
  {
   "cell_type": "code",
   "execution_count": null,
   "id": "01adcc94",
   "metadata": {},
   "outputs": [],
   "source": [
    "TPR = TP / (TP + FN)\n",
    "print(TPR)"
   ]
  },
  {
   "cell_type": "code",
   "execution_count": null,
   "id": "aa7ec8f7",
   "metadata": {},
   "outputs": [],
   "source": [
    "Recall = TP / (TP + FN)"
   ]
  },
  {
   "cell_type": "code",
   "execution_count": 2,
   "id": "a7121744",
   "metadata": {},
   "outputs": [
    {
     "ename": "NameError",
     "evalue": "name 'FP' is not defined",
     "output_type": "error",
     "traceback": [
      "\u001b[1;31m---------------------------------------------------------------------------\u001b[0m",
      "\u001b[1;31mNameError\u001b[0m                                 Traceback (most recent call last)",
      "Cell \u001b[1;32mIn[2], line 1\u001b[0m\n\u001b[1;32m----> 1\u001b[0m FPR \u001b[38;5;241m=\u001b[39m \u001b[43mFP\u001b[49m \u001b[38;5;241m/\u001b[39m (FP \u001b[38;5;241m+\u001b[39m TN)\n\u001b[0;32m      2\u001b[0m \u001b[38;5;28mprint\u001b[39m(FPR)\n",
      "\u001b[1;31mNameError\u001b[0m: name 'FP' is not defined"
     ]
    }
   ],
   "source": [
    "FPR = FP / (FP + TN)\n",
    "print(FPR)"
   ]
  },
  {
   "cell_type": "code",
   "execution_count": null,
   "id": "1cbf2d6f",
   "metadata": {},
   "outputs": [],
   "source": [
    "Precision = TP / (TP + FP)\n",
    "print(Precision)"
   ]
  },
  {
   "cell_type": "code",
   "execution_count": null,
   "id": "1f8d9b9d",
   "metadata": {},
   "outputs": [],
   "source": [
    "F1_Score = 2 * (Precision * Recall) / (Precision + Recall)\n",
    "print(F1_Score)"
   ]
  },
  {
   "cell_type": "code",
   "execution_count": null,
   "id": "f4308317",
   "metadata": {},
   "outputs": [],
   "source": [
    "Specificity = TN / (TN + FP)\n",
    "print(Specificity)"
   ]
  },
  {
   "cell_type": "code",
   "execution_count": null,
   "id": "1032f646",
   "metadata": {},
   "outputs": [],
   "source": []
  },
  {
   "cell_type": "code",
   "execution_count": null,
   "id": "5dbab079",
   "metadata": {},
   "outputs": [],
   "source": [
    "TP=860\n",
    "TN=50\n",
    "FP=10\n",
    "FN=80"
   ]
  },
  {
   "cell_type": "code",
   "execution_count": null,
   "id": "ca36c677",
   "metadata": {},
   "outputs": [],
   "source": [
    "accuracy = (TP + TN) / (TP + TN + FP + FN)\n",
    "print(accuracy) #85%"
   ]
  },
  {
   "cell_type": "code",
   "execution_count": null,
   "id": "019f3b6d",
   "metadata": {},
   "outputs": [],
   "source": [
    "TPR = TP / (TP + FN)\n",
    "print(TPR)"
   ]
  },
  {
   "cell_type": "code",
   "execution_count": null,
   "id": "4a5f7f58",
   "metadata": {},
   "outputs": [],
   "source": [
    "Recall = TP / (TP + FN)"
   ]
  },
  {
   "cell_type": "code",
   "execution_count": null,
   "id": "c8fe7b70",
   "metadata": {},
   "outputs": [],
   "source": [
    "FPR = FP / (FP + TN)\n",
    "print(FPR)"
   ]
  },
  {
   "cell_type": "code",
   "execution_count": null,
   "id": "72a13842",
   "metadata": {},
   "outputs": [],
   "source": [
    "Precision = TP / (TP + FP)\n",
    "print(Precision)"
   ]
  },
  {
   "cell_type": "code",
   "execution_count": null,
   "id": "79cb4908",
   "metadata": {},
   "outputs": [],
   "source": [
    "F1_Score = 2 * (Precision * Recall) / (Precision + Recall)\n",
    "print(F1_Score)"
   ]
  },
  {
   "cell_type": "code",
   "execution_count": null,
   "id": "85a3d492",
   "metadata": {},
   "outputs": [],
   "source": [
    "Specificity = TN / (TN + FP)\n",
    "print(Specificity)"
   ]
  },
  {
   "cell_type": "code",
   "execution_count": null,
   "id": "7bafedd0",
   "metadata": {},
   "outputs": [],
   "source": [
    "                    model 1                             model 2\n",
    " accuracy            0.94                       0.91\n",
    "    TPR                0.98                    0.91\n",
    "    FPR              0.833                    0.16\n",
    "    Precision       0.94                0.98\n",
    "    F1_Score            0.96               0.95 \n",
    "    Specificity      0.16                 0.83\n"
   ]
  },
  {
   "attachments": {
    "image.png": {
     "image/png": "[encoded data removed]"
    }
   },
   "cell_type": "markdown",
   "id": "a99b5661",
   "metadata": {},
   "source": [
    "m1  correct predictions more often\n",
    "m1   correctly identify positive instances\n",
    "\n",
    " ![image.png](attachment:image.png)"
   ]
  },
  {
   "cell_type": "code",
   "execution_count": null,
   "id": "585ba87b",
   "metadata": {},
   "outputs": [],
   "source": []
  },
  {
   "cell_type": "code",
   "execution_count": null,
   "id": "806308d3",
   "metadata": {},
   "outputs": [],
   "source": []
  },
  {
   "cell_type": "code",
   "execution_count": null,
   "id": "590330b5",
   "metadata": {},
   "outputs": [],
   "source": []
  },
  {
   "cell_type": "code",
   "execution_count": null,
   "id": "2bd896fc",
   "metadata": {},
   "outputs": [],
   "source": []
  },
  {
   "cell_type": "code",
   "execution_count": null,
   "id": "169516bd",
   "metadata": {},
   "outputs": [],
   "source": []
  },
  {
   "cell_type": "code",
   "execution_count": null,
   "id": "4ddfc3bf",
   "metadata": {},
   "outputs": [],
   "source": []
  },
  {
   "cell_type": "code",
   "execution_count": null,
   "id": "d7dde7d3",
   "metadata": {},
   "outputs": [],
   "source": []
  },
  {
   "cell_type": "code",
   "execution_count": null,
   "id": "598cbfbe",
   "metadata": {},
   "outputs": [],
   "source": []
  },
  {
   "cell_type": "code",
   "execution_count": null,
   "id": "45161ee4",
   "metadata": {},
   "outputs": [],
   "source": [
    "import numpy as np\n",
    "import pandas as pd\n",
    "import matplotlib.pyplot as plt\n",
    "import seaborn as sns"
   ]
  },
  {
   "cell_type": "code",
   "execution_count": null,
   "id": "944e79ce",
   "metadata": {},
   "outputs": [],
   "source": [
    "df=pd.read_csv(r'C:\\Users\\Anuja\\Music\\New folder\\Credit_Risk_data.csv')"
   ]
  },
  {
   "cell_type": "code",
   "execution_count": null,
   "id": "c978fd47",
   "metadata": {},
   "outputs": [],
   "source": [
    "df.shape"
   ]
  },
  {
   "cell_type": "code",
   "execution_count": null,
   "id": "5abfc809",
   "metadata": {},
   "outputs": [],
   "source": [
    "df.head(10)"
   ]
  },
  {
   "cell_type": "code",
   "execution_count": null,
   "id": "13e5a250",
   "metadata": {},
   "outputs": [],
   "source": [
    "df.head(10) #0 rural   1 semiurban   2urban"
   ]
  },
  {
   "cell_type": "code",
   "execution_count": null,
   "id": "4a9c8c09",
   "metadata": {},
   "outputs": [],
   "source": [
    "#df.drop(columns=\"Loan_ID\",inplace=True)"
   ]
  },
  {
   "cell_type": "code",
   "execution_count": null,
   "id": "51f72cfd",
   "metadata": {},
   "outputs": [],
   "source": [
    "df.isnull().sum()"
   ]
  },
  {
   "cell_type": "code",
   "execution_count": null,
   "id": "20a682b1",
   "metadata": {
    "scrolled": true
   },
   "outputs": [],
   "source": [
    "df[\"Gender\"].value_counts()"
   ]
  },
  {
   "cell_type": "code",
   "execution_count": null,
   "id": "a6321e9b",
   "metadata": {},
   "outputs": [],
   "source": [
    "df[\"Gender\"].fillna(\"Female\",inplace=True)"
   ]
  },
  {
   "cell_type": "code",
   "execution_count": null,
   "id": "e5030622",
   "metadata": {},
   "outputs": [],
   "source": [
    "df[\"Dependents\"].value_counts()"
   ]
  },
  {
   "cell_type": "code",
   "execution_count": null,
   "id": "4651f313",
   "metadata": {},
   "outputs": [],
   "source": [
    "df[\"Dependents\"].fillna(\"3+\",inplace=True)"
   ]
  },
  {
   "cell_type": "code",
   "execution_count": null,
   "id": "15b2ffe7",
   "metadata": {
    "scrolled": true
   },
   "outputs": [],
   "source": [
    "df[\"Married\"].value_counts()"
   ]
  },
  {
   "cell_type": "code",
   "execution_count": null,
   "id": "722db980",
   "metadata": {},
   "outputs": [],
   "source": [
    "df[\"Married\"].fillna(\"No\",inplace=True)"
   ]
  },
  {
   "cell_type": "code",
   "execution_count": null,
   "id": "8c46ba71",
   "metadata": {},
   "outputs": [],
   "source": [
    "df[\"Self_Employed\"].value_counts()"
   ]
  },
  {
   "cell_type": "code",
   "execution_count": null,
   "id": "31e70294",
   "metadata": {},
   "outputs": [],
   "source": [
    "df[\"Self_Employed\"].fillna(\"Yes\",inplace=True)"
   ]
  },
  {
   "cell_type": "code",
   "execution_count": null,
   "id": "1eabd168",
   "metadata": {},
   "outputs": [],
   "source": [
    "df[\"LoanAmount\"].value_counts()"
   ]
  },
  {
   "cell_type": "code",
   "execution_count": null,
   "id": "5dcac6f7",
   "metadata": {},
   "outputs": [],
   "source": [
    "df[\"LoanAmount\"].fillna(df[\"LoanAmount\"].median(),inplace=True)"
   ]
  },
  {
   "cell_type": "code",
   "execution_count": null,
   "id": "24a850b6",
   "metadata": {},
   "outputs": [],
   "source": [
    "df[\"Loan_Amount_Term\"].value_counts()"
   ]
  },
  {
   "cell_type": "code",
   "execution_count": null,
   "id": "69b2de7b",
   "metadata": {},
   "outputs": [],
   "source": [
    "df[\"Loan_Amount_Term\"].fillna(12.0,inplace=True)"
   ]
  },
  {
   "cell_type": "code",
   "execution_count": null,
   "id": "4d6c4515",
   "metadata": {},
   "outputs": [],
   "source": [
    "df[\"Credit_History\"].value_counts()"
   ]
  },
  {
   "cell_type": "code",
   "execution_count": null,
   "id": "fd2f11f8",
   "metadata": {},
   "outputs": [],
   "source": [
    "df[\"Credit_History\"].fillna(0.0,inplace=True)"
   ]
  },
  {
   "cell_type": "code",
   "execution_count": null,
   "id": "99978369",
   "metadata": {},
   "outputs": [],
   "source": [
    "df.isnull().sum()"
   ]
  },
  {
   "cell_type": "code",
   "execution_count": null,
   "id": "2741ffd2",
   "metadata": {},
   "outputs": [],
   "source": [
    "df[\"Loan_Status\"].value_counts()"
   ]
  },
  {
   "attachments": {
    "image.png": {
     "image/png": "[encoded data removed]"
    }
   },
   "cell_type": "markdown",
   "id": "769c5ccf",
   "metadata": {},
   "source": [
    "![image.png](attachment:image.png)"
   ]
  },
  {
   "cell_type": "code",
   "execution_count": null,
   "id": "862c51ed",
   "metadata": {},
   "outputs": [],
   "source": [
    "df.dtypes"
   ]
  },
  {
   "cell_type": "code",
   "execution_count": null,
   "id": "29e2f785",
   "metadata": {},
   "outputs": [],
   "source": [
    "from sklearn.preprocessing import LabelEncoder\n",
    "le=LabelEncoder()"
   ]
  },
  {
   "cell_type": "code",
   "execution_count": null,
   "id": "97d7e8fa",
   "metadata": {},
   "outputs": [],
   "source": [
    "df.Gender=le.fit_transform(df.Gender)"
   ]
  },
  {
   "cell_type": "code",
   "execution_count": null,
   "id": "3fe58b3f",
   "metadata": {},
   "outputs": [],
   "source": [
    "df.Married=le.fit_transform(df.Married)"
   ]
  },
  {
   "cell_type": "code",
   "execution_count": null,
   "id": "ef9b610e",
   "metadata": {},
   "outputs": [],
   "source": [
    "df.Dependents=le.fit_transform(df.Dependents)"
   ]
  },
  {
   "cell_type": "code",
   "execution_count": null,
   "id": "d9edffc9",
   "metadata": {},
   "outputs": [],
   "source": [
    "df.Education=le.fit_transform(df.Education)"
   ]
  },
  {
   "cell_type": "code",
   "execution_count": null,
   "id": "2243bafe",
   "metadata": {},
   "outputs": [],
   "source": [
    "df.Loan_Status=le.fit_transform(df.Loan_Status)"
   ]
  },
  {
   "cell_type": "code",
   "execution_count": null,
   "id": "bfc65920",
   "metadata": {},
   "outputs": [],
   "source": [
    "df.Property_Area=le.fit_transform(df.Property_Area)"
   ]
  },
  {
   "cell_type": "code",
   "execution_count": null,
   "id": "ace72d36",
   "metadata": {},
   "outputs": [],
   "source": [
    "df.Self_Employed=le.fit_transform(df.Self_Employed)"
   ]
  },
  {
   "cell_type": "code",
   "execution_count": null,
   "id": "46f05128",
   "metadata": {
    "scrolled": true
   },
   "outputs": [],
   "source": [
    "df.dtypes"
   ]
  },
  {
   "cell_type": "code",
   "execution_count": null,
   "id": "18b75b58",
   "metadata": {},
   "outputs": [],
   "source": [
    "df[\"CoapplicantIncome\"]=df[\"CoapplicantIncome\"].astype(\"int32\")\n",
    "df[\"LoanAmount\"]=df[\"LoanAmount\"].astype(\"int32\")\n",
    "df[\"Loan_Amount_Term\"]=df[\"Loan_Amount_Term\"].astype(\"int32\")\n",
    "df[\"Credit_History\"]=df[\"Credit_History\"].astype(\"int32\")"
   ]
  },
  {
   "cell_type": "code",
   "execution_count": null,
   "id": "1f78af7b",
   "metadata": {},
   "outputs": [],
   "source": [
    "df.dtypes"
   ]
  },
  {
   "cell_type": "code",
   "execution_count": null,
   "id": "f581e1e6",
   "metadata": {},
   "outputs": [],
   "source": [
    "df[\"Property_Area\"].unique()"
   ]
  },
  {
   "cell_type": "code",
   "execution_count": null,
   "id": "2e727029",
   "metadata": {},
   "outputs": [],
   "source": [
    "df.head(10)"
   ]
  },
  {
   "cell_type": "code",
   "execution_count": null,
   "id": "96a6a7b6",
   "metadata": {},
   "outputs": [],
   "source": []
  },
  {
   "cell_type": "code",
   "execution_count": null,
   "id": "b3a7876a",
   "metadata": {},
   "outputs": [],
   "source": [
    "x=df[\"ApplicantIncome\"]\n",
    "y=df[\"LoanAmount\"]\n",
    "mycolors=df[\"Loan_Status\"]\n",
    "plt.scatter(x,y,alpha=0.8)\n",
    "plt.colorbar()\n",
    "plt.show()"
   ]
  },
  {
   "cell_type": "code",
   "execution_count": null,
   "id": "a5c56c35",
   "metadata": {},
   "outputs": [],
   "source": [
    "x=df[\"Education\"]\n",
    "y=df[\"Loan_Status\"]\n",
    "plt.bar(x,y,color=\"green\",width=0.2) # plt.barh(x,y) <= for horizontal graphss\n",
    "plt.show() # default width=0.8"
   ]
  },
  {
   "cell_type": "code",
   "execution_count": null,
   "id": "bbf5e848",
   "metadata": {},
   "outputs": [],
   "source": [
    "x=df[\"Education\"]\n",
    "y=df[\"ApplicantIncome\"]\n",
    "plt.bar(x,y,color=\"green\",width=0.2) # plt.barh(x,y) <= for horizontal graphss\n",
    "plt.show()"
   ]
  },
  {
   "cell_type": "code",
   "execution_count": null,
   "id": "f282504b",
   "metadata": {},
   "outputs": [],
   "source": [
    "x=df[\"Married\"].value_counts()\n",
    "y=[\"Married\",\"Not married\"]\n",
    "mycolors=[\"cyan\",\"black\"]\n",
    "plt.pie(x,labels=y,colors=mycolors)\n",
    "plt.show()"
   ]
  },
  {
   "cell_type": "code",
   "execution_count": null,
   "id": "0c7763ff",
   "metadata": {},
   "outputs": [],
   "source": [
    "df[\"Property_Area\"].value_counts() #  0 rural   1 semiurban   2 urban"
   ]
  },
  {
   "cell_type": "code",
   "execution_count": null,
   "id": "22a752e9",
   "metadata": {},
   "outputs": [],
   "source": [
    "x=df[\"Property_Area\"].value_counts()\n",
    "#lb=df[\"Loan_Status\"]\n",
    "lb=[\"rural\",\"semiurban\",\"urban\"]\n",
    "mycolors=[\"cyan\",\"black\",\"Yellow\"]\n",
    "plt.pie(x,labels=lb,colors=mycolors)\n",
    "plt.show()"
   ]
  },
  {
   "cell_type": "code",
   "execution_count": null,
   "id": "3d6cb2fb",
   "metadata": {},
   "outputs": [],
   "source": [
    "corr1 = df.corr()\n",
    "corr1"
   ]
  },
  {
   "cell_type": "code",
   "execution_count": null,
   "id": "c13788cc",
   "metadata": {},
   "outputs": [],
   "source": [
    "# 1.Gender is not related to loan_status\n",
    "# 2.loan status is highly correlated with credit history\n",
    "# "
   ]
  },
  {
   "cell_type": "code",
   "execution_count": null,
   "id": "ddcaa288",
   "metadata": {},
   "outputs": [],
   "source": [
    "plt.figure(figsize=(15,10))\n",
    "heatmap=sns.heatmap(corr1,linewidth=1,annot=True,cmap=plt.cm.Blues)\n",
    "plt.title(\"Heatmap using seaborn\")\n",
    "plt.show()"
   ]
  },
  {
   "cell_type": "code",
   "execution_count": null,
   "id": "154d89a2",
   "metadata": {},
   "outputs": [],
   "source": [
    "df.drop(\"Loan_ID\", axis=1, inplace=False)"
   ]
  },
  {
   "cell_type": "code",
   "execution_count": null,
   "id": "a2bf8955",
   "metadata": {},
   "outputs": [],
   "source": [
    "x=df.iloc[:,0:-1]\n",
    "y=df.iloc[:,-1]"
   ]
  },
  {
   "cell_type": "code",
   "execution_count": null,
   "id": "cb233636",
   "metadata": {},
   "outputs": [],
   "source": [
    "y.head(2)"
   ]
  },
  {
   "cell_type": "code",
   "execution_count": null,
   "id": "39aa51df",
   "metadata": {},
   "outputs": [],
   "source": [
    "from sklearn.model_selection import train_test_split"
   ]
  },
  {
   "cell_type": "code",
   "execution_count": null,
   "id": "65356be6",
   "metadata": {},
   "outputs": [],
   "source": [
    "x_train,x_test,y_train,y_test=train_test_split(x,y,test_size=0.2,random_state=101)"
   ]
  },
  {
   "cell_type": "code",
   "execution_count": null,
   "id": "f6ca38ed",
   "metadata": {},
   "outputs": [],
   "source": [
    "x_train.shape,x_test.shape,y_train.shape,y_test.shape"
   ]
  },
  {
   "cell_type": "code",
   "execution_count": null,
   "id": "bfab9f73",
   "metadata": {},
   "outputs": [],
   "source": [
    "from sklearn.linear_model import LogisticRegression\n",
    "lg=LogisticRegression()"
   ]
  },
  {
   "cell_type": "code",
   "execution_count": null,
   "id": "2e972e8f",
   "metadata": {},
   "outputs": [],
   "source": [
    "lg.fit(x_train,y_train)"
   ]
  },
  {
   "cell_type": "code",
   "execution_count": null,
   "id": "18d1fc5d",
   "metadata": {},
   "outputs": [],
   "source": [
    "p1=lg.predict(x_test)\n",
    "#p1"
   ]
  },
  {
   "cell_type": "code",
   "execution_count": null,
   "id": "22c477a1",
   "metadata": {},
   "outputs": [],
   "source": [
    "from sklearn.metrics import confusion_matrix\n",
    "cf1=confusion_matrix(p1,y_test)\n",
    "cf1"
   ]
  },
  {
   "cell_type": "code",
   "execution_count": null,
   "id": "c00bc4b1",
   "metadata": {},
   "outputs": [],
   "source": [
    "ac1=cf1.diagonal().sum()/cf1.sum()*100\n",
    "ac1"
   ]
  },
  {
   "cell_type": "code",
   "execution_count": null,
   "id": "7c8962a1",
   "metadata": {},
   "outputs": [],
   "source": [
    "from sklearn.metrics import confusion_matrix"
   ]
  },
  {
   "cell_type": "code",
   "execution_count": null,
   "id": "9dc3cabd",
   "metadata": {},
   "outputs": [],
   "source": []
  },
  {
   "cell_type": "code",
   "execution_count": null,
   "id": "78812f8d",
   "metadata": {},
   "outputs": [],
   "source": []
  },
  {
   "cell_type": "code",
   "execution_count": null,
   "id": "d76f9eca",
   "metadata": {},
   "outputs": [],
   "source": []
  },
  {
   "cell_type": "code",
   "execution_count": null,
   "id": "bcec3a4a",
   "metadata": {},
   "outputs": [],
   "source": []
  },
  {
   "cell_type": "code",
   "execution_count": null,
   "id": "4353343a",
   "metadata": {},
   "outputs": [],
   "source": []
  },
  {
   "cell_type": "code",
   "execution_count": null,
   "id": "b052df53",
   "metadata": {},
   "outputs": [],
   "source": []
  },
  {
   "cell_type": "code",
   "execution_count": null,
   "id": "8f3ac66b",
   "metadata": {},
   "outputs": [],
   "source": []
  },
  {
   "cell_type": "code",
   "execution_count": null,
   "id": "96f2e1ae",
   "metadata": {},
   "outputs": [],
   "source": []
  },
  {
   "cell_type": "code",
   "execution_count": null,
   "id": "66a1fe5b",
   "metadata": {},
   "outputs": [],
   "source": []
  },
  {
   "cell_type": "code",
   "execution_count": null,
   "id": "90e6a6be",
   "metadata": {},
   "outputs": [],
   "source": []
  },
  {
   "cell_type": "code",
   "execution_count": null,
   "id": "a332c024",
   "metadata": {},
   "outputs": [],
   "source": []
  },
  {
   "cell_type": "code",
   "execution_count": null,
   "id": "171d0116",
   "metadata": {},
   "outputs": [],
   "source": []
  },
  {
   "cell_type": "code",
   "execution_count": null,
   "id": "fb993ebf",
   "metadata": {},
   "outputs": [],
   "source": []
  },
  {
   "cell_type": "code",
   "execution_count": null,
   "id": "f7904f31",
   "metadata": {},
   "outputs": [],
   "source": [
    "#plot1\n",
    "x=np.array([89,80,67,56])\n",
    "y=np.array([230,200,300,430])\n",
    "\n",
    "plt.subplot(3,3,1) #row , col , graphno\n",
    "plt.plot(x,y)\n",
    "           \n",
    "#plot2\n",
    "x=np.array([89,80,67,56])\n",
    "y=np.array([230,200,300,430])\n",
    "\n",
    "plt.subplot(3,3,2)\n",
    "plt.plot(x,y)\n",
    "\n",
    "#plot3\n",
    "x=np.array([89,80,67,56])\n",
    "y=np.array([230,200,300,430])\n",
    "\n",
    "plt.subplot(3,3,3)\n",
    "plt.plot(x,y)\n",
    "\n",
    "#plot4\n",
    "x=np.array([89,80,67,56])\n",
    "y=np.array([230,200,300,430])\n",
    "\n",
    "plt.subplot(3,3,4)\n",
    "plt.plot(x,y)\n",
    "\n",
    "#plot5\n",
    "x=np.array([89,80,67,56])\n",
    "y=np.array([230,200,300,430])\n",
    "\n",
    "plt.subplot(3,3,5)\n",
    "plt.title(\" graph-5 \")\n",
    "plt.plot(x,y)\n",
    "\n",
    "#plot6\n",
    "x=np.array([89,80,67,56])\n",
    "y=np.array([230,200,300,430])\n",
    "\n",
    "plt.subplot(3,3,6)\n",
    "plt.plot(x,y)\n",
    "\n",
    "#plot7\n",
    "x=np.array([89,80,67,56])\n",
    "y=np.array([230,200,300,430])\n",
    "\n",
    "plt.subplot(3,3,7)\n",
    "plt.plot(x,y)\n",
    "\n",
    "#plot8\n",
    "x=np.array([89,80,67,56])\n",
    "y=np.array([230,200,300,430])\n",
    "\n",
    "plt.subplot(3,3,8)\n",
    "plt.plot(x,y)\n",
    "\n",
    "#plot9\n",
    "x=np.array([89,80,67,56])\n",
    "y=np.array([230,200,300,430])\n",
    "\n",
    "plt.subplot(3,3,9)\n",
    "plt.plot(x,y)\n",
    "\n",
    "plt.suptitle(\"subplot\")\n",
    "plt.show()"
   ]
  },
  {
   "cell_type": "markdown",
   "id": "3ad5b271",
   "metadata": {},
   "source": [
    "## scatter plot"
   ]
  },
  {
   "cell_type": "code",
   "execution_count": null,
   "id": "42dcfa87",
   "metadata": {},
   "outputs": [],
   "source": [
    "x=np.array([1,2,3,4,56,5])\n",
    "y=np.array([10,30,50,90,60,70])\n",
    "plt.scatter(x,y,color=\"hotpink\")\n",
    "\n",
    "x1=np.arange(20,27)\n",
    "y1=np.arange(50,57)\n",
    "plt.scatter(x1,y1,color=\"c\")"
   ]
  },
  {
   "cell_type": "code",
   "execution_count": null,
   "id": "58f2f964",
   "metadata": {},
   "outputs": [],
   "source": [
    "x=np.array([1,2,3,4,56,5])\n",
    "y=np.array([10,30,50,90,60,70])\n",
    "colors=np.array([\"red\",\"green\",\"blue\",\"cyan\",\"magenta\",\"black\"])\n",
    "plt.scatter(x,y,c=colors)\n"
   ]
  },
  {
   "cell_type": "code",
   "execution_count": null,
   "id": "2ce1f96d",
   "metadata": {},
   "outputs": [],
   "source": [
    "x=np.array([1,2,3,4,56,5])\n",
    "y=np.array([10,30,50,90,60,70])\n",
    "color=np.array([40,50,60,70,80,90])\n",
    "plt.scatter(x,y,color,c=color,cmap=\"viridis\")\n",
    "plt.colorbar()\n",
    "plt.show"
   ]
  },
  {
   "cell_type": "code",
   "execution_count": null,
   "id": "5bac5d18",
   "metadata": {},
   "outputs": [],
   "source": [
    "x=np.array([1,2,3,4,56,5])\n",
    "y=np.array([10,30,50,90,60,70])\n",
    "color=np.array([40,50,60,70,80,90])\n",
    "plt.scatter(x,y,color,c=color,cmap=\"Accent\")\n",
    "plt.colorbar()\n",
    "plt.show"
   ]
  },
  {
   "cell_type": "code",
   "execution_count": null,
   "id": "0e227e04",
   "metadata": {},
   "outputs": [],
   "source": [
    "x=np.array([1,2,3,4,56,5])\n",
    "y=np.array([10,30,50,90,60,70])\n",
    "color=np.array([40,50,60,70,80,90])\n",
    "plt.scatter(x,y,color,c=color,cmap=\"OrRd\")\n",
    "plt.colorbar()\n",
    "plt.show"
   ]
  },
  {
   "cell_type": "code",
   "execution_count": null,
   "id": "2b3aff33",
   "metadata": {},
   "outputs": [],
   "source": [
    "x=np.array([1,2,3,4,56,5])\n",
    "y=np.array([10,30,50,90,60,70])\n",
    "color=np.array([40,50,60,70,80,90])\n",
    "plt.scatter(x,y,color,c=color,cmap=\"Dark2\")\n",
    "plt.colorbar()\n",
    "plt.show"
   ]
  },
  {
   "cell_type": "code",
   "execution_count": null,
   "id": "b8ac5d77",
   "metadata": {},
   "outputs": [],
   "source": [
    "x=np.array([1,2,3,4,56,5])\n",
    "y=np.array([10,30,50,90,60,70])\n",
    "color=np.array([40,50,60,70,80,90])\n",
    "plt.scatter(x,y,color,c=color,cmap=\"PiYG\")\n",
    "plt.colorbar()\n",
    "plt.show"
   ]
  },
  {
   "cell_type": "code",
   "execution_count": null,
   "id": "75a25dda",
   "metadata": {},
   "outputs": [],
   "source": [
    "x=np.array([1,2,3,4,56,5])\n",
    "y=np.array([10,30,50,90,60,70])\n",
    "color=np.array([40,50,60,70,80,90])\n",
    "plt.scatter(x,y,color,c=color,cmap=\"Wistia\")\n",
    "plt.colorbar()\n",
    "plt.show"
   ]
  },
  {
   "cell_type": "code",
   "execution_count": null,
   "id": "cbd366da",
   "metadata": {},
   "outputs": [],
   "source": [
    "x=np.array([1,2,3,4,56,5])\n",
    "y=np.array([10,30,50,90,60,70])\n",
    "color=np.array([40,50,60,70,80,90])\n",
    "plt.scatter(x,y,color,c=color,cmap=\"ocean\")\n",
    "plt.colorbar()\n",
    "plt.show"
   ]
  },
  {
   "cell_type": "code",
   "execution_count": null,
   "id": "eed30843",
   "metadata": {},
   "outputs": [],
   "source": [
    "x=np.array([1,2,3,4,56,5])\n",
    "y=np.array([10,30,50,90,60,70])\n",
    "size=np.array([10,50,60,70,80,90])\n",
    "plt.scatter(x,y,s=size)\n",
    "plt.colorbar()\n",
    "plt.show"
   ]
  },
  {
   "cell_type": "code",
   "execution_count": null,
   "id": "012611f0",
   "metadata": {
    "scrolled": true
   },
   "outputs": [],
   "source": [
    "x=np.array([1,2,3,4,56,5])\n",
    "y=np.array([10,30,50,90,60,70])\n",
    "size=np.array([10,50,60,70,80,90])\n",
    "plt.scatter(x,y,s=size,alpha=0.5)\n",
    "plt.colorbar()\n",
    "plt.show"
   ]
  },
  {
   "cell_type": "code",
   "execution_count": null,
   "id": "ad4752d9",
   "metadata": {
    "scrolled": true
   },
   "outputs": [],
   "source": [
    "x=np.random.randint(100,size=(100))\n",
    "y=np.random.randint(100,size=(100))\n",
    "colors=np.random.randint(100,size=(100))\n",
    "sizes=10*np.random.randint(100,size=(100))\n",
    "plt.scatter(x,y,c=colors,s=sizes,alpha=0.8,cmap=\"nipy_spectral\")\n",
    "plt.colorbar()\n",
    "plt.show()"
   ]
  },
  {
   "cell_type": "code",
   "execution_count": null,
   "id": "6afa1bad",
   "metadata": {},
   "outputs": [],
   "source": [
    "x=np.array([\"A\",\"B\",\"C\",\"D\",\"E\"])\n",
    "y=np.array([30,12,89,34,50])\n",
    "plt.bar(x,y,color=\"green\",width=0.2) # plt.barh(x,y) <= for horizontal graphss\n",
    "plt.show() # default width=0.8"
   ]
  },
  {
   "cell_type": "code",
   "execution_count": null,
   "id": "61ab3f02",
   "metadata": {},
   "outputs": [],
   "source": [
    "x=np.array([\"A\",\"B\",\"C\",\"D\",\"E\"])\n",
    "y=np.array([30,12,89,34,50])\n",
    "plt.barh(x,y,color=\"green\",height=0.6) # in horizontal=>height not width\n",
    "plt.show()"
   ]
  },
  {
   "cell_type": "code",
   "execution_count": null,
   "id": "3b965c24",
   "metadata": {
    "scrolled": true
   },
   "outputs": [],
   "source": [
    "x=np.random.normal(100,10,250)#random.normal(loc=0.0, scale=1.0, size=None)\n",
    "plt.hist(x)\n",
    "plt.show()"
   ]
  },
  {
   "cell_type": "markdown",
   "id": "8692af93",
   "metadata": {},
   "source": [
    "### piechart"
   ]
  },
  {
   "cell_type": "code",
   "execution_count": null,
   "id": "2589dd8d",
   "metadata": {},
   "outputs": [],
   "source": [
    "x=np.array([20,45,90,10])\n",
    "lb=[\"India\",\"US\",\"korea\",\"Japan\"]\n",
    "plt.pie(x,labels=lb)\n",
    "plt.show()"
   ]
  },
  {
   "cell_type": "code",
   "execution_count": null,
   "id": "65d2adbf",
   "metadata": {},
   "outputs": [],
   "source": [
    "x=np.array([20,45,90,10])\n",
    "lb=[\"India\",\"US\",\"korea\",\"Japan\"]\n",
    "mycolors=[\"red\",\"cyan\",\"black\",\"Yellow\"]\n",
    "plt.pie(x,labels=lb,startangle=90,colors=mycolors)\n",
    "plt.show()"
   ]
  },
  {
   "cell_type": "code",
   "execution_count": null,
   "id": "f0a2b58d",
   "metadata": {},
   "outputs": [],
   "source": [
    "x=np.array([20,45,90,10])\n",
    "lb=[\"India\",\"US\",\"korea\",\"Japan\"]\n",
    "mycolors=[\"red\",\"cyan\",\"black\",\"Yellow\"]\n",
    "myexplode=[0.5,0,0,0]\n",
    "plt.pie(x,labels=lb,colors=mycolors,explode=myexplode)\n",
    "plt.show()"
   ]
  },
  {
   "cell_type": "raw",
   "id": "3b45e0b7",
   "metadata": {},
   "source": [
    "x=np.array([20,45,90,10])\n",
    "lb=[\"India\",\"US\",\"korea\",\"Japan\"]\n",
    "mycolors=[\"red\",\"cyan\",\"black\",\"Yellow\"]\n",
    "plt.pie(x,labels=lb,colors=mycolors)\n",
    "plt.legend(loc =\"lower right\") #\n",
    "plt.show(autopct='%1.2f%%')"
   ]
  },
  {
   "cell_type": "code",
   "execution_count": null,
   "id": "123f3267",
   "metadata": {},
   "outputs": [],
   "source": []
  },
  {
   "cell_type": "code",
   "execution_count": null,
   "id": "c75ce922",
   "metadata": {},
   "outputs": [],
   "source": [
    "import seaborn as sns"
   ]
  },
  {
   "cell_type": "code",
   "execution_count": null,
   "id": "22ae8c05",
   "metadata": {},
   "outputs": [],
   "source": [
    "t=sns.load_dataset(\"tips\")\n",
    "t.shape"
   ]
  },
  {
   "cell_type": "code",
   "execution_count": null,
   "id": "ac60087d",
   "metadata": {},
   "outputs": [],
   "source": [
    "t.head()"
   ]
  },
  {
   "cell_type": "code",
   "execution_count": null,
   "id": "c5657d8c",
   "metadata": {},
   "outputs": [],
   "source": [
    "sns.lmplot(data=t,x=\"total_bill\",y=\"tip\")"
   ]
  },
  {
   "cell_type": "code",
   "execution_count": null,
   "id": "68325fd0",
   "metadata": {},
   "outputs": [],
   "source": [
    "sns.lmplot(data=t,x=\"total_bill\",y=\"tip\",hue=\"smoker\")"
   ]
  },
  {
   "cell_type": "code",
   "execution_count": null,
   "id": "39ae6730",
   "metadata": {},
   "outputs": [],
   "source": [
    "sns.lmplot(data=df,x=df[\"Education\"],hue=df[\"Loan_Status\"])"
   ]
  },
  {
   "cell_type": "code",
   "execution_count": null,
   "id": "74a12c9d",
   "metadata": {
    "scrolled": true
   },
   "outputs": [],
   "source": [
    "sns.displot(data=t,x=\"total_bill\",col=\"time\",kde=True)"
   ]
  },
  {
   "cell_type": "code",
   "execution_count": null,
   "id": "d8212fa9",
   "metadata": {},
   "outputs": [],
   "source": [
    "sns.barplot(t,x=\"time\",y=\"total_bill\")"
   ]
  },
  {
   "cell_type": "code",
   "execution_count": null,
   "id": "3fc41d6c",
   "metadata": {},
   "outputs": [],
   "source": [
    "sns.boxplot(t,x=\"time\",y=\"total_bill\")"
   ]
  },
  {
   "cell_type": "code",
   "execution_count": null,
   "id": "729f6637",
   "metadata": {},
   "outputs": [],
   "source": [
    "t.boxplot()"
   ]
  },
  {
   "cell_type": "code",
   "execution_count": null,
   "id": "ffbd7d5f",
   "metadata": {
    "scrolled": false
   },
   "outputs": [],
   "source": [
    "sns.distplot(t[\"total_bill\"],kde=True)"
   ]
  },
  {
   "cell_type": "code",
   "execution_count": null,
   "id": "2f1c13c5",
   "metadata": {},
   "outputs": [],
   "source": []
  },
  {
   "cell_type": "code",
   "execution_count": null,
   "id": "f031b6ec",
   "metadata": {},
   "outputs": [],
   "source": []
  },
  {
   "cell_type": "code",
   "execution_count": null,
   "id": "94573ba0",
   "metadata": {},
   "outputs": [],
   "source": [
    "fig=plt.figure(figsize=(5,5))\n",
    "sns.boxplot(data=df,y=\"ApplicantIncome\")"
   ]
  },
  {
   "cell_type": "code",
   "execution_count": null,
   "id": "9bf370d2",
   "metadata": {},
   "outputs": [],
   "source": [
    "data1.skew()"
   ]
  },
  {
   "cell_type": "code",
   "execution_count": null,
   "id": "1f227874",
   "metadata": {},
   "outputs": [],
   "source": [
    "data1=df"
   ]
  },
  {
   "cell_type": "code",
   "execution_count": null,
   "id": "20044398",
   "metadata": {},
   "outputs": [],
   "source": [
    "data1.CoapplicantIncome.describe()"
   ]
  },
  {
   "cell_type": "code",
   "execution_count": null,
   "id": "ea69c0d4",
   "metadata": {},
   "outputs": [],
   "source": [
    "IQR=data1.CoapplicantIncome.quantile(0.75)-data1.CoapplicantIncome.quantile(0.25)\n",
    "IQR"
   ]
  },
  {
   "cell_type": "code",
   "execution_count": null,
   "id": "44f6b70d",
   "metadata": {},
   "outputs": [],
   "source": [
    "ub1=data1.CoapplicantIncome.quantile(0.75)+3*IQR\n",
    "lb1=data1.CoapplicantIncome.quantile(0.25)-3*IQR\n",
    "print(ub1,lb1)"
   ]
  },
  {
   "cell_type": "code",
   "execution_count": null,
   "id": "5674e2c8",
   "metadata": {},
   "outputs": [],
   "source": [
    "data1.loc[data1[\"CoapplicantIncome\"]>9189.0,\"CoapplicantIncome\"]=-6891.75"
   ]
  },
  {
   "cell_type": "code",
   "execution_count": null,
   "id": "ec6400d2",
   "metadata": {},
   "outputs": [],
   "source": [
    "sns.distplot(data1.CoapplicantIncome) "
   ]
  },
  {
   "cell_type": "code",
   "execution_count": null,
   "id": "ee575536",
   "metadata": {},
   "outputs": [],
   "source": [
    "data1.CoapplicantIncome.hist()"
   ]
  },
  {
   "cell_type": "code",
   "execution_count": null,
   "id": "91eecb6d",
   "metadata": {},
   "outputs": [],
   "source": [
    "df.drop(\"Loan_ID\", axis=1, inplace=False)"
   ]
  },
  {
   "cell_type": "code",
   "execution_count": null,
   "id": "534855a0",
   "metadata": {},
   "outputs": [],
   "source": [
    "x=df.iloc[:,0:-1]\n",
    "y=df.iloc[:,-1]"
   ]
  },
  {
   "cell_type": "code",
   "execution_count": null,
   "id": "3f6cdd80",
   "metadata": {},
   "outputs": [],
   "source": [
    "y.head(2)"
   ]
  },
  {
   "cell_type": "code",
   "execution_count": null,
   "id": "ea3c303f",
   "metadata": {},
   "outputs": [],
   "source": [
    "from sklearn.model_selection import train_test_split"
   ]
  },
  {
   "cell_type": "code",
   "execution_count": null,
   "id": "aabf7b63",
   "metadata": {},
   "outputs": [],
   "source": [
    "x_train,x_test,y_train,y_test=train_test_split(x,y,test_size=0.2,random_state=101)"
   ]
  },
  {
   "cell_type": "code",
   "execution_count": null,
   "id": "cbfb2601",
   "metadata": {},
   "outputs": [],
   "source": [
    "x_train.shape,x_test.shape,y_train.shape,y_test.shape"
   ]
  },
  {
   "cell_type": "code",
   "execution_count": null,
   "id": "e6bbfe57",
   "metadata": {},
   "outputs": [],
   "source": [
    "from sklearn.linear_model import LogisticRegression\n",
    "lg=LogisticRegression()"
   ]
  },
  {
   "cell_type": "code",
   "execution_count": null,
   "id": "46e899f8",
   "metadata": {},
   "outputs": [],
   "source": [
    "lg.fit(x_train,y_train)"
   ]
  },
  {
   "cell_type": "code",
   "execution_count": null,
   "id": "3b35be80",
   "metadata": {},
   "outputs": [],
   "source": [
    "p1=lg.predict(x_test)\n",
    "#p1"
   ]
  },
  {
   "cell_type": "code",
   "execution_count": null,
   "id": "ccb8271e",
   "metadata": {},
   "outputs": [],
   "source": [
    "from sklearn.metrics import confusion_matrix\n",
    "cf1=confusion_matrix(p1,y_test)\n",
    "cf1"
   ]
  },
  {
   "cell_type": "code",
   "execution_count": null,
   "id": "5944d6e3",
   "metadata": {},
   "outputs": [],
   "source": [
    "ac1=cf1.diagonal().sum()/cf1.sum()*100\n",
    "ac1"
   ]
  },
  {
   "cell_type": "code",
   "execution_count": null,
   "id": "6dc191d5",
   "metadata": {},
   "outputs": [],
   "source": [
    "from sklearn.metrics import confusion_matrix"
   ]
  },
  {
   "cell_type": "code",
   "execution_count": null,
   "id": "00e9c492",
   "metadata": {},
   "outputs": [],
   "source": [
    "df.Loan_status.value_counts() # class imabalance because it is biasesd"
   ]
  },
  {
   "cell_type": "code",
   "execution_count": null,
   "id": "b40207d9",
   "metadata": {},
   "outputs": [],
   "source": []
  },
  {
   "cell_type": "code",
   "execution_count": null,
   "id": "e3e5c929",
   "metadata": {},
   "outputs": [],
   "source": []
  },
  {
   "cell_type": "code",
   "execution_count": null,
   "id": "ab1c2139",
   "metadata": {},
   "outputs": [],
   "source": []
  },
  {
   "cell_type": "code",
   "execution_count": null,
   "id": "17471021",
   "metadata": {},
   "outputs": [],
   "source": []
  },
  {
   "cell_type": "code",
   "execution_count": null,
   "id": "3f68b6ff",
   "metadata": {},
   "outputs": [],
   "source": []
  },
  {
   "cell_type": "code",
   "execution_count": null,
   "id": "121e89e0",
   "metadata": {},
   "outputs": [],
   "source": []
  },
  {
   "cell_type": "code",
   "execution_count": null,
   "id": "ebe7f49d",
   "metadata": {},
   "outputs": [],
   "source": []
  },
  {
   "cell_type": "code",
   "execution_count": null,
   "id": "65fcbc46",
   "metadata": {},
   "outputs": [],
   "source": []
  },
  {
   "cell_type": "code",
   "execution_count": null,
   "id": "67465bdd",
   "metadata": {},
   "outputs": [],
   "source": []
  },
  {
   "cell_type": "code",
   "execution_count": null,
   "id": "6ae56afe",
   "metadata": {},
   "outputs": [],
   "source": []
  },
  {
   "cell_type": "code",
   "execution_count": null,
   "id": "a7ca7f1a",
   "metadata": {},
   "outputs": [],
   "source": []
  },
  {
   "cell_type": "code",
   "execution_count": null,
   "id": "f9469bd6",
   "metadata": {},
   "outputs": [],
   "source": []
  },
  {
   "cell_type": "code",
   "execution_count": null,
   "id": "1bc89dc3",
   "metadata": {},
   "outputs": [],
   "source": []
  },
  {
   "cell_type": "code",
   "execution_count": null,
   "id": "1abf92d1",
   "metadata": {},
   "outputs": [],
   "source": []
  },
  {
   "cell_type": "code",
   "execution_count": null,
   "id": "793453f6",
   "metadata": {},
   "outputs": [],
   "source": []
  }
 ],
 "metadata": {
  "kernelspec": {
   "display_name": "Python 3 (ipykernel)",
   "language": "python",
   "name": "python3"
  },
  "language_info": {
   "codemirror_mode": {
    "name": "ipython",
    "version": 3
   },
   "file_extension": ".py",
   "mimetype": "text/x-python",
   "name": "python",
   "nbconvert_exporter": "python",
   "pygments_lexer": "ipython3",
   "version": "3.10.9"
  }
 },
 "nbformat": 4,
 "nbformat_minor": 5
}
