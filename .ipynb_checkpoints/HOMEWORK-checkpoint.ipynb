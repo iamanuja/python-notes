{
 "cells": [
  {
   "cell_type": "code",
   "execution_count": 2,
   "id": "bca97e35",
   "metadata": {
    "scrolled": true
   },
   "outputs": [
    {
     "name": "stdout",
     "output_type": "stream",
     "text": [
      "Enter number of rows : 5\n",
      "* * * * * \n",
      "* * * * \n",
      "* * * \n",
      "* * \n",
      "* \n"
     ]
    }
   ],
   "source": [
    "n = int(input('Enter number of rows : '))\n",
    "\n",
    "i = 1\n",
    "while i <= n :\n",
    "    j = n\n",
    "    while j >= i:\n",
    "        print(\"*\", end = \" \")\n",
    "        j -= 1\n",
    "    print()\n",
    "    i += 1"
   ]
  },
  {
   "cell_type": "code",
   "execution_count": 1,
   "id": "c7a9206f",
   "metadata": {},
   "outputs": [
    {
     "name": "stdout",
     "output_type": "stream",
     "text": [
      "Enter number of rows : 5\n",
      "* \n",
      "* * \n",
      "* * * \n",
      "* * * * \n",
      "* * * * * \n"
     ]
    }
   ],
   "source": [
    "n = int(input('Enter number of rows : '))\n",
    "\n",
    "i = 1\n",
    "while i <= n :\n",
    "    j = 1\n",
    "    while j <= i:\n",
    "        print(\"*\", end = \" \")\n",
    "        j += 1\n",
    "    print()\n",
    "    i += 1"
   ]
  },
  {
   "cell_type": "code",
   "execution_count": 1,
   "id": "2b987c0f",
   "metadata": {},
   "outputs": [
    {
     "name": "stdout",
     "output_type": "stream",
     "text": [
      "Enter number of row:5\n",
      "*\n",
      "**\n",
      "***\n",
      "****\n",
      "*****\n"
     ]
    }
   ],
   "source": [
    "n=int(input(\"Enter number of row:\"))\n",
    "i=1\n",
    "while i <= n:\n",
    "    print(\"*\" * i)\n",
    "    i += 1"
   ]
  },
  {
   "cell_type": "markdown",
   "id": "02366d58",
   "metadata": {},
   "source": [
    "### Write a program to accept an integer from the user and display all the numbers from 1 to that number. Repeat the process until the user enters 0"
   ]
  },
  {
   "cell_type": "code",
   "execution_count": 7,
   "id": "672cbf4f",
   "metadata": {},
   "outputs": [
    {
     "name": "stdout",
     "output_type": "stream",
     "text": [
      "Enter integer number: 3\n",
      "1\n",
      "2\n",
      "3\n",
      "Enter integer number: 0\n"
     ]
    }
   ],
   "source": [
    "num=int(input(\"Enter integer number: \"))\n",
    "while(num):\n",
    "    for i in range(1,num+1):\n",
    "        print(i)\n",
    "    num=int(input(\"Enter integer number: \"))"
   ]
  },
  {
   "cell_type": "code",
   "execution_count": 3,
   "id": "57c45004",
   "metadata": {},
   "outputs": [
    {
     "name": "stdout",
     "output_type": "stream",
     "text": [
      " Enter no : 4\n",
      "1\n",
      "2\n",
      "3\n",
      "4\n",
      " Enter no : 3\n",
      "1\n",
      "2\n",
      "3\n",
      " Enter no : 2\n",
      "1\n",
      "2\n",
      " Enter no : 1\n",
      "1\n",
      " Enter no : 0\n"
     ]
    }
   ],
   "source": [
    "n=int(input(\" Enter no : \"))\n",
    "while n>0:\n",
    "    for i in range(1,n+1):\n",
    "        print(i)\n",
    "    n=int(input(\" Enter no : \"))\n",
    "    "
   ]
  },
  {
   "cell_type": "markdown",
   "id": "53acab4f",
   "metadata": {},
   "source": [
    "### wap to find fibonacci series for given no."
   ]
  },
  {
   "cell_type": "code",
   "execution_count": 20,
   "id": "9a4689e3",
   "metadata": {},
   "outputs": [
    {
     "name": "stdout",
     "output_type": "stream",
     "text": [
      " Enter no : 5\n",
      "0 1 1 2 3 "
     ]
    }
   ],
   "source": [
    "n=int(input(\" Enter no : \"))\n",
    "a=0\n",
    "b=1\n",
    "for i in range(1,n+1):\n",
    "    print(a , end = \" \")\n",
    "    c=a+b\n",
    "    a,b=b,c"
   ]
  },
  {
   "cell_type": "markdown",
   "id": "4a653088",
   "metadata": {},
   "source": [
    "### Write a program that asks the user to enter his/her name and age. Print out a message , displaying the user’s name along with the year in which they will turn 100 years old."
   ]
  },
  {
   "cell_type": "code",
   "execution_count": 5,
   "id": "e6b9a213",
   "metadata": {},
   "outputs": [
    {
     "name": "stdout",
     "output_type": "stream",
     "text": [
      "enter name : anuja\n",
      "enter age :24\n",
      "name => \n",
      "anuja\n",
      "when u will be 100 YO =>\n",
      "2099\n"
     ]
    }
   ],
   "source": [
    "from datetime import datetime\n",
    "name=input(\"enter name : \")\n",
    "age=int(input(\"enter age :\"))\n",
    "turn_100 = 100-age\n",
    "x= datetime.now()\n",
    "y=turn_100 + x.year\n",
    "print(\"name => \",name ,\"when u will be 100 YO =>\" ,y,sep=\"\\n\")"
   ]
  },
  {
   "cell_type": "code",
   "execution_count": 3,
   "id": "bdb8e082",
   "metadata": {},
   "outputs": [
    {
     "name": "stdout",
     "output_type": "stream",
     "text": [
      "enter name : anuja\n",
      "enter age :24\n",
      "name => \n",
      "anuja\n",
      "when u will be 100 YO =>\n",
      "2099\n"
     ]
    }
   ],
   "source": [
    "name=input(\"enter name : \")\n",
    "age=int(input(\"enter age :\"))\n",
    "year=100-age\n",
    "current_year=2023\n",
    "x=current_year+year\n",
    "print(\"name => \",name ,\"when u will be 100 YO =>\" ,x,sep=\"\\n\")"
   ]
  },
  {
   "cell_type": "code",
   "execution_count": 6,
   "id": "8e60d5a8",
   "metadata": {},
   "outputs": [
    {
     "name": "stdout",
     "output_type": "stream",
     "text": [
      "enter no :0\n"
     ]
    }
   ],
   "source": [
    "num=int(input(\"enter no :\"))\n",
    "while(num):\n",
    "    print(\"anuja\")\n",
    "    num-=1"
   ]
  },
  {
   "cell_type": "code",
   "execution_count": 19,
   "id": "ad55bc04",
   "metadata": {},
   "outputs": [
    {
     "name": "stdout",
     "output_type": "stream",
     "text": [
      "Enter how many numbers: 10\n",
      "0 1 1 2 3 5 8 13 21 34 "
     ]
    }
   ],
   "source": [
    "num=int(input(\"Enter how many numbers: \"))\n",
    "fib1,fib2=0,1\n",
    "for i in range(1,num+1):\n",
    "    print(fib1,end=' ')\n",
    "    fibn=fib1+fib2\n",
    "    fib1=fib2\n",
    "    fib2=fibn\n",
    "    "
   ]
  },
  {
   "cell_type": "markdown",
   "id": "d7b5a50f",
   "metadata": {},
   "source": [
    "### WAP to accept a year from the user and check whether it is a leap year or not. An year is a leap year if: It is exactly divisible by 4 and at the same time not divisible by 100 OR It is divisible by 400 For example: 2017 is not a leap year 2012 is a leap year 1900 is a not leap year 2000 is a leap year"
   ]
  },
  {
   "cell_type": "code",
   "execution_count": 4,
   "id": "ff930c79",
   "metadata": {},
   "outputs": [
    {
     "name": "stdout",
     "output_type": "stream",
     "text": [
      "Enter year: 2000\n",
      "leap year\n"
     ]
    }
   ],
   "source": [
    "year=int(input(\"Enter year: \"))\n",
    "if year%4==0 and ( year%100!=0 or year%400==0):\n",
    "    print(\"leap year\")\n",
    "else:\n",
    "    print(\"not leap year\")\n",
    "    "
   ]
  },
  {
   "cell_type": "markdown",
   "id": "c802a9ed",
   "metadata": {},
   "source": [
    "##### .You have to develop a number guessing game. Following are the steps needed:\n",
    "● At first , the program will generate a random integer secretly.\n",
    "\n",
    "● Now it will ask the user to guess that number .\n",
    "\n",
    "● If the user guessed it correctly then the program prints “Congratulations! You guessed it right” .\n",
    "\n",
    "● But if the number guessed by the user is larger than the secret number then program should print “Number too large” and , if the number guessed by the user is smaller than the secret number then the program should print “Number too small”\n",
    "\n",
    "● This should continue until the user guesses the number correctly or quits .\n",
    "\n",
    "● If the user wants to quit in between he will have to type 0 or negative number"
   ]
  },
  {
   "cell_type": "code",
   "execution_count": 9,
   "id": "f08afab8",
   "metadata": {},
   "outputs": [
    {
     "name": "stdout",
     "output_type": "stream",
     "text": [
      "Enter your Guess int i.e between 1 to 10,To quit enter zero(0)=> 1\n",
      "Number too small\n",
      "Enter your Guess int i.e between 1 to 10,To quit enter zero(0)=> 3\n",
      "Congratulations! You guessed it right\n"
     ]
    }
   ],
   "source": [
    "def no_guess():\n",
    "    import random\n",
    "    secret_int = random.randint(1,10)\n",
    "    guess_int = 0\n",
    "    while guess_int != secret_int :\n",
    "        guess_int = int(input(\"Enter your Guess int i.e between 1 to 10,To quit enter zero(0)=> \"))\n",
    "        if guess_int==0:\n",
    "            break\n",
    "        else:\n",
    "            if guess_int==secret_int:\n",
    "                print(\"Congratulations! You guessed it right\")\n",
    "                break\n",
    "            elif guess_int > secret_int:\n",
    "                print(\"Number too large\")\n",
    "            else:\n",
    "                print(\"Number too small\")\n",
    "no_guess()"
   ]
  },
  {
   "cell_type": "code",
   "execution_count": 10,
   "id": "495943d6",
   "metadata": {},
   "outputs": [
    {
     "name": "stdout",
     "output_type": "stream",
     "text": [
      "Enter your Guess int i.e between 1 to 10,To quit enter zero(0)=> 1\n",
      "Number too small\n",
      "Enter your Guess int i.e between 1 to 10,To quit enter zero(0)=> 2\n",
      "Number too small\n",
      "Enter your Guess int i.e between 1 to 10,To quit enter zero(0)=> 3\n",
      "Number too small\n",
      "Enter your Guess int i.e between 1 to 10,To quit enter zero(0)=> 0\n"
     ]
    }
   ],
   "source": [
    "no_guess()"
   ]
  },
  {
   "cell_type": "markdown",
   "id": "5d06a84c",
   "metadata": {},
   "source": [
    "#### WAP to get square star pattern"
   ]
  },
  {
   "cell_type": "code",
   "execution_count": 13,
   "id": "84120ede",
   "metadata": {},
   "outputs": [
    {
     "name": "stdout",
     "output_type": "stream",
     "text": [
      "enter number of rows5\n",
      "* * * * *  \n",
      "* * * * *  \n",
      "* * * * *  \n",
      "* * * * *  \n",
      "* * * * *  \n"
     ]
    }
   ],
   "source": [
    "n=int(input(\"enter number of rows\"))\n",
    "for i in range(n):\n",
    "    for j in range(n):\n",
    "        print(\"*\" , end=\" \")\n",
    "    print(\" \")"
   ]
  },
  {
   "cell_type": "code",
   "execution_count": null,
   "id": "670ba4f4",
   "metadata": {},
   "outputs": [],
   "source": []
  }
 ],
 "metadata": {
  "kernelspec": {
   "display_name": "Python 3 (ipykernel)",
   "language": "python",
   "name": "python3"
  },
  "language_info": {
   "codemirror_mode": {
    "name": "ipython",
    "version": 3
   },
   "file_extension": ".py",
   "mimetype": "text/x-python",
   "name": "python",
   "nbconvert_exporter": "python",
   "pygments_lexer": "ipython3",
   "version": "3.10.9"
  }
 },
 "nbformat": 4,
 "nbformat_minor": 5
}
