{
 "cells": [
  {
   "cell_type": "code",
   "execution_count": 1,
   "id": "5c977a0d",
   "metadata": {},
   "outputs": [],
   "source": [
    "import numpy as np\n",
    "import pandas as pd\n",
    "import matplotlib.pyplot as plt\n",
    "import seaborn as sns"
   ]
  },
  {
   "cell_type": "code",
   "execution_count": 2,
   "id": "f300f55b",
   "metadata": {},
   "outputs": [
    {
     "data": {
      "text/html": [
       "<div>\n",
       "<style scoped>\n",
       "    .dataframe tbody tr th:only-of-type {\n",
       "        vertical-align: middle;\n",
       "    }\n",
       "\n",
       "    .dataframe tbody tr th {\n",
       "        vertical-align: top;\n",
       "    }\n",
       "\n",
       "    .dataframe thead th {\n",
       "        text-align: right;\n",
       "    }\n",
       "</style>\n",
       "<table border=\"1\" class=\"dataframe\">\n",
       "  <thead>\n",
       "    <tr style=\"text-align: right;\">\n",
       "      <th></th>\n",
       "      <th>LungCap(cc)</th>\n",
       "      <th>Age( years)</th>\n",
       "      <th>Height(inches)</th>\n",
       "      <th>Smoke</th>\n",
       "      <th>Gender</th>\n",
       "      <th>Caesarean</th>\n",
       "    </tr>\n",
       "  </thead>\n",
       "  <tbody>\n",
       "    <tr>\n",
       "      <th>0</th>\n",
       "      <td>6.475</td>\n",
       "      <td>6</td>\n",
       "      <td>62.1</td>\n",
       "      <td>no</td>\n",
       "      <td>male</td>\n",
       "      <td>no</td>\n",
       "    </tr>\n",
       "    <tr>\n",
       "      <th>1</th>\n",
       "      <td>10.125</td>\n",
       "      <td>18</td>\n",
       "      <td>74.7</td>\n",
       "      <td>yes</td>\n",
       "      <td>female</td>\n",
       "      <td>no</td>\n",
       "    </tr>\n",
       "    <tr>\n",
       "      <th>2</th>\n",
       "      <td>9.550</td>\n",
       "      <td>16</td>\n",
       "      <td>69.7</td>\n",
       "      <td>no</td>\n",
       "      <td>female</td>\n",
       "      <td>yes</td>\n",
       "    </tr>\n",
       "    <tr>\n",
       "      <th>3</th>\n",
       "      <td>11.125</td>\n",
       "      <td>14</td>\n",
       "      <td>71.0</td>\n",
       "      <td>no</td>\n",
       "      <td>male</td>\n",
       "      <td>no</td>\n",
       "    </tr>\n",
       "    <tr>\n",
       "      <th>4</th>\n",
       "      <td>4.800</td>\n",
       "      <td>5</td>\n",
       "      <td>56.9</td>\n",
       "      <td>no</td>\n",
       "      <td>male</td>\n",
       "      <td>no</td>\n",
       "    </tr>\n",
       "  </tbody>\n",
       "</table>\n",
       "</div>"
      ],
      "text/plain": [
       "   LungCap(cc)  Age( years)  Height(inches) Smoke  Gender Caesarean\n",
       "0        6.475            6            62.1    no    male        no\n",
       "1       10.125           18            74.7   yes  female        no\n",
       "2        9.550           16            69.7    no  female       yes\n",
       "3       11.125           14            71.0    no    male        no\n",
       "4        4.800            5            56.9    no    male        no"
      ]
     },
     "execution_count": 2,
     "metadata": {},
     "output_type": "execute_result"
    }
   ],
   "source": [
    "df=pd.read_excel(r\"C:\\Users\\Anuja\\Music\\New folder\\LungCap.xls\")\n",
    "df.head()"
   ]
  },
  {
   "cell_type": "code",
   "execution_count": 3,
   "id": "1d657009",
   "metadata": {},
   "outputs": [
    {
     "data": {
      "text/plain": [
       "(725, 6)"
      ]
     },
     "execution_count": 3,
     "metadata": {},
     "output_type": "execute_result"
    }
   ],
   "source": [
    "df.shape"
   ]
  },
  {
   "cell_type": "code",
   "execution_count": 4,
   "id": "e7f7f003",
   "metadata": {
    "scrolled": true
   },
   "outputs": [
    {
     "data": {
      "text/plain": [
       "LungCap(cc)       0\n",
       "Age( years)       0\n",
       "Height(inches)    0\n",
       "Smoke             0\n",
       "Gender            0\n",
       "Caesarean         0\n",
       "dtype: int64"
      ]
     },
     "execution_count": 4,
     "metadata": {},
     "output_type": "execute_result"
    }
   ],
   "source": [
    "df.isnull().sum()"
   ]
  },
  {
   "cell_type": "code",
   "execution_count": 5,
   "id": "0230d662",
   "metadata": {},
   "outputs": [],
   "source": [
    "from sklearn.preprocessing import LabelEncoder \n",
    "le=LabelEncoder()"
   ]
  },
  {
   "cell_type": "code",
   "execution_count": 6,
   "id": "4c972ecf",
   "metadata": {},
   "outputs": [],
   "source": [
    "df.Smoke=le.fit_transform(df.Smoke)"
   ]
  },
  {
   "cell_type": "code",
   "execution_count": 7,
   "id": "436c7234",
   "metadata": {},
   "outputs": [],
   "source": [
    "df.Gender=le.fit_transform(df.Gender)"
   ]
  },
  {
   "cell_type": "code",
   "execution_count": 8,
   "id": "2441e4e5",
   "metadata": {},
   "outputs": [],
   "source": [
    "df.Caesarean=le.fit_transform(df.Caesarean)"
   ]
  },
  {
   "cell_type": "code",
   "execution_count": 9,
   "id": "122b48a3",
   "metadata": {
    "scrolled": true
   },
   "outputs": [
    {
     "data": {
      "text/plain": [
       "LungCap(cc)       float64\n",
       "Age( years)         int64\n",
       "Height(inches)    float64\n",
       "Smoke               int32\n",
       "Gender              int32\n",
       "Caesarean           int32\n",
       "dtype: object"
      ]
     },
     "execution_count": 9,
     "metadata": {},
     "output_type": "execute_result"
    }
   ],
   "source": [
    "df.dtypes"
   ]
  },
  {
   "cell_type": "code",
   "execution_count": 10,
   "id": "e29b8ac6",
   "metadata": {},
   "outputs": [],
   "source": [
    "#1 Method\n",
    "outliers=[]\n",
    "def detect_outliers(var):\n",
    "    threshold=2\n",
    "    mean=np.mean(var)\n",
    "    std=np.std(var)\n",
    "    \n",
    "    for i in var:\n",
    "        z_score=(i-mean)/std\n",
    "        if np.abs(z_score)>threshold:\n",
    "            outliers.append(i)\n",
    "    return outliers"
   ]
  },
  {
   "cell_type": "code",
   "execution_count": 11,
   "id": "e968d4e4",
   "metadata": {
    "scrolled": true
   },
   "outputs": [
    {
     "data": {
      "text/plain": [
       "[1.125,\n",
       " 1.575,\n",
       " 13.875,\n",
       " 1.85,\n",
       " 13.2,\n",
       " 0.507,\n",
       " 1.175,\n",
       " 2.475,\n",
       " 1.025,\n",
       " 1.625,\n",
       " 14.375,\n",
       " 2.0,\n",
       " 1.9,\n",
       " 2.25,\n",
       " 1.925,\n",
       " 2.375,\n",
       " 14.675,\n",
       " 13.375,\n",
       " 1.675,\n",
       " 1.775,\n",
       " 1.325,\n",
       " 13.375,\n",
       " 2.25,\n",
       " 2.25,\n",
       " 1.45,\n",
       " 2.025,\n",
       " 14.55,\n",
       " 13.375,\n",
       " 13.325,\n",
       " 1.95]"
      ]
     },
     "execution_count": 11,
     "metadata": {},
     "output_type": "execute_result"
    }
   ],
   "source": [
    "out=detect_outliers(df['LungCap(cc)'])\n",
    "out"
   ]
  },
  {
   "cell_type": "code",
   "execution_count": 12,
   "id": "efa9845a",
   "metadata": {},
   "outputs": [],
   "source": [
    "def remove_outliers(df,col,k=2.5):\n",
    "    mean=df[col].mean()\n",
    "    global df1\n",
    "    sd = df[col].std()\n",
    "    final_list=[]"
   ]
  },
  {
   "cell_type": "markdown",
   "id": "12993675",
   "metadata": {},
   "source": [
    "# Imputation"
   ]
  },
  {
   "cell_type": "code",
   "execution_count": 16,
   "id": "9849fc78",
   "metadata": {},
   "outputs": [
    {
     "data": {
      "text/plain": [
       "count    725.000000\n",
       "mean       7.863148\n",
       "std        2.662008\n",
       "min        0.507000\n",
       "25%        6.150000\n",
       "50%        8.000000\n",
       "75%        9.800000\n",
       "max       14.675000\n",
       "Name: LungCap(cc), dtype: float64"
      ]
     },
     "execution_count": 16,
     "metadata": {},
     "output_type": "execute_result"
    }
   ],
   "source": [
    "df[\"LungCap(cc)\"].describe()"
   ]
  },
  {
   "cell_type": "code",
   "execution_count": null,
   "id": "0845271b",
   "metadata": {},
   "outputs": [],
   "source": []
  },
  {
   "cell_type": "code",
   "execution_count": null,
   "id": "478090b6",
   "metadata": {},
   "outputs": [],
   "source": []
  },
  {
   "cell_type": "code",
   "execution_count": null,
   "id": "08c8d1d5",
   "metadata": {},
   "outputs": [],
   "source": []
  },
  {
   "cell_type": "code",
   "execution_count": null,
   "id": "e523f114",
   "metadata": {},
   "outputs": [],
   "source": []
  },
  {
   "cell_type": "code",
   "execution_count": null,
   "id": "ae3b7e75",
   "metadata": {},
   "outputs": [],
   "source": []
  },
  {
   "cell_type": "code",
   "execution_count": null,
   "id": "1420ffc6",
   "metadata": {},
   "outputs": [],
   "source": [
    "impute -> 2 ways => SD,IQR"
   ]
  },
  {
   "cell_type": "code",
   "execution_count": null,
   "id": "6505f92c",
   "metadata": {},
   "outputs": [],
   "source": [
    "SD => GD\n",
    "IQR => skewed"
   ]
  }
 ],
 "metadata": {
  "kernelspec": {
   "display_name": "Python 3 (ipykernel)",
   "language": "python",
   "name": "python3"
  },
  "language_info": {
   "codemirror_mode": {
    "name": "ipython",
    "version": 3
   },
   "file_extension": ".py",
   "mimetype": "text/x-python",
   "name": "python",
   "nbconvert_exporter": "python",
   "pygments_lexer": "ipython3",
   "version": "3.10.9"
  }
 },
 "nbformat": 4,
 "nbformat_minor": 5
}
