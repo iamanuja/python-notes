{
 "cells": [
  {
   "cell_type": "markdown",
   "id": "c2706c9b",
   "metadata": {},
   "source": [
    "#### Need of array =>"
   ]
  },
  {
   "cell_type": "markdown",
   "id": "8585a641",
   "metadata": {},
   "source": [
    "#### interview questions"
   ]
  },
  {
   "cell_type": "markdown",
   "id": "3be04606",
   "metadata": {},
   "source": [
    "1. 2d\n",
    "2. contain homogeneous data type\n",
    "3. Perform mathematical operations due to same data type\n"
   ]
  },
  {
   "cell_type": "code",
   "execution_count": 2,
   "id": "6f5a4adc",
   "metadata": {},
   "outputs": [],
   "source": [
    "import numpy as np"
   ]
  },
  {
   "cell_type": "code",
   "execution_count": 3,
   "id": "fb1bfd1f",
   "metadata": {},
   "outputs": [
    {
     "name": "stdout",
     "output_type": "stream",
     "text": [
      "1.23.5\n"
     ]
    }
   ],
   "source": [
    "print(np.__version__)"
   ]
  },
  {
   "cell_type": "markdown",
   "id": "78697dc3",
   "metadata": {},
   "source": [
    "# Array creation"
   ]
  },
  {
   "cell_type": "code",
   "execution_count": null,
   "id": "bcca5ccf",
   "metadata": {},
   "outputs": [],
   "source": []
  },
  {
   "cell_type": "code",
   "execution_count": 4,
   "id": "af61c6da",
   "metadata": {},
   "outputs": [
    {
     "data": {
      "text/plain": [
       "array([1, 2, 3, 4])"
      ]
     },
     "execution_count": 4,
     "metadata": {},
     "output_type": "execute_result"
    }
   ],
   "source": [
    "arr=np.array([1,2,3,4])\n",
    "arr"
   ]
  },
  {
   "cell_type": "code",
   "execution_count": 5,
   "id": "9f652cc2",
   "metadata": {},
   "outputs": [
    {
     "data": {
      "text/plain": [
       "array([[1, 2, 3, 4],\n",
       "       [1, 2, 3, 4]])"
      ]
     },
     "execution_count": 5,
     "metadata": {},
     "output_type": "execute_result"
    }
   ],
   "source": [
    "mularr=np.array([[1,2,3,4],[1,2,3,4]])\n",
    "mularr"
   ]
  },
  {
   "cell_type": "code",
   "execution_count": 6,
   "id": "058c3d8b",
   "metadata": {},
   "outputs": [
    {
     "data": {
      "text/plain": [
       "array([0., 0., 0., 0., 0., 0.])"
      ]
     },
     "execution_count": 6,
     "metadata": {},
     "output_type": "execute_result"
    }
   ],
   "source": [
    "d=np.zeros(6)\n",
    "d"
   ]
  },
  {
   "cell_type": "code",
   "execution_count": 8,
   "id": "930cfbb6",
   "metadata": {},
   "outputs": [
    {
     "data": {
      "text/plain": [
       "array([[0., 0., 0., 0., 0.],\n",
       "       [0., 0., 0., 0., 0.],\n",
       "       [0., 0., 0., 0., 0.],\n",
       "       [0., 0., 0., 0., 0.],\n",
       "       [0., 0., 0., 0., 0.],\n",
       "       [0., 0., 0., 0., 0.]])"
      ]
     },
     "execution_count": 8,
     "metadata": {},
     "output_type": "execute_result"
    }
   ],
   "source": [
    "d=np.zeros((6,5)) # double brackets multidimensional\n",
    "d"
   ]
  },
  {
   "cell_type": "code",
   "execution_count": 9,
   "id": "7515bf1d",
   "metadata": {},
   "outputs": [
    {
     "data": {
      "text/plain": [
       "array([[[0., 0., 0., 0.],\n",
       "        [0., 0., 0., 0.],\n",
       "        [0., 0., 0., 0.]],\n",
       "\n",
       "       [[0., 0., 0., 0.],\n",
       "        [0., 0., 0., 0.],\n",
       "        [0., 0., 0., 0.]]])"
      ]
     },
     "execution_count": 9,
     "metadata": {},
     "output_type": "execute_result"
    }
   ],
   "source": [
    "d=np.zeros((2,3,4))\n",
    "d"
   ]
  },
  {
   "cell_type": "code",
   "execution_count": 6,
   "id": "db651577",
   "metadata": {},
   "outputs": [
    {
     "data": {
      "text/plain": [
       "array([[-0.26135708, -0.11310377,  0.66990216],\n",
       "       [ 0.87351848,  0.16143284, -0.12897176]])"
      ]
     },
     "execution_count": 6,
     "metadata": {},
     "output_type": "execute_result"
    }
   ],
   "source": [
    "x=np.random.randn(2,3)\n",
    "x "
   ]
  },
  {
   "cell_type": "code",
   "execution_count": 8,
   "id": "66d807c1",
   "metadata": {},
   "outputs": [
    {
     "data": {
      "text/plain": [
       "array([[[-0.93000982, -1.07961962],\n",
       "        [-0.18487476, -0.39222061],\n",
       "        [ 0.83430055,  0.12743745]],\n",
       "\n",
       "       [[-0.01433313,  1.34934061],\n",
       "        [ 0.56282362, -2.07067134],\n",
       "        [ 0.26364006, -0.04724256]]])"
      ]
     },
     "execution_count": 8,
     "metadata": {},
     "output_type": "execute_result"
    }
   ],
   "source": [
    "x=np.random.randn(2,3,2)\n",
    "x"
   ]
  },
  {
   "cell_type": "markdown",
   "id": "95743506",
   "metadata": {},
   "source": [
    "###### numpy.empty(shape, dtype=float, order='C', *, like=None)"
   ]
  },
  {
   "cell_type": "code",
   "execution_count": 29,
   "id": "e9b69a14",
   "metadata": {},
   "outputs": [
    {
     "data": {
      "text/plain": [
       "array([6.23042070e-307, 4.67296746e-307, 1.69121096e-306, 1.86921143e-306,\n",
       "       1.89146896e-307, 7.56571288e-307])"
      ]
     },
     "execution_count": 29,
     "metadata": {},
     "output_type": "execute_result"
    }
   ],
   "source": [
    "x=np.empty(6) \n",
    "x"
   ]
  },
  {
   "cell_type": "code",
   "execution_count": 14,
   "id": "5e7b87b1",
   "metadata": {},
   "outputs": [
    {
     "data": {
      "text/plain": [
       "array([[0.26135708, 0.11310377, 0.66990216],\n",
       "       [0.87351848, 0.16143284, 0.12897176]])"
      ]
     },
     "execution_count": 14,
     "metadata": {},
     "output_type": "execute_result"
    }
   ],
   "source": [
    "x=np.empty((2,3)) # (2,3) <= this is not working , single braces not working\n",
    "x"
   ]
  },
  {
   "cell_type": "code",
   "execution_count": 15,
   "id": "9feafdce",
   "metadata": {
    "scrolled": true
   },
   "outputs": [
    {
     "data": {
      "text/plain": [
       "array([[[0.93000982, 1.07961962],\n",
       "        [0.18487476, 0.39222061],\n",
       "        [0.83430055, 0.12743745]],\n",
       "\n",
       "       [[0.01433313, 1.34934061],\n",
       "        [0.56282362, 2.07067134],\n",
       "        [0.26364006, 0.04724256]]])"
      ]
     },
     "execution_count": 15,
     "metadata": {},
     "output_type": "execute_result"
    }
   ],
   "source": [
    "y=np.empty((2,3,2)) # (2,3) <= this is not working , single braces not working\n",
    "y"
   ]
  },
  {
   "cell_type": "markdown",
   "id": "ce888e2b",
   "metadata": {},
   "source": [
    "###### numpy.eye(N, M=None, k=0, dtype=<class 'float'>, order='C', *, like=None)"
   ]
  },
  {
   "cell_type": "markdown",
   "id": "6e3c63a5",
   "metadata": {},
   "source": [
    "N :int\n",
    "Number of rows in the output.\n",
    "\n",
    "M :int, optional\n",
    "Number of columns in the output. If None, defaults to N.\n",
    "\n",
    "k : int, optional\n",
    "Index of the diagonal: 0 (the default) refers to the main diagonal, a positive value refers to an upper diagonal, and a negative value to a lower diagonal."
   ]
  },
  {
   "cell_type": "code",
   "execution_count": 34,
   "id": "c50ab13c",
   "metadata": {},
   "outputs": [
    {
     "name": "stdout",
     "output_type": "stream",
     "text": [
      "[[0 1 0]\n",
      " [0 0 1]\n",
      " [0 0 0]]\n",
      "[[1. 0. 0.]\n",
      " [0. 1. 0.]]\n"
     ]
    }
   ],
   "source": [
    "arr=np.eye(3, k=1, dtype=int)\n",
    "arr1 = np.eye(2,3)\n",
    "print(arr )\n",
    "print(arr1)# refers to the main diagonal,"
   ]
  },
  {
   "cell_type": "code",
   "execution_count": 16,
   "id": "caf2ef95",
   "metadata": {},
   "outputs": [
    {
     "data": {
      "text/plain": [
       "array([ 0,  1,  2,  3,  4,  5,  6,  7,  8,  9, 10, 11, 12, 13, 14])"
      ]
     },
     "execution_count": 16,
     "metadata": {},
     "output_type": "execute_result"
    }
   ],
   "source": [
    "z=np.arange(15)  # 1 D\n",
    "z "
   ]
  },
  {
   "cell_type": "code",
   "execution_count": 21,
   "id": "baf75893",
   "metadata": {},
   "outputs": [
    {
     "data": {
      "text/plain": [
       "array([[ 0,  1,  2,  3],\n",
       "       [ 4,  5,  6,  7],\n",
       "       [ 8,  9, 10, 11]])"
      ]
     },
     "execution_count": 21,
     "metadata": {},
     "output_type": "execute_result"
    }
   ],
   "source": [
    "p=np.arange(12).reshape(3,4)\n",
    "p"
   ]
  },
  {
   "cell_type": "code",
   "execution_count": 22,
   "id": "11eaa0f4",
   "metadata": {},
   "outputs": [
    {
     "data": {
      "text/plain": [
       "array([[[0, 1],\n",
       "        [2, 3]],\n",
       "\n",
       "       [[4, 5],\n",
       "        [6, 7]]])"
      ]
     },
     "execution_count": 22,
     "metadata": {},
     "output_type": "execute_result"
    }
   ],
   "source": [
    "q=np.arange(8).reshape(2,2,2)\n",
    "q"
   ]
  },
  {
   "cell_type": "code",
   "execution_count": 23,
   "id": "d6b41fbf",
   "metadata": {},
   "outputs": [
    {
     "data": {
      "text/plain": [
       "array([[1, 2, 3],\n",
       "       [4, 5, 6],\n",
       "       [7, 8, 9]])"
      ]
     },
     "execution_count": 23,
     "metadata": {},
     "output_type": "execute_result"
    }
   ],
   "source": [
    "r=np.asarray([[1,2,3],[4,5,6],[7,8,9]])\n",
    "r"
   ]
  },
  {
   "cell_type": "code",
   "execution_count": 26,
   "id": "ddf51d00",
   "metadata": {},
   "outputs": [
    {
     "data": {
      "text/plain": [
       "array([[1, 1, 1, 1],\n",
       "       [1, 1, 1, 1],\n",
       "       [1, 1, 1, 1]])"
      ]
     },
     "execution_count": 26,
     "metadata": {},
     "output_type": "execute_result"
    }
   ],
   "source": [
    "r=np.ones((3,4) , dtype=int)  \n",
    "r\n"
   ]
  },
  {
   "cell_type": "code",
   "execution_count": 28,
   "id": "f98011d0",
   "metadata": {},
   "outputs": [
    {
     "data": {
      "text/plain": [
       "array([[[1., 1.],\n",
       "        [1., 1.]],\n",
       "\n",
       "       [[1., 1.],\n",
       "        [1., 1.]]])"
      ]
     },
     "execution_count": 28,
     "metadata": {},
     "output_type": "execute_result"
    }
   ],
   "source": [
    "s=np.ones((2,2,2))\n",
    "s"
   ]
  },
  {
   "cell_type": "code",
   "execution_count": 44,
   "id": "5b332830",
   "metadata": {},
   "outputs": [
    {
     "data": {
      "text/plain": [
       "array([[1, 2, 3],\n",
       "       [4, 5, 6],\n",
       "       [7, 8, 9]])"
      ]
     },
     "execution_count": 44,
     "metadata": {},
     "output_type": "execute_result"
    }
   ],
   "source": [
    "import numpy as np\n",
    "a=np.array([[1,2,3],[4,5,6],[7,8,9]])\n",
    "a"
   ]
  },
  {
   "cell_type": "code",
   "execution_count": 45,
   "id": "f1e10898",
   "metadata": {},
   "outputs": [
    {
     "data": {
      "text/plain": [
       "array([4, 5, 6])"
      ]
     },
     "execution_count": 45,
     "metadata": {},
     "output_type": "execute_result"
    }
   ],
   "source": [
    "a[1,:]"
   ]
  },
  {
   "cell_type": "code",
   "execution_count": 46,
   "id": "f9cee8ae",
   "metadata": {},
   "outputs": [
    {
     "data": {
      "text/plain": [
       "array([[1, 2],\n",
       "       [4, 5]])"
      ]
     },
     "execution_count": 46,
     "metadata": {},
     "output_type": "execute_result"
    }
   ],
   "source": [
    "a[0:2,0:2]"
   ]
  },
  {
   "cell_type": "code",
   "execution_count": 22,
   "id": "586a9010",
   "metadata": {},
   "outputs": [
    {
     "name": "stdout",
     "output_type": "stream",
     "text": [
      "6---this is for row col----[1 2 3]---[1 4 7]---[[1 2]\n",
      " [4 5]]---[4 5]\n"
     ]
    }
   ],
   "source": [
    "print(a[1,2],\"this is for row col-\", a[0,:], a[:,0], a[0:2,0:2], a[1,:2],sep=\"---\")"
   ]
  },
  {
   "cell_type": "code",
   "execution_count": 21,
   "id": "03e3d741",
   "metadata": {},
   "outputs": [
    {
     "data": {
      "text/plain": [
       "array([[1, 2],\n",
       "       [4, 5]])"
      ]
     },
     "execution_count": 21,
     "metadata": {},
     "output_type": "execute_result"
    }
   ],
   "source": [
    "a[0:2,0:2]"
   ]
  },
  {
   "cell_type": "code",
   "execution_count": 26,
   "id": "258466ce",
   "metadata": {},
   "outputs": [
    {
     "data": {
      "text/plain": [
       "array([3, 6, 9])"
      ]
     },
     "execution_count": 26,
     "metadata": {},
     "output_type": "execute_result"
    }
   ],
   "source": [
    "a[:,2]"
   ]
  },
  {
   "cell_type": "code",
   "execution_count": 27,
   "id": "03cb5231",
   "metadata": {},
   "outputs": [
    {
     "data": {
      "text/plain": [
       "array([[1, 2],\n",
       "       [4, 5],\n",
       "       [7, 8]])"
      ]
     },
     "execution_count": 27,
     "metadata": {},
     "output_type": "execute_result"
    }
   ],
   "source": [
    "a[:,0:2]"
   ]
  },
  {
   "cell_type": "markdown",
   "id": "eb559c67",
   "metadata": {},
   "source": [
    "### [8, 9] for this type directly write(row no , then write columns in ratio)"
   ]
  },
  {
   "cell_type": "code",
   "execution_count": 32,
   "id": "c5a833c4",
   "metadata": {},
   "outputs": [
    {
     "data": {
      "text/plain": [
       "array([8, 9])"
      ]
     },
     "execution_count": 32,
     "metadata": {},
     "output_type": "execute_result"
    }
   ],
   "source": [
    "#op - 89 \n",
    "a[2,1:]"
   ]
  },
  {
   "cell_type": "code",
   "execution_count": 33,
   "id": "64e9d889",
   "metadata": {},
   "outputs": [
    {
     "data": {
      "text/plain": [
       "array([[5, 6],\n",
       "       [8, 9]])"
      ]
     },
     "execution_count": 33,
     "metadata": {},
     "output_type": "execute_result"
    }
   ],
   "source": [
    "a[1:,1:]"
   ]
  },
  {
   "cell_type": "code",
   "execution_count": 8,
   "id": "04dc9eea",
   "metadata": {},
   "outputs": [
    {
     "data": {
      "text/plain": [
       "0"
      ]
     },
     "execution_count": 8,
     "metadata": {},
     "output_type": "execute_result"
    }
   ],
   "source": [
    "a=np.array(30)\n",
    "a.ndim # 0 dimension"
   ]
  },
  {
   "cell_type": "code",
   "execution_count": 10,
   "id": "6bef5cc6",
   "metadata": {},
   "outputs": [
    {
     "data": {
      "text/plain": [
       "1"
      ]
     },
     "execution_count": 10,
     "metadata": {},
     "output_type": "execute_result"
    }
   ],
   "source": [
    "a=np.array((30,40))\n",
    "a.ndim"
   ]
  },
  {
   "cell_type": "code",
   "execution_count": 11,
   "id": "1bb3c855",
   "metadata": {},
   "outputs": [
    {
     "data": {
      "text/plain": [
       "2"
      ]
     },
     "execution_count": 11,
     "metadata": {},
     "output_type": "execute_result"
    }
   ],
   "source": [
    "a=np.array([  [1,2,3],[4,5,6],[7,8,9] ])\n",
    "a.ndim"
   ]
  },
  {
   "cell_type": "code",
   "execution_count": 2,
   "id": "67cb4721",
   "metadata": {},
   "outputs": [
    {
     "data": {
      "text/plain": [
       "3"
      ]
     },
     "execution_count": 2,
     "metadata": {},
     "output_type": "execute_result"
    }
   ],
   "source": [
    "arr4=np.array([[  [11,22,33],[44,55,66],[40,50,60] ]])\n",
    "arr4.ndim"
   ]
  },
  {
   "cell_type": "code",
   "execution_count": 17,
   "id": "ad50e4df",
   "metadata": {},
   "outputs": [
    {
     "data": {
      "text/plain": [
       "10"
      ]
     },
     "execution_count": 17,
     "metadata": {},
     "output_type": "execute_result"
    }
   ],
   "source": [
    "arr4=np.array([[  [[[[[[[[1,2,3]]]]]]]] ]])\n",
    "arr4.ndim"
   ]
  },
  {
   "cell_type": "code",
   "execution_count": 18,
   "id": "2a0cb54a",
   "metadata": {},
   "outputs": [
    {
     "data": {
      "text/plain": [
       "3"
      ]
     },
     "execution_count": 18,
     "metadata": {},
     "output_type": "execute_result"
    }
   ],
   "source": [
    "arr4=np.array([1,2,3] , ndmin=3) # creating of particular dimension\n",
    "arr4.ndim"
   ]
  },
  {
   "cell_type": "code",
   "execution_count": 39,
   "id": "401741ad",
   "metadata": {},
   "outputs": [
    {
     "data": {
      "text/plain": [
       "3"
      ]
     },
     "execution_count": 39,
     "metadata": {},
     "output_type": "execute_result"
    }
   ],
   "source": [
    "z=np.array([ \n",
    "             [ [11,22,33],\n",
    "               [44,55,66]  ],\n",
    " \n",
    "             [ [77,88,99],\n",
    "               [\"qq\",\"ww\",\"ee\"]  ],\n",
    "            ])\n",
    "z.ndim"
   ]
  },
  {
   "cell_type": "code",
   "execution_count": 12,
   "id": "ff48f353",
   "metadata": {},
   "outputs": [
    {
     "data": {
      "text/plain": [
       "array([[[11, 22, 33],\n",
       "        [44, 55, 66],\n",
       "        [40, 50, 60]]])"
      ]
     },
     "execution_count": 12,
     "metadata": {},
     "output_type": "execute_result"
    }
   ],
   "source": [
    "arr4"
   ]
  },
  {
   "cell_type": "markdown",
   "id": "d7de231e",
   "metadata": {},
   "source": [
    "##### fetching particular elements from 1D pass index positions in  [[     ]]"
   ]
  },
  {
   "cell_type": "code",
   "execution_count": 14,
   "id": "3de3e3b9",
   "metadata": {},
   "outputs": [
    {
     "data": {
      "text/plain": [
       "array([11, 17, 14])"
      ]
     },
     "execution_count": 14,
     "metadata": {},
     "output_type": "execute_result"
    }
   ],
   "source": [
    "a=np.array([11,12,13,14,15,16,17,18,19])\n",
    "a[[0,6,3]] "
   ]
  },
  {
   "cell_type": "code",
   "execution_count": null,
   "id": "8cf8a19b",
   "metadata": {},
   "outputs": [],
   "source": []
  },
  {
   "cell_type": "code",
   "execution_count": 40,
   "id": "7d9400e4",
   "metadata": {},
   "outputs": [
    {
     "data": {
      "text/plain": [
       "'ww'"
      ]
     },
     "execution_count": 40,
     "metadata": {},
     "output_type": "execute_result"
    }
   ],
   "source": [
    "z[1,1,1]"
   ]
  },
  {
   "cell_type": "code",
   "execution_count": 41,
   "id": "8180468a",
   "metadata": {},
   "outputs": [
    {
     "data": {
      "text/plain": [
       "'66'"
      ]
     },
     "execution_count": 41,
     "metadata": {},
     "output_type": "execute_result"
    }
   ],
   "source": [
    "z[0,1,2]"
   ]
  },
  {
   "cell_type": "code",
   "execution_count": 43,
   "id": "e2d160e2",
   "metadata": {},
   "outputs": [
    {
     "data": {
      "text/plain": [
       "array(['55', '66'], dtype='<U11')"
      ]
     },
     "execution_count": 43,
     "metadata": {},
     "output_type": "execute_result"
    }
   ],
   "source": [
    "#55,66\n",
    "z[0,1,1:]"
   ]
  },
  {
   "cell_type": "code",
   "execution_count": 24,
   "id": "503a7258",
   "metadata": {},
   "outputs": [],
   "source": [
    "import numpy as np\n",
    "z=np.array([ \n",
    "             [ [11,22,33],\n",
    "               [44,55,66]  ],\n",
    " \n",
    "             [ [77,88,99],\n",
    "               [12,13,14]  ],\n",
    "            ])"
   ]
  },
  {
   "cell_type": "code",
   "execution_count": 5,
   "id": "df3d22fc",
   "metadata": {},
   "outputs": [
    {
     "data": {
      "text/plain": [
       "array([[77, 88],\n",
       "       [12, 13]])"
      ]
     },
     "execution_count": 5,
     "metadata": {},
     "output_type": "execute_result"
    }
   ],
   "source": [
    "z[1,0:,:2]"
   ]
  },
  {
   "cell_type": "code",
   "execution_count": 4,
   "id": "e20f688e",
   "metadata": {},
   "outputs": [
    {
     "data": {
      "text/plain": [
       "array([[22, 33],\n",
       "       [55, 66]])"
      ]
     },
     "execution_count": 4,
     "metadata": {},
     "output_type": "execute_result"
    }
   ],
   "source": [
    "z[0,0:,1:]"
   ]
  },
  {
   "cell_type": "code",
   "execution_count": 26,
   "id": "d8455b44",
   "metadata": {},
   "outputs": [
    {
     "data": {
      "text/plain": [
       "array([[55, 66],\n",
       "       [88, 99]])"
      ]
     },
     "execution_count": 26,
     "metadata": {},
     "output_type": "execute_result"
    }
   ],
   "source": [
    "z[(0,1),(1,0),1:]"
   ]
  },
  {
   "cell_type": "code",
   "execution_count": 25,
   "id": "a75b9dc9",
   "metadata": {},
   "outputs": [],
   "source": [
    "#find slicing for 55,66 88,99"
   ]
  },
  {
   "cell_type": "code",
   "execution_count": 6,
   "id": "78f62f10",
   "metadata": {
    "scrolled": true
   },
   "outputs": [
    {
     "data": {
      "text/plain": [
       "dtype('<U6')"
      ]
     },
     "execution_count": 6,
     "metadata": {},
     "output_type": "execute_result"
    }
   ],
   "source": [
    "star=np.array([\"apple\",\"banana\",\"cherry\"])\n",
    "star.dtype"
   ]
  },
  {
   "cell_type": "code",
   "execution_count": 7,
   "id": "d2db8ad1",
   "metadata": {},
   "outputs": [
    {
     "data": {
      "text/plain": [
       "dtype('<U16')"
      ]
     },
     "execution_count": 7,
     "metadata": {},
     "output_type": "execute_result"
    }
   ],
   "source": [
    "star=np.array([\"apple\",\"bananaaaaaaaaaaa\",\"cherry\"])\n",
    "star.dtype # U16 cause highest string is og len 16"
   ]
  },
  {
   "cell_type": "code",
   "execution_count": 9,
   "id": "09238f1e",
   "metadata": {},
   "outputs": [
    {
     "data": {
      "text/plain": [
       "array([1, 2, 3])"
      ]
     },
     "execution_count": 9,
     "metadata": {},
     "output_type": "execute_result"
    }
   ],
   "source": [
    "a=np.array([1,2,3] , dtype=\"i4\")\n",
    "a"
   ]
  },
  {
   "cell_type": "code",
   "execution_count": 10,
   "id": "98e5ed9a",
   "metadata": {},
   "outputs": [
    {
     "data": {
      "text/plain": [
       "array([b'1', b'2', b'3'], dtype='|S1')"
      ]
     },
     "execution_count": 10,
     "metadata": {},
     "output_type": "execute_result"
    }
   ],
   "source": [
    "a=np.array([1,2,3] , dtype=\"S\")\n",
    "a"
   ]
  },
  {
   "cell_type": "code",
   "execution_count": 12,
   "id": "aaf4a742",
   "metadata": {},
   "outputs": [
    {
     "data": {
      "text/plain": [
       "array([b'1', b'2', b'3', b'anuja'], dtype='|S5')"
      ]
     },
     "execution_count": 12,
     "metadata": {},
     "output_type": "execute_result"
    }
   ],
   "source": [
    "a=np.array([1,2,3,\"anuja\"],dtype=\"S\")\n",
    "a"
   ]
  },
  {
   "cell_type": "code",
   "execution_count": 13,
   "id": "0020135a",
   "metadata": {},
   "outputs": [
    {
     "data": {
      "text/plain": [
       "array([1, 1, 1], dtype=int32)"
      ]
     },
     "execution_count": 13,
     "metadata": {},
     "output_type": "execute_result"
    }
   ],
   "source": [
    "b=np.array([1.2,1.3,1.4])\n",
    "b.astype('i') # astype used to convert data "
   ]
  },
  {
   "cell_type": "code",
   "execution_count": 14,
   "id": "927bca2f",
   "metadata": {},
   "outputs": [],
   "source": [
    "import copy\n",
    "# original = b"
   ]
  },
  {
   "cell_type": "code",
   "execution_count": 16,
   "id": "bc6c8bb5",
   "metadata": {},
   "outputs": [],
   "source": [
    "x1=b.copy()"
   ]
  },
  {
   "cell_type": "code",
   "execution_count": 17,
   "id": "f7d177de",
   "metadata": {},
   "outputs": [
    {
     "ename": "AttributeError",
     "evalue": "'numpy.ndarray' object has no attribute 'deepcopy'",
     "output_type": "error",
     "traceback": [
      "\u001b[1;31m---------------------------------------------------------------------------\u001b[0m",
      "\u001b[1;31mAttributeError\u001b[0m                            Traceback (most recent call last)",
      "Cell \u001b[1;32mIn[17], line 1\u001b[0m\n\u001b[1;32m----> 1\u001b[0m x2\u001b[38;5;241m=\u001b[39m\u001b[43mb\u001b[49m\u001b[38;5;241;43m.\u001b[39;49m\u001b[43mdeepcopy\u001b[49m()\n",
      "\u001b[1;31mAttributeError\u001b[0m: 'numpy.ndarray' object has no attribute 'deepcopy'"
     ]
    }
   ],
   "source": [
    "x2=b.deepcopy()"
   ]
  },
  {
   "cell_type": "code",
   "execution_count": 20,
   "id": "dbe0b02a",
   "metadata": {},
   "outputs": [],
   "source": [
    "#copy() c1 nd c2 different  and view c1 changes reflect to c2"
   ]
  },
  {
   "cell_type": "code",
   "execution_count": 21,
   "id": "2398d356",
   "metadata": {},
   "outputs": [],
   "source": [
    "#c2=c1.view()"
   ]
  },
  {
   "cell_type": "code",
   "execution_count": 22,
   "id": "e346d764",
   "metadata": {},
   "outputs": [
    {
     "data": {
      "text/plain": [
       "(3,)"
      ]
     },
     "execution_count": 22,
     "metadata": {},
     "output_type": "execute_result"
    }
   ],
   "source": [
    "b.shape #for 1d 3 elements "
   ]
  },
  {
   "cell_type": "code",
   "execution_count": 23,
   "id": "13dce4eb",
   "metadata": {},
   "outputs": [
    {
     "data": {
      "text/plain": [
       "(2, 2, 3)"
      ]
     },
     "execution_count": 23,
     "metadata": {},
     "output_type": "execute_result"
    }
   ],
   "source": [
    "z.shape # 3d "
   ]
  },
  {
   "cell_type": "code",
   "execution_count": null,
   "id": "aad98a60",
   "metadata": {},
   "outputs": [],
   "source": []
  }
 ],
 "metadata": {
  "kernelspec": {
   "display_name": "Python 3 (ipykernel)",
   "language": "python",
   "name": "python3"
  },
  "language_info": {
   "codemirror_mode": {
    "name": "ipython",
    "version": 3
   },
   "file_extension": ".py",
   "mimetype": "text/x-python",
   "name": "python",
   "nbconvert_exporter": "python",
   "pygments_lexer": "ipython3",
   "version": "3.10.9"
  }
 },
 "nbformat": 4,
 "nbformat_minor": 5
}
