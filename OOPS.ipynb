{
 "cells": [
  {
   "cell_type": "markdown",
   "id": "ccfb2717",
   "metadata": {},
   "source": [
    "#### object = > collection of variables(properties,attributes) and methods(activities,behaviour)"
   ]
  },
  {
   "cell_type": "markdown",
   "id": "79f193cb",
   "metadata": {},
   "source": [
    "#### once u declare object constructor is called in backed automaticallly\n",
    "constructor is the only onw here we can declare variables"
   ]
  },
  {
   "cell_type": "code",
   "execution_count": 5,
   "id": "2b5cbe8c",
   "metadata": {},
   "outputs": [
    {
     "name": "stdout",
     "output_type": "stream",
     "text": [
      "23 5.1 pune\n"
     ]
    }
   ],
   "source": [
    "class DA:\n",
    "    def __init__(self,age,height,city):\n",
    "        #print(\"in it\")#vonstructer\n",
    "        self.age=age\n",
    "        self.height=height\n",
    "        self.city=city\n",
    "        \n",
    "    def config(self):# behavioural argument\n",
    "        print(self.age, self.height,self.city)\n",
    "    \n",
    "anuja=DA(23,5.1,\"pune\")\n",
    "anuja.config()"
   ]
  },
  {
   "cell_type": "markdown",
   "id": "a148f5b4",
   "metadata": {},
   "source": [
    "#### config(anuja) => i.e self become object"
   ]
  },
  {
   "cell_type": "code",
   "execution_count": 7,
   "id": "70e51626",
   "metadata": {},
   "outputs": [],
   "source": [
    "# #create one class computer with var cpu ram processor.call them for object c1,c2"
   ]
  },
  {
   "cell_type": "code",
   "execution_count": 1,
   "id": "a424c953",
   "metadata": {},
   "outputs": [
    {
     "name": "stdout",
     "output_type": "stream",
     "text": [
      "23 5.1 pune\n"
     ]
    }
   ],
   "source": [
    "class Computer:\n",
    "    def __init__(self,cpu,ram,processor):\n",
    "        #print(\"in it\")#vonstructer\n",
    "        self.cpu=cpu\n",
    "        self.ram=ram\n",
    "        self.processor=processor\n",
    "        \n",
    "    def config(self):# behavioural argument\n",
    "        print(self.cpu, self.ram,self.processor)\n",
    "    \n",
    "c1=Computer(23,5.1,\"pune\")\n",
    "c1.config()"
   ]
  },
  {
   "cell_type": "code",
   "execution_count": null,
   "id": "8b72b87a",
   "metadata": {},
   "outputs": [],
   "source": [
    "# Built in constructor\n",
    "\n",
    "__add__(self, other)\tTo get called on add operation using + operator\n",
    "__sub__(self, other)\tTo get called on subtraction operation using - operator.\n",
    "__mul__(self, other)\tTo get called on multiplication operation using * operator.\n",
    "__floordiv__(self, other)\tTo get called on floor division operation using // operator.\n",
    "__truediv__(self, other)\tTo get called on division operation using / operator.\n",
    "__mod__(self, other)\tTo get called on modulo operation using % operator.\n",
    "__pow__(self, other[, modulo])\tTo get called on calculating the power using ** operator.\n",
    "__lt__(self, other)\tTo get called on comparison using < operator.\n",
    "__le__(self, other)\tTo get called on comparison using <= operator.\n",
    "__eq__(self, other)\tTo get called on comparison using == operator.\n",
    "__ne__(self, other)\tTo get called on comparison using != operator.\n",
    "__ge__(self, other)\tTo get called on comparison using >= operator.b"
   ]
  },
  {
   "cell_type": "code",
   "execution_count": 2,
   "id": "6b3b0386",
   "metadata": {},
   "outputs": [
    {
     "data": {
      "text/plain": [
       "7"
      ]
     },
     "execution_count": 2,
     "metadata": {},
     "output_type": "execute_result"
    }
   ],
   "source": [
    "int.__add__(4,3)"
   ]
  },
  {
   "cell_type": "code",
   "execution_count": 14,
   "id": "406c8ab5",
   "metadata": {},
   "outputs": [],
   "source": [
    "class Add:\n",
    "    def __init__(self):\n",
    "        self.a=20\n",
    "    def Greater(self,other):\n",
    "        if self.a > other.a:\n",
    "            return True\n",
    "        else:\n",
    "            return False\n",
    "    "
   ]
  },
  {
   "cell_type": "code",
   "execution_count": 1,
   "id": "55ce5fd7",
   "metadata": {},
   "outputs": [
    {
     "name": "stdout",
     "output_type": "stream",
     "text": [
      "10 BMW 10\n",
      "10 BMW 10\n"
     ]
    }
   ],
   "source": [
    "class car:\n",
    "    wheels=6#class var   \n",
    "    def __init__(self):#instance var\n",
    "        self.milage=10\n",
    "        self.company=\"BMW\"\n",
    "        \n",
    "\n",
    "c1=car()\n",
    "c2=car()\n",
    "car.wheels=10\n",
    "#c1.milage=20\n",
    "print(c1.milage,c1.company,c1.wheels)\n",
    "print(c2.milage,c2.company,c2.wheels)"
   ]
  },
  {
   "cell_type": "markdown",
   "id": "17cf381b",
   "metadata": {},
   "source": [
    "### 1. instance method\n",
    "### 2. class method\n",
    "### 3. static method"
   ]
  },
  {
   "cell_type": "code",
   "execution_count": null,
   "id": "f0797fda",
   "metadata": {},
   "outputs": [],
   "source": [
    " inner class object can be create inside in outer class = lap1"
   ]
  },
  {
   "cell_type": "code",
   "execution_count": null,
   "id": "54e9ac13",
   "metadata": {},
   "outputs": [],
   "source": []
  },
  {
   "cell_type": "code",
   "execution_count": null,
   "id": "427881c4",
   "metadata": {},
   "outputs": [],
   "source": [
    "inner class object can be created outside class ->"
   ]
  },
  {
   "cell_type": "code",
   "execution_count": 5,
   "id": "349893ff",
   "metadata": {},
   "outputs": [
    {
     "name": "stdout",
     "output_type": "stream",
     "text": [
      "output of lap1.show() => \n",
      "hp i5 8\n",
      "output of s1.show() => \n",
      "john 4\n",
      "hp i5 8\n"
     ]
    }
   ],
   "source": [
    "class student:\n",
    "    def __init__(self,name,rollno):\n",
    "        self.name=name\n",
    "        self.rollno=rollno\n",
    "        self.lap=self.laptop()\n",
    "    def show(self):\n",
    "        print(self.name,self.rollno)\n",
    "        self.lap.show()\n",
    "    class laptop:\n",
    "        def __init__(self):\n",
    "            self.brand=\"hp\"\n",
    "            self.cpu=\"i5\"\n",
    "            self.ram=8\n",
    "        def show(self):\n",
    "            print(self.brand,self.cpu,self.ram)\n",
    "        \n",
    "\n",
    "s1=student(\"john\",4)\n",
    "s2=student(\"navin\",9)\n",
    "lap1=student.laptop() # creating innerclass obj => newobj = outer.inner()\n",
    "print(\"output of lap1.show() => \")\n",
    "lap1.show()\n",
    "print(\"output of s1.show() => \")\n",
    "s1.show()\n"
   ]
  },
  {
   "cell_type": "code",
   "execution_count": 6,
   "id": "37194297",
   "metadata": {},
   "outputs": [
    {
     "name": "stdout",
     "output_type": "stream",
     "text": [
      "Feature-1 is working\n",
      "Feature-2 is working\n",
      "Feature-3 is working\n",
      "Feature-4 is working\n",
      "Feature-1 is working\n",
      "Feature-2 is working\n"
     ]
    }
   ],
   "source": [
    "#single level inheritance\n",
    "class A:\n",
    "    def feature1(self):\n",
    "        print(\"Feature-1 is working\")\n",
    "    def feature2(self):\n",
    "        print(\"Feature-2 is working\")\n",
    "        \n",
    "class B(A):\n",
    "    def feature3(self):\n",
    "        print(\"Feature-3 is working\")\n",
    "    def feature4(self):\n",
    "        print(\"Feature-4 is working\")\n",
    "                \n",
    "        \n",
    "a1=A()\n",
    "b1=B()\n",
    "a1.feature1()\n",
    "a1.feature2()   \n",
    "b1.feature3()\n",
    "b1.feature4()\n",
    "\n",
    "b1.feature1()\n",
    "b1.feature2()"
   ]
  },
  {
   "cell_type": "code",
   "execution_count": 8,
   "id": "41ce087b",
   "metadata": {},
   "outputs": [
    {
     "name": "stdout",
     "output_type": "stream",
     "text": [
      "Feature-1 is working\n",
      "Feature-2 is working\n",
      "Feature-3 is working\n",
      "Feature-4 is working\n",
      "Feature-5 is working\n",
      "Feature-6 is working\n"
     ]
    }
   ],
   "source": [
    "#Multi - level inheritance\n",
    "class A:#(Parent/Super class)\n",
    "    def feature1(self):\n",
    "        print(\"Feature-1 is working\")\n",
    "    def feature2(self):\n",
    "        print(\"Feature-2 is working\")\n",
    "        \n",
    "class B(A):\n",
    "    def feature3(self):\n",
    "        print(\"Feature-3 is working\")\n",
    "    def feature4(self):\n",
    "        print(\"Feature-4 is working\")\n",
    "                \n",
    "class C(B):\n",
    "    def feature5(self):\n",
    "        print(\"Feature-5 is working\")\n",
    "    def feature6(self):\n",
    "        print(\"Feature-6 is working\")\n",
    "c1=C()\n",
    "c1.feature1()\n",
    "c1.feature2()\n",
    "\n",
    "c1.feature3()\n",
    "c1.feature4()\n",
    "\n",
    "c1.feature5()\n",
    "c1.feature6()"
   ]
  },
  {
   "cell_type": "code",
   "execution_count": null,
   "id": "156e3b4f",
   "metadata": {},
   "outputs": [],
   "source": [
    "#multiple inheritance\n",
    "class A:#(Parent/Super class)\n",
    "    def feature1(self):\n",
    "        print(\"Feature-1 is working\")\n",
    "    def feature2(self):\n",
    "        print(\"Feature-2 is working\")\n",
    "        \n",
    "class B(A):\n",
    "    def feature3(self):\n",
    "        print(\"Feature-3 is working\")\n",
    "    def feature4(self):\n",
    "        print(\"Feature-4 is working\")\n",
    "                \n",
    "class C(A,B):\n",
    "    def feature5(self):\n",
    "        print(\"Feature-5 is working\")\n",
    "    def feature6(self):\n",
    "        print(\"Feature-6 is working\")\n",
    "c1=C()\n",
    "c1.feature1()\n",
    "c1.feature2()\n",
    "\n",
    "c1.feature3()\n",
    "c1.feature4()\n",
    "\n",
    "c1.feature5()\n",
    "c1.feature6()"
   ]
  },
  {
   "cell_type": "code",
   "execution_count": 11,
   "id": "f93308a8",
   "metadata": {},
   "outputs": [
    {
     "name": "stdout",
     "output_type": "stream",
     "text": [
      "In A init\n",
      "In C init\n",
      "Feature1-A is working\n"
     ]
    }
   ],
   "source": [
    "#Method inheritance\n",
    "class A:\n",
    "    def __init__(self):\n",
    "        print(\"In A init\")\n",
    "    def feature1(self):\n",
    "        print(\"Feature1-A is working\")\n",
    "    def feature2(self):\n",
    "        print(\"Feature2 is working\")\n",
    "class B:\n",
    "    def __init__(self):\n",
    "        print(\"In B init\")\n",
    "    def feature1(self):\n",
    "        print(\"Feature1-B is working\")\n",
    "    def feature4(self):\n",
    "        print(\"Feature4 is working\")\n",
    "\n",
    "class C(A,B):\n",
    "    def __init__(self):\n",
    "        super().__init__()\n",
    "        print(\"In C init\")\n",
    "    def feat(self):\n",
    "        super().feature2()\n",
    "c1=C()\n",
    "c1.feature1()\n",
    "\n",
    "#Method also follow MRO"
   ]
  },
  {
   "cell_type": "markdown",
   "id": "4a7585c1",
   "metadata": {},
   "source": [
    "### polymorphism"
   ]
  },
  {
   "cell_type": "markdown",
   "id": "2342fc22",
   "metadata": {},
   "source": [
    "##### duck typing."
   ]
  },
  {
   "cell_type": "code",
   "execution_count": 12,
   "id": "135cfcba",
   "metadata": {},
   "outputs": [
    {
     "name": "stdout",
     "output_type": "stream",
     "text": [
      "swimming\n",
      "sleeping\n"
     ]
    }
   ],
   "source": [
    "class pycharm:\n",
    "    def execute(self):\n",
    "        print(\"compiling\")\n",
    "        print(\"running\")\n",
    "class myeditor:\n",
    "    def execute(self):\n",
    "        print(\"spell check\")\n",
    "        print(\"walking\")\n",
    "        print(\"compiling\")\n",
    "        print(\"running\")\n",
    "class bird:\n",
    "    def execute(self):\n",
    "        print(\"swimming\")\n",
    "        print(\"sleeping\")\n",
    "        \n",
    "class laptop:\n",
    "    def code(self,ide):\n",
    "        ide.execute()\n",
    "#ide=pycharm()\n",
    "#ide=myeditor()\n",
    "ide=bird()\n",
    "lap1=laptop()\n",
    "lap1.code(ide)"
   ]
  },
  {
   "cell_type": "markdown",
   "id": "1f70ce69",
   "metadata": {},
   "source": [
    "#### operator overloading"
   ]
  },
  {
   "cell_type": "code",
   "execution_count": 15,
   "id": "f4f0d632",
   "metadata": {},
   "outputs": [
    {
     "name": "stdout",
     "output_type": "stream",
     "text": [
      "s2 win\n"
     ]
    }
   ],
   "source": [
    "class student:\n",
    "    def __init__(self,m1,m2):\n",
    "        self.m1=m1\n",
    "        self.m2=m2\n",
    "    def __gt__(self,other):\n",
    "        r1=self.m1 +self.m2\n",
    "        r2=other.m1 +other.m2\n",
    "        if r1 > r2:\n",
    "            return True\n",
    "        else:\n",
    "            return False\n",
    "\n",
    "        return s3\n",
    "s1=student(10,30)\n",
    "s2=student(10,40)\n",
    "if s1 > s2:\n",
    "    print(\"s1 win\")\n",
    "else:\n",
    "    print(\"s2 win\")"
   ]
  },
  {
   "cell_type": "code",
   "execution_count": null,
   "id": "580f5ef0",
   "metadata": {},
   "outputs": [],
   "source": []
  },
  {
   "cell_type": "code",
   "execution_count": null,
   "id": "8d99746b",
   "metadata": {},
   "outputs": [],
   "source": []
  },
  {
   "cell_type": "code",
   "execution_count": null,
   "id": "8a3eba4d",
   "metadata": {},
   "outputs": [],
   "source": []
  },
  {
   "cell_type": "code",
   "execution_count": null,
   "id": "2fa0f270",
   "metadata": {},
   "outputs": [],
   "source": []
  },
  {
   "cell_type": "code",
   "execution_count": null,
   "id": "86c22da4",
   "metadata": {},
   "outputs": [],
   "source": []
  },
  {
   "cell_type": "code",
   "execution_count": null,
   "id": "bd653df0",
   "metadata": {},
   "outputs": [],
   "source": []
  },
  {
   "cell_type": "code",
   "execution_count": null,
   "id": "57e0c71e",
   "metadata": {},
   "outputs": [],
   "source": []
  },
  {
   "cell_type": "code",
   "execution_count": null,
   "id": "74f54bfd",
   "metadata": {},
   "outputs": [],
   "source": []
  },
  {
   "cell_type": "code",
   "execution_count": null,
   "id": "2f7dba87",
   "metadata": {},
   "outputs": [],
   "source": []
  },
  {
   "cell_type": "code",
   "execution_count": null,
   "id": "4be8f9ee",
   "metadata": {},
   "outputs": [],
   "source": []
  },
  {
   "cell_type": "code",
   "execution_count": null,
   "id": "bdae9110",
   "metadata": {},
   "outputs": [],
   "source": []
  },
  {
   "cell_type": "code",
   "execution_count": null,
   "id": "97dd65f5",
   "metadata": {},
   "outputs": [],
   "source": []
  },
  {
   "cell_type": "code",
   "execution_count": null,
   "id": "28553983",
   "metadata": {},
   "outputs": [],
   "source": []
  },
  {
   "cell_type": "markdown",
   "id": "97400cd4",
   "metadata": {},
   "source": [
    "## Data Abstraction"
   ]
  },
  {
   "cell_type": "markdown",
   "id": "1d922770",
   "metadata": {},
   "source": [
    "### improve efficiency , decrease complexity"
   ]
  },
  {
   "cell_type": "markdown",
   "id": "b8a5c340",
   "metadata": {},
   "source": [
    "##### Data Abstraction is a process of hiding the real implimentaion of an application from user and showing essential features only\n",
    "#It reduce complexity and improve efficiency\n",
    "#Abstract Class is the class who have atleast one abstract method\n",
    "#Abstract method is the method which don't have own body;we just define it and keep as it is i.e. pass"
   ]
  },
  {
   "cell_type": "code",
   "execution_count": 3,
   "id": "5385fd61",
   "metadata": {},
   "outputs": [
    {
     "name": "stdout",
     "output_type": "stream",
     "text": [
      "hello anuja\n"
     ]
    }
   ],
   "source": [
    "from abc import ABC,abstractmethod\n",
    "class Parent(ABC):\n",
    "    @abstractmethod\n",
    "    def fun1(self):\n",
    "        pass\n",
    "    def fun2(self):\n",
    "        pass\n",
    "class child(Parent):\n",
    "    \n",
    "    def fun1(self):\n",
    "        print(\"hello anuja\")\n",
    "obj=child()\n",
    "obj.fun1()\n",
    "    "
   ]
  },
  {
   "cell_type": "code",
   "execution_count": 18,
   "id": "e67734a5",
   "metadata": {},
   "outputs": [
    {
     "ename": "TypeError",
     "evalue": "Can't instantiate abstract class child with abstract method fun2",
     "output_type": "error",
     "traceback": [
      "\u001b[1;31m---------------------------------------------------------------------------\u001b[0m",
      "\u001b[1;31mTypeError\u001b[0m                                 Traceback (most recent call last)",
      "Cell \u001b[1;32mIn[18], line 15\u001b[0m\n\u001b[0;32m     13\u001b[0m     \u001b[38;5;28;01mdef\u001b[39;00m \u001b[38;5;21mfun3\u001b[39m(\u001b[38;5;28mself\u001b[39m):\n\u001b[0;32m     14\u001b[0m         \u001b[38;5;28mprint\u001b[39m(\u001b[38;5;124m\"\u001b[39m\u001b[38;5;124mhello anujaaaaaaaaaaaaaaa\u001b[39m\u001b[38;5;124m\"\u001b[39m)\n\u001b[1;32m---> 15\u001b[0m obj\u001b[38;5;241m=\u001b[39m\u001b[43mchild\u001b[49m\u001b[43m(\u001b[49m\u001b[43m)\u001b[49m\n\u001b[0;32m     16\u001b[0m obj\u001b[38;5;241m.\u001b[39mfun3()\n",
      "\u001b[1;31mTypeError\u001b[0m: Can't instantiate abstract class child with abstract method fun2"
     ]
    }
   ],
   "source": [
    "from abc import ABC,abstractmethod\n",
    "class Parent(ABC):\n",
    "    @abstractmethod\n",
    "    def fun1(self):\n",
    "        pass\n",
    "    @abstractmethod\n",
    "    def fun2(self):\n",
    "        pass\n",
    "class child(Parent):\n",
    "    \n",
    "    def fun1(self):\n",
    "        print(\"hello anuja\")\n",
    "    def fun3(self):\n",
    "        print(\"hello anujaaaaaaaaaaaaaaa\")\n",
    "obj=child()\n",
    "obj.fun3()\n",
    "    "
   ]
  },
  {
   "cell_type": "markdown",
   "id": "c3fcbcc0",
   "metadata": {},
   "source": [
    "## iterator and generator"
   ]
  },
  {
   "cell_type": "code",
   "execution_count": 4,
   "id": "bd3536cd",
   "metadata": {},
   "outputs": [
    {
     "name": "stdout",
     "output_type": "stream",
     "text": [
      "1\n",
      "2\n",
      "3\n",
      "4\n",
      "5\n"
     ]
    }
   ],
   "source": [
    "l1=[1,2,3,4,5]\n",
    "for i in l1:\n",
    "    print(i)"
   ]
  },
  {
   "cell_type": "code",
   "execution_count": 5,
   "id": "8f39003e",
   "metadata": {},
   "outputs": [
    {
     "data": {
      "text/plain": [
       "<list_iterator at 0x24166524eb0>"
      ]
     },
     "execution_count": 5,
     "metadata": {},
     "output_type": "execute_result"
    }
   ],
   "source": [
    "iter(l1)# to create iterator use \"iter\""
   ]
  },
  {
   "cell_type": "code",
   "execution_count": 6,
   "id": "777ba571",
   "metadata": {},
   "outputs": [],
   "source": [
    "var=iter(l1)"
   ]
  },
  {
   "cell_type": "code",
   "execution_count": 16,
   "id": "7a520965",
   "metadata": {},
   "outputs": [
    {
     "name": "stdout",
     "output_type": "stream",
     "text": [
      "iterator is empty\n"
     ]
    }
   ],
   "source": [
    "try:\n",
    "    print(next(var))\n",
    "except StopIteration:\n",
    "    print(\"iterator is empty\")"
   ]
  },
  {
   "cell_type": "code",
   "execution_count": 19,
   "id": "cfcf44c1",
   "metadata": {},
   "outputs": [],
   "source": [
    "#To creat iterator we use iter() and to generator we use function along with \"yield\" keyword\n",
    "# Generator uses \"yield\" keyword; it saves local variable\n",
    "#Generator in python helps us to fast and compact code\n",
    "#python iterator is much more memory efficient\n",
    "# Generator are useful to creat iterator"
   ]
  },
  {
   "cell_type": "code",
   "execution_count": 20,
   "id": "59a32462",
   "metadata": {},
   "outputs": [],
   "source": [
    "def fun():\n",
    "    print(\"hello anuja\")"
   ]
  },
  {
   "cell_type": "code",
   "execution_count": 21,
   "id": "094f8e45",
   "metadata": {},
   "outputs": [
    {
     "name": "stdout",
     "output_type": "stream",
     "text": [
      "hello anuja\n"
     ]
    }
   ],
   "source": [
    "x=fun()"
   ]
  },
  {
   "cell_type": "code",
   "execution_count": 22,
   "id": "3dd8b803",
   "metadata": {},
   "outputs": [],
   "source": [
    "x"
   ]
  },
  {
   "cell_type": "code",
   "execution_count": 23,
   "id": "4cc453e6",
   "metadata": {},
   "outputs": [],
   "source": [
    "def fun():\n",
    "    return \"hello anuja\""
   ]
  },
  {
   "cell_type": "code",
   "execution_count": 24,
   "id": "8a0e2cde",
   "metadata": {},
   "outputs": [],
   "source": [
    "y=fun()"
   ]
  },
  {
   "cell_type": "code",
   "execution_count": 25,
   "id": "5e41ac4d",
   "metadata": {},
   "outputs": [
    {
     "data": {
      "text/plain": [
       "'hello anuja'"
      ]
     },
     "execution_count": 25,
     "metadata": {},
     "output_type": "execute_result"
    }
   ],
   "source": [
    "y"
   ]
  },
  {
   "cell_type": "markdown",
   "id": "c1e4d139",
   "metadata": {},
   "source": [
    "## multithreading"
   ]
  },
  {
   "cell_type": "code",
   "execution_count": 6,
   "id": "400fcc96",
   "metadata": {},
   "outputs": [
    {
     "name": "stdout",
     "output_type": "stream",
     "text": [
      "Hello\n",
      "Hi\n",
      "Hello\n",
      "Hi\n",
      "Hello\n",
      "Hi\n",
      "Hello\n",
      "Hi\n",
      "Hello\n",
      "Hi\n",
      "Hello\n",
      "Hi\n",
      "Hello\n",
      "Hi\n",
      "Hello\n",
      "Hi\n",
      "Hello\n",
      "Hi\n",
      "Hello\n",
      "Hi\n",
      "Hello\n",
      "Hi\n",
      "Hello\n",
      "Hi\n",
      "Hello\n",
      "Hi\n",
      "Hello\n",
      "Hi\n",
      "Hello\n",
      "Hi\n",
      "Hello\n",
      "Hi\n",
      "Hello\n",
      "Hi\n",
      "Hello\n",
      "Hi\n",
      "Hello\n",
      "Hi\n",
      "Hello\n",
      "Hi\n"
     ]
    }
   ],
   "source": [
    "from time import sleep\n",
    "from threading import *\n",
    "class Hello((Thread)):\n",
    "    def run(self):\n",
    "        for i in range(20):\n",
    "            print(\"Hello\")\n",
    "            sleep(1)\n",
    "class Hi(Thread):\n",
    "    def run(self):\n",
    "        for i in range(20):\n",
    "            print(\"Hi\")\n",
    "            sleep(1)#activate method\n",
    "            \n",
    "t1=Hello()\n",
    "t2=Hi()\n",
    "#t1.run()\n",
    "#t2.run()\n",
    "t1.start()\n",
    "sleep(0.5)#starting delay\n",
    "t2.start()\n",
    "t1.join()\n",
    "#sleep(0.2)\n",
    "t2.join()"
   ]
  },
  {
   "cell_type": "raw",
   "id": "8c0ea125",
   "metadata": {},
   "source": [
    "from time import sleep\n",
    "from threading import *\n",
    "class Hello(Thread):\n",
    "    def run(self):\n",
    "        for i in range(50):\n",
    "            print(\"Hello\")\n",
    "            sleep(1)#activate method\n",
    "class Hi(Thread):\n",
    "    def run(self):\n",
    "        for i in range(50):\n",
    "            print(\"Hi\")\n",
    "            sleep(1)#activate method\n",
    "t1=Hello()\n",
    "t2=Hi()\n",
    "#t1.run()\n",
    "#t2.run()\n",
    "t1.start()\n",
    "sleep(0.2)#starting delay\n",
    "t2.start()\n",
    "t1.join()\n",
    "#sleep(0.2)\n",
    "t2.join()\n",
    "print(\"Bye\")"
   ]
  },
  {
   "cell_type": "code",
   "execution_count": null,
   "id": "41c1e641",
   "metadata": {},
   "outputs": [],
   "source": []
  }
 ],
 "metadata": {
  "kernelspec": {
   "display_name": "Python 3 (ipykernel)",
   "language": "python",
   "name": "python3"
  },
  "language_info": {
   "codemirror_mode": {
    "name": "ipython",
    "version": 3
   },
   "file_extension": ".py",
   "mimetype": "text/x-python",
   "name": "python",
   "nbconvert_exporter": "python",
   "pygments_lexer": "ipython3",
   "version": "3.10.9"
  }
 },
 "nbformat": 4,
 "nbformat_minor": 5
}
