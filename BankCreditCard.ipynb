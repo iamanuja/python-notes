{
 "cells": [
  {
   "cell_type": "code",
   "execution_count": 1,
   "id": "5c977a0d",
   "metadata": {},
   "outputs": [],
   "source": [
    "import numpy as np\n",
    "import pandas as pd\n",
    "import matplotlib.pyplot as plt\n",
    "import seaborn as sns"
   ]
  },
  {
   "cell_type": "code",
   "execution_count": 2,
   "id": "f300f55b",
   "metadata": {},
   "outputs": [
    {
     "data": {
      "text/html": [
       "<div>\n",
       "<style scoped>\n",
       "    .dataframe tbody tr th:only-of-type {\n",
       "        vertical-align: middle;\n",
       "    }\n",
       "\n",
       "    .dataframe tbody tr th {\n",
       "        vertical-align: top;\n",
       "    }\n",
       "\n",
       "    .dataframe thead th {\n",
       "        text-align: right;\n",
       "    }\n",
       "</style>\n",
       "<table border=\"1\" class=\"dataframe\">\n",
       "  <thead>\n",
       "    <tr style=\"text-align: right;\">\n",
       "      <th></th>\n",
       "      <th>Customer ID</th>\n",
       "      <th>Credit_Amount</th>\n",
       "      <th>Gender</th>\n",
       "      <th>Academic_Qualification</th>\n",
       "      <th>Marital</th>\n",
       "      <th>Age_Years</th>\n",
       "      <th>Repayment_Status_Jan</th>\n",
       "      <th>Repayment_Status_Feb</th>\n",
       "      <th>Repayment_Status_March</th>\n",
       "      <th>Repayment_Status_April</th>\n",
       "      <th>...</th>\n",
       "      <th>April_Bill_Amount</th>\n",
       "      <th>May_Bill_Amount</th>\n",
       "      <th>June_Bill_Amount</th>\n",
       "      <th>Previous_Payment_Jan</th>\n",
       "      <th>Previous_Payment_Feb</th>\n",
       "      <th>Previous_Payment_March</th>\n",
       "      <th>Previous_Payment_April</th>\n",
       "      <th>Previous_Payment_May</th>\n",
       "      <th>Previous_Payment_June</th>\n",
       "      <th>Default_Payment</th>\n",
       "    </tr>\n",
       "  </thead>\n",
       "  <tbody>\n",
       "    <tr>\n",
       "      <th>0</th>\n",
       "      <td>1</td>\n",
       "      <td>20000.0</td>\n",
       "      <td>2</td>\n",
       "      <td>2</td>\n",
       "      <td>1</td>\n",
       "      <td>24</td>\n",
       "      <td>2</td>\n",
       "      <td>2</td>\n",
       "      <td>0</td>\n",
       "      <td>0</td>\n",
       "      <td>...</td>\n",
       "      <td>0.0</td>\n",
       "      <td>0.0</td>\n",
       "      <td>0.0</td>\n",
       "      <td>0.0</td>\n",
       "      <td>679.0</td>\n",
       "      <td>0.0</td>\n",
       "      <td>0.0</td>\n",
       "      <td>0.0</td>\n",
       "      <td>0.0</td>\n",
       "      <td>1</td>\n",
       "    </tr>\n",
       "    <tr>\n",
       "      <th>1</th>\n",
       "      <td>2</td>\n",
       "      <td>220000.0</td>\n",
       "      <td>2</td>\n",
       "      <td>2</td>\n",
       "      <td>2</td>\n",
       "      <td>26</td>\n",
       "      <td>0</td>\n",
       "      <td>2</td>\n",
       "      <td>0</td>\n",
       "      <td>0</td>\n",
       "      <td>...</td>\n",
       "      <td>3272.0</td>\n",
       "      <td>3455.0</td>\n",
       "      <td>3261.0</td>\n",
       "      <td>0.0</td>\n",
       "      <td>2000.0</td>\n",
       "      <td>1000.0</td>\n",
       "      <td>1000.0</td>\n",
       "      <td>0.0</td>\n",
       "      <td>2000.0</td>\n",
       "      <td>1</td>\n",
       "    </tr>\n",
       "    <tr>\n",
       "      <th>2</th>\n",
       "      <td>3</td>\n",
       "      <td>90000.0</td>\n",
       "      <td>2</td>\n",
       "      <td>2</td>\n",
       "      <td>2</td>\n",
       "      <td>34</td>\n",
       "      <td>0</td>\n",
       "      <td>0</td>\n",
       "      <td>0</td>\n",
       "      <td>0</td>\n",
       "      <td>...</td>\n",
       "      <td>24332.0</td>\n",
       "      <td>14848.0</td>\n",
       "      <td>15548.0</td>\n",
       "      <td>1619.0</td>\n",
       "      <td>2500.0</td>\n",
       "      <td>1000.0</td>\n",
       "      <td>1000.0</td>\n",
       "      <td>1000.0</td>\n",
       "      <td>5000.0</td>\n",
       "      <td>0</td>\n",
       "    </tr>\n",
       "    <tr>\n",
       "      <th>3</th>\n",
       "      <td>4</td>\n",
       "      <td>50000.0</td>\n",
       "      <td>2</td>\n",
       "      <td>2</td>\n",
       "      <td>1</td>\n",
       "      <td>37</td>\n",
       "      <td>0</td>\n",
       "      <td>0</td>\n",
       "      <td>0</td>\n",
       "      <td>0</td>\n",
       "      <td>...</td>\n",
       "      <td>29324.0</td>\n",
       "      <td>28858.0</td>\n",
       "      <td>28547.0</td>\n",
       "      <td>3000.0</td>\n",
       "      <td>2029.0</td>\n",
       "      <td>1200.0</td>\n",
       "      <td>1100.0</td>\n",
       "      <td>1069.0</td>\n",
       "      <td>1000.0</td>\n",
       "      <td>0</td>\n",
       "    </tr>\n",
       "    <tr>\n",
       "      <th>4</th>\n",
       "      <td>5</td>\n",
       "      <td>50000.0</td>\n",
       "      <td>1</td>\n",
       "      <td>2</td>\n",
       "      <td>1</td>\n",
       "      <td>57</td>\n",
       "      <td>0</td>\n",
       "      <td>0</td>\n",
       "      <td>0</td>\n",
       "      <td>0</td>\n",
       "      <td>...</td>\n",
       "      <td>20940.0</td>\n",
       "      <td>18146.0</td>\n",
       "      <td>18131.0</td>\n",
       "      <td>3000.0</td>\n",
       "      <td>36672.0</td>\n",
       "      <td>10000.0</td>\n",
       "      <td>9000.0</td>\n",
       "      <td>689.0</td>\n",
       "      <td>679.0</td>\n",
       "      <td>0</td>\n",
       "    </tr>\n",
       "  </tbody>\n",
       "</table>\n",
       "<p>5 rows × 25 columns</p>\n",
       "</div>"
      ],
      "text/plain": [
       "   Customer ID  Credit_Amount  Gender  Academic_Qualification  Marital  \\\n",
       "0            1        20000.0       2                       2        1   \n",
       "1            2       220000.0       2                       2        2   \n",
       "2            3        90000.0       2                       2        2   \n",
       "3            4        50000.0       2                       2        1   \n",
       "4            5        50000.0       1                       2        1   \n",
       "\n",
       "   Age_Years  Repayment_Status_Jan  Repayment_Status_Feb  \\\n",
       "0         24                     2                     2   \n",
       "1         26                     0                     2   \n",
       "2         34                     0                     0   \n",
       "3         37                     0                     0   \n",
       "4         57                     0                     0   \n",
       "\n",
       "   Repayment_Status_March  Repayment_Status_April  ...  April_Bill_Amount  \\\n",
       "0                       0                       0  ...                0.0   \n",
       "1                       0                       0  ...             3272.0   \n",
       "2                       0                       0  ...            24332.0   \n",
       "3                       0                       0  ...            29324.0   \n",
       "4                       0                       0  ...            20940.0   \n",
       "\n",
       "   May_Bill_Amount  June_Bill_Amount  Previous_Payment_Jan  \\\n",
       "0              0.0               0.0                   0.0   \n",
       "1           3455.0            3261.0                   0.0   \n",
       "2          14848.0           15548.0                1619.0   \n",
       "3          28858.0           28547.0                3000.0   \n",
       "4          18146.0           18131.0                3000.0   \n",
       "\n",
       "   Previous_Payment_Feb  Previous_Payment_March  Previous_Payment_April  \\\n",
       "0                 679.0                     0.0                     0.0   \n",
       "1                2000.0                  1000.0                  1000.0   \n",
       "2                2500.0                  1000.0                  1000.0   \n",
       "3                2029.0                  1200.0                  1100.0   \n",
       "4               36672.0                 10000.0                  9000.0   \n",
       "\n",
       "   Previous_Payment_May  Previous_Payment_June  Default_Payment  \n",
       "0                   0.0                    0.0                1  \n",
       "1                   0.0                 2000.0                1  \n",
       "2                1000.0                 5000.0                0  \n",
       "3                1069.0                 1000.0                0  \n",
       "4                 689.0                  679.0                0  \n",
       "\n",
       "[5 rows x 25 columns]"
      ]
     },
     "execution_count": 2,
     "metadata": {},
     "output_type": "execute_result"
    }
   ],
   "source": [
    "df=pd.read_csv(r\"C:\\Users\\Anuja\\Music\\New folder\\BankCreditCard.csv\")\n",
    "df.head()"
   ]
  },
  {
   "cell_type": "code",
   "execution_count": 3,
   "id": "1d657009",
   "metadata": {},
   "outputs": [
    {
     "data": {
      "text/plain": [
       "(30000, 25)"
      ]
     },
     "execution_count": 3,
     "metadata": {},
     "output_type": "execute_result"
    }
   ],
   "source": [
    "df.shape"
   ]
  },
  {
   "cell_type": "code",
   "execution_count": 4,
   "id": "e7f7f003",
   "metadata": {},
   "outputs": [
    {
     "data": {
      "text/plain": [
       "Customer ID               0\n",
       "Credit_Amount             0\n",
       "Gender                    0\n",
       "Academic_Qualification    0\n",
       "Marital                   0\n",
       "Age_Years                 0\n",
       "Repayment_Status_Jan      0\n",
       "Repayment_Status_Feb      0\n",
       "Repayment_Status_March    0\n",
       "Repayment_Status_April    0\n",
       "Repayment_Status_May      0\n",
       "Repayment_Status_June     0\n",
       "Jan_Bill_Amount           0\n",
       "Feb_Bill_Amount           0\n",
       "March_Bill_Amount         0\n",
       "April_Bill_Amount         0\n",
       "May_Bill_Amount           0\n",
       "June_Bill_Amount          0\n",
       "Previous_Payment_Jan      0\n",
       "Previous_Payment_Feb      0\n",
       "Previous_Payment_March    0\n",
       "Previous_Payment_April    0\n",
       "Previous_Payment_May      0\n",
       "Previous_Payment_June     0\n",
       "Default_Payment           0\n",
       "dtype: int64"
      ]
     },
     "execution_count": 4,
     "metadata": {},
     "output_type": "execute_result"
    }
   ],
   "source": [
    "df.isnull().sum()"
   ]
  },
  {
   "cell_type": "code",
   "execution_count": 5,
   "id": "fdfc3f7c",
   "metadata": {},
   "outputs": [],
   "source": [
    "df.drop(\"Customer ID\",inplace=True,axis=1)"
   ]
  },
  {
   "cell_type": "code",
   "execution_count": 6,
   "id": "ddd1c058",
   "metadata": {},
   "outputs": [
    {
     "data": {
      "text/plain": [
       "Credit_Amount             float64\n",
       "Gender                      int64\n",
       "Academic_Qualification      int64\n",
       "Marital                     int64\n",
       "Age_Years                   int64\n",
       "Repayment_Status_Jan        int64\n",
       "Repayment_Status_Feb        int64\n",
       "Repayment_Status_March      int64\n",
       "Repayment_Status_April      int64\n",
       "Repayment_Status_May        int64\n",
       "Repayment_Status_June       int64\n",
       "Jan_Bill_Amount           float64\n",
       "Feb_Bill_Amount           float64\n",
       "March_Bill_Amount         float64\n",
       "April_Bill_Amount         float64\n",
       "May_Bill_Amount           float64\n",
       "June_Bill_Amount          float64\n",
       "Previous_Payment_Jan      float64\n",
       "Previous_Payment_Feb      float64\n",
       "Previous_Payment_March    float64\n",
       "Previous_Payment_April    float64\n",
       "Previous_Payment_May      float64\n",
       "Previous_Payment_June     float64\n",
       "Default_Payment             int64\n",
       "dtype: object"
      ]
     },
     "execution_count": 6,
     "metadata": {},
     "output_type": "execute_result"
    }
   ],
   "source": [
    "df.dtypes"
   ]
  },
  {
   "cell_type": "raw",
   "id": "778a9d9d",
   "metadata": {},
   "source": [
    "corr1 = df.corr()\n",
    "corr1"
   ]
  },
  {
   "cell_type": "raw",
   "id": "015f35cc",
   "metadata": {},
   "source": [
    "plt.figure(figsize=(20,10))\n",
    "heatmap=sns.heatmap(corr1,linewidth=0,annot=True,cmap=plt.cm.Blues)\n",
    "plt.title(\"Heatmap using seaborn\")\n",
    "plt.show()"
   ]
  },
  {
   "cell_type": "code",
   "execution_count": 7,
   "id": "402e8fe8",
   "metadata": {},
   "outputs": [
    {
     "data": {
      "text/plain": [
       "<Axes: >"
      ]
     },
     "execution_count": 7,
     "metadata": {},
     "output_type": "execute_result"
    },
    {
     "data": {
      "image/png": "[encoded data removed]",
      "text/plain": [
       "<Figure size 3000x1000 with 1 Axes>"
      ]
     },
     "metadata": {},
     "output_type": "display_data"
    }
   ],
   "source": [
    "df.boxplot(figsize=(30,10))"
   ]
  },
  {
   "cell_type": "code",
   "execution_count": 8,
   "id": "07a94097",
   "metadata": {},
   "outputs": [
    {
     "data": {
      "text/plain": [
       "<Axes: ylabel='Credit_Amount'>"
      ]
     },
     "execution_count": 8,
     "metadata": {},
     "output_type": "execute_result"
    }
   ],
   "source": [
    "fig=plt.figure(figsize=(5,5))\n",
    "sns.boxplot(data=df,y=\"Credit_Amount\")"
   ]
  },
  {
   "cell_type": "code",
   "execution_count": 9,
   "id": "bd8a9685",
   "metadata": {},
   "outputs": [
    {
     "name": "stderr",
     "output_type": "stream",
     "text": [
      "C:\\Users\\Anuja\\AppData\\Local\\Temp\\ipykernel_11104\\514162791.py:1: UserWarning: \n",
      "\n",
      "`distplot` is a deprecated function and will be removed in seaborn v0.14.0.\n",
      "\n",
      "Please adapt your code to use either `displot` (a figure-level function with\n",
      "similar flexibility) or `histplot` (an axes-level function for histograms).\n",
      "\n",
      "For a guide to updating your code to use the new functions, please see\n",
      "https://gist.github.com/mwaskom/de44147ed2974457ad6372750bbe5751\n",
      "\n",
      "  sns.distplot(df.Credit_Amount)\n"
     ]
    },
    {
     "data": {
      "text/plain": [
       "<Axes: xlabel='Credit_Amount', ylabel='Credit_Amount'>"
      ]
     },
     "execution_count": 9,
     "metadata": {},
     "output_type": "execute_result"
    }
   ],
   "source": [
    "sns.distplot(df.Credit_Amount)"
   ]
  },
  {
   "cell_type": "code",
   "execution_count": 10,
   "id": "2755e1d8",
   "metadata": {},
   "outputs": [
    {
     "data": {
      "text/plain": [
       "count    3.000000e+04\n",
       "mean     1.929173e+05\n",
       "std      1.322888e+05\n",
       "min      2.000000e+04\n",
       "25%      5.000000e+04\n",
       "50%      2.200000e+05\n",
       "75%      2.700000e+05\n",
       "max      2.000000e+06\n",
       "Name: Credit_Amount, dtype: float64"
      ]
     },
     "execution_count": 10,
     "metadata": {},
     "output_type": "execute_result"
    }
   ],
   "source": [
    "df.Credit_Amount.describe()"
   ]
  },
  {
   "cell_type": "code",
   "execution_count": 11,
   "id": "c12ea014",
   "metadata": {},
   "outputs": [
    {
     "data": {
      "text/plain": [
       "220000.0"
      ]
     },
     "execution_count": 11,
     "metadata": {},
     "output_type": "execute_result"
    }
   ],
   "source": [
    "IQR1=df.Credit_Amount.quantile(0.75)-df.Credit_Amount.quantile(0.25)\n",
    "IQR1"
   ]
  },
  {
   "cell_type": "code",
   "execution_count": 12,
   "id": "c457eb84",
   "metadata": {},
   "outputs": [
    {
     "name": "stdout",
     "output_type": "stream",
     "text": [
      "930000.0 -610000.0\n"
     ]
    }
   ],
   "source": [
    "ub1=df.Credit_Amount.quantile(0.75)+3*IQR1\n",
    "lb1=df.Credit_Amount.quantile(0.25)-3*IQR1\n",
    "print(ub1,lb1)"
   ]
  },
  {
   "cell_type": "code",
   "execution_count": 13,
   "id": "4b098cea",
   "metadata": {},
   "outputs": [],
   "source": [
    "df.loc[df[\"Credit_Amount\"]>930000,\"Credit_Amount\"]=930000"
   ]
  },
  {
   "cell_type": "code",
   "execution_count": 14,
   "id": "91a56d9a",
   "metadata": {},
   "outputs": [
    {
     "name": "stderr",
     "output_type": "stream",
     "text": [
      "C:\\Users\\Anuja\\AppData\\Local\\Temp\\ipykernel_11104\\4141773253.py:1: UserWarning: \n",
      "\n",
      "`distplot` is a deprecated function and will be removed in seaborn v0.14.0.\n",
      "\n",
      "Please adapt your code to use either `displot` (a figure-level function with\n",
      "similar flexibility) or `histplot` (an axes-level function for histograms).\n",
      "\n",
      "For a guide to updating your code to use the new functions, please see\n",
      "https://gist.github.com/mwaskom/de44147ed2974457ad6372750bbe5751\n",
      "\n",
      "  sns.distplot(df.Credit_Amount)\n"
     ]
    },
    {
     "data": {
      "text/plain": [
       "<Axes: xlabel='Credit_Amount', ylabel='Credit_Amount'>"
      ]
     },
     "execution_count": 14,
     "metadata": {},
     "output_type": "execute_result"
    }
   ],
   "source": [
    "sns.distplot(df.Credit_Amount) "
   ]
  },
  {
   "cell_type": "code",
   "execution_count": 15,
   "id": "92c62a18",
   "metadata": {},
   "outputs": [
    {
     "data": {
      "text/plain": [
       "Credit_Amount              0.440916\n",
       "Gender                    -0.424183\n",
       "Academic_Qualification     1.017944\n",
       "Marital                   -0.018742\n",
       "Age_Years                  0.732246\n",
       "Repayment_Status_Jan       2.485379\n",
       "Repayment_Status_Feb       2.488460\n",
       "Repayment_Status_March     2.684191\n",
       "Repayment_Status_April     3.213051\n",
       "Repayment_Status_May       3.589727\n",
       "Repayment_Status_June      3.495517\n",
       "Jan_Bill_Amount            1.768960\n",
       "Feb_Bill_Amount            2.771193\n",
       "March_Bill_Amount          2.788757\n",
       "April_Bill_Amount          2.131962\n",
       "May_Bill_Amount            2.879272\n",
       "June_Bill_Amount           2.840817\n",
       "Previous_Payment_Jan      15.279685\n",
       "Previous_Payment_Feb      41.802935\n",
       "Previous_Payment_March    19.012134\n",
       "Previous_Payment_April    13.299057\n",
       "Previous_Payment_May      12.231259\n",
       "Previous_Payment_June     10.640727\n",
       "Default_Payment            1.343504\n",
       "dtype: float64"
      ]
     },
     "execution_count": 15,
     "metadata": {},
     "output_type": "execute_result"
    }
   ],
   "source": [
    "df.skew()"
   ]
  },
  {
   "cell_type": "code",
   "execution_count": 16,
   "id": "818d561f",
   "metadata": {},
   "outputs": [
    {
     "data": {
      "text/plain": [
       "2    18112\n",
       "1    11888\n",
       "Name: Gender, dtype: int64"
      ]
     },
     "execution_count": 16,
     "metadata": {},
     "output_type": "execute_result"
    }
   ],
   "source": [
    "df.Gender.value_counts()"
   ]
  },
  {
   "cell_type": "code",
   "execution_count": 17,
   "id": "0863299b",
   "metadata": {},
   "outputs": [
    {
     "data": {
      "text/html": [
       "<div>\n",
       "<style scoped>\n",
       "    .dataframe tbody tr th:only-of-type {\n",
       "        vertical-align: middle;\n",
       "    }\n",
       "\n",
       "    .dataframe tbody tr th {\n",
       "        vertical-align: top;\n",
       "    }\n",
       "\n",
       "    .dataframe thead th {\n",
       "        text-align: right;\n",
       "    }\n",
       "</style>\n",
       "<table border=\"1\" class=\"dataframe\">\n",
       "  <thead>\n",
       "    <tr style=\"text-align: right;\">\n",
       "      <th></th>\n",
       "      <th>Credit_Amount</th>\n",
       "      <th>Gender</th>\n",
       "      <th>Academic_Qualification</th>\n",
       "      <th>Marital</th>\n",
       "      <th>Age_Years</th>\n",
       "      <th>Repayment_Status_Jan</th>\n",
       "      <th>Repayment_Status_Feb</th>\n",
       "      <th>Repayment_Status_March</th>\n",
       "      <th>Repayment_Status_April</th>\n",
       "      <th>Repayment_Status_May</th>\n",
       "      <th>...</th>\n",
       "      <th>April_Bill_Amount</th>\n",
       "      <th>May_Bill_Amount</th>\n",
       "      <th>June_Bill_Amount</th>\n",
       "      <th>Previous_Payment_Jan</th>\n",
       "      <th>Previous_Payment_Feb</th>\n",
       "      <th>Previous_Payment_March</th>\n",
       "      <th>Previous_Payment_April</th>\n",
       "      <th>Previous_Payment_May</th>\n",
       "      <th>Previous_Payment_June</th>\n",
       "      <th>Default_Payment</th>\n",
       "    </tr>\n",
       "  </thead>\n",
       "  <tbody>\n",
       "    <tr>\n",
       "      <th>0</th>\n",
       "      <td>20000.0</td>\n",
       "      <td>2</td>\n",
       "      <td>2</td>\n",
       "      <td>1</td>\n",
       "      <td>24</td>\n",
       "      <td>2</td>\n",
       "      <td>2</td>\n",
       "      <td>0</td>\n",
       "      <td>0</td>\n",
       "      <td>0</td>\n",
       "      <td>...</td>\n",
       "      <td>0.0</td>\n",
       "      <td>0.0</td>\n",
       "      <td>0.0</td>\n",
       "      <td>0.0</td>\n",
       "      <td>679.0</td>\n",
       "      <td>0.0</td>\n",
       "      <td>0.0</td>\n",
       "      <td>0.0</td>\n",
       "      <td>0.0</td>\n",
       "      <td>1</td>\n",
       "    </tr>\n",
       "    <tr>\n",
       "      <th>1</th>\n",
       "      <td>220000.0</td>\n",
       "      <td>2</td>\n",
       "      <td>2</td>\n",
       "      <td>2</td>\n",
       "      <td>26</td>\n",
       "      <td>0</td>\n",
       "      <td>2</td>\n",
       "      <td>0</td>\n",
       "      <td>0</td>\n",
       "      <td>0</td>\n",
       "      <td>...</td>\n",
       "      <td>3272.0</td>\n",
       "      <td>3455.0</td>\n",
       "      <td>3261.0</td>\n",
       "      <td>0.0</td>\n",
       "      <td>2000.0</td>\n",
       "      <td>1000.0</td>\n",
       "      <td>1000.0</td>\n",
       "      <td>0.0</td>\n",
       "      <td>2000.0</td>\n",
       "      <td>1</td>\n",
       "    </tr>\n",
       "    <tr>\n",
       "      <th>2</th>\n",
       "      <td>90000.0</td>\n",
       "      <td>2</td>\n",
       "      <td>2</td>\n",
       "      <td>2</td>\n",
       "      <td>34</td>\n",
       "      <td>0</td>\n",
       "      <td>0</td>\n",
       "      <td>0</td>\n",
       "      <td>0</td>\n",
       "      <td>0</td>\n",
       "      <td>...</td>\n",
       "      <td>24332.0</td>\n",
       "      <td>14848.0</td>\n",
       "      <td>15548.0</td>\n",
       "      <td>1619.0</td>\n",
       "      <td>2500.0</td>\n",
       "      <td>1000.0</td>\n",
       "      <td>1000.0</td>\n",
       "      <td>1000.0</td>\n",
       "      <td>5000.0</td>\n",
       "      <td>0</td>\n",
       "    </tr>\n",
       "    <tr>\n",
       "      <th>3</th>\n",
       "      <td>50000.0</td>\n",
       "      <td>2</td>\n",
       "      <td>2</td>\n",
       "      <td>1</td>\n",
       "      <td>37</td>\n",
       "      <td>0</td>\n",
       "      <td>0</td>\n",
       "      <td>0</td>\n",
       "      <td>0</td>\n",
       "      <td>0</td>\n",
       "      <td>...</td>\n",
       "      <td>29324.0</td>\n",
       "      <td>28858.0</td>\n",
       "      <td>28547.0</td>\n",
       "      <td>3000.0</td>\n",
       "      <td>2029.0</td>\n",
       "      <td>1200.0</td>\n",
       "      <td>1100.0</td>\n",
       "      <td>1069.0</td>\n",
       "      <td>1000.0</td>\n",
       "      <td>0</td>\n",
       "    </tr>\n",
       "    <tr>\n",
       "      <th>4</th>\n",
       "      <td>50000.0</td>\n",
       "      <td>1</td>\n",
       "      <td>2</td>\n",
       "      <td>1</td>\n",
       "      <td>57</td>\n",
       "      <td>0</td>\n",
       "      <td>0</td>\n",
       "      <td>0</td>\n",
       "      <td>0</td>\n",
       "      <td>0</td>\n",
       "      <td>...</td>\n",
       "      <td>20940.0</td>\n",
       "      <td>18146.0</td>\n",
       "      <td>18131.0</td>\n",
       "      <td>3000.0</td>\n",
       "      <td>36672.0</td>\n",
       "      <td>10000.0</td>\n",
       "      <td>9000.0</td>\n",
       "      <td>689.0</td>\n",
       "      <td>679.0</td>\n",
       "      <td>0</td>\n",
       "    </tr>\n",
       "  </tbody>\n",
       "</table>\n",
       "<p>5 rows × 24 columns</p>\n",
       "</div>"
      ],
      "text/plain": [
       "   Credit_Amount  Gender  Academic_Qualification  Marital  Age_Years  \\\n",
       "0        20000.0       2                       2        1         24   \n",
       "1       220000.0       2                       2        2         26   \n",
       "2        90000.0       2                       2        2         34   \n",
       "3        50000.0       2                       2        1         37   \n",
       "4        50000.0       1                       2        1         57   \n",
       "\n",
       "   Repayment_Status_Jan  Repayment_Status_Feb  Repayment_Status_March  \\\n",
       "0                     2                     2                       0   \n",
       "1                     0                     2                       0   \n",
       "2                     0                     0                       0   \n",
       "3                     0                     0                       0   \n",
       "4                     0                     0                       0   \n",
       "\n",
       "   Repayment_Status_April  Repayment_Status_May  ...  April_Bill_Amount  \\\n",
       "0                       0                     0  ...                0.0   \n",
       "1                       0                     0  ...             3272.0   \n",
       "2                       0                     0  ...            24332.0   \n",
       "3                       0                     0  ...            29324.0   \n",
       "4                       0                     0  ...            20940.0   \n",
       "\n",
       "   May_Bill_Amount  June_Bill_Amount  Previous_Payment_Jan  \\\n",
       "0              0.0               0.0                   0.0   \n",
       "1           3455.0            3261.0                   0.0   \n",
       "2          14848.0           15548.0                1619.0   \n",
       "3          28858.0           28547.0                3000.0   \n",
       "4          18146.0           18131.0                3000.0   \n",
       "\n",
       "   Previous_Payment_Feb  Previous_Payment_March  Previous_Payment_April  \\\n",
       "0                 679.0                     0.0                     0.0   \n",
       "1                2000.0                  1000.0                  1000.0   \n",
       "2                2500.0                  1000.0                  1000.0   \n",
       "3                2029.0                  1200.0                  1100.0   \n",
       "4               36672.0                 10000.0                  9000.0   \n",
       "\n",
       "   Previous_Payment_May  Previous_Payment_June  Default_Payment  \n",
       "0                   0.0                    0.0                1  \n",
       "1                   0.0                 2000.0                1  \n",
       "2                1000.0                 5000.0                0  \n",
       "3                1069.0                 1000.0                0  \n",
       "4                 689.0                  679.0                0  \n",
       "\n",
       "[5 rows x 24 columns]"
      ]
     },
     "execution_count": 17,
     "metadata": {},
     "output_type": "execute_result"
    }
   ],
   "source": [
    "df.head()"
   ]
  },
  {
   "cell_type": "code",
   "execution_count": 18,
   "id": "a3ed9ef3",
   "metadata": {},
   "outputs": [
    {
     "data": {
      "text/plain": [
       "<Axes: xlabel='Credit_Amount', ylabel='Age_Years'>"
      ]
     },
     "execution_count": 18,
     "metadata": {},
     "output_type": "execute_result"
    }
   ],
   "source": [
    "sns.boxplot(data=df,y=\"Age_Years\")"
   ]
  },
  {
   "cell_type": "code",
   "execution_count": 19,
   "id": "4b180f4e",
   "metadata": {},
   "outputs": [
    {
     "name": "stderr",
     "output_type": "stream",
     "text": [
      "C:\\Users\\Anuja\\AppData\\Local\\Temp\\ipykernel_11104\\3252656287.py:1: UserWarning: \n",
      "\n",
      "`distplot` is a deprecated function and will be removed in seaborn v0.14.0.\n",
      "\n",
      "Please adapt your code to use either `displot` (a figure-level function with\n",
      "similar flexibility) or `histplot` (an axes-level function for histograms).\n",
      "\n",
      "For a guide to updating your code to use the new functions, please see\n",
      "https://gist.github.com/mwaskom/de44147ed2974457ad6372750bbe5751\n",
      "\n",
      "  sns.distplot(df.Age_Years)\n"
     ]
    },
    {
     "data": {
      "text/plain": [
       "<Axes: xlabel='Age_Years', ylabel='Age_Years'>"
      ]
     },
     "execution_count": 19,
     "metadata": {},
     "output_type": "execute_result"
    }
   ],
   "source": [
    "sns.distplot(df.Age_Years) "
   ]
  },
  {
   "cell_type": "code",
   "execution_count": 20,
   "id": "4830f39d",
   "metadata": {},
   "outputs": [
    {
     "data": {
      "text/plain": [
       "count    30000.000000\n",
       "mean        35.485500\n",
       "std          9.217904\n",
       "min         21.000000\n",
       "25%         28.000000\n",
       "50%         34.000000\n",
       "75%         41.000000\n",
       "max         79.000000\n",
       "Name: Age_Years, dtype: float64"
      ]
     },
     "execution_count": 20,
     "metadata": {},
     "output_type": "execute_result"
    }
   ],
   "source": [
    "df.Age_Years.describe()"
   ]
  },
  {
   "cell_type": "code",
   "execution_count": 21,
   "id": "c972440a",
   "metadata": {},
   "outputs": [
    {
     "data": {
      "text/plain": [
       "13.0"
      ]
     },
     "execution_count": 21,
     "metadata": {},
     "output_type": "execute_result"
    }
   ],
   "source": [
    "IQR2=df.Age_Years.quantile(0.75)-df.Age_Years.quantile(0.25)\n",
    "IQR2"
   ]
  },
  {
   "cell_type": "code",
   "execution_count": 22,
   "id": "3702901f",
   "metadata": {},
   "outputs": [
    {
     "name": "stdout",
     "output_type": "stream",
     "text": [
      "80.0 -11.0\n"
     ]
    }
   ],
   "source": [
    "ub2=df.Age_Years.quantile(0.75)+3*IQR2\n",
    "lb2=df.Age_Years.quantile(0.25)-3*IQR2\n",
    "print(ub2,lb2)"
   ]
  },
  {
   "cell_type": "code",
   "execution_count": 23,
   "id": "7bb61fa1",
   "metadata": {},
   "outputs": [],
   "source": [
    "df.loc[df[\"Age_Years\"]>80,\"Age_Years\"]=80"
   ]
  },
  {
   "cell_type": "code",
   "execution_count": 24,
   "id": "df0ed78b",
   "metadata": {},
   "outputs": [
    {
     "data": {
      "text/plain": [
       "0.7322458687830562"
      ]
     },
     "execution_count": 24,
     "metadata": {},
     "output_type": "execute_result"
    }
   ],
   "source": [
    "df.Age_Years.skew()"
   ]
  },
  {
   "cell_type": "code",
   "execution_count": 25,
   "id": "70590e2c",
   "metadata": {},
   "outputs": [
    {
     "name": "stderr",
     "output_type": "stream",
     "text": [
      "C:\\Users\\Anuja\\AppData\\Local\\Temp\\ipykernel_11104\\3252656287.py:1: UserWarning: \n",
      "\n",
      "`distplot` is a deprecated function and will be removed in seaborn v0.14.0.\n",
      "\n",
      "Please adapt your code to use either `displot` (a figure-level function with\n",
      "similar flexibility) or `histplot` (an axes-level function for histograms).\n",
      "\n",
      "For a guide to updating your code to use the new functions, please see\n",
      "https://gist.github.com/mwaskom/de44147ed2974457ad6372750bbe5751\n",
      "\n",
      "  sns.distplot(df.Age_Years)\n"
     ]
    },
    {
     "data": {
      "text/plain": [
       "<Axes: xlabel='Age_Years', ylabel='Age_Years'>"
      ]
     },
     "execution_count": 25,
     "metadata": {},
     "output_type": "execute_result"
    }
   ],
   "source": [
    "sns.distplot(df.Age_Years) "
   ]
  },
  {
   "cell_type": "code",
   "execution_count": 26,
   "id": "e33b3ccd",
   "metadata": {},
   "outputs": [
    {
     "data": {
      "text/plain": [
       " 0.0         2008\n",
       " 390.0        250\n",
       " 336.0        141\n",
       " 780.0         76\n",
       " 3333.0        68\n",
       "             ... \n",
       " 309636.0       1\n",
       " 43034.0        1\n",
       " 353398.0       1\n",
       " 305930.0       1\n",
       "-3645.0         1\n",
       "Name: Jan_Bill_Amount, Length: 14575, dtype: int64"
      ]
     },
     "execution_count": 26,
     "metadata": {},
     "output_type": "execute_result"
    }
   ],
   "source": [
    "df[\"Jan_Bill_Amount\"].value_counts()"
   ]
  },
  {
   "cell_type": "code",
   "execution_count": 27,
   "id": "c66dbfef",
   "metadata": {},
   "outputs": [
    {
     "data": {
      "text/plain": [
       "Index(['Credit_Amount', 'Gender', 'Academic_Qualification', 'Marital',\n",
       "       'Age_Years', 'Repayment_Status_Jan', 'Repayment_Status_Feb',\n",
       "       'Repayment_Status_March', 'Repayment_Status_April',\n",
       "       'Repayment_Status_May', 'Repayment_Status_June', 'Jan_Bill_Amount',\n",
       "       'Feb_Bill_Amount', 'March_Bill_Amount', 'April_Bill_Amount',\n",
       "       'May_Bill_Amount', 'June_Bill_Amount', 'Previous_Payment_Jan',\n",
       "       'Previous_Payment_Feb', 'Previous_Payment_March',\n",
       "       'Previous_Payment_April', 'Previous_Payment_May',\n",
       "       'Previous_Payment_June', 'Default_Payment'],\n",
       "      dtype='object')"
      ]
     },
     "execution_count": 27,
     "metadata": {},
     "output_type": "execute_result"
    }
   ],
   "source": [
    "df.columns"
   ]
  },
  {
   "cell_type": "code",
   "execution_count": 28,
   "id": "39af552e",
   "metadata": {},
   "outputs": [
    {
     "data": {
      "text/plain": [
       "1.7689599311889825"
      ]
     },
     "execution_count": 28,
     "metadata": {},
     "output_type": "execute_result"
    }
   ],
   "source": [
    "df.Jan_Bill_Amount.skew()"
   ]
  },
  {
   "cell_type": "code",
   "execution_count": 29,
   "id": "569fd6f0",
   "metadata": {},
   "outputs": [
    {
     "data": {
      "text/plain": [
       "<Axes: xlabel='Age_Years', ylabel='Jan_Bill_Amount'>"
      ]
     },
     "execution_count": 29,
     "metadata": {},
     "output_type": "execute_result"
    }
   ],
   "source": [
    "sns.boxplot(data=df,y=\"Jan_Bill_Amount\")"
   ]
  },
  {
   "cell_type": "code",
   "execution_count": 30,
   "id": "31ce5d4a",
   "metadata": {},
   "outputs": [
    {
     "name": "stderr",
     "output_type": "stream",
     "text": [
      "C:\\Users\\Anuja\\AppData\\Local\\Temp\\ipykernel_11104\\1390342986.py:1: UserWarning: \n",
      "\n",
      "`distplot` is a deprecated function and will be removed in seaborn v0.14.0.\n",
      "\n",
      "Please adapt your code to use either `displot` (a figure-level function with\n",
      "similar flexibility) or `histplot` (an axes-level function for histograms).\n",
      "\n",
      "For a guide to updating your code to use the new functions, please see\n",
      "https://gist.github.com/mwaskom/de44147ed2974457ad6372750bbe5751\n",
      "\n",
      "  sns.distplot(df.Jan_Bill_Amount)\n"
     ]
    },
    {
     "data": {
      "text/plain": [
       "<Axes: xlabel='Jan_Bill_Amount', ylabel='Jan_Bill_Amount'>"
      ]
     },
     "execution_count": 30,
     "metadata": {},
     "output_type": "execute_result"
    }
   ],
   "source": [
    "sns.distplot(df.Jan_Bill_Amount) "
   ]
  },
  {
   "cell_type": "code",
   "execution_count": 31,
   "id": "b1614189",
   "metadata": {},
   "outputs": [
    {
     "data": {
      "text/plain": [
       "count     30000.000000\n",
       "mean      81581.060100\n",
       "std      123026.372701\n",
       "min     -365580.000000\n",
       "25%        3890.000000\n",
       "50%       35661.500000\n",
       "75%       67091.000000\n",
       "max      964533.000000\n",
       "Name: Jan_Bill_Amount, dtype: float64"
      ]
     },
     "execution_count": 31,
     "metadata": {},
     "output_type": "execute_result"
    }
   ],
   "source": [
    "df.Jan_Bill_Amount.describe()"
   ]
  },
  {
   "cell_type": "code",
   "execution_count": 32,
   "id": "481def3b",
   "metadata": {},
   "outputs": [
    {
     "data": {
      "text/plain": [
       "63201.0"
      ]
     },
     "execution_count": 32,
     "metadata": {},
     "output_type": "execute_result"
    }
   ],
   "source": [
    "IQR3=df.Jan_Bill_Amount.quantile(0.75)-df.Jan_Bill_Amount.quantile(0.25)\n",
    "IQR3"
   ]
  },
  {
   "cell_type": "code",
   "execution_count": 33,
   "id": "cbd0e9c2",
   "metadata": {},
   "outputs": [
    {
     "name": "stdout",
     "output_type": "stream",
     "text": [
      "256694.0 -185713.0\n"
     ]
    }
   ],
   "source": [
    "ub3=df.Jan_Bill_Amount.quantile(0.75)+3*IQR3\n",
    "lb3=df.Jan_Bill_Amount.quantile(0.25)-3*IQR3\n",
    "print(ub3,lb3)"
   ]
  },
  {
   "cell_type": "code",
   "execution_count": 34,
   "id": "894704ab",
   "metadata": {},
   "outputs": [],
   "source": [
    "df.loc[df[\"Jan_Bill_Amount\"]>256694,\"Jan_Bill_Amount\"]=256694\n",
    "df.loc[df[\"Jan_Bill_Amount\"]< -185713,\"Jan_Bill_Amount\"]=-185713"
   ]
  },
  {
   "cell_type": "code",
   "execution_count": 35,
   "id": "9fc021a3",
   "metadata": {},
   "outputs": [
    {
     "data": {
      "text/plain": [
       "1.5276391192968126"
      ]
     },
     "execution_count": 35,
     "metadata": {},
     "output_type": "execute_result"
    }
   ],
   "source": [
    "df.Jan_Bill_Amount.skew() # previous 1.768960"
   ]
  },
  {
   "cell_type": "code",
   "execution_count": 36,
   "id": "e781b8f3",
   "metadata": {},
   "outputs": [
    {
     "name": "stderr",
     "output_type": "stream",
     "text": [
      "C:\\Users\\Anuja\\AppData\\Local\\Temp\\ipykernel_11104\\1390342986.py:1: UserWarning: \n",
      "\n",
      "`distplot` is a deprecated function and will be removed in seaborn v0.14.0.\n",
      "\n",
      "Please adapt your code to use either `displot` (a figure-level function with\n",
      "similar flexibility) or `histplot` (an axes-level function for histograms).\n",
      "\n",
      "For a guide to updating your code to use the new functions, please see\n",
      "https://gist.github.com/mwaskom/de44147ed2974457ad6372750bbe5751\n",
      "\n",
      "  sns.distplot(df.Jan_Bill_Amount)\n"
     ]
    },
    {
     "data": {
      "text/plain": [
       "<Axes: xlabel='Jan_Bill_Amount', ylabel='Jan_Bill_Amount'>"
      ]
     },
     "execution_count": 36,
     "metadata": {},
     "output_type": "execute_result"
    }
   ],
   "source": [
    "sns.distplot(df.Jan_Bill_Amount) "
   ]
  },
  {
   "cell_type": "code",
   "execution_count": 37,
   "id": "11eec460",
   "metadata": {},
   "outputs": [],
   "source": [
    "## Feb_Bill_Amount"
   ]
  },
  {
   "cell_type": "code",
   "execution_count": 38,
   "id": "c4c3141d",
   "metadata": {},
   "outputs": [
    {
     "data": {
      "text/plain": [
       "2.771193123179417"
      ]
     },
     "execution_count": 38,
     "metadata": {},
     "output_type": "execute_result"
    }
   ],
   "source": [
    "df.Feb_Bill_Amount.skew()"
   ]
  },
  {
   "cell_type": "code",
   "execution_count": 39,
   "id": "bbe28786",
   "metadata": {},
   "outputs": [
    {
     "data": {
      "text/plain": [
       "<Axes: xlabel='Jan_Bill_Amount', ylabel='Feb_Bill_Amount'>"
      ]
     },
     "execution_count": 39,
     "metadata": {},
     "output_type": "execute_result"
    }
   ],
   "source": [
    "sns.boxplot(data=df,y=\"Feb_Bill_Amount\")"
   ]
  },
  {
   "cell_type": "code",
   "execution_count": 40,
   "id": "726cc61a",
   "metadata": {},
   "outputs": [
    {
     "name": "stderr",
     "output_type": "stream",
     "text": [
      "C:\\Users\\Anuja\\AppData\\Local\\Temp\\ipykernel_11104\\1367583833.py:1: UserWarning: \n",
      "\n",
      "`distplot` is a deprecated function and will be removed in seaborn v0.14.0.\n",
      "\n",
      "Please adapt your code to use either `displot` (a figure-level function with\n",
      "similar flexibility) or `histplot` (an axes-level function for histograms).\n",
      "\n",
      "For a guide to updating your code to use the new functions, please see\n",
      "https://gist.github.com/mwaskom/de44147ed2974457ad6372750bbe5751\n",
      "\n",
      "  sns.distplot(df.Feb_Bill_Amount)\n"
     ]
    },
    {
     "data": {
      "text/plain": [
       "<Axes: xlabel='Feb_Bill_Amount', ylabel='Feb_Bill_Amount'>"
      ]
     },
     "execution_count": 40,
     "metadata": {},
     "output_type": "execute_result"
    }
   ],
   "source": [
    "sns.distplot(df.Feb_Bill_Amount) "
   ]
  },
  {
   "cell_type": "code",
   "execution_count": 41,
   "id": "01b8dd5d",
   "metadata": {},
   "outputs": [
    {
     "data": {
      "text/plain": [
       "count     30000.000000\n",
       "mean      52517.103000\n",
       "std       80401.365192\n",
       "min      -58777.000000\n",
       "25%        3517.000000\n",
       "50%       30538.000000\n",
       "75%       57420.500000\n",
       "max      883831.000000\n",
       "Name: Feb_Bill_Amount, dtype: float64"
      ]
     },
     "execution_count": 41,
     "metadata": {},
     "output_type": "execute_result"
    }
   ],
   "source": [
    "df.Feb_Bill_Amount.describe()"
   ]
  },
  {
   "cell_type": "code",
   "execution_count": 42,
   "id": "094f1b1c",
   "metadata": {},
   "outputs": [
    {
     "data": {
      "text/plain": [
       "53903.5"
      ]
     },
     "execution_count": 42,
     "metadata": {},
     "output_type": "execute_result"
    }
   ],
   "source": [
    "IQR4=df.Feb_Bill_Amount.quantile(0.75)-df.Feb_Bill_Amount.quantile(0.25)\n",
    "IQR4"
   ]
  },
  {
   "cell_type": "code",
   "execution_count": 43,
   "id": "83097f1f",
   "metadata": {},
   "outputs": [
    {
     "name": "stdout",
     "output_type": "stream",
     "text": [
      "219131.0 -158193.5\n"
     ]
    }
   ],
   "source": [
    "ub4=df.Feb_Bill_Amount.quantile(0.75)+3*IQR4\n",
    "lb4=df.Feb_Bill_Amount.quantile(0.25)-3*IQR4\n",
    "print(ub4,lb4)"
   ]
  },
  {
   "cell_type": "code",
   "execution_count": 44,
   "id": "14c5eb1c",
   "metadata": {},
   "outputs": [],
   "source": [
    "df.loc[df[\"Feb_Bill_Amount\"]> 219131 ,\"Feb_Bill_Amount\"]= 219131\n",
    "#df.loc[df[\"Feb_Bill_Amount\"]< -185713,\"Feb_Bill_Amount\"]=-185713"
   ]
  },
  {
   "cell_type": "code",
   "execution_count": 45,
   "id": "2c952339",
   "metadata": {},
   "outputs": [
    {
     "data": {
      "text/plain": [
       "1.6325755389147192"
      ]
     },
     "execution_count": 45,
     "metadata": {},
     "output_type": "execute_result"
    }
   ],
   "source": [
    "df.Feb_Bill_Amount.skew() # previous 2.771193123179417"
   ]
  },
  {
   "cell_type": "code",
   "execution_count": 46,
   "id": "a7bc0694",
   "metadata": {},
   "outputs": [
    {
     "name": "stderr",
     "output_type": "stream",
     "text": [
      "C:\\Users\\Anuja\\AppData\\Local\\Temp\\ipykernel_11104\\1367583833.py:1: UserWarning: \n",
      "\n",
      "`distplot` is a deprecated function and will be removed in seaborn v0.14.0.\n",
      "\n",
      "Please adapt your code to use either `displot` (a figure-level function with\n",
      "similar flexibility) or `histplot` (an axes-level function for histograms).\n",
      "\n",
      "For a guide to updating your code to use the new functions, please see\n",
      "https://gist.github.com/mwaskom/de44147ed2974457ad6372750bbe5751\n",
      "\n",
      "  sns.distplot(df.Feb_Bill_Amount)\n"
     ]
    },
    {
     "data": {
      "text/plain": [
       "<Axes: xlabel='Feb_Bill_Amount', ylabel='Feb_Bill_Amount'>"
      ]
     },
     "execution_count": 46,
     "metadata": {},
     "output_type": "execute_result"
    }
   ],
   "source": [
    "sns.distplot(df.Feb_Bill_Amount) "
   ]
  },
  {
   "cell_type": "code",
   "execution_count": 47,
   "id": "6308a0d9",
   "metadata": {},
   "outputs": [],
   "source": [
    "## March_Bill_Amount"
   ]
  },
  {
   "cell_type": "code",
   "execution_count": 48,
   "id": "e1a1b0f2",
   "metadata": {},
   "outputs": [
    {
     "data": {
      "text/plain": [
       "2.788757040151285"
      ]
     },
     "execution_count": 48,
     "metadata": {},
     "output_type": "execute_result"
    }
   ],
   "source": [
    "df.March_Bill_Amount.skew()"
   ]
  },
  {
   "cell_type": "code",
   "execution_count": 49,
   "id": "ba819514",
   "metadata": {},
   "outputs": [
    {
     "data": {
      "text/plain": [
       "<Axes: xlabel='Feb_Bill_Amount', ylabel='March_Bill_Amount'>"
      ]
     },
     "execution_count": 49,
     "metadata": {},
     "output_type": "execute_result"
    }
   ],
   "source": [
    "sns.boxplot(data=df,y=\"March_Bill_Amount\")"
   ]
  },
  {
   "cell_type": "code",
   "execution_count": 50,
   "id": "07e94052",
   "metadata": {},
   "outputs": [
    {
     "name": "stderr",
     "output_type": "stream",
     "text": [
      "C:\\Users\\Anuja\\AppData\\Local\\Temp\\ipykernel_11104\\3936496415.py:1: UserWarning: \n",
      "\n",
      "`distplot` is a deprecated function and will be removed in seaborn v0.14.0.\n",
      "\n",
      "Please adapt your code to use either `displot` (a figure-level function with\n",
      "similar flexibility) or `histplot` (an axes-level function for histograms).\n",
      "\n",
      "For a guide to updating your code to use the new functions, please see\n",
      "https://gist.github.com/mwaskom/de44147ed2974457ad6372750bbe5751\n",
      "\n",
      "  sns.distplot(df.March_Bill_Amount)\n"
     ]
    },
    {
     "data": {
      "text/plain": [
       "<Axes: xlabel='March_Bill_Amount', ylabel='March_Bill_Amount'>"
      ]
     },
     "execution_count": 50,
     "metadata": {},
     "output_type": "execute_result"
    }
   ],
   "source": [
    "sns.distplot(df.March_Bill_Amount) "
   ]
  },
  {
   "cell_type": "code",
   "execution_count": 51,
   "id": "c1b54928",
   "metadata": {},
   "outputs": [
    {
     "data": {
      "text/plain": [
       "count    3.000000e+04\n",
       "mean     5.900389e+04\n",
       "std      8.841747e+04\n",
       "min     -2.572640e+05\n",
       "25%      2.876000e+03\n",
       "50%      2.656800e+04\n",
       "75%      6.025250e+04\n",
       "max      2.664089e+06\n",
       "Name: March_Bill_Amount, dtype: float64"
      ]
     },
     "execution_count": 51,
     "metadata": {},
     "output_type": "execute_result"
    }
   ],
   "source": [
    "df.March_Bill_Amount.describe()"
   ]
  },
  {
   "cell_type": "code",
   "execution_count": 52,
   "id": "88884090",
   "metadata": {},
   "outputs": [
    {
     "data": {
      "text/plain": [
       "57376.5"
      ]
     },
     "execution_count": 52,
     "metadata": {},
     "output_type": "execute_result"
    }
   ],
   "source": [
    "IQR5=df.March_Bill_Amount.quantile(0.75)-df.March_Bill_Amount.quantile(0.25)\n",
    "IQR5"
   ]
  },
  {
   "cell_type": "code",
   "execution_count": 53,
   "id": "d637228d",
   "metadata": {},
   "outputs": [
    {
     "name": "stdout",
     "output_type": "stream",
     "text": [
      "232382.0 -169253.5\n"
     ]
    }
   ],
   "source": [
    "ub5=df.March_Bill_Amount.quantile(0.75)+3*IQR5\n",
    "lb5=df.March_Bill_Amount.quantile(0.25)-3*IQR5\n",
    "print(ub5,lb5)"
   ]
  },
  {
   "cell_type": "code",
   "execution_count": 54,
   "id": "f4b2e087",
   "metadata": {},
   "outputs": [],
   "source": [
    "df.loc[df[\"March_Bill_Amount\"]> 232382 ,\"March_Bill_Amount\"]= 232382\n",
    "df.loc[df[\"Feb_Bill_Amount\"]< -169253,\"Feb_Bill_Amount\"]=-169253"
   ]
  },
  {
   "cell_type": "code",
   "execution_count": 55,
   "id": "beb4a6c1",
   "metadata": {},
   "outputs": [
    {
     "data": {
      "text/plain": [
       "1.624922033732645"
      ]
     },
     "execution_count": 55,
     "metadata": {},
     "output_type": "execute_result"
    }
   ],
   "source": [
    "df.March_Bill_Amount.skew() # previous 2.788757040151285"
   ]
  },
  {
   "cell_type": "code",
   "execution_count": 56,
   "id": "093babd0",
   "metadata": {},
   "outputs": [
    {
     "name": "stderr",
     "output_type": "stream",
     "text": [
      "C:\\Users\\Anuja\\AppData\\Local\\Temp\\ipykernel_11104\\3936496415.py:1: UserWarning: \n",
      "\n",
      "`distplot` is a deprecated function and will be removed in seaborn v0.14.0.\n",
      "\n",
      "Please adapt your code to use either `displot` (a figure-level function with\n",
      "similar flexibility) or `histplot` (an axes-level function for histograms).\n",
      "\n",
      "For a guide to updating your code to use the new functions, please see\n",
      "https://gist.github.com/mwaskom/de44147ed2974457ad6372750bbe5751\n",
      "\n",
      "  sns.distplot(df.March_Bill_Amount)\n"
     ]
    },
    {
     "data": {
      "text/plain": [
       "<Axes: xlabel='March_Bill_Amount', ylabel='March_Bill_Amount'>"
      ]
     },
     "execution_count": 56,
     "metadata": {},
     "output_type": "execute_result"
    }
   ],
   "source": [
    "sns.distplot(df.March_Bill_Amount) "
   ]
  },
  {
   "cell_type": "code",
   "execution_count": 57,
   "id": "a8d8a578",
   "metadata": {},
   "outputs": [],
   "source": [
    "## April_Bill_Amount"
   ]
  },
  {
   "cell_type": "code",
   "execution_count": 58,
   "id": "e7cc7693",
   "metadata": {},
   "outputs": [
    {
     "data": {
      "text/plain": [
       "2.131962363566112"
      ]
     },
     "execution_count": 58,
     "metadata": {},
     "output_type": "execute_result"
    }
   ],
   "source": [
    "df.April_Bill_Amount.skew()"
   ]
  },
  {
   "cell_type": "code",
   "execution_count": 59,
   "id": "a5dd91b0",
   "metadata": {},
   "outputs": [
    {
     "data": {
      "text/plain": [
       "<Axes: xlabel='March_Bill_Amount', ylabel='April_Bill_Amount'>"
      ]
     },
     "execution_count": 59,
     "metadata": {},
     "output_type": "execute_result"
    }
   ],
   "source": [
    "sns.boxplot(data=df,y=\"April_Bill_Amount\")"
   ]
  },
  {
   "cell_type": "code",
   "execution_count": 60,
   "id": "e7a27c3b",
   "metadata": {},
   "outputs": [
    {
     "name": "stderr",
     "output_type": "stream",
     "text": [
      "C:\\Users\\Anuja\\AppData\\Local\\Temp\\ipykernel_11104\\1806704962.py:1: UserWarning: \n",
      "\n",
      "`distplot` is a deprecated function and will be removed in seaborn v0.14.0.\n",
      "\n",
      "Please adapt your code to use either `displot` (a figure-level function with\n",
      "similar flexibility) or `histplot` (an axes-level function for histograms).\n",
      "\n",
      "For a guide to updating your code to use the new functions, please see\n",
      "https://gist.github.com/mwaskom/de44147ed2974457ad6372750bbe5751\n",
      "\n",
      "  sns.distplot(df.April_Bill_Amount)\n"
     ]
    },
    {
     "data": {
      "text/plain": [
       "<Axes: xlabel='April_Bill_Amount', ylabel='April_Bill_Amount'>"
      ]
     },
     "execution_count": 60,
     "metadata": {},
     "output_type": "execute_result"
    }
   ],
   "source": [
    "sns.distplot(df.April_Bill_Amount) "
   ]
  },
  {
   "cell_type": "code",
   "execution_count": 61,
   "id": "cc35d87b",
   "metadata": {},
   "outputs": [
    {
     "data": {
      "text/plain": [
       "count     30000.000000\n",
       "mean      55122.263933\n",
       "std       83577.329356\n",
       "min     -270000.000000\n",
       "25%        2671.500000\n",
       "50%       25629.000000\n",
       "75%       54508.500000\n",
       "max      992596.000000\n",
       "Name: April_Bill_Amount, dtype: float64"
      ]
     },
     "execution_count": 61,
     "metadata": {},
     "output_type": "execute_result"
    }
   ],
   "source": [
    "df.April_Bill_Amount.describe()"
   ]
  },
  {
   "cell_type": "code",
   "execution_count": 62,
   "id": "950e66e7",
   "metadata": {},
   "outputs": [
    {
     "data": {
      "text/plain": [
       "51837.0"
      ]
     },
     "execution_count": 62,
     "metadata": {},
     "output_type": "execute_result"
    }
   ],
   "source": [
    "IQR6=df.April_Bill_Amount.quantile(0.75)-df.April_Bill_Amount.quantile(0.25)\n",
    "IQR6"
   ]
  },
  {
   "cell_type": "code",
   "execution_count": 63,
   "id": "c0224095",
   "metadata": {},
   "outputs": [
    {
     "name": "stdout",
     "output_type": "stream",
     "text": [
      "210019.5 -152839.5\n"
     ]
    }
   ],
   "source": [
    "ub6=df.April_Bill_Amount.quantile(0.75)+3*IQR6\n",
    "lb6=df.April_Bill_Amount.quantile(0.25)-3*IQR6\n",
    "print(ub6,lb6)"
   ]
  },
  {
   "cell_type": "code",
   "execution_count": 64,
   "id": "2b1b002e",
   "metadata": {},
   "outputs": [],
   "source": [
    "df.loc[df[\"April_Bill_Amount\"]> 210019 ,\"April_Bill_Amount\"]= 210019\n",
    "df.loc[df[\"April_Bill_Amount\"]< -152839,\"April_Bill_Amount\"]= -152839"
   ]
  },
  {
   "cell_type": "code",
   "execution_count": 65,
   "id": "a22fa567",
   "metadata": {},
   "outputs": [
    {
     "data": {
      "text/plain": [
       "1.669497084141726"
      ]
     },
     "execution_count": 65,
     "metadata": {},
     "output_type": "execute_result"
    }
   ],
   "source": [
    "df.April_Bill_Amount.skew() # previous 2.131962363566112"
   ]
  },
  {
   "cell_type": "code",
   "execution_count": 66,
   "id": "7eff8c60",
   "metadata": {},
   "outputs": [
    {
     "name": "stderr",
     "output_type": "stream",
     "text": [
      "C:\\Users\\Anuja\\AppData\\Local\\Temp\\ipykernel_11104\\1806704962.py:1: UserWarning: \n",
      "\n",
      "`distplot` is a deprecated function and will be removed in seaborn v0.14.0.\n",
      "\n",
      "Please adapt your code to use either `displot` (a figure-level function with\n",
      "similar flexibility) or `histplot` (an axes-level function for histograms).\n",
      "\n",
      "For a guide to updating your code to use the new functions, please see\n",
      "https://gist.github.com/mwaskom/de44147ed2974457ad6372750bbe5751\n",
      "\n",
      "  sns.distplot(df.April_Bill_Amount)\n"
     ]
    },
    {
     "data": {
      "text/plain": [
       "<Axes: xlabel='April_Bill_Amount', ylabel='April_Bill_Amount'>"
      ]
     },
     "execution_count": 66,
     "metadata": {},
     "output_type": "execute_result"
    }
   ],
   "source": [
    "sns.distplot(df.April_Bill_Amount) "
   ]
  },
  {
   "cell_type": "code",
   "execution_count": 67,
   "id": "9d76112a",
   "metadata": {},
   "outputs": [],
   "source": [
    "## May_Bill_Amount"
   ]
  },
  {
   "cell_type": "code",
   "execution_count": 68,
   "id": "bc66c159",
   "metadata": {},
   "outputs": [
    {
     "data": {
      "text/plain": [
       "2.879271841650919"
      ]
     },
     "execution_count": 68,
     "metadata": {},
     "output_type": "execute_result"
    }
   ],
   "source": [
    "df.May_Bill_Amount.skew()"
   ]
  },
  {
   "cell_type": "code",
   "execution_count": 69,
   "id": "2a07041b",
   "metadata": {},
   "outputs": [
    {
     "data": {
      "text/plain": [
       "<Axes: xlabel='April_Bill_Amount', ylabel='May_Bill_Amount'>"
      ]
     },
     "execution_count": 69,
     "metadata": {},
     "output_type": "execute_result"
    }
   ],
   "source": [
    "sns.boxplot(data=df,y=\"May_Bill_Amount\")"
   ]
  },
  {
   "cell_type": "code",
   "execution_count": 70,
   "id": "496671c8",
   "metadata": {},
   "outputs": [
    {
     "name": "stderr",
     "output_type": "stream",
     "text": [
      "C:\\Users\\Anuja\\AppData\\Local\\Temp\\ipykernel_11104\\3596073799.py:1: UserWarning: \n",
      "\n",
      "`distplot` is a deprecated function and will be removed in seaborn v0.14.0.\n",
      "\n",
      "Please adapt your code to use either `displot` (a figure-level function with\n",
      "similar flexibility) or `histplot` (an axes-level function for histograms).\n",
      "\n",
      "For a guide to updating your code to use the new functions, please see\n",
      "https://gist.github.com/mwaskom/de44147ed2974457ad6372750bbe5751\n",
      "\n",
      "  sns.distplot(df.May_Bill_Amount)\n"
     ]
    },
    {
     "data": {
      "text/plain": [
       "<Axes: xlabel='May_Bill_Amount', ylabel='May_Bill_Amount'>"
      ]
     },
     "execution_count": 70,
     "metadata": {},
     "output_type": "execute_result"
    }
   ],
   "source": [
    "sns.distplot(df.May_Bill_Amount) "
   ]
  },
  {
   "cell_type": "code",
   "execution_count": 71,
   "id": "81d7fb75",
   "metadata": {},
   "outputs": [
    {
     "data": {
      "text/plain": [
       "count     30000.000000\n",
       "mean      39939.618800\n",
       "std       60373.934792\n",
       "min      -81334.000000\n",
       "25%        1763.000000\n",
       "50%       18043.000000\n",
       "75%       50190.500000\n",
       "max      827171.000000\n",
       "Name: May_Bill_Amount, dtype: float64"
      ]
     },
     "execution_count": 71,
     "metadata": {},
     "output_type": "execute_result"
    }
   ],
   "source": [
    "df.May_Bill_Amount.describe()"
   ]
  },
  {
   "cell_type": "code",
   "execution_count": 72,
   "id": "78e1873d",
   "metadata": {},
   "outputs": [
    {
     "data": {
      "text/plain": [
       "48427.5"
      ]
     },
     "execution_count": 72,
     "metadata": {},
     "output_type": "execute_result"
    }
   ],
   "source": [
    "IQR7=df.May_Bill_Amount.quantile(0.75)-df.May_Bill_Amount.quantile(0.25)\n",
    "IQR7"
   ]
  },
  {
   "cell_type": "code",
   "execution_count": 73,
   "id": "bc11ffd2",
   "metadata": {},
   "outputs": [
    {
     "name": "stdout",
     "output_type": "stream",
     "text": [
      "195473.0 -143519.5\n"
     ]
    }
   ],
   "source": [
    "ub7=df.May_Bill_Amount.quantile(0.75)+3*IQR7\n",
    "lb7=df.May_Bill_Amount.quantile(0.25)-3*IQR7\n",
    "print(ub7,lb7)"
   ]
  },
  {
   "cell_type": "code",
   "execution_count": 74,
   "id": "ca98a024",
   "metadata": {},
   "outputs": [],
   "source": [
    "df.loc[df[\"May_Bill_Amount\"]> 195473 ,\"May_Bill_Amount\"]= 195473\n",
    "df.loc[df[\"May_Bill_Amount\"]< -143519,\"May_Bill_Amount\"]= -143519"
   ]
  },
  {
   "cell_type": "code",
   "execution_count": 75,
   "id": "7a52d601",
   "metadata": {},
   "outputs": [
    {
     "data": {
      "text/plain": [
       "1.749920751074148"
      ]
     },
     "execution_count": 75,
     "metadata": {},
     "output_type": "execute_result"
    }
   ],
   "source": [
    "df.May_Bill_Amount.skew() # previous 2.879271841650919"
   ]
  },
  {
   "cell_type": "code",
   "execution_count": 76,
   "id": "0493eb21",
   "metadata": {},
   "outputs": [
    {
     "name": "stderr",
     "output_type": "stream",
     "text": [
      "C:\\Users\\Anuja\\AppData\\Local\\Temp\\ipykernel_11104\\3596073799.py:1: UserWarning: \n",
      "\n",
      "`distplot` is a deprecated function and will be removed in seaborn v0.14.0.\n",
      "\n",
      "Please adapt your code to use either `displot` (a figure-level function with\n",
      "similar flexibility) or `histplot` (an axes-level function for histograms).\n",
      "\n",
      "For a guide to updating your code to use the new functions, please see\n",
      "https://gist.github.com/mwaskom/de44147ed2974457ad6372750bbe5751\n",
      "\n",
      "  sns.distplot(df.May_Bill_Amount)\n"
     ]
    },
    {
     "data": {
      "text/plain": [
       "<Axes: xlabel='May_Bill_Amount', ylabel='May_Bill_Amount'>"
      ]
     },
     "execution_count": 76,
     "metadata": {},
     "output_type": "execute_result"
    }
   ],
   "source": [
    "sns.distplot(df.May_Bill_Amount) "
   ]
  },
  {
   "cell_type": "code",
   "execution_count": 77,
   "id": "d59386ad",
   "metadata": {},
   "outputs": [],
   "source": [
    "## May_Bill_Amount"
   ]
  },
  {
   "cell_type": "code",
   "execution_count": 78,
   "id": "cc86af65",
   "metadata": {},
   "outputs": [
    {
     "data": {
      "text/plain": [
       "2.8408170828663497"
      ]
     },
     "execution_count": 78,
     "metadata": {},
     "output_type": "execute_result"
    }
   ],
   "source": [
    "df.June_Bill_Amount.skew()"
   ]
  },
  {
   "cell_type": "code",
   "execution_count": 79,
   "id": "2d1f7e42",
   "metadata": {},
   "outputs": [
    {
     "data": {
      "text/plain": [
       "<Axes: xlabel='May_Bill_Amount', ylabel='June_Bill_Amount'>"
      ]
     },
     "execution_count": 79,
     "metadata": {},
     "output_type": "execute_result"
    }
   ],
   "source": [
    "sns.boxplot(data=df,y=\"June_Bill_Amount\")"
   ]
  },
  {
   "cell_type": "code",
   "execution_count": 80,
   "id": "278e75ef",
   "metadata": {},
   "outputs": [
    {
     "name": "stderr",
     "output_type": "stream",
     "text": [
      "C:\\Users\\Anuja\\AppData\\Local\\Temp\\ipykernel_11104\\3550070001.py:1: UserWarning: \n",
      "\n",
      "`distplot` is a deprecated function and will be removed in seaborn v0.14.0.\n",
      "\n",
      "Please adapt your code to use either `displot` (a figure-level function with\n",
      "similar flexibility) or `histplot` (an axes-level function for histograms).\n",
      "\n",
      "For a guide to updating your code to use the new functions, please see\n",
      "https://gist.github.com/mwaskom/de44147ed2974457ad6372750bbe5751\n",
      "\n",
      "  sns.distplot(df.June_Bill_Amount)\n"
     ]
    },
    {
     "data": {
      "text/plain": [
       "<Axes: xlabel='June_Bill_Amount', ylabel='June_Bill_Amount'>"
      ]
     },
     "execution_count": 80,
     "metadata": {},
     "output_type": "execute_result"
    }
   ],
   "source": [
    "sns.distplot(df.June_Bill_Amount) "
   ]
  },
  {
   "cell_type": "code",
   "execution_count": 81,
   "id": "83aae841",
   "metadata": {},
   "outputs": [
    {
     "data": {
      "text/plain": [
       "count     30000.000000\n",
       "mean      38506.051533\n",
       "std       59104.280171\n",
       "min     -338603.000000\n",
       "25%        1256.000000\n",
       "50%       17071.000000\n",
       "75%       48655.250000\n",
       "max      861664.000000\n",
       "Name: June_Bill_Amount, dtype: float64"
      ]
     },
     "execution_count": 81,
     "metadata": {},
     "output_type": "execute_result"
    }
   ],
   "source": [
    "df.June_Bill_Amount.describe()"
   ]
  },
  {
   "cell_type": "code",
   "execution_count": 82,
   "id": "178e505b",
   "metadata": {},
   "outputs": [
    {
     "data": {
      "text/plain": [
       "47399.25"
      ]
     },
     "execution_count": 82,
     "metadata": {},
     "output_type": "execute_result"
    }
   ],
   "source": [
    "IQR8=df.June_Bill_Amount.quantile(0.75)-df.June_Bill_Amount.quantile(0.25)\n",
    "IQR8"
   ]
  },
  {
   "cell_type": "code",
   "execution_count": 83,
   "id": "2af008b5",
   "metadata": {},
   "outputs": [
    {
     "name": "stdout",
     "output_type": "stream",
     "text": [
      "190853.0 -140941.75\n"
     ]
    }
   ],
   "source": [
    "ub8=df.June_Bill_Amount.quantile(0.75)+3*IQR8\n",
    "lb8=df.June_Bill_Amount.quantile(0.25)-3*IQR8\n",
    "print(ub8,lb8)"
   ]
  },
  {
   "cell_type": "code",
   "execution_count": 84,
   "id": "efbac60d",
   "metadata": {},
   "outputs": [],
   "source": [
    "df.loc[df[\"June_Bill_Amount\"]> 190853 ,\"June_Bill_Amount\"]= 190853\n",
    "df.loc[df[\"June_Bill_Amount\"]< -140941,\"June_Bill_Amount\"]= -140941"
   ]
  },
  {
   "cell_type": "code",
   "execution_count": 85,
   "id": "cd12d6ff",
   "metadata": {},
   "outputs": [
    {
     "data": {
      "text/plain": [
       "1.7490881436757975"
      ]
     },
     "execution_count": 85,
     "metadata": {},
     "output_type": "execute_result"
    }
   ],
   "source": [
    "df.June_Bill_Amount.skew() # previous 2.8408170828663497"
   ]
  },
  {
   "cell_type": "code",
   "execution_count": 86,
   "id": "e0eeccf2",
   "metadata": {},
   "outputs": [
    {
     "name": "stderr",
     "output_type": "stream",
     "text": [
      "C:\\Users\\Anuja\\AppData\\Local\\Temp\\ipykernel_11104\\3550070001.py:1: UserWarning: \n",
      "\n",
      "`distplot` is a deprecated function and will be removed in seaborn v0.14.0.\n",
      "\n",
      "Please adapt your code to use either `displot` (a figure-level function with\n",
      "similar flexibility) or `histplot` (an axes-level function for histograms).\n",
      "\n",
      "For a guide to updating your code to use the new functions, please see\n",
      "https://gist.github.com/mwaskom/de44147ed2974457ad6372750bbe5751\n",
      "\n",
      "  sns.distplot(df.June_Bill_Amount)\n"
     ]
    },
    {
     "data": {
      "text/plain": [
       "<Axes: xlabel='June_Bill_Amount', ylabel='June_Bill_Amount'>"
      ]
     },
     "execution_count": 86,
     "metadata": {},
     "output_type": "execute_result"
    }
   ],
   "source": [
    "sns.distplot(df.June_Bill_Amount) "
   ]
  },
  {
   "cell_type": "code",
   "execution_count": 87,
   "id": "5883fc98",
   "metadata": {},
   "outputs": [],
   "source": [
    "## Previous_Payment_Jan"
   ]
  },
  {
   "cell_type": "code",
   "execution_count": 88,
   "id": "fd3a86b3",
   "metadata": {},
   "outputs": [
    {
     "data": {
      "text/plain": [
       "15.279685497436736"
      ]
     },
     "execution_count": 88,
     "metadata": {},
     "output_type": "execute_result"
    }
   ],
   "source": [
    "df.Previous_Payment_Jan.skew()"
   ]
  },
  {
   "cell_type": "code",
   "execution_count": 89,
   "id": "c85749a2",
   "metadata": {},
   "outputs": [
    {
     "data": {
      "text/plain": [
       "<Axes: xlabel='June_Bill_Amount', ylabel='Previous_Payment_Jan'>"
      ]
     },
     "execution_count": 89,
     "metadata": {},
     "output_type": "execute_result"
    }
   ],
   "source": [
    "sns.boxplot(data=df,y=\"Previous_Payment_Jan\")"
   ]
  },
  {
   "cell_type": "code",
   "execution_count": 90,
   "id": "91fa486b",
   "metadata": {},
   "outputs": [
    {
     "name": "stderr",
     "output_type": "stream",
     "text": [
      "C:\\Users\\Anuja\\AppData\\Local\\Temp\\ipykernel_11104\\1642144069.py:1: UserWarning: \n",
      "\n",
      "`distplot` is a deprecated function and will be removed in seaborn v0.14.0.\n",
      "\n",
      "Please adapt your code to use either `displot` (a figure-level function with\n",
      "similar flexibility) or `histplot` (an axes-level function for histograms).\n",
      "\n",
      "For a guide to updating your code to use the new functions, please see\n",
      "https://gist.github.com/mwaskom/de44147ed2974457ad6372750bbe5751\n",
      "\n",
      "  sns.distplot(df.Previous_Payment_Jan)\n"
     ]
    },
    {
     "data": {
      "text/plain": [
       "<Axes: xlabel='Previous_Payment_Jan', ylabel='Previous_Payment_Jan'>"
      ]
     },
     "execution_count": 90,
     "metadata": {},
     "output_type": "execute_result"
    }
   ],
   "source": [
    "sns.distplot(df.Previous_Payment_Jan) "
   ]
  },
  {
   "cell_type": "code",
   "execution_count": 91,
   "id": "9f3bb331",
   "metadata": {},
   "outputs": [
    {
     "data": {
      "text/plain": [
       "count     30000.000000\n",
       "mean       6285.653867\n",
       "std       18944.920299\n",
       "min           0.000000\n",
       "25%        1000.000000\n",
       "50%        3000.000000\n",
       "75%        6000.000000\n",
       "max      973663.000000\n",
       "Name: Previous_Payment_Jan, dtype: float64"
      ]
     },
     "execution_count": 91,
     "metadata": {},
     "output_type": "execute_result"
    }
   ],
   "source": [
    "df.Previous_Payment_Jan.describe()"
   ]
  },
  {
   "cell_type": "code",
   "execution_count": 92,
   "id": "f7767073",
   "metadata": {},
   "outputs": [
    {
     "data": {
      "text/plain": [
       "5000.0"
      ]
     },
     "execution_count": 92,
     "metadata": {},
     "output_type": "execute_result"
    }
   ],
   "source": [
    "IQR9=df.Previous_Payment_Jan.quantile(0.75)-df.Previous_Payment_Jan.quantile(0.25)\n",
    "IQR9"
   ]
  },
  {
   "cell_type": "code",
   "execution_count": 93,
   "id": "be550d18",
   "metadata": {},
   "outputs": [
    {
     "name": "stdout",
     "output_type": "stream",
     "text": [
      "21000.0 -14000.0\n"
     ]
    }
   ],
   "source": [
    "ub9=df.Previous_Payment_Jan.quantile(0.75)+3*IQR9\n",
    "lb9=df.Previous_Payment_Jan.quantile(0.25)-3*IQR9\n",
    "print(ub9,lb9)"
   ]
  },
  {
   "cell_type": "code",
   "execution_count": 94,
   "id": "73b9d2fd",
   "metadata": {},
   "outputs": [],
   "source": [
    "df.loc[df[\"Previous_Payment_Jan\"]> 21000 ,\"Previous_Payment_Jan\"]= 21000\n",
    "#df.loc[df[\"June_Bill_Amount\"]< -140941,\"June_Bill_Amount\"]= -140941"
   ]
  },
  {
   "cell_type": "code",
   "execution_count": 95,
   "id": "84b3bff7",
   "metadata": {},
   "outputs": [
    {
     "data": {
      "text/plain": [
       "1.8786461437940154"
      ]
     },
     "execution_count": 95,
     "metadata": {},
     "output_type": "execute_result"
    }
   ],
   "source": [
    "df.Previous_Payment_Jan.skew() # previous 15.279685497436736"
   ]
  },
  {
   "cell_type": "code",
   "execution_count": 96,
   "id": "4af4b729",
   "metadata": {},
   "outputs": [
    {
     "name": "stderr",
     "output_type": "stream",
     "text": [
      "C:\\Users\\Anuja\\AppData\\Local\\Temp\\ipykernel_11104\\1642144069.py:1: UserWarning: \n",
      "\n",
      "`distplot` is a deprecated function and will be removed in seaborn v0.14.0.\n",
      "\n",
      "Please adapt your code to use either `displot` (a figure-level function with\n",
      "similar flexibility) or `histplot` (an axes-level function for histograms).\n",
      "\n",
      "For a guide to updating your code to use the new functions, please see\n",
      "https://gist.github.com/mwaskom/de44147ed2974457ad6372750bbe5751\n",
      "\n",
      "  sns.distplot(df.Previous_Payment_Jan)\n"
     ]
    },
    {
     "data": {
      "text/plain": [
       "<Axes: xlabel='Previous_Payment_Jan', ylabel='Previous_Payment_Jan'>"
      ]
     },
     "execution_count": 96,
     "metadata": {},
     "output_type": "execute_result"
    }
   ],
   "source": [
    "sns.distplot(df.Previous_Payment_Jan) "
   ]
  },
  {
   "cell_type": "code",
   "execution_count": 97,
   "id": "f2e0c492",
   "metadata": {},
   "outputs": [],
   "source": [
    "## Previous_Payment_Feb"
   ]
  },
  {
   "cell_type": "code",
   "execution_count": 98,
   "id": "b16ab099",
   "metadata": {},
   "outputs": [
    {
     "data": {
      "text/plain": [
       "41.80293481772448"
      ]
     },
     "execution_count": 98,
     "metadata": {},
     "output_type": "execute_result"
    }
   ],
   "source": [
    "df.Previous_Payment_Feb.skew()"
   ]
  },
  {
   "cell_type": "code",
   "execution_count": 99,
   "id": "9b67bbef",
   "metadata": {},
   "outputs": [
    {
     "data": {
      "text/plain": [
       "<Axes: xlabel='Previous_Payment_Jan', ylabel='Previous_Payment_Feb'>"
      ]
     },
     "execution_count": 99,
     "metadata": {},
     "output_type": "execute_result"
    }
   ],
   "source": [
    "sns.boxplot(data=df,y=\"Previous_Payment_Feb\")"
   ]
  },
  {
   "cell_type": "code",
   "execution_count": 100,
   "id": "9753b8f6",
   "metadata": {},
   "outputs": [
    {
     "name": "stderr",
     "output_type": "stream",
     "text": [
      "C:\\Users\\Anuja\\AppData\\Local\\Temp\\ipykernel_11104\\2096413875.py:1: UserWarning: \n",
      "\n",
      "`distplot` is a deprecated function and will be removed in seaborn v0.14.0.\n",
      "\n",
      "Please adapt your code to use either `displot` (a figure-level function with\n",
      "similar flexibility) or `histplot` (an axes-level function for histograms).\n",
      "\n",
      "For a guide to updating your code to use the new functions, please see\n",
      "https://gist.github.com/mwaskom/de44147ed2974457ad6372750bbe5751\n",
      "\n",
      "  sns.distplot(df.Previous_Payment_Feb)\n"
     ]
    },
    {
     "data": {
      "text/plain": [
       "<Axes: xlabel='Previous_Payment_Feb', ylabel='Previous_Payment_Feb'>"
      ]
     },
     "execution_count": 100,
     "metadata": {},
     "output_type": "execute_result"
    }
   ],
   "source": [
    "sns.distplot(df.Previous_Payment_Feb) "
   ]
  },
  {
   "cell_type": "code",
   "execution_count": 101,
   "id": "b4c39a3e",
   "metadata": {},
   "outputs": [
    {
     "data": {
      "text/plain": [
       "count    3.000000e+04\n",
       "mean     7.466544e+03\n",
       "std      3.467950e+04\n",
       "min      0.000000e+00\n",
       "25%      7.700000e+02\n",
       "50%      2.542000e+03\n",
       "75%      5.000000e+03\n",
       "max      2.674259e+06\n",
       "Name: Previous_Payment_Feb, dtype: float64"
      ]
     },
     "execution_count": 101,
     "metadata": {},
     "output_type": "execute_result"
    }
   ],
   "source": [
    "df.Previous_Payment_Feb.describe()"
   ]
  },
  {
   "cell_type": "code",
   "execution_count": 102,
   "id": "708c1af5",
   "metadata": {},
   "outputs": [
    {
     "data": {
      "text/plain": [
       "4230.0"
      ]
     },
     "execution_count": 102,
     "metadata": {},
     "output_type": "execute_result"
    }
   ],
   "source": [
    "IQR10=df.Previous_Payment_Feb.quantile(0.75)-df.Previous_Payment_Feb.quantile(0.25)\n",
    "IQR10"
   ]
  },
  {
   "cell_type": "code",
   "execution_count": 103,
   "id": "650d08c8",
   "metadata": {},
   "outputs": [
    {
     "name": "stdout",
     "output_type": "stream",
     "text": [
      "17690.0 -11920.0\n"
     ]
    }
   ],
   "source": [
    "ub10=df.Previous_Payment_Feb.quantile(0.75)+3*IQR10\n",
    "lb10=df.Previous_Payment_Feb.quantile(0.25)-3*IQR10\n",
    "print(ub10,lb10)"
   ]
  },
  {
   "cell_type": "code",
   "execution_count": 104,
   "id": "423ffd1d",
   "metadata": {},
   "outputs": [],
   "source": [
    "df.loc[df[\"Previous_Payment_Feb\"]> ub10 ,\"Previous_Payment_Feb\"]= ub10\n",
    "#df.loc[df[\"Previous_Payment_Feb\"]< lb10 ,\"Previous_Payment_Feb\"]= lb10"
   ]
  },
  {
   "cell_type": "code",
   "execution_count": 105,
   "id": "56a9699e",
   "metadata": {},
   "outputs": [
    {
     "data": {
      "text/plain": [
       "1.7410804692909436"
      ]
     },
     "execution_count": 105,
     "metadata": {},
     "output_type": "execute_result"
    }
   ],
   "source": [
    "df.Previous_Payment_Feb.skew() # previous 41.80293481772448"
   ]
  },
  {
   "cell_type": "code",
   "execution_count": 106,
   "id": "d992ebad",
   "metadata": {},
   "outputs": [
    {
     "name": "stderr",
     "output_type": "stream",
     "text": [
      "C:\\Users\\Anuja\\AppData\\Local\\Temp\\ipykernel_11104\\2096413875.py:1: UserWarning: \n",
      "\n",
      "`distplot` is a deprecated function and will be removed in seaborn v0.14.0.\n",
      "\n",
      "Please adapt your code to use either `displot` (a figure-level function with\n",
      "similar flexibility) or `histplot` (an axes-level function for histograms).\n",
      "\n",
      "For a guide to updating your code to use the new functions, please see\n",
      "https://gist.github.com/mwaskom/de44147ed2974457ad6372750bbe5751\n",
      "\n",
      "  sns.distplot(df.Previous_Payment_Feb)\n"
     ]
    },
    {
     "data": {
      "text/plain": [
       "<Axes: xlabel='Previous_Payment_Feb', ylabel='Previous_Payment_Feb'>"
      ]
     },
     "execution_count": 106,
     "metadata": {},
     "output_type": "execute_result"
    }
   ],
   "source": [
    "sns.distplot(df.Previous_Payment_Feb) "
   ]
  },
  {
   "cell_type": "code",
   "execution_count": 107,
   "id": "95370a2a",
   "metadata": {},
   "outputs": [
    {
     "data": {
      "text/plain": [
       "Credit_Amount              0.440916\n",
       "Gender                    -0.424183\n",
       "Academic_Qualification     1.017944\n",
       "Marital                   -0.018742\n",
       "Age_Years                  0.732246\n",
       "Repayment_Status_Jan       2.485379\n",
       "Repayment_Status_Feb       2.488460\n",
       "Repayment_Status_March     2.684191\n",
       "Repayment_Status_April     3.213051\n",
       "Repayment_Status_May       3.589727\n",
       "Repayment_Status_June      3.495517\n",
       "Jan_Bill_Amount            1.527639\n",
       "Feb_Bill_Amount            1.632576\n",
       "March_Bill_Amount          1.624922\n",
       "April_Bill_Amount          1.669497\n",
       "May_Bill_Amount            1.749921\n",
       "June_Bill_Amount           1.749088\n",
       "Previous_Payment_Jan       1.878646\n",
       "Previous_Payment_Feb       1.741080\n",
       "Previous_Payment_March    19.012134\n",
       "Previous_Payment_April    13.299057\n",
       "Previous_Payment_May      12.231259\n",
       "Previous_Payment_June     10.640727\n",
       "Default_Payment            1.343504\n",
       "dtype: float64"
      ]
     },
     "execution_count": 107,
     "metadata": {},
     "output_type": "execute_result"
    }
   ],
   "source": [
    "df.skew()"
   ]
  },
  {
   "cell_type": "raw",
   "id": "90b50b5f",
   "metadata": {},
   "source": []
  },
  {
   "cell_type": "code",
   "execution_count": 108,
   "id": "118a8ebb",
   "metadata": {},
   "outputs": [],
   "source": [
    "data1=df"
   ]
  },
  {
   "cell_type": "code",
   "execution_count": 109,
   "id": "39098239",
   "metadata": {},
   "outputs": [
    {
     "data": {
      "text/plain": [
       "<Axes: xlabel='Previous_Payment_Feb', ylabel='Previous_Payment_March'>"
      ]
     },
     "execution_count": 109,
     "metadata": {},
     "output_type": "execute_result"
    }
   ],
   "source": [
    "sns.boxplot(data=data1,y=\"Previous_Payment_March\")"
   ]
  },
  {
   "cell_type": "code",
   "execution_count": 110,
   "id": "8bda4eb3",
   "metadata": {},
   "outputs": [
    {
     "name": "stderr",
     "output_type": "stream",
     "text": [
      "C:\\Users\\Anuja\\AppData\\Local\\Temp\\ipykernel_11104\\1858979937.py:1: UserWarning: \n",
      "\n",
      "`distplot` is a deprecated function and will be removed in seaborn v0.14.0.\n",
      "\n",
      "Please adapt your code to use either `displot` (a figure-level function with\n",
      "similar flexibility) or `histplot` (an axes-level function for histograms).\n",
      "\n",
      "For a guide to updating your code to use the new functions, please see\n",
      "https://gist.github.com/mwaskom/de44147ed2974457ad6372750bbe5751\n",
      "\n",
      "  sns.distplot(data1.Previous_Payment_March)\n"
     ]
    },
    {
     "data": {
      "text/plain": [
       "<Axes: xlabel='Previous_Payment_March', ylabel='Previous_Payment_March'>"
      ]
     },
     "execution_count": 110,
     "metadata": {},
     "output_type": "execute_result"
    }
   ],
   "source": [
    "sns.distplot(data1.Previous_Payment_March) "
   ]
  },
  {
   "cell_type": "code",
   "execution_count": 111,
   "id": "27a32a0b",
   "metadata": {},
   "outputs": [
    {
     "data": {
      "text/plain": [
       "<Axes: xlabel='Previous_Payment_March', ylabel='Previous_Payment_March'>"
      ]
     },
     "execution_count": 111,
     "metadata": {},
     "output_type": "execute_result"
    }
   ],
   "source": [
    "data1.Previous_Payment_March.hist()"
   ]
  },
  {
   "cell_type": "code",
   "execution_count": 112,
   "id": "f0d45d31",
   "metadata": {},
   "outputs": [
    {
     "data": {
      "text/plain": [
       "count     30000.000000\n",
       "mean       5836.140567\n",
       "std       20696.306703\n",
       "min           0.000000\n",
       "25%         550.000000\n",
       "50%        1900.000000\n",
       "75%        5500.000000\n",
       "max      999055.000000\n",
       "Name: Previous_Payment_March, dtype: float64"
      ]
     },
     "execution_count": 112,
     "metadata": {},
     "output_type": "execute_result"
    }
   ],
   "source": [
    "data1.Previous_Payment_March.describe()"
   ]
  },
  {
   "cell_type": "code",
   "execution_count": 113,
   "id": "6a01ce48",
   "metadata": {},
   "outputs": [
    {
     "data": {
      "text/plain": [
       "4950.0"
      ]
     },
     "execution_count": 113,
     "metadata": {},
     "output_type": "execute_result"
    }
   ],
   "source": [
    "IQR11=data1.Previous_Payment_March.quantile(0.75)-data1.Previous_Payment_March.quantile(0.25)\n",
    "IQR11"
   ]
  },
  {
   "cell_type": "code",
   "execution_count": 114,
   "id": "378d1c7b",
   "metadata": {},
   "outputs": [
    {
     "name": "stdout",
     "output_type": "stream",
     "text": [
      "20350.0 -14300.0\n"
     ]
    }
   ],
   "source": [
    "ub11=data1.Previous_Payment_March.quantile(0.75)+3*IQR11\n",
    "lb11=data1.Previous_Payment_March.quantile(0.25)-3*IQR11\n",
    "print(ub11,lb11)"
   ]
  },
  {
   "cell_type": "code",
   "execution_count": 115,
   "id": "a6587dc9",
   "metadata": {},
   "outputs": [],
   "source": [
    "data1.loc[data1[\"Previous_Payment_March\"]>20350.0,\"Previous_Payment_March\"]=20350.0"
   ]
  },
  {
   "cell_type": "code",
   "execution_count": 116,
   "id": "93935dcd",
   "metadata": {},
   "outputs": [
    {
     "name": "stderr",
     "output_type": "stream",
     "text": [
      "C:\\Users\\Anuja\\AppData\\Local\\Temp\\ipykernel_11104\\2179753344.py:1: UserWarning: \n",
      "\n",
      "`distplot` is a deprecated function and will be removed in seaborn v0.14.0.\n",
      "\n",
      "Please adapt your code to use either `displot` (a figure-level function with\n",
      "similar flexibility) or `histplot` (an axes-level function for histograms).\n",
      "\n",
      "For a guide to updating your code to use the new functions, please see\n",
      "https://gist.github.com/mwaskom/de44147ed2974457ad6372750bbe5751\n",
      "\n",
      "  sns.distplot(data1.Previous_Payment_March)\n"
     ]
    },
    {
     "data": {
      "text/plain": [
       "<Axes: xlabel='Previous_Payment_March', ylabel='Previous_Payment_March'>"
      ]
     },
     "execution_count": 116,
     "metadata": {},
     "output_type": "execute_result"
    }
   ],
   "source": [
    "sns.distplot(data1.Previous_Payment_March)"
   ]
  },
  {
   "cell_type": "code",
   "execution_count": 117,
   "id": "f2a667f1",
   "metadata": {},
   "outputs": [
    {
     "data": {
      "text/plain": [
       "<Axes: xlabel='Previous_Payment_March', ylabel='Previous_Payment_March'>"
      ]
     },
     "execution_count": 117,
     "metadata": {},
     "output_type": "execute_result"
    }
   ],
   "source": [
    "data1.Previous_Payment_March.hist()"
   ]
  },
  {
   "cell_type": "code",
   "execution_count": 118,
   "id": "d9948f12",
   "metadata": {},
   "outputs": [
    {
     "data": {
      "text/plain": [
       "Credit_Amount              0.440916\n",
       "Gender                    -0.424183\n",
       "Academic_Qualification     1.017944\n",
       "Marital                   -0.018742\n",
       "Age_Years                  0.732246\n",
       "Repayment_Status_Jan       2.485379\n",
       "Repayment_Status_Feb       2.488460\n",
       "Repayment_Status_March     2.684191\n",
       "Repayment_Status_April     3.213051\n",
       "Repayment_Status_May       3.589727\n",
       "Repayment_Status_June      3.495517\n",
       "Jan_Bill_Amount            1.527639\n",
       "Feb_Bill_Amount            1.632576\n",
       "March_Bill_Amount          1.624922\n",
       "April_Bill_Amount          1.669497\n",
       "May_Bill_Amount            1.749921\n",
       "June_Bill_Amount           1.749088\n",
       "Previous_Payment_Jan       1.878646\n",
       "Previous_Payment_Feb       1.741080\n",
       "Previous_Payment_March     1.949059\n",
       "Previous_Payment_April    13.299057\n",
       "Previous_Payment_May      12.231259\n",
       "Previous_Payment_June     10.640727\n",
       "Default_Payment            1.343504\n",
       "dtype: float64"
      ]
     },
     "execution_count": 118,
     "metadata": {},
     "output_type": "execute_result"
    }
   ],
   "source": [
    "data1.skew()"
   ]
  },
  {
   "cell_type": "code",
   "execution_count": 119,
   "id": "8732d0f9",
   "metadata": {},
   "outputs": [
    {
     "data": {
      "text/plain": [
       "<Axes: xlabel='Previous_Payment_March', ylabel='Previous_Payment_April'>"
      ]
     },
     "execution_count": 119,
     "metadata": {},
     "output_type": "execute_result"
    }
   ],
   "source": [
    "sns.boxplot(data=data1,y=\"Previous_Payment_April\")"
   ]
  },
  {
   "cell_type": "code",
   "execution_count": 120,
   "id": "86729910",
   "metadata": {},
   "outputs": [
    {
     "name": "stderr",
     "output_type": "stream",
     "text": [
      "C:\\Users\\Anuja\\AppData\\Local\\Temp\\ipykernel_11104\\1553855253.py:1: UserWarning: \n",
      "\n",
      "`distplot` is a deprecated function and will be removed in seaborn v0.14.0.\n",
      "\n",
      "Please adapt your code to use either `displot` (a figure-level function with\n",
      "similar flexibility) or `histplot` (an axes-level function for histograms).\n",
      "\n",
      "For a guide to updating your code to use the new functions, please see\n",
      "https://gist.github.com/mwaskom/de44147ed2974457ad6372750bbe5751\n",
      "\n",
      "  sns.distplot(data1.Previous_Payment_April)\n"
     ]
    },
    {
     "data": {
      "text/plain": [
       "<Axes: xlabel='Previous_Payment_April', ylabel='Previous_Payment_April'>"
      ]
     },
     "execution_count": 120,
     "metadata": {},
     "output_type": "execute_result"
    }
   ],
   "source": [
    "sns.distplot(data1.Previous_Payment_April) "
   ]
  },
  {
   "cell_type": "code",
   "execution_count": 121,
   "id": "6ecdf63d",
   "metadata": {},
   "outputs": [
    {
     "data": {
      "text/plain": [
       "<Axes: xlabel='Previous_Payment_April', ylabel='Previous_Payment_April'>"
      ]
     },
     "execution_count": 121,
     "metadata": {},
     "output_type": "execute_result"
    }
   ],
   "source": [
    "data1.Previous_Payment_April.hist()"
   ]
  },
  {
   "cell_type": "code",
   "execution_count": 122,
   "id": "fb3eb186",
   "metadata": {},
   "outputs": [
    {
     "data": {
      "text/plain": [
       "count     30000.000000\n",
       "mean       5127.687433\n",
       "std       17103.762740\n",
       "min           0.000000\n",
       "25%         333.000000\n",
       "50%        1500.000000\n",
       "75%        4013.250000\n",
       "max      538897.000000\n",
       "Name: Previous_Payment_April, dtype: float64"
      ]
     },
     "execution_count": 122,
     "metadata": {},
     "output_type": "execute_result"
    }
   ],
   "source": [
    "data1.Previous_Payment_April.describe()"
   ]
  },
  {
   "cell_type": "code",
   "execution_count": 123,
   "id": "bad613c1",
   "metadata": {},
   "outputs": [
    {
     "data": {
      "text/plain": [
       "3680.25"
      ]
     },
     "execution_count": 123,
     "metadata": {},
     "output_type": "execute_result"
    }
   ],
   "source": [
    "IQR12=data1.Previous_Payment_April.quantile(0.75)-data1.Previous_Payment_April.quantile(0.25)\n",
    "IQR12"
   ]
  },
  {
   "cell_type": "code",
   "execution_count": 124,
   "id": "5ed350bf",
   "metadata": {},
   "outputs": [
    {
     "name": "stdout",
     "output_type": "stream",
     "text": [
      "15054.0 -10707.75\n"
     ]
    }
   ],
   "source": [
    "ub12=data1.Previous_Payment_April.quantile(0.75)+3*IQR12\n",
    "lb12=data1.Previous_Payment_April.quantile(0.25)-3*IQR12\n",
    "print(ub12,lb12)"
   ]
  },
  {
   "cell_type": "code",
   "execution_count": 125,
   "id": "2d56d85d",
   "metadata": {},
   "outputs": [],
   "source": [
    "data1.loc[data1[\"Previous_Payment_April\"]>15054.0,\"Previous_Payment_April\"]=15054.0"
   ]
  },
  {
   "cell_type": "code",
   "execution_count": 126,
   "id": "6c2ecfd4",
   "metadata": {},
   "outputs": [
    {
     "name": "stderr",
     "output_type": "stream",
     "text": [
      "C:\\Users\\Anuja\\AppData\\Local\\Temp\\ipykernel_11104\\1238247155.py:1: UserWarning: \n",
      "\n",
      "`distplot` is a deprecated function and will be removed in seaborn v0.14.0.\n",
      "\n",
      "Please adapt your code to use either `displot` (a figure-level function with\n",
      "similar flexibility) or `histplot` (an axes-level function for histograms).\n",
      "\n",
      "For a guide to updating your code to use the new functions, please see\n",
      "https://gist.github.com/mwaskom/de44147ed2974457ad6372750bbe5751\n",
      "\n",
      "  sns.distplot(data1.Previous_Payment_April)\n"
     ]
    },
    {
     "data": {
      "text/plain": [
       "<Axes: xlabel='Previous_Payment_April', ylabel='Previous_Payment_April'>"
      ]
     },
     "execution_count": 126,
     "metadata": {},
     "output_type": "execute_result"
    }
   ],
   "source": [
    "sns.distplot(data1.Previous_Payment_April)"
   ]
  },
  {
   "cell_type": "code",
   "execution_count": 127,
   "id": "49eddef0",
   "metadata": {},
   "outputs": [
    {
     "data": {
      "text/plain": [
       "<Axes: xlabel='Previous_Payment_April', ylabel='Previous_Payment_April'>"
      ]
     },
     "execution_count": 127,
     "metadata": {},
     "output_type": "execute_result"
    }
   ],
   "source": [
    "data1.Previous_Payment_April.hist()"
   ]
  },
  {
   "cell_type": "code",
   "execution_count": 128,
   "id": "ecc5e61d",
   "metadata": {},
   "outputs": [
    {
     "data": {
      "text/plain": [
       "Credit_Amount              0.440916\n",
       "Gender                    -0.424183\n",
       "Academic_Qualification     1.017944\n",
       "Marital                   -0.018742\n",
       "Age_Years                  0.732246\n",
       "Repayment_Status_Jan       2.485379\n",
       "Repayment_Status_Feb       2.488460\n",
       "Repayment_Status_March     2.684191\n",
       "Repayment_Status_April     3.213051\n",
       "Repayment_Status_May       3.589727\n",
       "Repayment_Status_June      3.495517\n",
       "Jan_Bill_Amount            1.527639\n",
       "Feb_Bill_Amount            1.632576\n",
       "March_Bill_Amount          1.624922\n",
       "April_Bill_Amount          1.669497\n",
       "May_Bill_Amount            1.749921\n",
       "June_Bill_Amount           1.749088\n",
       "Previous_Payment_Jan       1.878646\n",
       "Previous_Payment_Feb       1.741080\n",
       "Previous_Payment_March     1.949059\n",
       "Previous_Payment_April     1.744791\n",
       "Previous_Payment_May      12.231259\n",
       "Previous_Payment_June     10.640727\n",
       "Default_Payment            1.343504\n",
       "dtype: float64"
      ]
     },
     "execution_count": 128,
     "metadata": {},
     "output_type": "execute_result"
    }
   ],
   "source": [
    "data1.skew()"
   ]
  },
  {
   "cell_type": "code",
   "execution_count": 129,
   "id": "291dc41d",
   "metadata": {},
   "outputs": [
    {
     "data": {
      "text/plain": [
       "<Axes: xlabel='Previous_Payment_April', ylabel='Previous_Payment_May'>"
      ]
     },
     "execution_count": 129,
     "metadata": {},
     "output_type": "execute_result"
    }
   ],
   "source": [
    "sns.boxplot(data=data1,y=\"Previous_Payment_May\")"
   ]
  },
  {
   "cell_type": "code",
   "execution_count": 130,
   "id": "67facf65",
   "metadata": {},
   "outputs": [
    {
     "name": "stderr",
     "output_type": "stream",
     "text": [
      "C:\\Users\\Anuja\\AppData\\Local\\Temp\\ipykernel_11104\\1969527750.py:1: UserWarning: \n",
      "\n",
      "`distplot` is a deprecated function and will be removed in seaborn v0.14.0.\n",
      "\n",
      "Please adapt your code to use either `displot` (a figure-level function with\n",
      "similar flexibility) or `histplot` (an axes-level function for histograms).\n",
      "\n",
      "For a guide to updating your code to use the new functions, please see\n",
      "https://gist.github.com/mwaskom/de44147ed2974457ad6372750bbe5751\n",
      "\n",
      "  sns.distplot(data1.Previous_Payment_May)\n"
     ]
    },
    {
     "data": {
      "text/plain": [
       "<Axes: xlabel='Previous_Payment_May', ylabel='Previous_Payment_May'>"
      ]
     },
     "execution_count": 130,
     "metadata": {},
     "output_type": "execute_result"
    }
   ],
   "source": [
    "sns.distplot(data1.Previous_Payment_May) "
   ]
  },
  {
   "cell_type": "code",
   "execution_count": 131,
   "id": "56c3de5b",
   "metadata": {},
   "outputs": [
    {
     "data": {
      "text/plain": [
       "<Axes: xlabel='Previous_Payment_May', ylabel='Previous_Payment_May'>"
      ]
     },
     "execution_count": 131,
     "metadata": {},
     "output_type": "execute_result"
    }
   ],
   "source": [
    "data1.Previous_Payment_May.hist()"
   ]
  },
  {
   "cell_type": "code",
   "execution_count": 132,
   "id": "de471d43",
   "metadata": {},
   "outputs": [
    {
     "data": {
      "text/plain": [
       "count     30000.00000\n",
       "mean       5261.19120\n",
       "std       16989.50685\n",
       "min           0.00000\n",
       "25%         310.00000\n",
       "50%        1539.00000\n",
       "75%        5000.00000\n",
       "max      536539.00000\n",
       "Name: Previous_Payment_May, dtype: float64"
      ]
     },
     "execution_count": 132,
     "metadata": {},
     "output_type": "execute_result"
    }
   ],
   "source": [
    "data1.Previous_Payment_May.describe()"
   ]
  },
  {
   "cell_type": "code",
   "execution_count": 133,
   "id": "b3804f6b",
   "metadata": {},
   "outputs": [
    {
     "data": {
      "text/plain": [
       "4690.0"
      ]
     },
     "execution_count": 133,
     "metadata": {},
     "output_type": "execute_result"
    }
   ],
   "source": [
    "IQR13=data1.Previous_Payment_May.quantile(0.75)-data1.Previous_Payment_May.quantile(0.25)\n",
    "IQR13"
   ]
  },
  {
   "cell_type": "code",
   "execution_count": 134,
   "id": "0b98279e",
   "metadata": {},
   "outputs": [
    {
     "name": "stdout",
     "output_type": "stream",
     "text": [
      "19070.0 -13760.0\n"
     ]
    }
   ],
   "source": [
    "ub13=data1.Previous_Payment_May.quantile(0.75)+3*IQR13\n",
    "lb13=data1.Previous_Payment_May.quantile(0.25)-3*IQR13\n",
    "print(ub13,lb13)"
   ]
  },
  {
   "cell_type": "code",
   "execution_count": 135,
   "id": "a15926ab",
   "metadata": {},
   "outputs": [],
   "source": [
    "data1.loc[data1[\"Previous_Payment_May\"]>19070.0,\"Previous_Payment_May\"]=19070.0"
   ]
  },
  {
   "cell_type": "code",
   "execution_count": 136,
   "id": "aeba9080",
   "metadata": {},
   "outputs": [
    {
     "name": "stderr",
     "output_type": "stream",
     "text": [
      "C:\\Users\\Anuja\\AppData\\Local\\Temp\\ipykernel_11104\\1152953768.py:1: UserWarning: \n",
      "\n",
      "`distplot` is a deprecated function and will be removed in seaborn v0.14.0.\n",
      "\n",
      "Please adapt your code to use either `displot` (a figure-level function with\n",
      "similar flexibility) or `histplot` (an axes-level function for histograms).\n",
      "\n",
      "For a guide to updating your code to use the new functions, please see\n",
      "https://gist.github.com/mwaskom/de44147ed2974457ad6372750bbe5751\n",
      "\n",
      "  sns.distplot(data1.Previous_Payment_May)\n"
     ]
    },
    {
     "data": {
      "text/plain": [
       "<Axes: xlabel='Previous_Payment_May', ylabel='Previous_Payment_May'>"
      ]
     },
     "execution_count": 136,
     "metadata": {},
     "output_type": "execute_result"
    }
   ],
   "source": [
    "sns.distplot(data1.Previous_Payment_May)"
   ]
  },
  {
   "cell_type": "code",
   "execution_count": 137,
   "id": "147bb635",
   "metadata": {},
   "outputs": [
    {
     "data": {
      "text/plain": [
       "<Axes: xlabel='Previous_Payment_May', ylabel='Previous_Payment_May'>"
      ]
     },
     "execution_count": 137,
     "metadata": {},
     "output_type": "execute_result"
    }
   ],
   "source": [
    "data1.Previous_Payment_May.hist()"
   ]
  },
  {
   "cell_type": "code",
   "execution_count": 138,
   "id": "48bb1773",
   "metadata": {
    "scrolled": true
   },
   "outputs": [
    {
     "data": {
      "text/plain": [
       "Credit_Amount              0.440916\n",
       "Gender                    -0.424183\n",
       "Academic_Qualification     1.017944\n",
       "Marital                   -0.018742\n",
       "Age_Years                  0.732246\n",
       "Repayment_Status_Jan       2.485379\n",
       "Repayment_Status_Feb       2.488460\n",
       "Repayment_Status_March     2.684191\n",
       "Repayment_Status_April     3.213051\n",
       "Repayment_Status_May       3.589727\n",
       "Repayment_Status_June      3.495517\n",
       "Jan_Bill_Amount            1.527639\n",
       "Feb_Bill_Amount            1.632576\n",
       "March_Bill_Amount          1.624922\n",
       "April_Bill_Amount          1.669497\n",
       "May_Bill_Amount            1.749921\n",
       "June_Bill_Amount           1.749088\n",
       "Previous_Payment_Jan       1.878646\n",
       "Previous_Payment_Feb       1.741080\n",
       "Previous_Payment_March     1.949059\n",
       "Previous_Payment_April     1.744791\n",
       "Previous_Payment_May       2.049777\n",
       "Previous_Payment_June     10.640727\n",
       "Default_Payment            1.343504\n",
       "dtype: float64"
      ]
     },
     "execution_count": 138,
     "metadata": {},
     "output_type": "execute_result"
    }
   ],
   "source": [
    "data1.skew()"
   ]
  },
  {
   "cell_type": "code",
   "execution_count": 139,
   "id": "6ea2d9e5",
   "metadata": {},
   "outputs": [
    {
     "data": {
      "text/plain": [
       "<Axes: xlabel='Previous_Payment_May', ylabel='Previous_Payment_June'>"
      ]
     },
     "execution_count": 139,
     "metadata": {},
     "output_type": "execute_result"
    }
   ],
   "source": [
    "sns.boxplot(data=data1,y=\"Previous_Payment_June\")"
   ]
  },
  {
   "cell_type": "code",
   "execution_count": 140,
   "id": "6ea1b7d2",
   "metadata": {},
   "outputs": [
    {
     "name": "stderr",
     "output_type": "stream",
     "text": [
      "C:\\Users\\Anuja\\AppData\\Local\\Temp\\ipykernel_11104\\3769771772.py:1: UserWarning: \n",
      "\n",
      "`distplot` is a deprecated function and will be removed in seaborn v0.14.0.\n",
      "\n",
      "Please adapt your code to use either `displot` (a figure-level function with\n",
      "similar flexibility) or `histplot` (an axes-level function for histograms).\n",
      "\n",
      "For a guide to updating your code to use the new functions, please see\n",
      "https://gist.github.com/mwaskom/de44147ed2974457ad6372750bbe5751\n",
      "\n",
      "  sns.distplot(data1.Previous_Payment_June)\n"
     ]
    },
    {
     "data": {
      "text/plain": [
       "<Axes: xlabel='Previous_Payment_June', ylabel='Previous_Payment_June'>"
      ]
     },
     "execution_count": 140,
     "metadata": {},
     "output_type": "execute_result"
    }
   ],
   "source": [
    "sns.distplot(data1.Previous_Payment_June) "
   ]
  },
  {
   "cell_type": "code",
   "execution_count": 141,
   "id": "8be81cf2",
   "metadata": {},
   "outputs": [
    {
     "data": {
      "text/plain": [
       "<Axes: xlabel='Previous_Payment_June', ylabel='Previous_Payment_June'>"
      ]
     },
     "execution_count": 141,
     "metadata": {},
     "output_type": "execute_result"
    }
   ],
   "source": [
    "data1.Previous_Payment_June.hist()"
   ]
  },
  {
   "cell_type": "code",
   "execution_count": 142,
   "id": "1af1e766",
   "metadata": {},
   "outputs": [
    {
     "data": {
      "text/plain": [
       "count     30000.000000\n",
       "mean       5215.502567\n",
       "std       17777.465775\n",
       "min           0.000000\n",
       "25%         117.750000\n",
       "50%        1500.000000\n",
       "75%        4000.000000\n",
       "max      528666.000000\n",
       "Name: Previous_Payment_June, dtype: float64"
      ]
     },
     "execution_count": 142,
     "metadata": {},
     "output_type": "execute_result"
    }
   ],
   "source": [
    "data1.Previous_Payment_June.describe()"
   ]
  },
  {
   "cell_type": "code",
   "execution_count": 143,
   "id": "2c65731e",
   "metadata": {},
   "outputs": [
    {
     "data": {
      "text/plain": [
       "3882.25"
      ]
     },
     "execution_count": 143,
     "metadata": {},
     "output_type": "execute_result"
    }
   ],
   "source": [
    "IQR14=data1.Previous_Payment_June.quantile(0.75)-data1.Previous_Payment_June.quantile(0.25)\n",
    "IQR14"
   ]
  },
  {
   "cell_type": "code",
   "execution_count": 144,
   "id": "5749b82c",
   "metadata": {},
   "outputs": [
    {
     "name": "stdout",
     "output_type": "stream",
     "text": [
      "15646.75 -11529.0\n"
     ]
    }
   ],
   "source": [
    "ub14=data1.Previous_Payment_June.quantile(0.75)+3*IQR14\n",
    "lb14=data1.Previous_Payment_June.quantile(0.25)-3*IQR14\n",
    "print(ub14,lb14)"
   ]
  },
  {
   "cell_type": "code",
   "execution_count": 145,
   "id": "ff3ccbcd",
   "metadata": {},
   "outputs": [],
   "source": [
    "data1.loc[data1[\"Previous_Payment_June\"]>15646.75,\"Previous_Payment_June\"]=15646.75"
   ]
  },
  {
   "cell_type": "code",
   "execution_count": 146,
   "id": "12d09e92",
   "metadata": {},
   "outputs": [
    {
     "name": "stderr",
     "output_type": "stream",
     "text": [
      "C:\\Users\\Anuja\\AppData\\Local\\Temp\\ipykernel_11104\\261348790.py:1: UserWarning: \n",
      "\n",
      "`distplot` is a deprecated function and will be removed in seaborn v0.14.0.\n",
      "\n",
      "Please adapt your code to use either `displot` (a figure-level function with\n",
      "similar flexibility) or `histplot` (an axes-level function for histograms).\n",
      "\n",
      "For a guide to updating your code to use the new functions, please see\n",
      "https://gist.github.com/mwaskom/de44147ed2974457ad6372750bbe5751\n",
      "\n",
      "  sns.distplot(data1.Previous_Payment_June)\n"
     ]
    },
    {
     "data": {
      "text/plain": [
       "<Axes: xlabel='Previous_Payment_June', ylabel='Previous_Payment_June'>"
      ]
     },
     "execution_count": 146,
     "metadata": {},
     "output_type": "execute_result"
    }
   ],
   "source": [
    "sns.distplot(data1.Previous_Payment_June)"
   ]
  },
  {
   "cell_type": "code",
   "execution_count": 147,
   "id": "c888ac2e",
   "metadata": {},
   "outputs": [
    {
     "data": {
      "text/plain": [
       "<Axes: xlabel='Previous_Payment_June', ylabel='Previous_Payment_June'>"
      ]
     },
     "execution_count": 147,
     "metadata": {},
     "output_type": "execute_result"
    }
   ],
   "source": [
    "data1.Previous_Payment_June.hist()"
   ]
  },
  {
   "cell_type": "code",
   "execution_count": 148,
   "id": "a7fe2d94",
   "metadata": {},
   "outputs": [
    {
     "data": {
      "text/plain": [
       "Credit_Amount             0.440916\n",
       "Gender                   -0.424183\n",
       "Academic_Qualification    1.017944\n",
       "Marital                  -0.018742\n",
       "Age_Years                 0.732246\n",
       "Repayment_Status_Jan      2.485379\n",
       "Repayment_Status_Feb      2.488460\n",
       "Repayment_Status_March    2.684191\n",
       "Repayment_Status_April    3.213051\n",
       "Repayment_Status_May      3.589727\n",
       "Repayment_Status_June     3.495517\n",
       "Jan_Bill_Amount           1.527639\n",
       "Feb_Bill_Amount           1.632576\n",
       "March_Bill_Amount         1.624922\n",
       "April_Bill_Amount         1.669497\n",
       "May_Bill_Amount           1.749921\n",
       "June_Bill_Amount          1.749088\n",
       "Previous_Payment_Jan      1.878646\n",
       "Previous_Payment_Feb      1.741080\n",
       "Previous_Payment_March    1.949059\n",
       "Previous_Payment_April    1.744791\n",
       "Previous_Payment_May      2.049777\n",
       "Previous_Payment_June     1.842595\n",
       "Default_Payment           1.343504\n",
       "dtype: float64"
      ]
     },
     "execution_count": 148,
     "metadata": {},
     "output_type": "execute_result"
    }
   ],
   "source": [
    "data1.skew()"
   ]
  },
  {
   "cell_type": "markdown",
   "id": "91d44d31",
   "metadata": {},
   "source": [
    "# Skewness Treatment"
   ]
  },
  {
   "cell_type": "code",
   "execution_count": 149,
   "id": "ae48a00b",
   "metadata": {},
   "outputs": [
    {
     "name": "stderr",
     "output_type": "stream",
     "text": [
      "C:\\ProgramData\\anaconda3\\lib\\site-packages\\pandas\\core\\arraylike.py:402: RuntimeWarning: invalid value encountered in sqrt\n",
      "  result = getattr(ufunc, method)(*inputs, **kwargs)\n"
     ]
    }
   ],
   "source": [
    "list1 = ['Jan_Bill_Amount', 'Feb_Bill_Amount', 'March_Bill_Amount',\n",
    "             'April_Bill_Amount', 'May_Bill_Amount', 'June_Bill_Amount', 'Previous_Payment_Jan',\n",
    "             'Previous_Payment_Feb', 'Previous_Payment_March', 'Previous_Payment_April',\n",
    "             'Previous_Payment_May', 'Previous_Payment_June']\n",
    "for i in range(len(list1)):\n",
    "    data1[list1[i]]=np.sqrt(data1[list1[i]])"
   ]
  },
  {
   "cell_type": "code",
   "execution_count": 150,
   "id": "c4d67067",
   "metadata": {},
   "outputs": [
    {
     "name": "stdout",
     "output_type": "stream",
     "text": [
      "skewness of  Jan_Bill_Amount  =>  0.756606712745249\n",
      "skewness of  Feb_Bill_Amount  =>  0.5767015488267642\n",
      "skewness of  March_Bill_Amount  =>  0.7857073711024068\n",
      "skewness of  April_Bill_Amount  =>  0.7617941139527651\n",
      "skewness of  May_Bill_Amount  =>  0.6822546332479436\n",
      "skewness of  June_Bill_Amount  =>  0.6887715834967123\n",
      "skewness of  Previous_Payment_Jan  =>  0.47604222342898034\n",
      "skewness of  Previous_Payment_Feb  =>  0.5304870655100629\n",
      "skewness of  Previous_Payment_March  =>  0.633011896148521\n",
      "skewness of  Previous_Payment_April  =>  0.5427060196461958\n",
      "skewness of  Previous_Payment_May  =>  0.6748995748721819\n",
      "skewness of  Previous_Payment_June  =>  0.6538901821098818\n"
     ]
    }
   ],
   "source": [
    "for i in range(len(list1)):\n",
    "    print(\"skewness of \",list1[i],\" => \",data1[list1[i]].skew())\n"
   ]
  },
  {
   "cell_type": "code",
   "execution_count": null,
   "id": "cf262abe",
   "metadata": {},
   "outputs": [],
   "source": []
  },
  {
   "cell_type": "code",
   "execution_count": null,
   "id": "5bced98f",
   "metadata": {},
   "outputs": [],
   "source": []
  },
  {
   "cell_type": "code",
   "execution_count": null,
   "id": "cd2f8295",
   "metadata": {},
   "outputs": [],
   "source": []
  },
  {
   "cell_type": "code",
   "execution_count": null,
   "id": "c5ac6abc",
   "metadata": {},
   "outputs": [],
   "source": []
  },
  {
   "cell_type": "code",
   "execution_count": null,
   "id": "1797b9c8",
   "metadata": {},
   "outputs": [],
   "source": []
  },
  {
   "cell_type": "code",
   "execution_count": null,
   "id": "65fbb284",
   "metadata": {},
   "outputs": [],
   "source": []
  },
  {
   "cell_type": "code",
   "execution_count": null,
   "id": "d51788f8",
   "metadata": {},
   "outputs": [],
   "source": []
  },
  {
   "cell_type": "code",
   "execution_count": null,
   "id": "ff1814f5",
   "metadata": {},
   "outputs": [],
   "source": []
  },
  {
   "cell_type": "code",
   "execution_count": null,
   "id": "979fc6e2",
   "metadata": {},
   "outputs": [],
   "source": []
  },
  {
   "cell_type": "code",
   "execution_count": null,
   "id": "f9b8c668",
   "metadata": {},
   "outputs": [],
   "source": []
  },
  {
   "cell_type": "code",
   "execution_count": null,
   "id": "4d949080",
   "metadata": {},
   "outputs": [],
   "source": []
  },
  {
   "cell_type": "code",
   "execution_count": null,
   "id": "b3848fd0",
   "metadata": {},
   "outputs": [],
   "source": []
  },
  {
   "cell_type": "code",
   "execution_count": null,
   "id": "c169ed41",
   "metadata": {},
   "outputs": [],
   "source": []
  },
  {
   "cell_type": "code",
   "execution_count": null,
   "id": "e3a2f9c8",
   "metadata": {},
   "outputs": [],
   "source": []
  },
  {
   "cell_type": "code",
   "execution_count": null,
   "id": "b587da61",
   "metadata": {},
   "outputs": [],
   "source": []
  },
  {
   "cell_type": "code",
   "execution_count": null,
   "id": "c9a669a0",
   "metadata": {},
   "outputs": [],
   "source": []
  },
  {
   "cell_type": "code",
   "execution_count": null,
   "id": "c4a56970",
   "metadata": {},
   "outputs": [],
   "source": []
  },
  {
   "cell_type": "code",
   "execution_count": null,
   "id": "bbe6b9a7",
   "metadata": {},
   "outputs": [],
   "source": []
  },
  {
   "cell_type": "code",
   "execution_count": null,
   "id": "e706f920",
   "metadata": {},
   "outputs": [],
   "source": []
  },
  {
   "cell_type": "code",
   "execution_count": null,
   "id": "f513e2dd",
   "metadata": {},
   "outputs": [],
   "source": []
  },
  {
   "cell_type": "code",
   "execution_count": null,
   "id": "1c3ab3c6",
   "metadata": {},
   "outputs": [],
   "source": []
  },
  {
   "cell_type": "code",
   "execution_count": null,
   "id": "40809d63",
   "metadata": {},
   "outputs": [],
   "source": []
  },
  {
   "cell_type": "code",
   "execution_count": null,
   "id": "61f6f7a9",
   "metadata": {},
   "outputs": [],
   "source": []
  },
  {
   "cell_type": "code",
   "execution_count": null,
   "id": "e160edc0",
   "metadata": {},
   "outputs": [],
   "source": []
  },
  {
   "cell_type": "code",
   "execution_count": null,
   "id": "105b26f7",
   "metadata": {},
   "outputs": [],
   "source": []
  },
  {
   "cell_type": "code",
   "execution_count": null,
   "id": "8563bda0",
   "metadata": {},
   "outputs": [],
   "source": []
  },
  {
   "cell_type": "code",
   "execution_count": null,
   "id": "cb5d0e91",
   "metadata": {},
   "outputs": [],
   "source": []
  },
  {
   "cell_type": "code",
   "execution_count": null,
   "id": "88710e36",
   "metadata": {},
   "outputs": [],
   "source": []
  },
  {
   "cell_type": "code",
   "execution_count": null,
   "id": "cff6e55e",
   "metadata": {},
   "outputs": [],
   "source": []
  },
  {
   "cell_type": "code",
   "execution_count": null,
   "id": "8db5d06c",
   "metadata": {},
   "outputs": [],
   "source": []
  },
  {
   "cell_type": "code",
   "execution_count": null,
   "id": "dcb7ec03",
   "metadata": {},
   "outputs": [],
   "source": []
  },
  {
   "cell_type": "code",
   "execution_count": null,
   "id": "e5e4c92c",
   "metadata": {},
   "outputs": [],
   "source": []
  },
  {
   "cell_type": "code",
   "execution_count": null,
   "id": "eb9cbaaa",
   "metadata": {},
   "outputs": [],
   "source": []
  },
  {
   "cell_type": "code",
   "execution_count": null,
   "id": "14921c43",
   "metadata": {},
   "outputs": [],
   "source": []
  },
  {
   "cell_type": "code",
   "execution_count": null,
   "id": "52e23060",
   "metadata": {},
   "outputs": [],
   "source": []
  },
  {
   "cell_type": "code",
   "execution_count": null,
   "id": "89a8aaa2",
   "metadata": {},
   "outputs": [],
   "source": []
  },
  {
   "cell_type": "code",
   "execution_count": null,
   "id": "8defbc58",
   "metadata": {},
   "outputs": [],
   "source": []
  },
  {
   "cell_type": "code",
   "execution_count": null,
   "id": "d16b83e2",
   "metadata": {},
   "outputs": [],
   "source": []
  },
  {
   "cell_type": "code",
   "execution_count": null,
   "id": "3d6f4172",
   "metadata": {},
   "outputs": [],
   "source": []
  },
  {
   "cell_type": "code",
   "execution_count": null,
   "id": "b41ff25a",
   "metadata": {},
   "outputs": [],
   "source": []
  },
  {
   "cell_type": "code",
   "execution_count": null,
   "id": "2b1d286d",
   "metadata": {},
   "outputs": [],
   "source": []
  },
  {
   "cell_type": "code",
   "execution_count": null,
   "id": "3b122db7",
   "metadata": {},
   "outputs": [],
   "source": []
  },
  {
   "cell_type": "code",
   "execution_count": null,
   "id": "4f501d62",
   "metadata": {},
   "outputs": [],
   "source": []
  },
  {
   "cell_type": "code",
   "execution_count": null,
   "id": "3eff27e5",
   "metadata": {},
   "outputs": [],
   "source": []
  },
  {
   "cell_type": "code",
   "execution_count": null,
   "id": "763fc6ab",
   "metadata": {},
   "outputs": [],
   "source": []
  },
  {
   "cell_type": "code",
   "execution_count": null,
   "id": "25ae68cf",
   "metadata": {},
   "outputs": [],
   "source": []
  },
  {
   "cell_type": "code",
   "execution_count": null,
   "id": "f11ca806",
   "metadata": {},
   "outputs": [],
   "source": []
  },
  {
   "cell_type": "code",
   "execution_count": null,
   "id": "5c5d70cb",
   "metadata": {},
   "outputs": [],
   "source": []
  },
  {
   "cell_type": "code",
   "execution_count": null,
   "id": "53880f30",
   "metadata": {},
   "outputs": [],
   "source": []
  },
  {
   "cell_type": "code",
   "execution_count": null,
   "id": "795b355a",
   "metadata": {},
   "outputs": [],
   "source": []
  },
  {
   "cell_type": "code",
   "execution_count": null,
   "id": "ff074977",
   "metadata": {},
   "outputs": [],
   "source": []
  },
  {
   "cell_type": "code",
   "execution_count": null,
   "id": "533d81d2",
   "metadata": {},
   "outputs": [],
   "source": []
  },
  {
   "cell_type": "code",
   "execution_count": null,
   "id": "9702cbe2",
   "metadata": {},
   "outputs": [],
   "source": []
  },
  {
   "cell_type": "code",
   "execution_count": null,
   "id": "ec3250da",
   "metadata": {},
   "outputs": [],
   "source": []
  },
  {
   "cell_type": "code",
   "execution_count": null,
   "id": "04f1d845",
   "metadata": {},
   "outputs": [],
   "source": []
  },
  {
   "cell_type": "code",
   "execution_count": null,
   "id": "1ba796fd",
   "metadata": {},
   "outputs": [],
   "source": []
  },
  {
   "cell_type": "code",
   "execution_count": null,
   "id": "35bd2dbe",
   "metadata": {},
   "outputs": [],
   "source": []
  },
  {
   "cell_type": "code",
   "execution_count": null,
   "id": "a9a06bd0",
   "metadata": {},
   "outputs": [],
   "source": []
  },
  {
   "cell_type": "code",
   "execution_count": null,
   "id": "91c0ff5e",
   "metadata": {},
   "outputs": [],
   "source": []
  },
  {
   "cell_type": "code",
   "execution_count": null,
   "id": "db0679a3",
   "metadata": {},
   "outputs": [],
   "source": []
  },
  {
   "cell_type": "code",
   "execution_count": null,
   "id": "21e51e84",
   "metadata": {},
   "outputs": [],
   "source": []
  },
  {
   "cell_type": "code",
   "execution_count": null,
   "id": "996862e0",
   "metadata": {},
   "outputs": [],
   "source": []
  },
  {
   "cell_type": "code",
   "execution_count": null,
   "id": "cbab8351",
   "metadata": {},
   "outputs": [],
   "source": []
  },
  {
   "cell_type": "code",
   "execution_count": null,
   "id": "7d009643",
   "metadata": {},
   "outputs": [],
   "source": []
  },
  {
   "cell_type": "code",
   "execution_count": null,
   "id": "de3761c8",
   "metadata": {},
   "outputs": [],
   "source": []
  },
  {
   "cell_type": "code",
   "execution_count": null,
   "id": "4d9eebb4",
   "metadata": {},
   "outputs": [],
   "source": []
  },
  {
   "cell_type": "code",
   "execution_count": null,
   "id": "749b59b9",
   "metadata": {},
   "outputs": [],
   "source": []
  },
  {
   "cell_type": "code",
   "execution_count": null,
   "id": "c5e41edc",
   "metadata": {},
   "outputs": [],
   "source": []
  },
  {
   "cell_type": "code",
   "execution_count": null,
   "id": "3a195934",
   "metadata": {},
   "outputs": [],
   "source": []
  },
  {
   "cell_type": "code",
   "execution_count": null,
   "id": "0a5a72ef",
   "metadata": {},
   "outputs": [],
   "source": []
  },
  {
   "cell_type": "code",
   "execution_count": null,
   "id": "43dbe182",
   "metadata": {},
   "outputs": [],
   "source": []
  },
  {
   "cell_type": "code",
   "execution_count": null,
   "id": "908e058e",
   "metadata": {},
   "outputs": [],
   "source": []
  },
  {
   "cell_type": "code",
   "execution_count": null,
   "id": "8658c8bd",
   "metadata": {},
   "outputs": [],
   "source": []
  },
  {
   "cell_type": "code",
   "execution_count": null,
   "id": "bdfb2a57",
   "metadata": {},
   "outputs": [],
   "source": []
  },
  {
   "cell_type": "code",
   "execution_count": null,
   "id": "a36e84ec",
   "metadata": {},
   "outputs": [],
   "source": []
  },
  {
   "cell_type": "code",
   "execution_count": null,
   "id": "23424ea4",
   "metadata": {},
   "outputs": [],
   "source": []
  },
  {
   "cell_type": "code",
   "execution_count": null,
   "id": "bca04d7d",
   "metadata": {},
   "outputs": [],
   "source": []
  },
  {
   "cell_type": "code",
   "execution_count": null,
   "id": "1e6217cb",
   "metadata": {},
   "outputs": [],
   "source": []
  },
  {
   "cell_type": "code",
   "execution_count": null,
   "id": "8622991c",
   "metadata": {},
   "outputs": [],
   "source": []
  },
  {
   "cell_type": "code",
   "execution_count": null,
   "id": "3f061069",
   "metadata": {},
   "outputs": [],
   "source": []
  },
  {
   "cell_type": "code",
   "execution_count": null,
   "id": "3687a2dd",
   "metadata": {},
   "outputs": [],
   "source": []
  },
  {
   "cell_type": "code",
   "execution_count": null,
   "id": "604ac1b4",
   "metadata": {},
   "outputs": [],
   "source": []
  },
  {
   "cell_type": "code",
   "execution_count": null,
   "id": "3a0ae626",
   "metadata": {},
   "outputs": [],
   "source": []
  },
  {
   "cell_type": "code",
   "execution_count": null,
   "id": "59484066",
   "metadata": {},
   "outputs": [],
   "source": []
  },
  {
   "cell_type": "code",
   "execution_count": null,
   "id": "f4d5c6fe",
   "metadata": {},
   "outputs": [],
   "source": []
  },
  {
   "cell_type": "code",
   "execution_count": null,
   "id": "c7e354d8",
   "metadata": {},
   "outputs": [],
   "source": []
  },
  {
   "cell_type": "code",
   "execution_count": null,
   "id": "a0c0fd58",
   "metadata": {},
   "outputs": [],
   "source": []
  },
  {
   "cell_type": "code",
   "execution_count": null,
   "id": "a5102ddc",
   "metadata": {},
   "outputs": [],
   "source": []
  },
  {
   "cell_type": "code",
   "execution_count": null,
   "id": "15a5a419",
   "metadata": {},
   "outputs": [],
   "source": []
  },
  {
   "cell_type": "code",
   "execution_count": null,
   "id": "ffba2b31",
   "metadata": {},
   "outputs": [],
   "source": []
  },
  {
   "cell_type": "code",
   "execution_count": null,
   "id": "eefba5d4",
   "metadata": {},
   "outputs": [],
   "source": []
  },
  {
   "cell_type": "code",
   "execution_count": null,
   "id": "36849f54",
   "metadata": {},
   "outputs": [],
   "source": []
  },
  {
   "cell_type": "code",
   "execution_count": null,
   "id": "e692bdc4",
   "metadata": {},
   "outputs": [],
   "source": []
  },
  {
   "cell_type": "code",
   "execution_count": null,
   "id": "053b3f0c",
   "metadata": {},
   "outputs": [],
   "source": []
  },
  {
   "cell_type": "code",
   "execution_count": null,
   "id": "60b2c5c3",
   "metadata": {},
   "outputs": [],
   "source": []
  },
  {
   "cell_type": "code",
   "execution_count": null,
   "id": "edfbba8e",
   "metadata": {},
   "outputs": [],
   "source": []
  },
  {
   "cell_type": "code",
   "execution_count": null,
   "id": "e5142ae0",
   "metadata": {},
   "outputs": [],
   "source": []
  },
  {
   "cell_type": "code",
   "execution_count": null,
   "id": "720edfa5",
   "metadata": {},
   "outputs": [],
   "source": []
  },
  {
   "cell_type": "code",
   "execution_count": 151,
   "id": "1420ffc6",
   "metadata": {},
   "outputs": [
    {
     "ename": "SyntaxError",
     "evalue": "invalid syntax (2961182393.py, line 1)",
     "output_type": "error",
     "traceback": [
      "\u001b[1;36m  Cell \u001b[1;32mIn[151], line 1\u001b[1;36m\u001b[0m\n\u001b[1;33m    impute -> 2 ways => SD,IQR\u001b[0m\n\u001b[1;37m           ^\u001b[0m\n\u001b[1;31mSyntaxError\u001b[0m\u001b[1;31m:\u001b[0m invalid syntax\n"
     ]
    }
   ],
   "source": [
    "impute -> 2 ways => SD,IQR"
   ]
  },
  {
   "cell_type": "code",
   "execution_count": null,
   "id": "6505f92c",
   "metadata": {},
   "outputs": [],
   "source": [
    "SD => GD\n",
    "IQR => skewed"
   ]
  }
 ],
 "metadata": {
  "kernelspec": {
   "display_name": "Python 3 (ipykernel)",
   "language": "python",
   "name": "python3"
  },
  "language_info": {
   "codemirror_mode": {
    "name": "ipython",
    "version": 3
   },
   "file_extension": ".py",
   "mimetype": "text/x-python",
   "name": "python",
   "nbconvert_exporter": "python",
   "pygments_lexer": "ipython3",
   "version": "3.10.9"
  }
 },
 "nbformat": 4,
 "nbformat_minor": 5
}
