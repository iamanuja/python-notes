{
 "cells": [
  {
   "cell_type": "code",
   "execution_count": 1,
   "id": "8caf9768",
   "metadata": {},
   "outputs": [
    {
     "name": "stdout",
     "output_type": "stream",
     "text": [
      "1\n",
      "1\n",
      "2\n",
      "3\n",
      "[[0, 0, 0], [0, 0, 1], [0, 0, 2], [0, 1, 0], [0, 1, 1], [1, 0, 0], [1, 0, 1], [1, 1, 0], [1, 1, 2]]\n"
     ]
    }
   ],
   "source": [
    "if __name__ == '__main__':\n",
    "    x = int(input())\n",
    "    y = int(input())\n",
    "    z = int(input())\n",
    "    n = int(input())\n",
    "    \n",
    "    l1=[[i,j,k] for i in range(0,x+1) for j in range(0,y+1) for k in range(0,z+1) if \n",
    "    (i+j+k)!=n ]\n",
    "    print(l1)"
   ]
  },
  {
   "cell_type": "code",
   "execution_count": 4,
   "id": "a6491278",
   "metadata": {},
   "outputs": [
    {
     "name": "stdout",
     "output_type": "stream",
     "text": [
      "2\n",
      "5 4 6 2 3 4 5 6 7\n",
      "6\n"
     ]
    }
   ],
   "source": [
    "if __name__ == '__main__':\n",
    "    n = int(input())\n",
    "    arr = map(int, input().split())\n",
    "    arr2 = list(set(arr))\n",
    "    arr2.sort()\n",
    "    print(arr2[-2])"
   ]
  },
  {
   "cell_type": "code",
   "execution_count": 5,
   "id": "6a473411",
   "metadata": {},
   "outputs": [
    {
     "name": "stdout",
     "output_type": "stream",
     "text": [
      "5\n",
      "2\n"
     ]
    },
    {
     "ename": "IndexError",
     "evalue": "list index out of range",
     "output_type": "error",
     "traceback": [
      "\u001b[1;31m---------------------------------------------------------------------------\u001b[0m",
      "\u001b[1;31mIndexError\u001b[0m                                Traceback (most recent call last)",
      "Cell \u001b[1;32mIn[5], line 7\u001b[0m\n\u001b[0;32m      5\u001b[0m arr2 \u001b[38;5;241m=\u001b[39m \u001b[38;5;28mlist\u001b[39m(\u001b[38;5;28mset\u001b[39m(arr))\n\u001b[0;32m      6\u001b[0m arr2\u001b[38;5;241m.\u001b[39msort()\n\u001b[1;32m----> 7\u001b[0m \u001b[38;5;28mprint\u001b[39m(\u001b[43marr2\u001b[49m\u001b[43m[\u001b[49m\u001b[38;5;241;43m-\u001b[39;49m\u001b[38;5;241;43m2\u001b[39;49m\u001b[43m]\u001b[49m)\n",
      "\u001b[1;31mIndexError\u001b[0m: list index out of range"
     ]
    }
   ],
   "source": [
    "if __name__ == '__main__':\n",
    "    n = int(input())\n",
    "    for i in range(n):\n",
    "        arr = map(int, input().split())\n",
    "        arr2 = list(set(arr))\n",
    "        arr2.sort()\n",
    "        print(arr2[-2])"
   ]
  },
  {
   "cell_type": "code",
   "execution_count": 13,
   "id": "11d0b69e",
   "metadata": {},
   "outputs": [
    {
     "name": "stdout",
     "output_type": "stream",
     "text": [
      "5\n",
      "1 2 3 4 5 6 \n"
     ]
    },
    {
     "ename": "TypeError",
     "evalue": "'map' object is not subscriptable",
     "output_type": "error",
     "traceback": [
      "\u001b[1;31m---------------------------------------------------------------------------\u001b[0m",
      "\u001b[1;31mTypeError\u001b[0m                                 Traceback (most recent call last)",
      "Cell \u001b[1;32mIn[13], line 3\u001b[0m\n\u001b[0;32m      1\u001b[0m \u001b[38;5;28;01mif\u001b[39;00m \u001b[38;5;18m__name__\u001b[39m \u001b[38;5;241m==\u001b[39m \u001b[38;5;124m'\u001b[39m\u001b[38;5;124m__main__\u001b[39m\u001b[38;5;124m'\u001b[39m:\n\u001b[0;32m      2\u001b[0m     n \u001b[38;5;241m=\u001b[39m \u001b[38;5;28mint\u001b[39m(\u001b[38;5;28minput\u001b[39m())\n\u001b[1;32m----> 3\u001b[0m     arr \u001b[38;5;241m=\u001b[39m \u001b[38;5;28;43mmap\u001b[39;49m\u001b[43m(\u001b[49m\u001b[38;5;28;43mint\u001b[39;49m\u001b[43m,\u001b[49m\u001b[43m \u001b[49m\u001b[38;5;28;43minput\u001b[39;49m\u001b[43m(\u001b[49m\u001b[43m)\u001b[49m\u001b[38;5;241;43m.\u001b[39;49m\u001b[43msplit\u001b[49m\u001b[43m(\u001b[49m\u001b[43m)\u001b[49m\u001b[43m)\u001b[49m\u001b[43m[\u001b[49m\u001b[43m:\u001b[49m\u001b[43mn\u001b[49m\u001b[43m]\u001b[49m\n",
      "\u001b[1;31mTypeError\u001b[0m: 'map' object is not subscriptable"
     ]
    }
   ],
   "source": [
    "if __name__ == '__main__':\n",
    "    n = int(input())\n",
    "    arr = map(int, input().split())[:n]"
   ]
  },
  {
   "cell_type": "code",
   "execution_count": 12,
   "id": "d0d597ba",
   "metadata": {},
   "outputs": [
    {
     "name": "stdout",
     "output_type": "stream",
     "text": [
      "5\n",
      "1 2 3 45 4 5 5 6 7\n"
     ]
    },
    {
     "data": {
      "text/plain": [
       "[1, 2, 3, 45, 4]"
      ]
     },
     "execution_count": 12,
     "metadata": {},
     "output_type": "execute_result"
    }
   ],
   "source": [
    "n = int(input())\n",
    "arr = list(map(int, input().split()))[:n]\n",
    "arr"
   ]
  },
  {
   "cell_type": "code",
   "execution_count": 15,
   "id": "c0273ee7",
   "metadata": {},
   "outputs": [
    {
     "name": "stdout",
     "output_type": "stream",
     "text": [
      "5\n",
      "1 2 3 4 5 6\n",
      "4\n"
     ]
    }
   ],
   "source": [
    "if __name__ == '__main__':\n",
    "    n = int(input())\n",
    "    arr = list(map(int, input().split()))[:n] # only takes [:n] element\n",
    "    arr2 = list(set(arr))\n",
    "    arr2.sort()\n",
    "    print(arr2[-2]) "
   ]
  },
  {
   "cell_type": "markdown",
   "id": "92db6278",
   "metadata": {},
   "source": [
    "# for _ in range(int(input())):"
   ]
  },
  {
   "cell_type": "code",
   "execution_count": 17,
   "id": "5f29c1d0",
   "metadata": {},
   "outputs": [
    {
     "name": "stdout",
     "output_type": "stream",
     "text": [
      "2\n",
      "anuja\n",
      "anuija\n"
     ]
    }
   ],
   "source": [
    "for i in range(int(input())):\n",
    "        name = input()\n",
    "       "
   ]
  },
  {
   "cell_type": "code",
   "execution_count": 16,
   "id": "c3040254",
   "metadata": {},
   "outputs": [
    {
     "name": "stdout",
     "output_type": "stream",
     "text": [
      "5\n",
      "anuja\n",
      "55\n",
      "sakshi\n",
      "54\n",
      "kirtee\n",
      "35\n",
      "katha\n",
      "58\n",
      "meena\n",
      "56\n"
     ]
    }
   ],
   "source": [
    "for i in range(int(input())):\n",
    "    name = input()\n",
    "    score = float(input())\n",
    "    students = []\n",
    "    students.append((name, score))\n",
    "\n",
    "    "
   ]
  },
  {
   "cell_type": "code",
   "execution_count": 1,
   "id": "ca62e26f",
   "metadata": {},
   "outputs": [
    {
     "name": "stdout",
     "output_type": "stream",
     "text": [
      "3\n",
      "anuja\n",
      "34\n",
      "katha\n",
      "54\n",
      "mina\n",
      "56\n",
      "katha\n"
     ]
    }
   ],
   "source": [
    "# Initialize an empty list to store the student names and scores\n",
    "students = []\n",
    "n = int(input())\n",
    "for _ in range(n):\n",
    "    name = input()\n",
    "    score = float(input())\n",
    "    students.append((name, score))\n",
    "    \n",
    "students.sort(key=lambda x: x[1])\n",
    "second_lowest_score = sorted(set(score for _, score in students))[1]\n",
    "second_lowest_students = [name for name, score in students if score == second_lowest_score]\n",
    "\n",
    "second_lowest_students.sort()\n",
    "for name in second_lowest_students:\n",
    "    print(name)\n"
   ]
  },
  {
   "cell_type": "code",
   "execution_count": 2,
   "id": "e85a621b",
   "metadata": {},
   "outputs": [
    {
     "data": {
      "text/plain": [
       "list"
      ]
     },
     "execution_count": 2,
     "metadata": {},
     "output_type": "execute_result"
    }
   ],
   "source": [
    "squares = [x**2 for x in range(1, 6)] ##  []\n",
    "type(squares)"
   ]
  },
  {
   "cell_type": "code",
   "execution_count": 3,
   "id": "57563005",
   "metadata": {},
   "outputs": [
    {
     "data": {
      "text/plain": [
       "set"
      ]
     },
     "execution_count": 3,
     "metadata": {},
     "output_type": "execute_result"
    }
   ],
   "source": [
    "unique_squares = {x**2 for x in range(1, 6)} ##  {}\n",
    "type(unique_squares)"
   ]
  },
  {
   "cell_type": "code",
   "execution_count": 12,
   "id": "64bd54a5",
   "metadata": {},
   "outputs": [
    {
     "name": "stdout",
     "output_type": "stream",
     "text": [
      "{1: 1, 2: 4, 3: 9, 4: 16, 5: 25}\n"
     ]
    }
   ],
   "source": [
    "result_dict = {}\n",
    "\n",
    "for x in range(1, 6):\n",
    "    result_dict[x] = x**2\n",
    "\n",
    "print(result_dict)"
   ]
  },
  {
   "cell_type": "code",
   "execution_count": 13,
   "id": "9f6614ce",
   "metadata": {},
   "outputs": [
    {
     "name": "stdout",
     "output_type": "stream",
     "text": [
      "{1: 1, 2: 4, 3: 9, 4: 16, 5: 25}\n"
     ]
    }
   ],
   "source": [
    "squares_dict = {x: x**2 for x in range(1, 6)}\n",
    "print(squares_dict)"
   ]
  },
  {
   "cell_type": "code",
   "execution_count": 5,
   "id": "29199847",
   "metadata": {},
   "outputs": [
    {
     "data": {
      "text/plain": [
       "generator"
      ]
     },
     "execution_count": 5,
     "metadata": {},
     "output_type": "execute_result"
    }
   ],
   "source": [
    "squares_generator = (x**2 for x in range(1, 6))  ### ()\n",
    "type(squares_generator)"
   ]
  },
  {
   "cell_type": "code",
   "execution_count": 11,
   "id": "0ef4c5b9",
   "metadata": {},
   "outputs": [
    {
     "name": "stdout",
     "output_type": "stream",
     "text": [
      "{1: 1}\n",
      "{2: 4}\n",
      "{3: 9}\n",
      "{4: 16}\n",
      "{5: 25}\n"
     ]
    }
   ],
   "source": [
    "for x in range(1, 6):\n",
    "    print({x:x**2})"
   ]
  },
  {
   "cell_type": "code",
   "execution_count": null,
   "id": "e784de81",
   "metadata": {},
   "outputs": [],
   "source": []
  }
 ],
 "metadata": {
  "kernelspec": {
   "display_name": "Python 3 (ipykernel)",
   "language": "python",
   "name": "python3"
  },
  "language_info": {
   "codemirror_mode": {
    "name": "ipython",
    "version": 3
   },
   "file_extension": ".py",
   "mimetype": "text/x-python",
   "name": "python",
   "nbconvert_exporter": "python",
   "pygments_lexer": "ipython3",
   "version": "3.10.9"
  }
 },
 "nbformat": 4,
 "nbformat_minor": 5
}
